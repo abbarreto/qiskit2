{
 "cells": [
  {
   "cell_type": "markdown",
   "id": "0904918b",
   "metadata": {},
   "source": [
    "### Notas de aula de Computação Quântica <br> Autor: Jonas Maziero"
   ]
  },
  {
   "cell_type": "markdown",
   "id": "93053678",
   "metadata": {},
   "source": [
    "# Implementação de POVMs no IBMQ\n",
    "\n",
    "Estas notas são baseadas em (Y. S. Yordanov and C. H. W. Barnes, Implementation of a general single-qubit positive operator-valued measure on a circuit-based quantum computer, __Phys. Rev. A 100, 062317 (2019)__).\n",
    "\n",
    "Os autores obtiveram uma forma de implementar POVM com $n$ elementos a partir da composição de operações básicas que implementam POVMs com 2 elementos.\n",
    "\n",
    "Vale notar que na verdade os autores implementam medidas gerais. Ou seja, eles estão interessados em implementar um POVM com elementos $\\{E_{j}\\}=\\{M_{j}^{\\dagger}M_{j}\\}$ em um sistema preparado inicialmente no estado $|\\psi_{0}\\rangle$ tal que\n",
    "\\begin{equation}\n",
    "|\\psi_{0}\\rangle \\xrightarrow[]{\\text{obtém }M_{j}} \\frac{M_{j}|\\psi_{0}\\rangle}{\\sqrt{Pr(M_{j}|\\psi_{0})}}\n",
    "\\end{equation}\n",
    "com\n",
    "\\begin{equation}\n",
    "Pr(M_{j}|\\psi_{0}) = \\langle\\psi_{0}|M_{j}^{\\dagger}M_{j}|\\psi_{0}\\rangle = ||M_{j}|\\psi_{0}\\rangle||^{2}.\n",
    "\\end{equation}\n",
    "\n",
    "Usando um sistema auxiliar $B$, essa POVM pode ser implementada \"unitariamente\":\n",
    "\\begin{equation}\n",
    "U_{AB}|\\psi_{0}\\rangle_{A}\\otimes|0\\rangle_{B} = \\sum_{j}(M_{j}|\\psi_{0}\\rangle_{A})\\otimes|j\\rangle_{B}.\n",
    "\\end{equation}"
   ]
  },
  {
   "cell_type": "markdown",
   "id": "386065c8",
   "metadata": {},
   "source": [
    "## POVMs de 1 qubit com 2 elementos\n",
    "Começamos escrevendo o estado inicial na base computacional\n",
    "\\begin{equation}\n",
    "|\\psi_{0}\\rangle = c_{0}|0\\rangle_{A}+c_{1}|1\\rangle_{A}.\n",
    "\\end{equation}\n",
    "A ideia é manter em mente que queremos transformar o estado inicial \n",
    "\\begin{equation}\n",
    "|\\Psi_{0}\\rangle = |\\psi_{0}\\rangle_{A}\\otimes|0\\rangle_{B}\n",
    "\\end{equation}\n",
    "em\n",
    "\\begin{equation}\n",
    "|\\Psi_{f}\\rangle = (M_{1}|\\psi_{0}\\rangle_{A})\\otimes|o_{1}\\rangle_{B} + (M_{2}|\\psi_{0}\\rangle_{A})\\otimes|o_{2}\\rangle_{B},\n",
    "\\end{equation}\n",
    "com $\\{|o_{j}\\rangle\\}_{j=1}^{2}$ estados ortogonais do sistema auxiliar.\n",
    "\n",
    "A primeira operação do protocolo é uma transformação unitária no sistema $A$:\n",
    "\\begin{align}\n",
    "|\\Psi_{1}\\rangle & = (U_{A}\\otimes\\mathbb{I}_{B})|\\Psi_{0}\\rangle = (U_{A}|\\psi_{0}\\rangle_{A})\\otimes|0\\rangle_{B} \\\\\n",
    "& := (c_{0}'|0\\rangle_{A}+c_{1}'|1\\rangle_{A})\\otimes|0\\rangle_{B}.\n",
    "\\end{align}\n",
    "\n",
    "O circuito quântico, do protocolo como um todo, está mostrado na figura abaixo. \n",
    "<img src = 'qcircuit_povm2.png' width = '500'>"
   ]
  },
  {
   "cell_type": "markdown",
   "id": "ef21e91f",
   "metadata": {},
   "source": [
    "Seguindo aplicamos uma $R_{y}$ controlada, com o estado $|0\\rangle$ como ativador. Utilizaremos a notação:\n",
    "\n",
    "\\begin{equation}\n",
    "C_{R_{y}(\\theta)}^{A_{0}\\rightarrow B} = |0\\rangle_{A}\\langle 0|\\otimes R_{y}(\\theta) + |1\\rangle_{A}\\langle 1|\\otimes \\mathbb{I}_{B},\n",
    "\\end{equation}\n",
    "em que \n",
    "\\begin{equation}\n",
    "R_{y}(\\theta)=\\begin{bmatrix} \\cos(\\theta/2) & -\\sin(\\theta/2) \\\\ \\sin(\\theta/2) & \\cos(\\theta/2) \\end{bmatrix}.\n",
    "\\end{equation}\n",
    "Com isso, obteremos o estado\n",
    "\\begin{align}\n",
    "|\\Psi_{2}\\rangle & = C_{R_{y}(\\theta)}^{A_{0}\\rightarrow B}|\\Psi_{1}\\rangle \\\\\n",
    "& = c_{0}'|0\\rangle_{A}\\otimes\\big(\\cos(\\theta/2)|0\\rangle_{B}+\\sin(\\theta/2)|1\\rangle_{B} \\big)+c_{1}'|1\\rangle_{A}\\otimes|0\\rangle_{B}.\n",
    "\\end{align}\n",
    "\n",
    "Depois, aplica-se outra $R_{y}$ controlada, mas com $|1\\rangle$ como ativador:\n",
    "\\begin{equation}\n",
    "C_{R_{y}(\\phi)}^{A_{1}\\rightarrow B} = |0\\rangle_{A}\\langle 0|\\otimes \\mathbb{I}_{B} + |1\\rangle_{A}\\langle 1|\\otimes R_{y}(\\phi).\n",
    "\\end{equation}\n",
    "Assim, obtemos o estado\n",
    "\\begin{align}\n",
    "|\\Psi_{3}\\rangle & = C_{R_{y}(\\phi)}^{A_{1}\\rightarrow B}|\\Psi_{2}\\rangle \\\\\n",
    "& = c_{0}'|0\\rangle_{A}\\otimes\\big(\\cos(\\theta/2)|0\\rangle_{B}+\\sin(\\theta/2)|1\\rangle_{B} \\big)+c_{1}'|1\\rangle_{A}\\otimes\\big(\\cos(\\phi/2)|0\\rangle_{B}+\\sin(\\phi/2)|1\\rangle_{B} \\big) \\\\\n",
    "& = \\big(\\cos(\\theta/2)c_{0}'|0\\rangle_{A} + \\cos(\\phi/2)c_{1}'|1\\rangle_{A}\\big)\\otimes|0\\rangle_{B} + \\big(\\sin(\\theta/2)c_{0}'|0\\rangle_{A} + \\sin(\\phi/2)c_{1}'|1\\rangle_{A}\\big)\\otimes|1\\rangle_{B} \\\\\n",
    "& = (D_{1}U_{A}|\\psi_{0}\\rangle_{A})\\otimes|0\\rangle_{B} + (D_{2}U_{A}|\\psi_{0}\\rangle_{A})\\otimes|1\\rangle_{B}.\n",
    "\\end{align}"
   ]
  },
  {
   "cell_type": "markdown",
   "id": "96496da0",
   "metadata": {},
   "source": [
    "Acima definimos os operadores \n",
    "\\begin{align}\n",
    "D_{1} & = \\cos(\\theta/2)|0\\rangle_{A}\\langle 0| + \\cos(\\phi/2)|1\\rangle_{A}\\langle 1|, \\\\\n",
    "D_{2} & = \\sin(\\theta/2)|0\\rangle_{A}\\langle 0| + \\sin(\\phi/2)|1\\rangle_{A}\\langle 1|,\n",
    "\\end{align}\n",
    "que são operadores gerais de um qubit, a menos de uma transformação unitária para generalizar os autovetores. Podemos garantir que esses operadores sejam positivos restringindo\n",
    "\\begin{equation}\n",
    "\\theta,\\phi\\in[0,\\pi].\n",
    "\\end{equation}\n",
    "\n",
    "Seguimos aplicando uma unitária qualquer $V_{1}$ controlada\n",
    "\\begin{equation}\n",
    "C_{V_{1}}^{B_{0}\\rightarrow A} = V_{1}\\otimes|0\\rangle_{B}\\langle 0| + \\mathbb{I}\\otimes|1\\rangle_{B}\\langle 1|,\n",
    "\\end{equation}\n",
    "obtendo o estado\n",
    "\\begin{align}\n",
    "|\\Psi_{4}\\rangle & = C_{V_{1}}^{B_{0}\\rightarrow A}|\\Psi_{3}\\rangle \\\\\n",
    "& = (V_{1}D_{1}U_{A}|\\psi_{0}\\rangle_{A})\\otimes|0\\rangle_{B} + (D_{2}U_{A}|\\psi_{0}\\rangle_{A})\\otimes|1\\rangle_{B}.\n",
    "\\end{align}\n",
    "\n",
    "Por fim, aplicamos uma unitária qualquer $V_{2}$ controlada\n",
    "\\begin{equation}\n",
    "C_{V_{2}}^{B_{1}\\rightarrow A} = \\mathbb{I}_{A}\\otimes|0\\rangle_{B}\\langle 0| + V_{2}\\otimes|1\\rangle_{B}\\langle 1|,\n",
    "\\end{equation}\n",
    "obtendo o estado\n",
    "\\begin{align}\n",
    "|\\Psi_{5}\\rangle & = C_{V_{2}}^{B_{1}\\rightarrow A}|\\Psi_{4}\\rangle \\\\\n",
    "& = (V_{1}D_{1}U_{A}|\\psi_{0}\\rangle_{A})\\otimes|0\\rangle_{B} + (V_{2}D_{2}U_{A}|\\psi_{0}\\rangle_{A})\\otimes|1\\rangle_{B} \\\\\n",
    "& = (M_{1}|\\psi_{0}\\rangle_{A})\\otimes|0\\rangle_{B} + (M_{2}|\\psi_{0}\\rangle_{A})\\otimes|1\\rangle_{B}.\n",
    "\\end{align}"
   ]
  },
  {
   "cell_type": "markdown",
   "id": "e886f5fa",
   "metadata": {},
   "source": [
    "Pelo teorema da _decomposição em valores singulares_, temos que para qualquer matriz $A$, existem matrizes unitárias $U$ e $W$ e uma matriz $D$ positiva e diagonal na base padrão $\\{|j\\rangle\\}$ tais que\n",
    "\\begin{equation}\n",
    "A = UDW.\n",
    "\\end{equation}\n",
    "Portanto, o circuito acima é tal que temos duas matrizes \"gerais\"\n",
    "\\begin{equation}\n",
    "M_{1} = V_{1}D_{1}U_{A} \\text{ e } M_{2} = V_{2}D_{2}U_{A}.\n",
    "\\end{equation}\n",
    "A possível limitação de $U_{A}$ aparecer nas duas equações é importante para que a relação de completeza dos operadores de medida seja satisfeita:\n",
    "\\begin{align}\n",
    "\\sum_{j}M_{j}^{\\dagger}M_{j} & = M_{1}^{\\dagger}M_{1} + M_{2}^{\\dagger}M_{2} \\\\\n",
    "& = U_{A}^{\\dagger}D_{1}^{\\dagger}V_{1}^{\\dagger}V_{1}D_{1}U_{A} + U_{A}^{\\dagger}D_{2}^{\\dagger}V_{2}^{\\dagger}V_{2}D_{2}U_{A} \\\\\n",
    "& = U_{A}^{\\dagger}D_{1}^{2}U_{A} + U_{A}^{\\dagger}D_{2}^{2}U_{A} = U_{A}^{\\dagger}\\big(D_{1}^{2}+D_{2}^{2}\\big)U_{A} \\\\\n",
    "& = U_{A}^{\\dagger}\\big(\\cos^{2}(\\theta/2)|0\\rangle_{A}\\langle 0| + \\cos^{2}(\\phi/2)|1\\rangle_{A}\\langle 1| + \\sin^{2}(\\theta/2)|0\\rangle_{A}\\langle 0| + \\sin^{2}(\\phi/2)|1\\rangle_{A}\\langle 1|\\big)U_{A} \\\\\n",
    "& = U_{A}^{\\dagger}\\big(|0\\rangle_{A}\\langle 0| + |1\\rangle_{A}\\langle 1|\\big)U_{A} = U_{A}^{\\dagger}U_{A} \\\\\n",
    "& = \\mathbb{I}_{A}.\n",
    "\\end{align}"
   ]
  },
  {
   "cell_type": "markdown",
   "id": "aca2a3f3",
   "metadata": {},
   "source": [
    "### Experimento no IBMQ\n",
    "Como exemplo, usamos primeiramente operadores de medida definidos por \n",
    "\\begin{equation}\n",
    "\\theta=\\phi=\\pi/4 \\text{, } V_{1}=V_{2} = \\mathbb{I} \\text{ e } U_{A} = \\frac{1}{2}\\begin{bmatrix}1&0\\\\0&\\sqrt{3}\\end{bmatrix}.\n",
    "\\end{equation}\n",
    "Assim\n",
    "\\begin{align}\n",
    "D_{1}(\\pi/8) = 2^{-1}\\sqrt{2+\\sqrt{2}}\\mathbb{I} \\text{ e } D_{2}(\\pi/8) = 2^{-1}\\sqrt{2-\\sqrt{2}}\\mathbb{I}\n",
    "\\end{align}\n",
    "e\n",
    "\\begin{align}\n",
    "& M_{1} = V_{1}D_{1}(\\pi/8)U_{A} = \\frac{1}{4}\\sqrt{2+\\sqrt{2}}\\begin{bmatrix}1&0\\\\0&\\sqrt{3}\\end{bmatrix}, \\\\\n",
    "& M_{2} = V_{2}D_{2}(\\pi/8)U_{A} = \\frac{1}{4}\\sqrt{2-\\sqrt{2}}\\begin{bmatrix}1&0\\\\0&\\sqrt{3}\\end{bmatrix}.\n",
    "\\end{align}"
   ]
  },
  {
   "cell_type": "code",
   "execution_count": 6,
   "id": "b0257fdd",
   "metadata": {},
   "outputs": [],
   "source": [
    "%run init.ipynb"
   ]
  },
  {
   "cell_type": "code",
   "execution_count": 7,
   "id": "551ddd63",
   "metadata": {},
   "outputs": [
    {
     "data": {
      "image/png": "[encoded data removed]",
      "text/latex": [
       "$\\displaystyle \\left( \\sqrt{\\frac{\\sqrt{2}}{4} + \\frac{1}{2}}, \\  \\sqrt{\\frac{1}{2} - \\frac{\\sqrt{2}}{4}}\\right)$"
      ],
      "text/plain": [
       "⎛    ________      ________⎞\n",
       "⎜   ╱ √2   1      ╱ 1   √2 ⎟\n",
       "⎜  ╱  ── + ─ ,   ╱  ─ - ── ⎟\n",
       "⎝╲╱   4    2   ╲╱   2   4  ⎠"
      ]
     },
     "execution_count": 7,
     "metadata": {},
     "output_type": "execute_result"
    }
   ],
   "source": [
    "cos(pi/8), sin(pi/8)"
   ]
  },
  {
   "cell_type": "code",
   "execution_count": 8,
   "id": "28be30ec",
   "metadata": {},
   "outputs": [
    {
     "data": {
      "image/png": "[encoded data removed]",
      "text/latex": [
       "$\\displaystyle \\left( \\left[\\begin{matrix}0.5 & 0\\\\0 & 0.5 \\sqrt{3}\\end{matrix}\\right], \\  \\left[\\begin{matrix}\\sqrt{\\frac{\\sqrt{2}}{4} + \\frac{1}{2}} & 0\\\\0 & \\sqrt{\\frac{\\sqrt{2}}{4} + \\frac{1}{2}}\\end{matrix}\\right], \\  \\left[\\begin{matrix}\\sqrt{\\frac{1}{2} - \\frac{\\sqrt{2}}{4}} & 0\\\\0 & \\sqrt{\\frac{1}{2} - \\frac{\\sqrt{2}}{4}}\\end{matrix}\\right]\\right)$"
      ],
      "text/plain": [
       "⎛               ⎡    ________              ⎤  ⎡    ________              ⎤⎞\n",
       "⎜               ⎢   ╱ √2   1               ⎥  ⎢   ╱ 1   √2               ⎥⎟\n",
       "⎜               ⎢  ╱  ── + ─        0      ⎥  ⎢  ╱  ─ - ──        0      ⎥⎟\n",
       "⎜⎡0.5    0   ⎤  ⎢╲╱   4    2               ⎥  ⎢╲╱   2   4                ⎥⎟\n",
       "⎜⎢           ⎥, ⎢                          ⎥, ⎢                          ⎥⎟\n",
       "⎜⎣ 0   0.5⋅√3⎦  ⎢                  ________⎥  ⎢                  ________⎥⎟\n",
       "⎜               ⎢                 ╱ √2   1 ⎥  ⎢                 ╱ 1   √2 ⎥⎟\n",
       "⎜               ⎢     0          ╱  ── + ─ ⎥  ⎢     0          ╱  ─ - ── ⎥⎟\n",
       "⎝               ⎣              ╲╱   4    2 ⎦  ⎣              ╲╱   2   4  ⎦⎠"
      ]
     },
     "execution_count": 8,
     "metadata": {},
     "output_type": "execute_result"
    }
   ],
   "source": [
    "U = (1/2)*Matrix([[1,0],[0,sqrt(3)]]); V1 = Matrix([[1,0],[0,1]]); V2 = V1\n",
    "D1 = Matrix([[cos(pi/8),0],[0,cos(pi/8)]]); D2 = Matrix([[sin(pi/8),0],[0,sin(pi/8)]])\n",
    "U, D1, D2"
   ]
  },
  {
   "cell_type": "code",
   "execution_count": 11,
   "id": "fb9c3a1a",
   "metadata": {},
   "outputs": [
    {
     "data": {
      "image/png": "[encoded data removed]",
      "text/latex": [
       "$\\displaystyle \\left( \\left[\\begin{matrix}0.5 \\sqrt{\\frac{\\sqrt{2}}{4} + \\frac{1}{2}} & 0\\\\0 & 0.5 \\sqrt{3} \\sqrt{\\frac{\\sqrt{2}}{4} + \\frac{1}{2}}\\end{matrix}\\right], \\  \\left[\\begin{matrix}0.5 \\sqrt{\\frac{1}{2} - \\frac{\\sqrt{2}}{4}} & 0\\\\0 & 0.5 \\sqrt{3} \\sqrt{\\frac{1}{2} - \\frac{\\sqrt{2}}{4}}\\end{matrix}\\right]\\right)$"
      ],
      "text/plain": [
       "⎛⎡        ________                     ⎤  ⎡        ________                   \n",
       "⎜⎢       ╱ √2   1                      ⎥  ⎢       ╱ 1   √2                    \n",
       "⎜⎢0.5⋅  ╱  ── + ─            0         ⎥  ⎢0.5⋅  ╱  ─ - ──            0       \n",
       "⎜⎢    ╲╱   4    2                      ⎥  ⎢    ╲╱   2   4                     \n",
       "⎜⎢                                     ⎥, ⎢                                   \n",
       "⎜⎢                             ________⎥  ⎢                             ______\n",
       "⎜⎢                            ╱ √2   1 ⎥  ⎢                            ╱ 1   √\n",
       "⎜⎢       0          0.5⋅√3⋅  ╱  ── + ─ ⎥  ⎢       0          0.5⋅√3⋅  ╱  ─ - ─\n",
       "⎝⎣                         ╲╱   4    2 ⎦  ⎣                         ╲╱   2   4\n",
       "\n",
       "  ⎤⎞\n",
       "  ⎥⎟\n",
       "  ⎥⎟\n",
       "  ⎥⎟\n",
       "  ⎥⎟\n",
       "__⎥⎟\n",
       "2 ⎥⎟\n",
       "─ ⎥⎟\n",
       "  ⎦⎠"
      ]
     },
     "execution_count": 11,
     "metadata": {},
     "output_type": "execute_result"
    }
   ],
   "source": [
    "M1 = V1*D1*U; M2 = V2*D2*U; M1, M2"
   ]
  },
  {
   "cell_type": "markdown",
   "id": "3d682d91",
   "metadata": {},
   "source": [
    "## POVMs de 1 qubit com $n$ elementos\n",
    "\n",
    "Pode-se compor o circuito acima para implementar um POVM com $n$ elementos, como mostrado na figura abaixo:\n",
    "\n",
    "<img src = 'qcircuit_povmn.png' width = '800'>"
   ]
  },
  {
   "cell_type": "markdown",
   "id": "dc645984",
   "metadata": {},
   "source": [
    "Os autores dizem que este circuito geral prepara o estado\n",
    "\\begin{equation}\n",
    "|\\Psi\\rangle = \\sum_{j=1}^{n-1}(M_{j}|\\psi_{0}\\rangle)\\otimes|o_{1}^{(j)}\\rangle + (M_{n}|\\psi_{0}\\rangle)\\otimes|o_{2}^{(n-1)}\\rangle,\n",
    "\\end{equation}\n",
    "com \n",
    "\\begin{equation}\n",
    "M_{j} = \n",
    "\\begin{cases} \n",
    "V_{1}^{(1)}D_{1}^{(1)}U \\text{, para } j=1, \\\\\n",
    "V_{1}^{(j)}D_{1}^{(j)}\\Pi_{k=1}^{j-1}V_{2}^{(k)}D_{2}^{(k)}U \\text{, para } 1<j<n, \\\\\n",
    "\\Pi_{k=1}^{n-1}V_{2}^{(k)}D_{2}^{(k)}U \\text{, para } j = n.\n",
    "\\end{cases}\n",
    "\\end{equation}"
   ]
  },
  {
   "cell_type": "markdown",
   "id": "5eadebc7",
   "metadata": {},
   "source": [
    "### Caso $n=3$: <br>\n",
    "Depois da aplicação da porta $U$ e do módulo 1, teremos obtido o estado\n",
    "\\begin{equation}\n",
    "|\\Phi_{1}\\rangle = \\big((V_{1}^{(1)}D_{1}^{(1)}U|\\psi_{0}\\rangle_{A})\\otimes|0\\rangle_{B} + (V_{2}^{(1)}D_{2}^{(1)}U|\\psi_{0}\\rangle_{A})\\otimes|1\\rangle_{B}\\big)\\otimes|0\\rangle_{C},\n",
    "\\end{equation}\n",
    "com \n",
    "\\begin{align}\n",
    "& D_{1}^{(1)} = \\cos(\\theta_{1}/2)|0\\rangle_{A}\\langle 0| + \\cos(\\phi_{1}/2)|1\\rangle_{A}\\langle 1| \\\\\n",
    "& D_{2}^{(1)} = \\sin(\\theta_{1}/2)|0\\rangle_{A}\\langle 0| + \\sin(\\phi_{1}/2)|1\\rangle_{A}\\langle 1|.\n",
    "\\end{align}\n",
    "\n",
    "Para ter algo parecido com o caso $n=2$, vamos definir\n",
    "\\begin{equation}\n",
    "V_{2}^{(1)}D_{2}^{(1)}U|\\psi_{0}\\rangle_{A} =: c|0\\rangle_{A} + d|1\\rangle_{A}\n",
    "\\end{equation}\n",
    "e\n",
    "\\begin{equation}\n",
    "V_{1}^{(1)}D_{1}^{(1)}U =: M_{1}\n",
    "\\end{equation}\n",
    "para escrever\n",
    "\\begin{align}\n",
    "|\\Phi_{1}\\rangle & = M_{1}|\\psi_{0}\\rangle_{A}|00\\rangle_{BC} +  (c|0\\rangle_{A} + d|1\\rangle_{A})\\otimes|10\\rangle_{BC} \\\\\n",
    "& = M_{1}|\\psi_{0}\\rangle_{A}|00\\rangle_{BC} +  c|01\\rangle_{AB}\\otimes|0\\rangle_{C} + d|11\\rangle_{AB}\\otimes|0\\rangle_{C}.\n",
    "\\end{align}"
   ]
  },
  {
   "cell_type": "markdown",
   "id": "3bc360fe",
   "metadata": {},
   "source": [
    "Seguindo, aplicamos as rotações controladas \n",
    "\\begin{align}\n",
    "C^{A_{0}B_{1}\\rightarrow C}_{R_{y}(\\theta_{2})} = |0\\rangle_{A}\\langle 0|\\otimes|1\\rangle_{B}\\langle 1|\\otimes R_{y}(\\theta_{2}) + (|0\\rangle_{A}\\langle 0|\\otimes|0\\rangle_{B}\\langle 0|+|1\\rangle_{A}\\langle 1|\\otimes|0\\rangle_{B}\\langle 0|+|1\\rangle_{A}\\langle 1|\\otimes|1\\rangle_{B}\\langle 1|)\\otimes\\mathbb{I}_{C}.\n",
    "\\end{align}\n",
    "e\n",
    "\\begin{align}\n",
    "C^{A_{1}B_{1}\\rightarrow C}_{R_{y}(\\phi_{2})} = |1\\rangle_{A}\\langle 1|\\otimes|1\\rangle_{B}\\langle 1|\\otimes R_{y}(\\phi_{2}) + (|0\\rangle_{A}\\langle 0|\\otimes|0\\rangle_{B}\\langle 0|+|1\\rangle_{A}\\langle 1|\\otimes|0\\rangle_{B}\\langle 0|+|0\\rangle_{A}\\langle 0|\\otimes|1\\rangle_{B}\\langle 1|)\\otimes\\mathbb{I}_{C}.\n",
    "\\end{align}\n",
    "para obter\n",
    "\\begin{align}\n",
    "|\\Phi_{2}\\rangle & = C^{A_{1}B_{1}\\rightarrow C}_{R_{y}(\\phi_{2})}C^{A_{0}B_{1}\\rightarrow C}_{R_{y}(\\theta_{2})}|\\Phi_{1}\\rangle \\\\\n",
    "& = M_{1}|\\psi_{0}\\rangle_{A}|00\\rangle_{BC} +  c|01\\rangle_{AB}\\otimes R_{y}(\\theta_{2})|0\\rangle_{C} + d|11\\rangle_{AB}\\otimes R_{y}(\\phi_{2})|0\\rangle_{C} \\\\\n",
    "& = M_{1}|\\psi_{0}\\rangle_{A}|00\\rangle_{BC} +  c|01\\rangle_{AB}\\otimes \\big(\\cos(\\theta_{2})|0\\rangle_{C}+\\sin(\\theta_{2})|1\\rangle_{C}\\big) + d|11\\rangle_{AB}\\otimes \\big(\\cos(\\phi_{2})|0\\rangle_{C}+\\sin(\\phi_{2})|1\\rangle_{C}\\big) \\\\\n",
    "& = M_{1}|\\psi_{0}\\rangle_{A}|00\\rangle_{BC} +  \\big(c\\cos(\\theta_{2})|0\\rangle_{A}+d\\cos(\\phi_{2})|1\\rangle_{A}\\big)\\otimes|10\\rangle_{BC} +  \\big(c\\sin(\\theta_{2})|0\\rangle_{A}+d\\sin(\\phi_{2})|1\\rangle_{A}\\big)\\otimes|11\\rangle_{BC} \\\\\n",
    "& = M_{1}|\\psi_{0}\\rangle_{A}|00\\rangle_{BC} +  D_{1}^{(2)}\\big(c|0\\rangle_{A}+d|1\\rangle_{A}\\big)\\otimes|10\\rangle_{BC} +  D_{2}^{(2)}\\big(c|0\\rangle_{A}+d|1\\rangle_{A}\\big)\\otimes|11\\rangle_{BC} \\\\\n",
    "& = M_{1}|\\psi_{0}\\rangle_{A}|00\\rangle_{BC} +  D_{1}^{(2)}V_{2}^{(1)}D_{2}^{(1)}U|\\psi_{0}\\rangle_{A}\\otimes|10\\rangle_{BC} +  D_{2}^{(2)}V_{2}^{(1)}D_{2}^{(1)}U|\\psi_{0}\\rangle_{A}\\otimes|11\\rangle_{BC} \\\\\n",
    "\\end{align}\n",
    "com  \n",
    "\\begin{align}\n",
    "& D_{1}^{(2)} := \\cos(\\theta_{2}/2)|0\\rangle_{A}\\langle 0| + \\cos(\\phi_{2}/2)|1\\rangle_{A}\\langle 1|, \\\\\n",
    "& D_{2}^{(2)} := \\sin(\\theta_{2}/2)|0\\rangle_{A}\\langle 0| + \\sin(\\phi_{2}/2)|1\\rangle_{A}\\langle 1|.\n",
    "\\end{align}"
   ]
  },
  {
   "cell_type": "markdown",
   "id": "f22e7a23",
   "metadata": {},
   "source": [
    "Aplicando $C_{V_{1}^{(2)}}^{B_{1}C_{0}\\rightarrow A}$ e $C_{V_{2}^{(2)}}^{B_{1}C_{1}\\rightarrow A}$ obteremos\n",
    "\\begin{align}\n",
    "|\\Phi_{3}\\rangle & = C_{V_{1}^{(2)}}^{B_{1}C_{0}\\rightarrow A}C_{V_{2}^{(2)}}^{B_{1}C_{1}\\rightarrow A}|\\Phi_{2}\\rangle \\\\\n",
    "& = M_{1}|\\psi_{0}\\rangle_{A}|00\\rangle_{BC} +  V_{1}^{(2)}D_{1}^{(2)}V_{2}^{(1)}D_{2}^{(1)}U|\\psi_{0}\\rangle_{A}\\otimes|10\\rangle_{BC} +  V_{2}^{(2)}D_{2}^{(2)}V_{2}^{(1)}D_{2}^{(1)}U|\\psi_{0}\\rangle_{A}\\otimes|11\\rangle_{BC} \\\\\n",
    "\\end{align}\n",
    "com\n",
    "\\begin{align}\n",
    "& M_{1} := V_{1}^{(1)}D_{1}^{(1)}U, \\\\\n",
    "& M_{2} := V_{1}^{(2)}D_{1}^{(2)}V_{2}^{(1)}D_{2}^{(1)}U, \\\\\n",
    "& M_{3} := V_{2}^{(2)}D_{2}^{(2)}V_{2}^{(1)}D_{2}^{(1)}U.\n",
    "\\end{align}"
   ]
  },
  {
   "cell_type": "markdown",
   "id": "1d15e2e4",
   "metadata": {},
   "source": [
    "Verificação da relação de completeza:\n",
    "\\begin{align}\n",
    "\\sum_{j}M_{j}^{\\dagger}M_{j} & = M_{1}^{\\dagger}M_{1} + M_{2}^{\\dagger}M_{2} + M_{3}^{\\dagger}M_{3} \\\\\n",
    "& = U^{\\dagger}D_{1}^{(1)}(V_{1}^{(1)})^{\\dagger}V_{1}^{(1)}D_{1}^{(1)}U + U^{\\dagger}D_{2}^{(1)}(V_{2}^{(1)})^{\\dagger}D_{1}^{(2)}(V_{1}^{(2)})^{\\dagger}V_{1}^{(2)}D_{1}^{(2)}V_{2}^{(1)}D_{2}^{(1)}U \\\\\n",
    "& + U^{\\dagger}D_{2}^{(1)}(V_{2}^{(1)})^{\\dagger}D_{2}^{(2)}(V_{2}^{(2)})^{\\dagger}V_{2}^{(2)}D_{2}^{(2)}V_{2}^{(1)}D_{2}^{(1)}U \\\\\n",
    "& = U^{\\dagger}(D_{1}^{(1)})^{2}U + U^{\\dagger}D_{2}^{(1)}(V_{2}^{(1)})^{\\dagger}(D_{1}^{(2)})^{2}V_{2}^{(1)}D_{2}^{(1)}U + U^{\\dagger}D_{2}^{(1)}(V_{2}^{(1)})^{\\dagger}(D_{2}^{(2)})^{2}V_{2}^{(1)}D_{2}^{(1)}U \\\\\n",
    "& = U^{\\dagger}(D_{1}^{(1)})^{2}U + U^{\\dagger}D_{2}^{(1)}(V_{2}^{(1)})^{\\dagger}\\big((D_{1}^{(2)})^{2}+(D_{2}^{(2)})^{2}\\big)V_{2}^{(1)}D_{2}^{(1)}U \\\\\n",
    "& = U^{\\dagger}(D_{1}^{(1)})^{2}U + U^{\\dagger}D_{2}^{(1)}(V_{2}^{(1)})^{\\dagger}V_{2}^{(1)}D_{2}^{(1)}U \\\\\n",
    "& = U^{\\dagger}(D_{1}^{(1)})^{2}U + U^{\\dagger}(D_{2}^{(1)})^{2}U = U^{\\dagger}\\big((D_{1}^{(1)})^{2}+(D_{2}^{(1)})^{2}\\big)U \\\\\n",
    "& = U^{\\dagger}U = \\mathbb{I}.\n",
    "\\end{align}"
   ]
  },
  {
   "cell_type": "markdown",
   "id": "8b1b86e6",
   "metadata": {},
   "source": [
    "### Experimento no IBMQ"
   ]
  },
  {
   "cell_type": "markdown",
   "id": "bb128aca",
   "metadata": {},
   "source": [
    "##### Exercício\n",
    "Analogamente ao que fizemos para $n=2$ e $n=3$, obtenha os operadores $M_{j}$ para $n=4$, verifique a relação de completeza e faça a simulação e implemente experimentalmente no IBMQ."
   ]
  },
  {
   "cell_type": "code",
   "execution_count": null,
   "id": "c40cdd6d",
   "metadata": {},
   "outputs": [],
   "source": []
  }
 ],
 "metadata": {
  "kernelspec": {
   "display_name": "Python 3 (ipykernel)",
   "language": "python",
   "name": "python3"
  },
  "language_info": {
   "codemirror_mode": {
    "name": "ipython",
    "version": 3
   },
   "file_extension": ".py",
   "mimetype": "text/x-python",
   "name": "python",
   "nbconvert_exporter": "python",
   "pygments_lexer": "ipython3",
   "version": "3.8.8"
  }
 },
 "nbformat": 4,
 "nbformat_minor": 5
}
