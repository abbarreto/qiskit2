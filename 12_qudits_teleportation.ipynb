{
 "cells": [
  {
   "cell_type": "markdown",
   "id": "90bbae94",
   "metadata": {},
   "source": [
    "### Notas de aula de Computação Quântica <br> Autor: Jonas Maziero"
   ]
  },
  {
   "cell_type": "code",
   "execution_count": 1,
   "id": "24c219a8",
   "metadata": {},
   "outputs": [],
   "source": [
    "%run init.ipynb"
   ]
  },
  {
   "cell_type": "markdown",
   "id": "831059da",
   "metadata": {},
   "source": [
    "# Teleportação quântica para qudits\n",
    "\n",
    "## Protocolo\n",
    "O protocolo de teleportação para qudits também é similar à teleportação de qubits. Alice e Bob querem preparar um qudit no laboratório de Bob $|\\psi\\rangle_{A'}$, mas sem usar comunicação quântica, ou seja, usando somente comunicação clássica e operações quânticas locais. Alice e Bob podem realizar essa preparação remota de estados se compartilharem um estado maximamente emaranhado de dois qudits e seguirem a seguinte sequência de operações:\n",
    "1. Alice recebe um qudit em um estado qualquer desconhecido:\n",
    "\\begin{equation}\n",
    "|\\psi\\rangle_{A'} = \\sum_{j=0}^{d-1}c_{j}|j\\rangle_{A'}.\n",
    "\\end{equation}\n",
    "2. Alice e Bob, em laboratórios distantes, recebem cada um um qubit de uma par de qudits prerarados em um estado maximamente emaranhado\n",
    "\\begin{equation}\n",
    "|\\Phi\\rangle_{AB} = \\frac{1}{\\sqrt{d}}\\sum_{j=0}^{d-1}|j\\rangle_{A}\\otimes|j\\rangle_{B}.\n",
    "\\end{equation}\n",
    "3. Alice faz uma medida na base de Bell generalizada nos qudits $A'$ e $A$ que estão com ela:\n",
    "\\begin{equation}\n",
    "|\\Phi_{j,k}\\rangle_{A'A} = \\big(X_{A'}(j)Z_{A'}(k)\\otimes\\mathbb{I}_{A}\\big)|\\Phi\\rangle_{A'A}= \\frac{1}{\\sqrt{d}}\\sum_{l=0}^{d-1}e^{2\\pi ikl/d}|j\\oplus l\\rangle_{A'}\\otimes|l\\rangle_{A}.\n",
    "\\end{equation}\n",
    "4. Alice manda informação clássica, cdits, pra Bob informando o para de índices $(j,k)$, que correspondem ao estado $|\\Phi_{j,k}\\rangle_{A'A}$ obtido na medida na base de Bell generalizada.\n",
    "5. Bob aplica uma operação\n",
    "\\begin{equation}\n",
    "Z_{B}(j)X_{B}(k)\n",
    "\\end{equation}\n",
    "para transformar o estado do seu qudit no estado $|\\psi\\rangle_{B}$, preparando assim seu qubit $B$ no estado no qual o qudit $A'$ estava no início do protocolo."
   ]
  },
  {
   "cell_type": "markdown",
   "id": "140801a7",
   "metadata": {},
   "source": [
    "## Contas\n",
    "\n",
    "Vamos começar verificando que\n",
    "\\begin{equation}\n",
    "(M_{A}\\otimes\\mathbb{I}_{B})|\\Phi\\rangle_{AB} = (\\mathbb{I}_{A}\\otimes M_{B}^{T})|\\Phi\\rangle_{AB},\n",
    "\\end{equation}\n",
    "com \n",
    "\\begin{equation}\n",
    "M=\\sum_{j,k=0}^{d-1}M_{j,k}|j\\rangle\\langle k|\n",
    "\\end{equation}\n",
    "sendo uma matriz qualquer. Com isso, teremos\n",
    "\\begin{align}\n",
    "(M_{A}\\otimes\\mathbb{I}_{B})|\\Phi\\rangle_{AB} & = \\Big(\\sum_{j,k=0}^{d-1}M_{j,k}|j\\rangle\\langle k|\\otimes\\mathbb{I}_{B}\\Big)\\Big(\\frac{1}{\\sqrt{d}}\\sum_{l=0}^{d-1}|l\\rangle_{A}\\otimes|l\\rangle_{B}\\Big) \\\\\n",
    "& = \\frac{1}{\\sqrt{d}}\\sum_{j,k,l=0}^{d-1}M_{j,k}|j\\rangle\\langle k|l\\rangle_{A}\\otimes|l\\rangle_{B} \\\\\n",
    "& = \\frac{1}{\\sqrt{d}}\\sum_{j,k,l=0}^{d-1}M_{j,k}|j\\rangle\\delta_{k,l}\\otimes|l\\rangle_{B} \\\\\n",
    "& = \\frac{1}{\\sqrt{d}}\\sum_{j,k=0}^{d-1}M_{j,k}|j\\rangle_{A}\\otimes|k\\rangle_{B}.\n",
    "\\end{align}"
   ]
  },
  {
   "cell_type": "markdown",
   "id": "2891cad1",
   "metadata": {},
   "source": [
    "A transposta de $M$ pode ser escrita como\n",
    "\\begin{equation}\n",
    "M^{T}=\\sum_{j,k=0}^{d-1}M_{k,j}|j\\rangle\\langle k|.\n",
    "\\end{equation}\n",
    "Assim\n",
    "\\begin{align}\n",
    "(\\mathbb{I}_{A}\\otimes M_{B}^{T})|\\Phi\\rangle_{AB} & = \\Big((\\mathbb{I}_{A}\\otimes \\sum_{j,k=0}^{d-1}M_{k,j}|j\\rangle\\langle k|\\Big)\\Big(\\frac{1}{\\sqrt{d}}\\sum_{l=0}^{d-1}|l\\rangle_{A}\\otimes|l\\rangle_{B}\\Big) \\\\\n",
    "& = \\frac{1}{\\sqrt{d}}\\sum_{j,k,l=0}^{d-1}M_{k,j}|l\\rangle_{A}\\otimes|j\\rangle\\langle k|l\\rangle_{B} \\\\\n",
    "& = \\frac{1}{\\sqrt{d}}\\sum_{j,k,l=0}^{d-1}M_{k,j}|l\\rangle_{A}\\otimes|j\\rangle\\delta_{k,l} \\\\\n",
    "& = \\frac{1}{\\sqrt{d}}\\sum_{j,k=0}^{d-1}M_{k,j}|k\\rangle_{A}\\otimes|j\\rangle \\\\\n",
    "& \\equiv \\frac{1}{\\sqrt{d}}\\sum_{j,k=0}^{d-1}M_{j,k}|j\\rangle_{A}\\otimes|k\\rangle \\\\\n",
    "& = (M_{A}\\otimes\\mathbb{I}_{B})|\\Phi\\rangle_{AB}.\n",
    "\\end{align}\n",
    "\n",
    "_OBS._ Me parece que essa igualdade não é válida se os qudits não tiverem a mesma dimensão."
   ]
  },
  {
   "cell_type": "markdown",
   "id": "2f2996f1",
   "metadata": {},
   "source": [
    "Seguindo, usaremos \n",
    "\\begin{align}\n",
    "& (M_{A}\\otimes\\mathbb{I}_{B})|\\Phi\\rangle_{AB} = (\\mathbb{I}_{A}\\otimes M_{B}^{T})|\\Phi\\rangle_{AB} \\\\\n",
    "& \\therefore\\ _{AB}\\langle\\Phi|(M_{A}^{\\dagger}\\otimes\\mathbb{I}_{B}) = _{AB}\\langle\\Phi|(\\mathbb{I}_{A}\\otimes (M_{B}^{T})^{\\dagger}) \\\\\n",
    "& \\therefore\\ _{AB}\\langle\\Phi|(M_{A}^{\\dagger}\\otimes\\mathbb{I}_{B}) = _{AB}\\langle\\Phi|(\\mathbb{I}_{A}\\otimes M_{B}^{*})\n",
    "\\end{align}\n",
    "algumas vezes na sequência. Depois de feita a distribuição de emaranhamento e Alice e Bob compartilharem o estado $|\\psi\\rangle_{A'}|\\Phi\\rangle_{AB}$, Alice faz uma medida na base de Bell generalizada\n",
    "\\begin{equation}\n",
    "|\\Phi_{j,k}\\rangle_{A'A} = \\big(X_{A'}(j)Z_{A'}(k)\\otimes\\mathbb{I}_{A}\\big)|\\Phi\\rangle_{A'A}  = (U_{A'}^{(jk)}\\otimes\\mathbb{I}_{A}\\big)|\\Phi\\rangle_{A'A}.\n",
    "\\end{equation}"
   ]
  },
  {
   "cell_type": "markdown",
   "id": "8fbb8aaf",
   "metadata": {},
   "source": [
    "Com isso, o estado pós-medida não normalizado será dado por\n",
    "\\begin{align}\n",
    "& \\big(|\\Phi_{j,k}\\rangle_{A'A}\\langle\\Phi_{j,k}|\\otimes\\mathbb{I}_{B}\\big)\\big(|\\psi\\rangle_{A'}|\\Phi\\rangle_{AB}\\big) \\\\\n",
    "& = \\big(|\\Phi_{j,k}\\rangle_{A'A}(_{AA'}\\langle\\Phi|(U_{A'}^{(jk)})^{\\dagger}\\otimes\\mathbb{I}_{A})\\otimes\\mathbb{I}_{B}\\big)\\big(|\\psi\\rangle_{A'}|\\Phi\\rangle_{AB}\\big) \\\\\n",
    "& = \\big(|\\Phi_{j,k}\\rangle_{A'A}(_{AA'}\\langle\\Phi|(\\mathbb{I}_{A'}\\otimes(U_{A}^{(jk)})^{*})\\otimes\\mathbb{I}_{B}\\big)\\big(|\\psi\\rangle_{A'}|\\Phi\\rangle_{AB}\\big) \\\\\n",
    "& = \\big((|\\Phi_{j,k}\\rangle_{A'A}\\langle\\Phi|\\otimes\\mathbb{I}_{B})(\\mathbb{I}_{A'}\\otimes(U_{A}^{(jk)})^{*}\\otimes\\mathbb{I}_{B}\\big)\\big(|\\psi\\rangle_{A'}|\\Phi\\rangle_{AB}\\big) \\\\\n",
    "& = \\big(|\\Phi_{j,k}\\rangle_{A'A}\\langle\\Phi|\\otimes\\mathbb{I}_{B}\\big)\\big(|\\psi\\rangle_{A'}\\otimes((U_{A}^{(jk)})^{*}\\otimes\\mathbb{I}_{B})|\\Phi\\rangle_{AB}\\big) \\\\\n",
    "& = \\big(|\\Phi_{j,k}\\rangle_{A'A}\\langle\\Phi|\\otimes\\mathbb{I}_{B}\\big)\\big(|\\psi\\rangle_{A'}\\otimes(\\mathbb{I}_{A}\\otimes((U_{B}^{(jk)})^{*})^{T})|\\Phi\\rangle_{AB}\\big) \\\\\n",
    "& = \\big(|\\Phi_{j,k}\\rangle_{A'A}\\langle\\Phi|\\otimes\\mathbb{I}_{B}\\big)\\big(|\\psi\\rangle_{A'}\\otimes(\\mathbb{I}_{A}\\otimes(U_{B}^{(jk)})^{\\dagger})|\\Phi\\rangle_{AB}\\big) \\\\\n",
    "& = \\big(|\\Phi_{j,k}\\rangle_{A'A}\\langle\\Phi|\\otimes\\mathbb{I}_{B}\\big)\\big(\\mathbb{I}_{A'}\\otimes\\mathbb{I}_{A}\\otimes(U_{B}^{(jk)})^{\\dagger}\\big)\\big(|\\psi\\rangle_{A'}|\\Phi\\rangle_{AB}\\big) \\\\\n",
    "& = \\big(|\\Phi_{j,k}\\rangle_{A'A}\\langle\\Phi|\\otimes(U_{B}^{(jk)})^{\\dagger}\\big)\\big(|\\psi\\rangle_{A'}|\\Phi\\rangle_{AB}\\big) \\\\\n",
    "& = \\big(\\mathbb{I}_{A'}\\otimes\\mathbb{I}_{A}\\otimes(U_{B}^{(jk)})^{\\dagger}\\big) \\big(|\\Phi_{j,k}\\rangle_{A'A}\\langle\\Phi|\\otimes\\mathbb{I}_{B}\\big)\\big(|\\psi\\rangle_{A'}|\\Phi\\rangle_{AB}\\big) \\\\\n",
    "\\end{align}"
   ]
  },
  {
   "cell_type": "markdown",
   "id": "fbac02e6",
   "metadata": {},
   "source": [
    "Agora notemos\n",
    "\\begin{align}\n",
    "& \\big(|\\Phi_{j,k}\\rangle_{A'A}\\langle\\Phi|\\otimes\\mathbb{I}_{B}\\big)\\big(|\\psi\\rangle_{A'}|\\Phi\\rangle_{AB}\\big) \\\\\n",
    "& = \\big(|\\Phi_{j,k}\\rangle_{A'A}d^{-1/2}\\sum_{l}\\langle l|_{A'}\\otimes\\langle l|_{A}\\otimes\\sum_{n}|n\\rangle_{B}\\langle n|\\big)\\big(|\\psi\\rangle_{A'}\\otimes d^{-1/2}\\sum_{m}|m\\rangle_{A}\\otimes|m\\rangle_{B}\\big) \\\\\n",
    "& = d^{-1}\\sum_{l,n,m}\\big(|\\Phi_{j,k}\\rangle_{A'A}\\otimes|n\\rangle_{B}\\big)\\big(\\langle l|_{A'}\\otimes\\langle l|_{A}\\otimes\\langle n|_{B}\\big)\\big(|\\psi\\rangle_{A'}\\otimes |m\\rangle_{A}\\otimes|m\\rangle_{B}\\big) \\\\\n",
    "& = d^{-1}\\sum_{l,n,m}\\big(|\\Phi_{j,k}\\rangle_{A'A}\\otimes|n\\rangle_{B}\\big)\\big(_{A'}\\langle l|\\psi\\rangle_{A'}\\otimes _{A}\\langle l|m\\rangle_{A}\\otimes _{B}\\langle n|m\\rangle_{B}\\big) \\\\\n",
    "& = d^{-1}\\sum_{l,n,m}\\big(|\\Phi_{j,k}\\rangle_{A'A}\\otimes|n\\rangle_{B}\\big)\\big(_{A'}\\langle l|\\psi\\rangle_{A'}\\otimes \\delta_{l,m}\\otimes \\delta_{n,m}\\big) \\\\\n",
    "& = d^{-1}\\sum_{l}\\big(|\\Phi_{j,k}\\rangle_{A'A}\\otimes|l\\rangle_{B}\\big)_{A'}\\langle l|\\psi\\rangle_{A'} \\\\\n",
    "& = d^{-1}|\\Phi_{j,k}\\rangle_{A'A}\\otimes\\sum_{l}(_{A'}\\langle l|\\psi\\rangle_{A'})|n\\rangle_{B} \\\\\n",
    "& \\equiv d^{-1}|\\Phi_{j,k}\\rangle_{A'A}\\otimes\\sum_{l}(_{B}\\langle l|\\psi\\rangle_{B})|n\\rangle_{B} \\\\\n",
    "& = d^{-1}|\\Phi_{j,k}\\rangle_{A'A}\\otimes|\\psi\\rangle_{B}.\n",
    "\\end{align}"
   ]
  },
  {
   "cell_type": "markdown",
   "id": "1846aa0a",
   "metadata": {},
   "source": [
    "Com isso, o estado pós-medida não normalizado fica escrito como\n",
    "\\begin{align}\n",
    "& \\big(|\\Phi_{j,k}\\rangle_{A'A}\\langle\\Phi_{j,k}|\\otimes\\mathbb{I}_{B}\\big)\\big(|\\psi\\rangle_{A'}|\\Phi\\rangle_{AB}\\big) \\\\\n",
    "& = \\big(\\mathbb{I}_{A'}\\otimes\\mathbb{I}_{A}\\otimes(U_{B}^{(jk)})^{\\dagger}\\big)\\big(d^{-1}|\\Phi_{j,k}\\rangle_{A'A}\\otimes|\\psi\\rangle_{B}\\big) \\\\\n",
    "& = d^{-1}|\\Phi_{j,k}\\rangle_{A'A}\\otimes(U_{B}^{(jk)})^{\\dagger}|\\psi\\rangle_{B}.\n",
    "\\end{align}\n",
    "\n",
    "Por conseguinte, uma vez que Alice envia o par de índices $(j,k)$ correspondente ao resultado da sua medida na base generalizada de Bell, Bob, conhecendo $(j,k)$, aplica\n",
    "\\begin{equation}\n",
    "U_{B}^{(jk)}(U_{B}^{(jk)})^{\\dagger}|\\psi\\rangle_{B} = \\mathbb{I}_{B}|\\psi\\rangle_{B} = |\\psi\\rangle_{B},\n",
    "\\end{equation}\n",
    "completando assim o protocolo de teleportação.\n",
    "\n",
    "__Exercício:__ Calcule a probabilidade de Alice obter o resultado $|\\Phi_{j,k}\\rangle_{A'A}$ em sua medida na base de Bell generalizada.\n",
    "\n",
    "__Exercício:__ Considerando que Bob não conhece o resultado da medida feita por Alice, mas que ele sabe que ela fez tal medida, qual é o operador densidade que ele atribui ao seu qudit?"
   ]
  },
  {
   "cell_type": "code",
   "execution_count": null,
   "id": "b957edf6",
   "metadata": {},
   "outputs": [],
   "source": []
  }
 ],
 "metadata": {
  "kernelspec": {
   "display_name": "Python 3 (ipykernel)",
   "language": "python",
   "name": "python3"
  },
  "language_info": {
   "codemirror_mode": {
    "name": "ipython",
    "version": 3
   },
   "file_extension": ".py",
   "mimetype": "text/x-python",
   "name": "python",
   "nbconvert_exporter": "python",
   "pygments_lexer": "ipython3",
   "version": "3.8.11"
  }
 },
 "nbformat": 4,
 "nbformat_minor": 5
}
