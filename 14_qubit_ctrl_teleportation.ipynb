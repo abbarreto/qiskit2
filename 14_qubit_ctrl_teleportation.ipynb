{
 "cells": [
  {
   "cell_type": "markdown",
   "id": "191b84ce",
   "metadata": {},
   "source": [
    "### Notas de aula de Computação Quântica <br> Autor: Jonas Maziero"
   ]
  },
  {
   "cell_type": "code",
   "execution_count": 1,
   "id": "a1e129ff",
   "metadata": {},
   "outputs": [],
   "source": [
    "%run init.ipynb"
   ]
  },
  {
   "cell_type": "markdown",
   "id": "f317b593",
   "metadata": {},
   "source": [
    "# Teleportação controlada para qubits\n",
    "\n",
    "Vamos considerar que Alice, Bob e Charlie compartilham um estado GHZ (Greenberger-Horne-Zeilinger) de 3 qubits:\n",
    "$$|GHZ\\rangle_{ABC} = \\frac{1}{\\sqrt{2}}\\big(|000\\rangle_{ABC}+|111\\rangle_{ABC}\\big).$$\n",
    "Assim como no protocolo original de teleportação, Alice recebe um qubit em um estado desconhecido\n",
    "$$|\\psi\\rangle_{A'} = c_{0}|0\\rangle_{A'} + c_{1}|1\\rangle_{A'}.$$\n",
    "Aqui, Alice, Bob e Charlie querem preparar o qubit de Bob no estado\n",
    "$$|\\psi\\rangle_{B}.$$"
   ]
  },
  {
   "cell_type": "markdown",
   "id": "83c6029e",
   "metadata": {},
   "source": [
    "Assim como fizemos no protocolo de teleportação, vamos olhar para o estado total mantendo em mente que Alice fará uma medida na base de Bell nos qubits que estão com ela:\n",
    "\\begin{align}\n",
    "|\\Psi_{0}\\rangle & = |\\psi\\rangle_{A'}|GHZ\\rangle_{ABC} \\\\\n",
    "& = \\big(c_{0}|0\\rangle_{A'} + c_{1}|1\\rangle_{A'}\\big)\\frac{1}{\\sqrt{2}}\\big(|000\\rangle_{ABC}+|111\\rangle_{ABC}\\big) \\\\\n",
    "& = \\frac{1}{\\sqrt{2}}\\big(c_{0}|0000\\rangle_{A'ABC}+c_{0}|0111\\rangle_{A'ABC} + c_{1}|1000\\rangle_{A'ABC}+c_{1}|1111\\rangle_{A'ABC}\\big) \\\\\n",
    "& = \\frac{1}{\\sqrt{2}}\\Big(c_{0}\\frac{1}{\\sqrt{2}}\\big(|\\Phi_{+}\\rangle_{A'A}+|\\Phi_{-}\\rangle_{A'A}\\big)|00\\rangle_{BC}+c_{0}\\frac{1}{\\sqrt{2}}\\big(|\\Psi_{+}\\rangle_{A'A}+|\\Psi_{-}\\rangle_{A'A}\\big)|11\\rangle_{BC} \\\\\n",
    "& \\hspace{1.3cm} +c_{1}\\frac{1}{\\sqrt{2}}\\big(|\\Psi_{+}\\rangle_{A'A}-|\\Psi_{-}\\rangle_{A'A}\\big)|00\\rangle_{BC}+c_{1}\\frac{1}{\\sqrt{2}}\\big(|\\Phi_{+}\\rangle_{A'A}-|\\Phi_{-}\\rangle_{A'A}\\big)|11\\rangle_{BC}\\Big) \\\\\n",
    "& = \\frac{1}{2}\\Big(|\\Phi_{+}\\rangle_{A'A}\\big(c_{0}|00\\rangle_{BC}+c_{1}|11\\rangle_{BC}\\big) + |\\Phi_{-}\\rangle_{A'A}\\big(c_{0}|00\\rangle_{BC}-c_{1}|11\\rangle_{BC}\\big) \\\\\n",
    "& \\hspace{1cm} + |\\Psi_{+}\\rangle_{A'A}\\big(c_{0}|11\\rangle_{BC}+c_{1}|00\\rangle_{BC}\\big) + |\\Psi_{-}\\rangle_{A'A}\\big(c_{0}|11\\rangle_{BC}-c_{1}|00\\rangle_{BC}\\big)\\Big).\n",
    "\\end{align}"
   ]
  },
  {
   "cell_type": "markdown",
   "id": "76a4dc4c",
   "metadata": {},
   "source": [
    "Notemos que a medida na base de Bell de Alice colapsa, com igual probabilidade, o estado dos qubits de Charlie e Bob para\n",
    "\\begin{align}\n",
    "& |\\Phi_{+}\\rangle_{A'A} \\longrightarrow c_{0}|00\\rangle_{BC}+c_{1}|11\\rangle_{BC},\\\\\n",
    "& |\\Phi_{-}\\rangle_{A'A} \\longrightarrow c_{0}|00\\rangle_{BC}-c_{1}|11\\rangle_{BC}, \\\\\n",
    "& |\\Psi_{+}\\rangle_{A'A} \\longrightarrow c_{0}|11\\rangle_{BC}+c_{1}|00\\rangle_{BC}, \\\\ \n",
    "& |\\Psi_{+}\\rangle_{A'A} \\longrightarrow c_{0}|11\\rangle_{BC}-c_{1}|00\\rangle_{BC}.\n",
    "\\end{align}\n",
    "No entanto, o estado do qubit de Bob ainda não é $|\\psi\\rangle_{B}$. \n",
    "\n",
    "Seguindo, Charlie faz uma medidas na base\n",
    "$$|\\pm\\rangle = 2^{-1/2}\\big(|0\\rangle\\pm|1\\rangle\\big).$$"
   ]
  },
  {
   "cell_type": "markdown",
   "id": "fb853e10",
   "metadata": {},
   "source": [
    "Termos assim as seguinte combinações de resultados das medidas de Alice e de Charlie:\n",
    "* $|\\Phi_{+}\\rangle_{A'A}$ e $|+\\rangle_{C}$ <br>\n",
    "Neste caso o estado pós-medida será proporcional a\n",
    "\\begin{align}\n",
    "& |\\Phi_{+}\\rangle_{A'A}\\otimes\\big(\\mathbb{I}_{B}\\otimes|+\\rangle_{C}\\langle +|\\big)\\big(c_{0}|00\\rangle_{BC}+c_{1}|11\\rangle_{BC}\\big) \\\\\n",
    "& = |\\Phi_{+}\\rangle_{A'A}\\otimes|+\\rangle_{C}\\otimes\\big(c_{0}|0\\rangle_{B}\\langle +|0\\rangle_{C}+c_{1}|1\\rangle_{B}\\langle +|1\\rangle_{C}\\big) \\\\\n",
    "& = 2^{-1/2}|\\Phi_{+}\\rangle_{A'A}\\otimes|+\\rangle_{C}\\otimes\\big(c_{0}|0\\rangle_{B} + c_{1}|1\\rangle_{B}\\big) \\\\\n",
    "& = 2^{-1/2}|\\Phi_{+}\\rangle_{A'A}\\otimes|+\\rangle_{C}\\otimes|\\psi\\rangle_{B}.\n",
    "\\end{align}\n",
    "\n",
    "* $|\\Phi_{+}\\rangle_{A'A}$ e $|-\\rangle_{C}$ <br>\n",
    "Neste caso o estado pós-medida será proporcional a\n",
    "\\begin{align}\n",
    "& |\\Phi_{+}\\rangle_{A'A}\\otimes\\big(\\mathbb{I}_{B}\\otimes|-\\rangle_{C}\\langle -|\\big)\\big(c_{0}|00\\rangle_{BC}+c_{1}|11\\rangle_{BC}\\big) \\\\\n",
    "& = |\\Phi_{+}\\rangle_{A'A}\\otimes|-\\rangle_{C}\\otimes\\big(c_{0}|0\\rangle_{B}\\langle -|0\\rangle_{C}+c_{1}|1\\rangle_{B}\\langle -|1\\rangle_{C}\\big) \\\\\n",
    "& = 2^{-1/2}|\\Phi_{+}\\rangle_{A'A}\\otimes|-\\rangle_{C}\\otimes\\big(c_{0}|0\\rangle_{B} - c_{1}|1\\rangle_{B}\\big) \\\\\n",
    "& = 2^{-1/2}|\\Phi_{+}\\rangle_{A'A}\\otimes|-\\rangle_{C}\\otimes Z_{B}|\\psi\\rangle_{B}.\n",
    "\\end{align}"
   ]
  },
  {
   "cell_type": "markdown",
   "id": "57aa3345",
   "metadata": {},
   "source": [
    "* $|\\Phi_{-}\\rangle_{A'A}$ e $|+\\rangle_{C}$ <br>\n",
    "Neste caso o estado pós-medida será proporcional a\n",
    "\\begin{align}\n",
    "& |\\Phi_{-}\\rangle_{A'A}\\otimes\\big(\\mathbb{I}_{B}\\otimes|+\\rangle_{C}\\langle +|\\big)\\big(c_{0}|00\\rangle_{BC}-c_{1}|11\\rangle_{BC}\\big) \\\\\n",
    "& = |\\Phi_{-}\\rangle_{A'A}\\otimes|+\\rangle_{C}\\otimes\\big(c_{0}|0\\rangle_{B}\\langle +|0\\rangle_{C}-c_{1}|1\\rangle_{B}\\langle +|1\\rangle_{C}\\big) \\\\\n",
    "& = 2^{-1/2}|\\Phi_{-}\\rangle_{A'A}\\otimes|+\\rangle_{C}\\otimes\\big(c_{0}|0\\rangle_{B} - c_{1}|1\\rangle_{B}\\big) \\\\\n",
    "& = 2^{-1/2}|\\Phi_{-}\\rangle_{A'A}\\otimes|+\\rangle_{C}\\otimes Z_{B}|\\psi\\rangle_{B}.\n",
    "\\end{align}\n",
    "\n",
    "* $|\\Phi_{-}\\rangle_{A'A}$ e $|-\\rangle_{C}$ <br>\n",
    "Neste caso o estado pós-medida será proporcional a\n",
    "\\begin{align}\n",
    "& |\\Phi_{-}\\rangle_{A'A}\\otimes\\big(\\mathbb{I}_{B}\\otimes|-\\rangle_{C}\\langle -|\\big)\\big(c_{0}|00\\rangle_{BC}-c_{1}|11\\rangle_{BC}\\big) \\\\\n",
    "& = |\\Phi_{-}\\rangle_{A'A}\\otimes|-\\rangle_{C}\\otimes\\big(c_{0}|0\\rangle_{B}\\langle -|0\\rangle_{C}-c_{1}|1\\rangle_{B}\\langle -|1\\rangle_{C}\\big) \\\\\n",
    "& = 2^{-1/2}|\\Phi_{-}\\rangle_{A'A}\\otimes|-\\rangle_{C}\\otimes\\big(c_{0}|0\\rangle_{B} + c_{1}|1\\rangle_{B}\\big) \\\\\n",
    "& = 2^{-1/2}|\\Phi_{-}\\rangle_{A'A}\\otimes|-\\rangle_{C}\\otimes|\\psi\\rangle_{B}.\n",
    "\\end{align}"
   ]
  },
  {
   "cell_type": "markdown",
   "id": "af46b7de",
   "metadata": {},
   "source": [
    "* $|\\Psi_{+}\\rangle_{A'A}$ e $|+\\rangle_{C}$ <br>\n",
    "Neste caso o estado pós-medida será proporcional a\n",
    "\\begin{align}\n",
    "& |\\Psi_{+}\\rangle_{A'A}\\otimes\\big(\\mathbb{I}_{B}\\otimes|+\\rangle_{C}\\langle +|\\big)\\big(c_{0}|11\\rangle_{BC}+c_{1}|00\\rangle_{BC}\\big) \\\\\n",
    "& = |\\Psi_{+}\\rangle_{A'A}\\otimes|+\\rangle_{C}\\otimes\\big(c_{0}|1\\rangle_{B}\\langle +|1\\rangle_{C}+c_{1}|0\\rangle_{B}\\langle +|0\\rangle_{C}\\big) \\\\\n",
    "& = 2^{-1/2}|\\Psi_{+}\\rangle_{A'A}\\otimes|+\\rangle_{C}\\otimes\\big(c_{0}|1\\rangle_{B} + c_{1}|0\\rangle_{B}\\big) \\\\\n",
    "& = 2^{-1/2}|\\Psi_{+}\\rangle_{A'A}\\otimes|+\\rangle_{C}\\otimes X_{B}|\\psi\\rangle_{B}.\n",
    "\\end{align}\n",
    "\n",
    "* $|\\Psi_{+}\\rangle_{A'A}$ e $|-\\rangle_{C}$ <br>\n",
    "Neste caso o estado pós-medida será proporcional a\n",
    "\\begin{align}\n",
    "& |\\Psi_{+}\\rangle_{A'A}\\otimes\\big(\\mathbb{I}_{B}\\otimes|-\\rangle_{C}\\langle -|\\big)\\big(c_{0}|11\\rangle_{BC}+c_{1}|00\\rangle_{BC}\\big) \\\\\n",
    "& = |\\Psi_{+}\\rangle_{A'A}\\otimes|-\\rangle_{C}\\otimes\\big(c_{0}|1\\rangle_{B}\\langle -|1\\rangle_{C}+c_{1}|0\\rangle_{B}\\langle -|0\\rangle_{C}\\big) \\\\\n",
    "& = 2^{-1/2}|\\Psi_{+}\\rangle_{A'A}\\otimes|-\\rangle_{C}\\otimes\\big(-c_{0}|1\\rangle_{B} + c_{1}|0\\rangle_{B}\\big) \\\\\n",
    "& = 2^{-1/2}|\\Psi_{+}\\rangle_{A'A}\\otimes|-\\rangle_{C}\\otimes Z_{B}X_{B}|\\psi\\rangle_{B}.\n",
    "\\end{align}"
   ]
  },
  {
   "cell_type": "markdown",
   "id": "f1459cfc",
   "metadata": {},
   "source": [
    "* $|\\Psi_{-}\\rangle_{A'A}$ e $|+\\rangle_{C}$ <br>\n",
    "Neste caso o estado pós-medida será proporcional a\n",
    "\\begin{align}\n",
    "& |\\Psi_{-}\\rangle_{A'A}\\otimes\\big(\\mathbb{I}_{B}\\otimes|+\\rangle_{C}\\langle +|\\big)\\big(c_{0}|11\\rangle_{BC}-c_{1}|00\\rangle_{BC}\\big) \\\\\n",
    "& = |\\Psi_{-}\\rangle_{A'A}\\otimes|+\\rangle_{C}\\otimes\\big(c_{0}|1\\rangle_{B}\\langle +|1\\rangle_{C}-c_{1}|0\\rangle_{B}\\langle +|0\\rangle_{C}\\big) \\\\\n",
    "& = 2^{-1/2}|\\Psi_{-}\\rangle_{A'A}\\otimes|+\\rangle_{C}\\otimes\\big(c_{0}|1\\rangle_{B} - c_{1}|0\\rangle_{B}\\big) \\\\\n",
    "& = 2^{-1/2}|\\Psi_{-}\\rangle_{A'A}\\otimes|+\\rangle_{C}\\otimes X_{B}Z_{B}|\\psi\\rangle_{B}.\n",
    "\\end{align}\n",
    "\n",
    "* $|\\Psi_{-}\\rangle_{A'A}$ e $|-\\rangle_{C}$ <br>\n",
    "Neste caso o estado pós-medida será proporcional a\n",
    "\\begin{align}\n",
    "& |\\Psi_{-}\\rangle_{A'A}\\otimes\\big(\\mathbb{I}_{B}\\otimes|-\\rangle_{C}\\langle -|\\big)\\big(c_{0}|11\\rangle_{BC}-c_{1}|00\\rangle_{BC}\\big) \\\\\n",
    "& = |\\Psi_{-}\\rangle_{A'A}\\otimes|-\\rangle_{C}\\otimes\\big(c_{0}|1\\rangle_{B}\\langle -|1\\rangle_{C}-c_{1}|0\\rangle_{B}\\langle -|0\\rangle_{C}\\big) \\\\\n",
    "& = 2^{-1/2}|\\Psi_{-}\\rangle_{A'A}\\otimes|-\\rangle_{C}\\otimes\\big(-c_{0}|1\\rangle_{B} - c_{1}|0\\rangle_{B}\\big) \\\\\n",
    "& = 2^{-1/2}|\\Psi_{-}\\rangle_{A'A}\\otimes|-\\rangle_{C}\\otimes\\big(c_{0}|1\\rangle_{B} + c_{1}|0\\rangle_{B}\\big) \\\\\n",
    "& = e^{i\\pi}2^{-1/2}|\\Psi_{-}\\rangle_{A'A}\\otimes|-\\rangle_{C}\\otimes e^{i\\pi}X_{B}|\\psi\\rangle_{B}.\n",
    "\\end{align}"
   ]
  },
  {
   "cell_type": "markdown",
   "id": "e3d212ad",
   "metadata": {},
   "source": [
    "Então, para completar o protocolo de teleportação controlada, Bob precisa receber 2 cbits de Alice informado qual foi o resultados de sua medida na base de Bell e deve receber 1cbit de Charlie informando qual foi o resultado de sua medida na base $|\\pm\\rangle$. Teremos então a seguinte correspondência:\n",
    "\\begin{align}\n",
    "& |\\Phi_{+}\\rangle_{A'A},|+\\rangle_{C}\\longrightarrow 000 \\longrightarrow \\mathbb{I}_{B}, \\\\\n",
    "& |\\Phi_{+}\\rangle_{A'A},|-\\rangle_{C}\\longrightarrow 001 \\longrightarrow Z_{B}, \\\\\n",
    "& |\\Phi_{-}\\rangle_{A'A},|+\\rangle_{C}\\longrightarrow 100 \\longrightarrow Z_{B}, \\\\\n",
    "& |\\Phi_{-}\\rangle_{A'A},|-\\rangle_{C}\\longrightarrow 101 \\longrightarrow \\mathbb{I}_{B}, \\\\\n",
    "& |\\Psi_{+}\\rangle_{A'A},|+\\rangle_{C}\\longrightarrow 010 \\longrightarrow X_{B}, \\\\\n",
    "& |\\Psi_{+}\\rangle_{A'A},|-\\rangle_{C}\\longrightarrow 011 \\longrightarrow Z_{B}X_{B}, \\\\\n",
    "& |\\Psi_{-}\\rangle_{A'A},|+\\rangle_{C}\\longrightarrow 110 \\longrightarrow X_{B}Z_{B}, \\\\\n",
    "& |\\Psi_{-}\\rangle_{A'A},|-\\rangle_{C}\\longrightarrow 111 \\longrightarrow X_{B}.\n",
    "\\end{align}\n",
    "Feito isso, o qubit de Bob termina no estado $|\\psi\\rangle_{B}$."
   ]
  },
  {
   "cell_type": "markdown",
   "id": "d4b2708b",
   "metadata": {},
   "source": [
    "##### Exercício\n",
    "Discuta a possibilidade de extender esse protocolo para o caso de qudits."
   ]
  },
  {
   "cell_type": "code",
   "execution_count": 1,
   "id": "505a5362",
   "metadata": {},
   "outputs": [],
   "source": [
    "from qiskit import *\n",
    "nshots = 8192\n",
    "IBMQ.load_account()\n",
    "provider = qiskit.IBMQ.get_provider(hub = 'ibm-q-research-2', group = 'federal-uni-sant-1', project = 'main')\n",
    "device = provider.get_backend('ibmq_bogota')\n",
    "simulator = Aer.get_backend('qasm_simulator')\n",
    "from qiskit.tools.monitor import job_monitor, backend_overview, backend_monitor\n",
    "from qiskit.tools.visualization import plot_histogram"
   ]
  },
  {
   "cell_type": "code",
   "execution_count": 22,
   "id": "6cb3f29c",
   "metadata": {},
   "outputs": [
    {
     "data": {
      "image/png": "[encoded data removed]",
      "text/plain": [
       "<Figure size 1028.68x505.68 with 1 Axes>"
      ]
     },
     "execution_count": 22,
     "metadata": {},
     "output_type": "execute_result"
    }
   ],
   "source": [
    "q0 = QuantumRegister(1); q1 = QuantumRegister(1); q2 = QuantumRegister(1); q3 = QuantumRegister(1)\n",
    "c0 = ClassicalRegister(1); c1 = ClassicalRegister(1); c2 = ClassicalRegister(1); c3 = ClassicalRegister(1)\n",
    "qc = QuantumCircuit(q0,q1,q2,q3,c0,c1,c2,c3)\n",
    "# q0 e q1 estao com Alice, q2 com Charlies e q3 com Bob\n",
    "qc.h(q1); qc.cx(q1,q2); qc.cx(q2,q3) # prepara o estado GHZ\n",
    "qc.barrier()\n",
    "#qc.sdg(q0); qc.h(q0) # prepara o estado a ser teletransportado (y+)\n",
    "# prepara o estado |0>\n",
    "qc.barrier()\n",
    "qc.cx(q0,q1); qc.h(q0); qc.measure(q0,c0); qc.measure(q1,c1) # Medida de Alice na base de Bell\n",
    "qc.h(q2); qc.measure(q2,c2) # medida de Charlie na base +,-\n",
    "qc.barrier()\n",
    "qc.z(q3).c_if(c0, 1) # acao de Bob condicionada no 1º cbit enviado por Alice\n",
    "qc.x(q3).c_if(c1, 1) # acao de Bob condicionada no 2º cbit enviado por Alice\n",
    "qc.z(q3).c_if(c2, 1) # acao de Bob condicionada no cbit enviado por Charlie\n",
    "qc.barrier()\n",
    "#qc.sdg(q3); qc.h(q3); qc.measure(q3,c3) # passa da base circular pra computacional\n",
    "qc.measure(q3,c3) # mede na base computacional\n",
    "qc.draw(output='mpl')"
   ]
  },
  {
   "cell_type": "code",
   "execution_count": 23,
   "id": "92c298ac",
   "metadata": {},
   "outputs": [],
   "source": [
    "jobS = execute(qc, backend = simulator, shots = nshots)"
   ]
  },
  {
   "cell_type": "code",
   "execution_count": 24,
   "id": "7bb90f46",
   "metadata": {},
   "outputs": [
    {
     "data": {
      "image/png": "[encoded data removed]",
      "text/plain": [
       "<Figure size 504x360 with 1 Axes>"
      ]
     },
     "execution_count": 24,
     "metadata": {},
     "output_type": "execute_result"
    }
   ],
   "source": [
    "plot_histogram(jobS.result().get_counts(qc))"
   ]
  },
  {
   "cell_type": "code",
   "execution_count": null,
   "id": "b75f95d6",
   "metadata": {},
   "outputs": [],
   "source": []
  }
 ],
 "metadata": {
  "kernelspec": {
   "display_name": "Python 3 (ipykernel)",
   "language": "python",
   "name": "python3"
  },
  "language_info": {
   "codemirror_mode": {
    "name": "ipython",
    "version": 3
   },
   "file_extension": ".py",
   "mimetype": "text/x-python",
   "name": "python",
   "nbconvert_exporter": "python",
   "pygments_lexer": "ipython3",
   "version": "3.8.11"
  }
 },
 "nbformat": 4,
 "nbformat_minor": 5
}
