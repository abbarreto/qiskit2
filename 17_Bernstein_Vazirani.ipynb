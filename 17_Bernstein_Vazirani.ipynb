{
 "cells": [
  {
   "cell_type": "markdown",
   "id": "bbf809b3",
   "metadata": {},
   "source": [
    "### Notas de aula de Computação Quântica <br> Autor: Jonas Maziero"
   ]
  },
  {
   "cell_type": "code",
   "execution_count": 1,
   "id": "1a226b95",
   "metadata": {},
   "outputs": [],
   "source": [
    "%run init.ipynb"
   ]
  },
  {
   "cell_type": "markdown",
   "id": "b12037b6",
   "metadata": {},
   "source": [
    "# Algoritmo de Bernstein-Vazirani\n",
    "\n",
    "Vamos considerar uma função \n",
    "$$f:\\{0,1\\}^{n}\\rightarrow \\{0,1\\}.$$\n",
    "Ou seja, $f$ tem como input sequências de $n$ bits $x=x_{n-1}\\cdots x_{1}x_{0}$ com $x_{j}=0$ ou $x_{j}=1$ e tem como output 0 ou 1. Vamos considerar um oráculo que contém uma __sequência secreta__ de bits \n",
    "$$s=s_{n-1}\\cdots s_{1}s_{0}$$ \n",
    "e que, em cada _query_, nos retorna\n",
    "$$f_{s}(x) = s\\cdot x \\equiv s\\cdot x\\mod2 = \\sum_{j=0}^{n-1}s_{j}x_{j}\\mod2.$$ \n",
    "O problema a ser resolvido é encontrar $s$:\n",
    "$$s=?$$\n",
    "\n",
    "Como cada pergunta ao oráculo nos fornece um único escalar como resposta, _classicamente_ o melhor que podemos fazer é fazer as seguintes $n$ perguntas:\n",
    "\\begin{align}\n",
    "& f(100\\cdots 00) = s_{n-1}, \\\\\n",
    "& f(010\\cdots 00) = s_{n-2}, \\\\\n",
    "& f(001\\cdots 00) = s_{n-3}, \\\\\n",
    "& \\vdots \\\\\n",
    "& f(000\\cdots 10) = s_{1}, \\\\\n",
    "& f(000\\cdots 01) = s_{0}.\n",
    "\\end{align}\n",
    "Como exemplo, consideremos $n=3$ e $s=101$. Teremos que \n",
    "\\begin{align}\n",
    "& f(100) = 1s_{2}+0s_{1}+0s_{0} = s_{2},\\\\\n",
    "& f(010) = 0s_{2}+1s_{1}+0s_{0} = s_{1}, \\\\\n",
    "& f(001) = 0s_{2}+0s_{1}+1s_{0} = s_{0}.\n",
    "\\end{align}"
   ]
  },
  {
   "cell_type": "markdown",
   "id": "f6d41123",
   "metadata": {},
   "source": [
    "_Quanticamente_, assim como no algoritmo de Deutsch-Jozsa (ADJ), começamos com $n+1$ qubits preparados no estado\n",
    "$$|+\\rangle^{\\otimes n}\\otimes|-\\rangle = \\frac{1}{2^{n/2}}\\sum_{x=0}^{2^{n}-1}|x\\rangle\\otimes|-\\rangle =\\frac{1}{2^{(n+1)/2}}\\sum_{x=0}^{2^{n}-1}|x\\rangle\\otimes\\big(|0\\rangle-|1\\rangle\\big).$$\n",
    "O oráculo funciona de forma similar a no caso do ADJ ($U_{f}|x\\rangle|y\\rangle = |x\\rangle|y\\oplus f(x)\\rangle$):\n",
    "$$U_{s}|x\\rangle|y\\rangle = |x\\rangle|y\\oplus s\\cdot x\\rangle.$$\n",
    "Com isso, teremos que\n",
    "\\begin{align}\n",
    "U_{s}|+\\rangle^{n}|-\\rangle & = \\frac{1}{2^{(n+1)/2}}\\sum_{x=0}^{2^{n}-1}\\big(U_{s}|x\\rangle|0\\rangle - U_{s}|x\\rangle|1\\rangle\\big) \\\\\n",
    "& = \\frac{1}{2^{(n+1)/2}}\\sum_{x=0}^{2^{n}-1}\\big(|x\\rangle|0\\oplus s\\cdot x\\rangle - |x\\rangle|1\\oplus s\\cdot x\\rangle\\big) \\\\\n",
    "& = \\frac{1}{2^{(n+1)/2}}\\sum_{x=0}^{2^{n}-1}|x\\rangle\\big(|s\\cdot x\\rangle - |\\overline{s\\cdot x}\\rangle\\big) \\\\\n",
    "& = \\frac{1}{2^{(n+1)/2}}\\sum_{x=0}^{2^{n}-1}|x\\rangle(-1)^{s\\cdot x}\\big(|0\\rangle - |1\\rangle\\big) \\\\\n",
    "& = \\frac{1}{2^{n/2}}\\sum_{x=0}^{2^{n}-1}(-1)^{s\\cdot x}|x\\rangle |-\\rangle.\n",
    "\\end{align}\n",
    "Esse é o chamado _phase kickback_, pois a fase dependente de $x$ acaba sendo adicionada a este estado."
   ]
  },
  {
   "cell_type": "markdown",
   "id": "8a6da9ce",
   "metadata": {},
   "source": [
    "Os estados\n",
    "$$|\\psi_{s}\\rangle := \\frac{1}{2^{n/2}}\\sum_{x=0}^{2^{n}-1}(-1)^{s\\cdot x}|x\\rangle$$\n",
    "formam um conjunto ortonormal\n",
    "\\begin{align}\n",
    "\\langle\\psi_{s}|\\psi_{t}\\rangle & = \\frac{1}{2^{n}}\\sum_{x=0}^{2^{n}}(-1)^{s\\cdot x}\\langle x|\\sum_{y=0}^{2^{n}}(-1)^{t\\cdot y}|y\\rangle \\\\\n",
    "& = \\frac{1}{2^{n}}\\sum_{x,y=0}^{2^{n}}(-1)^{s\\cdot x + t\\cdot y}\\langle x|y\\rangle = \\frac{1}{2^{n}}\\sum_{x,y=0}^{2^{n}}(-1)^{s\\cdot x + t\\cdot y}\\delta_{y,x} \\\\\n",
    "& = \\frac{1}{2^{n}}\\sum_{x=0}^{2^{n}}(-1)^{s\\cdot x + t\\cdot x} \\\\\n",
    "& = \\frac{1}{2^{n}}\\sum_{x=0}^{2^{n}}(-1)^{(s+t)\\cdot x},\n",
    "\\end{align}\n",
    "em que usamos\n",
    "\\begin{align}\n",
    "s\\cdot x + t\\cdot x & = \\sum_{j=0}^{n-1}s_{j}x_{j}\\mod2 + \\sum_{j=0}^{n-1}t_{j}x_{j}\\mod2 \\\\\n",
    "& = \\Big(\\sum_{j=0}^{n-1}s_{j}x_{j} + \\sum_{j=0}^{n-1}t_{j}x_{j}\\Big)\\mod2 \\\\\n",
    "& = \\sum_{j=0}^{n-1}(s_{j}+t_{j})x_{j}\\mod2 \\\\\n",
    "& = (s+t)\\cdot x.\n",
    "\\end{align}"
   ]
  },
  {
   "cell_type": "markdown",
   "id": "d5775fa5",
   "metadata": {},
   "source": [
    "Agora, para um dado $k=s+t$ teremos\n",
    "\\begin{align}\n",
    "\\sum_{x=0}^{2^{n}}(-1)^{k\\cdot x} & \\equiv \\sum_{x_{1}=0}^{1}\\sum_{x_{2}=0}^{1}\\cdots\\sum_{x_{n}=0}^{1} (-1)^{k_{1}x_{1}+k_{2}x_{2}+\\cdots+k_{n}x_{n}} \\\\\n",
    " & = \\sum_{x_{1}=0}^{1}(-1)^{k_{1}x_{1}}\\sum_{x_{2}=0}^{1}(-1)^{k_{2}x_{2}}\\cdots\\sum_{x_{n}=0}^{1} (-1)^{k_{n}x_{n}} \\\\\n",
    "& = 2\\delta_{k_{1},0}2\\delta_{k_{2},0}\\cdots 2\\delta_{k_{n},0} \\\\\n",
    "& = 2^{n}\\delta_{k,0},\n",
    "\\end{align}\n",
    "em que usamos\n",
    "$$\\sum_{x_{j}=0}^{1}(-1)^{k_{j}x_{j}} = (-1)^{k_{j}0}+(-1)^{k_{j}1} = 1+(-1)^{k_{j}} = 2\\delta_{k_{j},0}.$$ \n",
    "Por conseguinte\n",
    "$$\\langle\\psi_{s}|\\psi_{t}\\rangle = \\frac{1}{2^{n}}\\sum_{x=0}^{2^{n}}(-1)^{(s+t)\\cdot x} =  \\frac{1}{2^{n}}2^{n}\\delta_{s+t,0} = \\delta_{s,t},$$\n",
    "pois a soma é feita bit a bit, e assim\n",
    "$$s+t=0\\ \\therefore\\ s=t.$$"
   ]
  },
  {
   "cell_type": "markdown",
   "id": "cf9498d3",
   "metadata": {},
   "source": [
    "Podemos verificar também que essa base é completa:\n",
    "\\begin{align}\n",
    "\\sum_{s=0}^{2^{n}-1}|\\psi_{s}\\rangle\\langle\\psi_{s}| & = \\sum_{s=0}^{2^{n}-1}\\frac{1}{2^{n/2}}\\sum_{x=0}^{2^{n}-1}(-1)^{s\\cdot x}|x\\rangle\\frac{1}{2^{n/2}}\\sum_{y=0}^{2^{n}-1}(-1)^{s\\cdot y}\\langle y| \\\\\n",
    "& = \\frac{1}{2^{n}}\\sum_{x,y=0}^{2^{n}-1}\\Big(\\sum_{s=0}^{2^{n}-1}(-1)^{s\\cdot(x+y)}\\Big)|x\\rangle\\langle y| \\\\\n",
    "& = \\frac{1}{2^{n}}\\sum_{x,y=0}^{2^{n}-1}2^{n}\\delta_{x,y}|x\\rangle\\langle y| \\\\\n",
    "& = \\sum_{x=0}^{2^{n}-1}|x\\rangle\\langle x| = \\mathbb{I}_{2^{n}}.\n",
    "\\end{align}\n",
    "A importância de $\\{|\\psi_{s}\\rangle\\}$ formar uma base ortonormal é que a princípio podemos medir nessa base, descobrindo assim o valor de $s$."
   ]
  },
  {
   "cell_type": "markdown",
   "id": "84dd78c0",
   "metadata": {},
   "source": [
    "Agora, tendo o estado \n",
    "$$U_{s}|+\\rangle^{\\otimes n}|-\\rangle = \\frac{1}{2^{n/2}}\\sum_{x=0}^{2^{n}-1}(-1)^{s\\cdot x}|x\\rangle |-\\rangle=|\\psi_{s}\\rangle|-\\rangle,$$\n",
    "vejamos como obter $s$. Consideremos a chamada __transformada de Hadamard__. Lembremos da porta de Hadamard,\n",
    "$$H=\\frac{1}{2^{1/2}}\\begin{bmatrix}1&1\\\\1&-1\\end{bmatrix} = \\frac{1}{2^{1/2}}\\sum_{x,y=0}^{1}(-1)^{xy}|x\\rangle\\langle y|,$$\n",
    "para escrever\n",
    "\\begin{align}\n",
    "H^{\\otimes n} & = H\\otimes H\\otimes\\cdots\\otimes H \\\\\n",
    "& = \\frac{1}{2^{1/2}}\\sum_{x_{1},y_{1}=0}^{1}(-1)^{x_{1}y_{1}}|x_{1}\\rangle\\langle y_{1}|\\otimes \\frac{1}{2^{1/2}}\\sum_{x_{2},y_{2}=0}^{1}(-1)^{x_{2}y_{2}}|x_{2}\\rangle\\langle y_{2}|\\otimes\\cdots\\otimes \\frac{1}{2^{1/2}}\\sum_{x_{n},y_{n}=0}^{1}(-1)^{x_{n}y_{n}}|x_{n}\\rangle\\langle y_{n}| \\\\\n",
    "& = \\frac{1}{2^{n/2}}\\sum_{x_{1},x_{2},\\cdots,x_{n},y_{1},y_{2},\\cdots,y_{n}=0}^{1}(-1)^{x_{1}y_{1}+x_{2}y_{2}+\\cdots+x_{n}y_{n}}|x_{1}x_{2}\\cdots x_{n}\\rangle\\langle y_{1}y_{2}\\cdots y_{n}| \\\\\n",
    "& = \\frac{1}{2^{n/2}}\\sum_{x,y=0}^{2^{n}-1}(-1)^{x\\cdot y}|x\\rangle\\langle y| \\\\\n",
    "& = \\sum_{x=0}^{2^{n}-1}|x\\rangle\\frac{1}{2^{n/2}}\\sum_{y=0}^{2^{n}-1}(-1)^{x\\cdot y}\\langle y| \\\\\n",
    "& = \\sum_{x=0}^{2^{n}-1}|x\\rangle\\langle\\psi_{x}|.\n",
    "\\end{align}"
   ]
  },
  {
   "cell_type": "markdown",
   "id": "a58282c5",
   "metadata": {},
   "source": [
    "Com isso, vem que\n",
    "\\begin{align}\n",
    "H^{\\otimes n}U_{s}|+\\rangle^{\\otimes n}|-\\rangle & = H^{\\otimes n}|\\psi_{s}\\rangle|-\\rangle \\\\\n",
    "& = \\sum_{x=0}^{2^{n}-1}|x\\rangle\\langle\\psi_{x}|\\psi_{s}\\rangle|-\\rangle \\\\\n",
    "& = \\sum_{x=0}^{2^{n}-1}|x\\rangle\\delta_{x,s}|-\\rangle \\\\\n",
    "& = |s\\rangle\\otimes|-\\rangle.\n",
    "\\end{align}\n",
    "Portanto, medindo os $n$ primeiros qubits na base computacional, descobriremos o valor de $s$. O circuito quântico completo para o algoritmo de Bernstein-Vazirani está mostrado na sequência, e é bem parecido com aquele referente ao algoritmo de Deutsch-Jozsa."
   ]
  },
  {
   "cell_type": "code",
   "execution_count": 2,
   "id": "f7c6fe27",
   "metadata": {},
   "outputs": [],
   "source": [
    "from qiskit import *\n",
    "from qiskit.tools.visualization import plot_histogram"
   ]
  },
  {
   "cell_type": "code",
   "execution_count": 6,
   "id": "be0f8844",
   "metadata": {},
   "outputs": [],
   "source": [
    "secretnumber = '101' # s"
   ]
  },
  {
   "cell_type": "code",
   "execution_count": 7,
   "id": "f3e3d5c2",
   "metadata": {},
   "outputs": [],
   "source": [
    "circuit = QuantumCircuit(len(secretnumber)+1,len(secretnumber))\n",
    "circuit.h(range(len(secretnumber)))\n",
    "circuit.x(len(secretnumber));\n",
    "circuit.h(len(secretnumber));\n",
    "circuit.barrier();\n",
    "for ii, yesno in enumerate(reversed(secretnumber)): # the black box\n",
    "    if yesno == '1':\n",
    "        circuit.cx(ii, len(secretnumber));\n",
    "circuit.barrier();\n",
    "circuit.h(range(len(secretnumber)));\n",
    "circuit.barrier();\n",
    "circuit.measure(range(len(secretnumber)),range(len(secretnumber)));"
   ]
  },
  {
   "cell_type": "code",
   "execution_count": 8,
   "id": "cefd5d9d",
   "metadata": {},
   "outputs": [
    {
     "data": {
      "image/png": "[encoded data removed]",
      "text/plain": [
       "<Figure size 748.797x325.08 with 1 Axes>"
      ]
     },
     "execution_count": 8,
     "metadata": {},
     "output_type": "execute_result"
    }
   ],
   "source": [
    "circuit.draw(output='mpl')"
   ]
  },
  {
   "cell_type": "code",
   "execution_count": 11,
   "id": "1c267b9e",
   "metadata": {},
   "outputs": [
    {
     "name": "stdout",
     "output_type": "stream",
     "text": [
      "{'1110001': 1}\n"
     ]
    }
   ],
   "source": [
    "simulator = Aer.get_backend('qasm_simulator')\n",
    "result = execute(circuit, backend = simulator, shots = 1).result()\n",
    "counts = result.get_counts()\n",
    "print(counts)"
   ]
  },
  {
   "cell_type": "markdown",
   "id": "82871590",
   "metadata": {},
   "source": [
    "##### Exercício\n",
    "Usando menos bits para $s$, faça a simulação e experimento e plote o histograma para medidas na base computacional."
   ]
  },
  {
   "cell_type": "markdown",
   "id": "f1133189",
   "metadata": {},
   "source": [
    "##### References:\n",
    "- Dave Bacon, Quantum Computing Course, https://courses.cs.washington.edu/courses/cse599d/06wi/."
   ]
  },
  {
   "cell_type": "code",
   "execution_count": null,
   "id": "55879611",
   "metadata": {},
   "outputs": [],
   "source": []
  }
 ],
 "metadata": {
  "kernelspec": {
   "display_name": "Python 3 (ipykernel)",
   "language": "python",
   "name": "python3"
  },
  "language_info": {
   "codemirror_mode": {
    "name": "ipython",
    "version": 3
   },
   "file_extension": ".py",
   "mimetype": "text/x-python",
   "name": "python",
   "nbconvert_exporter": "python",
   "pygments_lexer": "ipython3",
   "version": "3.8.11"
  }
 },
 "nbformat": 4,
 "nbformat_minor": 5
}
