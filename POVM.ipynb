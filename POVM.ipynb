{
 "cells": [
  {
   "cell_type": "markdown",
   "id": "41498cba",
   "metadata": {},
   "source": [
    "# POVMs (Positive operator valued measurements)\n",
    "Em português, seria \"medidas valoradas por operadores positivos\" (MVOPs).\n",
    "\n",
    "## Medidas projetivas\n",
    "Consideremos um sistema com espaço de estados $\\mathcal{H}_{A}.$ \n",
    "Observáveis desse sistema são descritos por operadores Hermitianos\n",
    "\\begin{equation}\n",
    "A=\\sum_{j=1}^{d_{A}}a_{j}\\Pi_{a_{j}}\n",
    "\\end{equation}\n",
    "com \n",
    "\\begin{equation}\n",
    "a_{j}\\in\\mathbb{R} \\text{, } \\Pi_{a_{j}}=|a_{j}\\rangle\\langle a_{j}| \\text{, } \\Pi_{a_{j}}\\Pi_{a_{k}}=\\delta_{jk}\\Pi_{a_{j}} \\text{ e } \\sum_{j=1}^{d_{A}}\\Pi_{a_{j}}=\\mathbb{I}_{A}.\n",
    "\\end{equation}\n",
    "Os operadores $\\Pi_{a_{j}}$ são chamados de projetores (ficará claro o motivo a seguir). Como escrevemos acima, eles são projetores unidimensionais ou de rank 1, pois o subespaço gerado pelo autovetor correspondete, $|a_{j}\\rangle$, tem dimensão igual a 1. Claro podemos ter projetores com qualquer rank. Por exemplo, se os dois autovalores $a_{1}$ e $a_{2}$ são degenerados, i.e., tem o mesmo valor, então qualquer combinação linear \n",
    "\\begin{equation}\n",
    "c_{1}|a_{1}\\rangle + c_{2}|a_{2}\\rangle\n",
    "\\end{equation}\n",
    "também é um autovetor de $A$ correspondente ao mesmo autovalor $a_{1}=a_{2}=:a_{12}$. Nesse caso, poderíamos escrever \n",
    "\\begin{equation}\n",
    "A= a_{12}\\Pi_{a_{12}}+\\sum_{j=3}^{d_{A}}a_{j}\\Pi_{a_{j}}.\n",
    "\\end{equation}\n",
    "O projetor $\\Pi_{a_{12}}$ tem rank 2 pois envolve dois vetores ortoginais que geram um subespaço bidimensional. Uma possibilidade seria $\\Pi_{a_{12}}=\\Pi_{a_{1}}+\\Pi_{a_{2}}$, mas existem infinitas outras."
   ]
  },
  {
   "cell_type": "markdown",
   "id": "e3da26c1",
   "metadata": {},
   "source": [
    "Bom, e por que chamamos esses opedores de projetores. Considere que nosso sistema $\\mathcal{H}_{A}$ foi preparado em um estado qualquer $|\\psi\\angle$ e medimos o observável $A$. Existem evidências experimentais que nos levam ao postulado da repetibilidade, que diz que se medimos um observável $A$ e obtemos o autovalor correspondente a $|a_{j}\\rangle$ e fazemos medidas sebsequentes, uma imediatamente depois da outra (ou isolamos completamente o sistema entre medidas) obteremos 100% da vezes o resultado $|a_{j}\\rangle$. Ou seja\n",
    "\\begin{equation}\n",
    "|\\psi\\rangle \\xrightarrow[\\text{obtém } a_{j}]{\\text{mede } A} |a_{j}\\rangle = \\frac{|a_{j}\\rangle\\langle a_{j}|\\psi\\rangle}{|||a_{j}\\rangle\\langle a_{j}|\\psi\\rangle||}  = \\frac{\\Pi_{a_{j}}|\\psi\\rangle}{||\\Pi_{a_{j}}|\\psi\\rangle||}.\n",
    "\\end{equation}\n",
    "Como o estado antes da medida pode ser escrito como \n",
    "\\begin{equation}\n",
    "|\\psi\\rangle = \\sum_{j=1}^{d_{A}}c_{j}|a_{j}\\rangle = \\sum_{j=1}^{d_{A}}\\langle a_{j}|\\psi\\rangle|a_{j}\\rangle.\n",
    "\\end{equation}\n",
    "Se $a_{j}$ é obtido ao medir $A$, então o estado $|\\psi\\rangle$ é projetado na direção de $|a_{j}\\rangle$, uma \"ação\" que poder ser descrita pelo operador $\\Pi_{a_{j}}.$ "
   ]
  },
  {
   "cell_type": "markdown",
   "id": "185d5059",
   "metadata": {},
   "source": [
    "Agora, se temos incerteza sobre a preparação do estado do sistema e este é descrito pelo operador densidade\n",
    "\\begin{equation}\n",
    "\\rho = \\sum_{k}p_{k}|\\psi_{k}\\rangle\\langle\\psi_{k}|,\n",
    "\\end{equation}\n",
    "com $0\\le p_{k}\\le 1$, $\\sum_{k}p_{k}=1$ e $|\\psi_{k}\\rangle$, pela interpretação do ensemble\n",
    "\\begin{equation}\n",
    "\\rho \\equiv \\{p_{k},|\\psi_{k}\\rangle\\},\n",
    "\\end{equation}\n",
    "teremos que, ao medir $A$ e obter $a_{j}$, se o estado do sistema for $|\\psi_{k}\\rangle$ então será projetado para\n",
    "\\begin{equation}\n",
    "|\\psi_{k}\\rangle \\xrightarrow[\\text{obtém } a_{j}]{\\text{mede } A} |a_{j}\\rangle = \\frac{\\Pi_{a_{j}}|\\psi_{k}\\rangle}{||\\Pi_{a_{j}}|\\psi_{k}\\rangle||}.\n",
    "\\end{equation}\n",
    "Aplicando ao operador densidade, teremos\n",
    "\\begin{equation}\n",
    "\\rho \\xrightarrow[\\text{obtém } a_{j}]{\\text{mede } A} \\frac{\\sum_{k}p_{k}\\Pi_{a_{j}}|\\psi_{k}\\rangle\\langle\\psi_{k}|\\Pi_{a_{j}}}{Tr\\big(\\sum_{k}p_{k}\\Pi_{a_{j}}|\\psi_{k}\\rangle\\langle\\psi_{k}|\\Pi_{a_{j}}\\big)} = \\frac{\\Pi_{a_{j}}\\rho\\Pi_{a_{j}}}{Tr\\big(\\Pi_{a_{j}}\\rho\\Pi_{a_{j}}\\big)},\n",
    "\\end{equation}"
   ]
  },
  {
   "cell_type": "markdown",
   "id": "b4d74d29",
   "metadata": {},
   "source": [
    "Vale observar, relacionado a probabilidades, que pela regra de Born teremos\n",
    "\\begin{align}\n",
    "Pr(a_{j}|\\psi) & = |\\langle a_{j}|\\psi\\rangle|^{2} \\\\\n",
    "& = \\langle\\psi|a_{j}\\rangle\\langle a_{j}|\\psi\\rangle = \\langle\\psi|\\Pi_{a_{j}}|\\psi\\rangle = Tr(\\Pi_{a_{j}}|\\psi\\rangle\\langle\\psi|)\n",
    "\\end{align}\n",
    "e\n",
    "\\begin{align}\n",
    "Pr(a_{j}|\\rho) & = \\sum_{k}p_{k}Pr(a_{j}|\\psi_{k}) = \\sum_{k}p_{k}Tr(\\Pi_{a_{j}}|\\psi_{k}\\rangle\\langle\\psi_{k}|) \\\\\n",
    "& = Tr\\big(\\Pi_{a_{j}}\\sum_{k}p_{k}|\\psi_{k}\\rangle\\langle\\psi_{k}|\\big) = Tr\\big(\\Pi_{a_{j}}\\rho\\big).\n",
    "\\end{align}"
   ]
  },
  {
   "cell_type": "markdown",
   "id": "9cf1cee3",
   "metadata": {},
   "source": [
    "## Medidas MVOPs\n",
    "Uma maneira simples de introduzir a razoabilidade de usarmos MVOPs é usando\n",
    "\\begin{align}\n",
    "Pr(a_{j}|\\psi) & = \\langle\\psi|\\Pi_{a_{j}}|\\psi\\rangle = \\langle\\psi|\\Pi_{a_{j}}\\Pi_{a_{j}}|\\psi\\rangle = \\langle\\psi|\\Pi_{a_{j}}^{\\dagger}\\Pi_{a_{j}}|\\psi\\rangle  \\\\\n",
    "& =: \\langle\\psi|E_{j}|\\psi\\rangle,\n",
    "\\end{align}\n",
    "onde definimos\n",
    "\\begin{equation}\n",
    "E_{j} := \\Pi_{a_{j}}^{\\dagger}\\Pi_{a_{j}}.\n",
    "\\end{equation}\n",
    "É fácil ver que esses operadores são positivos semidefinidos:\n",
    "\\begin{equation}\n",
    "\\langle\\psi|E_{j}|\\psi\\rangle = \\langle\\psi|\\Pi_{a_{j}}^{\\dagger}\\Pi_{a_{j}}|\\psi\\rangle = \\langle\\phi|\\phi\\rangle\\ge0 \\ \\therefore\\ E_{j}\\ge\\mathbb{O}. \n",
    "\\end{equation}\n",
    "Ademais, como para $\\Pi_{a_{j}}$ sendo projetores temos \n",
    "\\begin{equation}\n",
    "E_{j} = \\Pi_{a_{j}}^{\\dagger}\\Pi_{a_{j}} = \\Pi_{a_{j}}\\Pi_{a_{j}} = \\Pi_{a_{j}}^{2} = \\Pi_{a_{j}},\n",
    "\\end{equation}\n",
    "vem que\n",
    "\\begin{equation}\n",
    "\\sum_{j}E_{j} = \\sum_{j}\\Pi_{a_{j}} = \\mathbb{I}_{A}.\n",
    "\\end{equation}"
   ]
  },
  {
   "cell_type": "markdown",
   "id": "9eb53490",
   "metadata": {},
   "source": [
    "Visto isto, podemos super que qualquer conjunto de operadores\n",
    "\\begin{equation}\n",
    "E_{j} = M_{j}^{\\dagger}M_{j},\n",
    "\\end{equation}\n",
    "com $M_{j}$ sendo operadores lineares quaisquer em $\\mathcal{H}_{A}$ (não necessariamente projetores), tais que\n",
    "\\begin{equation}\n",
    "E_{j}\\le \\mathbb{I}_{A} \\text{ e } \\sum_{j}E_{j} = \\mathbb{I}_{A},\n",
    "\\end{equation}\n",
    "nos fornecerá uma distribuição válida de probabilidades pois\n",
    "\\begin{align}\n",
    "Pr(E_{j}|\\rho) = \\sum_{k}p_{k}Pr(E_{j}|\\psi_{k}\\rangle) := \\sum_{k}p_{k}\\langle\\psi_{k}|E_{j}|\\psi_{k}\\rangle \\ge 0 \n",
    "\\end{align}\n",
    "e\n",
    "\\begin{align}\n",
    "\\sum_{j}Pr(E_{j}|\\rho) & = \\sum_{j}\\sum_{k}p_{k}\\langle\\psi_{k}|E_{j}|\\psi_{k}\\rangle = \\sum_{k}p_{k}\\langle\\psi_{k}|\\sum_{j}E_{j}|\\psi_{k}\\rangle \\\\\n",
    "& = \\sum_{k}p_{k}\\langle\\psi_{k}|\\mathbb{I}_{A}|\\psi_{k}\\rangle = \\sum_{k}p_{k} = 1.\n",
    "\\end{align}\n",
    "\n",
    "Uma grande diferença em relação a medidas projetivas é que, com $M_{j}$ são operadores quaisquer que satisfazem $\\sum_{j}M_{j}^{\\dagger}M_{j}=\\mathbb{I}_{A}$, o número de elementos $\\{E_{j}\\}$ da MVOPs pode ser menor, igual ou maior que a dimensão do espaço de estados $\\mathcal{H}_{A}.$"
   ]
  },
  {
   "cell_type": "markdown",
   "id": "da0a9376",
   "metadata": {},
   "source": [
    "### Aplicação em distinguibilidade de estados\n",
    "\n",
    "#### É impossível distinguir estados não ortogonais usando medidas projetivas\n",
    "Considere que um qubit é preparado em um dos estados não ortogonais conhecidos\n",
    "\\begin{equation}\n",
    "|\\psi_{1}\\rangle \\text{ ou } |\\psi_{2}\\rangle \\text{, com } \\langle\\psi_{1}|\\psi_{2}\\rangle\\ne0,\n",
    "\\end{equation}\n",
    "mas não sabemos em qual.\n",
    "Queremos, medindo algum observável desse distema, determinar com certeza em qual estado o sistema foi preparado. Vamos provar que isso é impossível por contradição. Se for possível, então teremos projetores $\\Pi_{1}$ e $\\Pi_{2}$ tais que\n",
    "\\begin{equation}\n",
    "Pr(\\Pi_{1}|\\psi_{1}) = \\langle\\psi_{1}|\\Pi_{1}|\\psi_{1}\\rangle = 1 \\text{ e } Pr(\\Pi_{2}|\\psi_{2}) = \\langle\\psi_{2}|\\Pi_{2}|\\psi_{2}\\rangle = 1,\n",
    "\\end{equation}\n",
    "com $\\Pi_{1}\\Pi_{1}=\\Pi_{1}$, $\\Pi_{2}\\Pi_{2}=\\Pi_{2}$, $\\Pi_{1}\\Pi_{2}=\\mathbb{O}$ e $\\Pi_{1}+\\Pi_{2}=\\mathbb{I}$. Seguindo, escrevemos \n",
    "\\begin{equation}\n",
    "|\\psi_{2}\\rangle = \\alpha|\\psi_{1}\\rangle+\\beta|\\phi\\rangle\n",
    "\\end{equation}\n",
    "com $\\langle\\phi|\\psi_{1}\\rangle=0$, $|\\alpha|^{2}+|\\beta|^{2}=1$ e $|\\beta|<1$ pois $|\\psi_{2}\\rangle$ e $|\\psi_{1}\\rangle$ não são ortogonais. Usando \n",
    "\\begin{align}\n",
    "\\langle\\phi|\\Pi_{2}|\\phi\\rangle & < \\langle\\phi|\\Pi_{1}|\\phi\\rangle + \\langle\\phi|\\Pi_{2}|\\phi\\rangle = \\langle\\phi|(\\Pi_{1}+\\Pi_{2})|\\phi\\rangle = \\langle\\phi|\\mathbb{I}|\\phi\\rangle \\\\\n",
    "& = 1\n",
    "\\end{align}"
   ]
  },
  {
   "cell_type": "markdown",
   "id": "d1048b77",
   "metadata": {},
   "source": [
    "e\n",
    "\\begin{align}\n",
    "& 1 = \\langle\\psi_{1}|\\mathbb{I}|\\psi_{1}\\rangle = \\langle\\psi_{1}|(\\Pi_{1}+\\Pi_{2})|\\psi_{1}\\rangle = \\langle\\psi_{1}|\\Pi_{1}|\\psi_{1}\\rangle + \\langle\\psi_{1}|\\Pi_{2}|\\psi_{1}\\rangle \\\\\n",
    "& = 1 + \\langle\\psi_{1}|\\Pi_{2}|\\psi_{1}\\rangle \\\\\n",
    "& \\therefore \\langle\\psi_{1}|\\Pi_{2}|\\psi_{1}\\rangle = \\langle\\psi_{1}|\\sqrt{\\Pi_{2}}\\sqrt{\\Pi_{2}}|\\psi_{1}\\rangle = 0 \\ \\therefore\\ \\sqrt{\\Pi_{2}}|\\psi_{1}\\rangle=|\\oslash\\rangle.\n",
    "\\end{align}\n",
    "vem que\n",
    "\\begin{align}\n",
    "\\langle\\psi_{2}|\\Pi_{2}|\\psi_{2}\\rangle & = \\big(\\alpha^{*}\\langle\\psi_{1}|+\\beta^{*}\\langle\\phi|\\big)\\Pi_{2}\\big(\\alpha|\\psi_{1}\\rangle+\\beta|\\phi\\rangle\\big) \\\\\n",
    "& = |\\alpha|^{2}\\langle\\psi_{1}|\\Pi_{2}|\\psi_{1}\\rangle + \\alpha^{*}\\beta\\langle\\psi_{1}|\\Pi_{2}|\\phi\\rangle + \\alpha\\beta^{*}\\langle\\phi|\\Pi_{2}|\\psi_{1}\\rangle + |\\beta|^{2}\\langle\\phi|\\Pi_{2}|\\phi\\rangle \\\\\n",
    "& = 0 + \\alpha^{*}\\beta\\langle\\psi_{1}|\\sqrt{\\Pi_{2}}\\sqrt{\\Pi_{2}}|\\phi\\rangle + \\alpha\\beta^{*}\\langle\\phi|\\sqrt{\\Pi_{2}}\\sqrt{\\Pi_{2}}|\\psi_{1}\\rangle + |\\beta|^{2}\\langle\\phi|\\Pi_{2}|\\phi\\rangle \\\\\n",
    "& = \\alpha^{*}\\beta\\langle\\oslash|\\sqrt{\\Pi_{2}}|\\phi\\rangle + \\alpha\\beta^{*}\\langle\\phi|\\sqrt{\\Pi_{2}}|\\oslash\\rangle + |\\beta|^{2}\\langle\\phi|\\Pi_{2}|\\phi\\rangle \\\\\n",
    "& = 0 + 0 + |\\beta|^{2}\\langle\\phi|\\Pi_{2}|\\phi\\rangle \\\\\n",
    "& \\le |\\beta|^{2} < 1.\n",
    "\\end{align}\n",
    "Mas isso contradiz nossa suposição inicial, mostrando assim que não é possível distuinguir estados não ortogonais usando medidas projetivas."
   ]
  },
  {
   "cell_type": "markdown",
   "id": "628eb0ad",
   "metadata": {},
   "source": [
    "#### Usando MVOPs para distuinguir estados não ortogonais\n",
    "Vamos considerar uma medida MVOP com elementos\n",
    "\\begin{align}\n",
    "& E_{1} = \\frac{\\sqrt{2}}{1+\\sqrt{2}}|\\psi_{1}^{\\perp}\\rangle\\langle \\psi_{1}^{\\perp}|, \\\\\n",
    "& E_{2} = \\frac{\\sqrt{2}}{1+\\sqrt{2}}|\\psi_{2}^{\\perp}\\rangle\\langle \\psi_{2}^{\\perp}|, \\\\\n",
    "& E_{3} = \\mathbb{I} - E_{1} - E_{2}.\n",
    "\\end{align}\n",
    "Para sistemas de dois níveis, $|\\psi_{1}^{\\perp}\\rangle$ e $|\\psi_{2}^{\\perp}\\rangle$ são unicamente definidos. Vemos que\n",
    "\\begin{align}\n",
    "& |\\psi_{1}\\rangle \\text{ foi preparado } \\therefore\\ Pr(E_{1}) = \\langle\\psi_{1}|E_{1}|\\psi_{1}\\rangle = 0, \\\\\n",
    "& |\\psi_{2}\\rangle \\text{ foi preparado } \\therefore\\ Pr(E_{2}) = \\langle\\psi_{2}|E_{2}|\\psi_{2}\\rangle = 0.\n",
    "\\end{align}\n",
    "Por conseguinte, se ao fazer a medida MVOP com os elementos $\\{E_{1},E_{2},E_{3}\\}$ temos:\n",
    "\\begin{align}\n",
    "& \\text{Obtém } E_{1}\\ \\therefore\\ \\text{ o estado preparado foi } |\\psi_{2}\\rangle, \\\\\n",
    "& \\text{Obtém } E_{2}\\ \\therefore\\ \\text{ o estado preparado foi } |\\psi_{1}\\rangle, \\\\\n",
    "& \\text{Obtém } E_{3}\\ \\therefore\\ \\text{ não podemos concluir nada. }\n",
    "\\end{align}\n",
    "Vemos assim que essa medida POVM nos possibilita distinguir perfeitamente qual dos dois estados foi preparado, com o ônus de que quando o resultado $E_{3}$ for obtido não podemos concluir nada sobre a preparação de estado. "
   ]
  },
  {
   "cell_type": "markdown",
   "id": "7c3818e9",
   "metadata": {},
   "source": [
    "Vamos analisar agora a frequência relativa com que a MVOP não nos permite concluir nada a respeito do estado preparado. Teremos que\n",
    "\\begin{align}\n",
    "Pr(E_{3}) & = Pr(E_{3}|\\psi_{1}) + Pr(E_{3}|\\psi_{2}) \\\\\n",
    "& = \\langle\\psi_{1}|E_{3}|\\psi_{1}\\rangle + \\langle\\psi_{2}|E_{3}|\\psi_{2}\\rangle \\\\\n",
    "& = \\langle\\psi_{1}|(\\mathbb{I} - E_{1} - E_{2})|\\psi_{1}\\rangle + \\langle\\psi_{2}|(\\mathbb{I} - E_{1} - E_{2})|\\psi_{2}\\rangle \\\\\n",
    "& = 1 - \\langle\\psi_{1}|E_{1}|\\psi_{1}\\rangle - \\langle\\psi_{1}|E_{2}|\\psi_{1}\\rangle + 1 - \\langle\\psi_{2}|E_{1}|\\psi_{2}\\rangle - \\langle\\psi_{2}|E_{2}|\\psi_{2}\\rangle \\\\\n",
    "& = 2 - 0 - Pr(E_{2}|\\psi_{1}) - Pr(E_{1}|\\psi_{2}) - 0.\n",
    "\\end{align}\n",
    "\n",
    "Vamos considerar como exemplo\n",
    "\\begin{align}\n",
    "& |\\psi_{1}\\rangle = |0\\rangle, \\\\\n",
    "& |\\psi_{2}\\rangle = \\cos(\\theta/2)|0\\rangle + e^{i\\phi}\\sin(\\theta/2)|1\\rangle.\n",
    "\\end{align}\n",
    "Nesse caso teremos que\n",
    "\\begin{align}\n",
    "& E_{1} = \\frac{\\sqrt{2}}{1+\\sqrt{2}}|1\\rangle\\langle 1|, \\\\\n",
    "& E_{2} = \\frac{\\sqrt{2}}{1+\\sqrt{2}}|n_{+}^{\\perp}\\rangle\\langle n_{+}^{\\perp}|, \\\\\n",
    "\\end{align}\n",
    "com $|n_{+}^{\\perp}\\rangle=-\\sin(\\theta/2)|0\\rangle+e^{i\\phi}\\cos(\\theta/2)|1\\rangle$. "
   ]
  },
  {
   "cell_type": "markdown",
   "id": "a9c0a677",
   "metadata": {},
   "source": [
    "Assim\n",
    "\\begin{align}\n",
    "Pr(E_{1}|\\psi_{2}) & = \\langle\\psi_{2}|E_{1}|\\psi_{2}\\rangle \\\\\n",
    "& = \\langle\\psi_{2}|\\frac{\\sqrt{2}}{1+\\sqrt{2}}|1\\rangle\\langle 1|\\big(\\cos(\\theta/2)|0\\rangle + e^{i\\phi}\\sin(\\theta/2)|1\\rangle\\big) \\\\\n",
    "& = \\frac{\\sqrt{2}}{1+\\sqrt{2}} \\big(\\cos(\\theta/2)\\langle 0| + e^{-i\\phi}\\sin(\\theta/2)\\langle 1|\\big)e^{i\\phi}\\sin(\\theta/2)|1\\rangle \\\\\n",
    "& = \\frac{\\sqrt{2}\\sin^{2}(\\theta/2)}{1+\\sqrt{2}}\n",
    "\\end{align}\n",
    "e\n",
    "\\begin{align}\n",
    "Pr(E_{2}|\\psi_{1}) & = \\langle\\psi_{1}|E_{2}|\\psi_{1}\\rangle = \\langle 0|\\frac{\\sqrt{2}}{1+\\sqrt{2}}|n_{+}^{\\perp}\\rangle\\langle n_{+}^{\\perp}|0\\rangle \\\\\n",
    "& = \\frac{\\sqrt{2}}{1+\\sqrt{2}}\\langle 0|\\big(-\\sin(\\theta/2)|0\\rangle+e^{i\\phi}\\cos(\\theta/2)|1\\rangle\\big)\\big(-\\sin(\\theta/2)\\langle 0|+e^{-i\\phi}\\cos(\\theta/2)\\langle 1|\\big)|0\\rangle \\\\\n",
    "& = \\frac{\\sqrt{2}\\sin^{2}(\\theta/2)}{1+\\sqrt{2}}.\n",
    "\\end{align}\n",
    "Com isso, obtemos\n",
    "\\begin{equation}\n",
    "Pr(E_{3}) = 2 \\Big(1-\\frac{\\sqrt{2}\\sin^{2}(\\theta/2)}{1+\\sqrt{2}}\\Big).\n",
    "\\end{equation}"
   ]
  },
  {
   "cell_type": "code",
   "execution_count": 2,
   "id": "ffdad8b5",
   "metadata": {},
   "outputs": [],
   "source": [
    "import numpy as np\n",
    "from matplotlib import pyplot as plt\n",
    "import math"
   ]
  },
  {
   "cell_type": "code",
   "execution_count": 5,
   "id": "131de0aa",
   "metadata": {},
   "outputs": [
    {
     "data": {
      "text/plain": [
       "Text(0.5, 0, 'theta')"
      ]
     },
     "execution_count": 5,
     "metadata": {},
     "output_type": "execute_result"
    },
    {
     "data": {
      "image/png": "[encoded data removed]",
      "text/plain": [
       "<Figure size 432x288 with 1 Axes>"
      ]
     },
     "metadata": {
      "needs_background": "light"
     },
     "output_type": "display_data"
    }
   ],
   "source": [
    "th = np.arange(0, math.pi, 0.1); prE3 = 2*(1-(math.sqrt(2)*np.sin(th/2)**2)/(1+math.sqrt(2)))\n",
    "plt.plot(th, prE3); plt.xlabel(r'theta'); plt.show()"
   ]
  },
  {
   "cell_type": "code",
   "execution_count": 2,
   "id": "a1ec41dc",
   "metadata": {},
   "outputs": [
    {
     "data": {
      "text/plain": [
       "83.33333333333333"
      ]
     },
     "execution_count": 2,
     "metadata": {},
     "output_type": "execute_result"
    }
   ],
   "source": [
    "(75*100)/90"
   ]
  },
  {
   "cell_type": "code",
   "execution_count": null,
   "id": "00ee4cab",
   "metadata": {},
   "outputs": [],
   "source": []
  }
 ],
 "metadata": {
  "kernelspec": {
   "display_name": "Python 3 (ipykernel)",
   "language": "python",
   "name": "python3"
  },
  "language_info": {
   "codemirror_mode": {
    "name": "ipython",
    "version": 3
   },
   "file_extension": ".py",
   "mimetype": "text/x-python",
   "name": "python",
   "nbconvert_exporter": "python",
   "pygments_lexer": "ipython3",
   "version": "3.8.8"
  }
 },
 "nbformat": 4,
 "nbformat_minor": 5
}
