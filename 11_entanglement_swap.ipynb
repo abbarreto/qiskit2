{
 "cells": [
  {
   "cell_type": "markdown",
   "id": "41498cba",
   "metadata": {},
   "source": [
    "# Swap de emaranhamento\n",
    "## Efeito da coerência local e da entropia do estado global\n",
    "\n",
    "Em https://github.com/jonasmaziero/qiskit/blob/main/24_entanglement_swapping.ipynb e https://arxiv.org/abs/2203.01281 estudamos o efeito que preditibilidade local não nula dos estados parcialmente emaranhados iniciais tem sobre o protocolo de swap de emaranhamento. Vamos continuar explorando esse tema aqui.\n",
    "\n"
   ]
  },
  {
   "cell_type": "code",
   "execution_count": null,
   "id": "ffa40326",
   "metadata": {},
   "outputs": [],
   "source": []
  }
 ],
 "metadata": {
  "kernelspec": {
   "display_name": "Python 3 (ipykernel)",
   "language": "python",
   "name": "python3"
  },
  "language_info": {
   "codemirror_mode": {
    "name": "ipython",
    "version": 3
   },
   "file_extension": ".py",
   "mimetype": "text/x-python",
   "name": "python",
   "nbconvert_exporter": "python",
   "pygments_lexer": "ipython3",
   "version": "3.8.11"
  }
 },
 "nbformat": 4,
 "nbformat_minor": 5
}
