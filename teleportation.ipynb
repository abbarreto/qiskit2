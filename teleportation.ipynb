{
 "cells": [
  {
   "cell_type": "markdown",
   "id": "3e320d90",
   "metadata": {},
   "source": [
    "# Teleportação quântica \n",
    "O protocolo de teleportação quântica foi proposto em (C. H. Bennett, G. Brassard, C. Crépeau, R. Jozsa, A. Peres, and W. K. Wootters, Teleporting an unknown quantum state via dual classical and Einstein-Podolsky-Rosen channels, Phys. Rev. Lett. 70, 1895 (1993)). Neste protocolo, Alice e Bob começam compartilhando um estado maximamente emaranhado\n",
    "$$|\\Psi\\rangle_{1,2}=\\frac{1}{\\sqrt{2}}(|0\\rangle_{1}|0\\rangle_{2}+|1\\rangle_{1}|1\\rangle_{2}).$$\n",
    "Alice tem um qubit preparado em um estado \n",
    "$$|\\psi\\rangle_{0}=c_{0}|0\\rangle_{0}+c_{1}|1\\rangle_{0},$$\n",
    "que é desconhecido tanto para Alice quanto para Bob. Alice e Bob querem preparar um qubit no laboratório de Bob neste mesmo estado.\n",
    "\n",
    "Vale observar que o teorema da não clonagem impede que Alice faça cópias do estado $|\\psi\\rangle_{0}$. Se isso fosse possível, Alice poderia estimar o estado através da estatística das medidas. Além disso, vale observar que mesmo se Alice conhecesse $c_{0}$ e $c_{1}$, ela precisaria de uma quantidade infinita de cbits para transmití-los a Bob, ou uma quantidade finita se uma precisão finita fosse permitida.\n",
    "\n",
    "O estado inicial dos 3 qubits é:\n",
    "\\begin{align}\n",
    "|\\Psi_{0}\\rangle_{0,1,2} & =|\\psi\\rangle\\frac{1}{\\sqrt{2}}(|0\\rangle_{1}|0\\rangle_{2}+|1\\rangle_{1}|1\\rangle_{2}) \\\\\n",
    "& = \\frac{1}{\\sqrt{2}}\\left(c_{0}|0\\rangle_{0}|0\\rangle_{1}|0\\rangle_{2} + c_{0}|0\\rangle_{0}|1\\rangle_{1}|1\\rangle_{2} + c_{1}|1\\rangle_{0}|0\\rangle_{1}|0\\rangle_{2} + c_{1}|1\\rangle_{0}|1\\rangle_{1}|1\\rangle_{2}\\right).\n",
    "\\end{align}\n",
    "Seguindo, notamos a seguinte relação entre os estados da base de Bell e da base computacional:\n",
    "\\begin{align}\n",
    "& |\\Phi_{\\pm}\\rangle = \\frac{1}{\\sqrt{2}}(|00\\rangle\\pm|11\\rangle), |\\Psi_{\\pm}\\rangle = \\frac{1}{\\sqrt{2}}(|01\\rangle\\pm|10\\rangle), \\\\\n",
    "& |00\\rangle = \\frac{1}{\\sqrt{2}}(|\\Phi_{+}\\rangle + |\\Phi_{-}\\rangle), |11\\rangle = \\frac{1}{\\sqrt{2}}(|\\Phi_{+}\\rangle - |\\Phi_{-}\\rangle), \\\\\n",
    "& |01\\rangle = \\frac{1}{\\sqrt{2}}(|\\Psi_{+}\\rangle + |\\Psi_{-}\\rangle), |10\\rangle = \\frac{1}{\\sqrt{2}}(|\\Psi_{+}\\rangle - |\\Psi_{-}\\rangle).\n",
    "\\end{align}"
   ]
  },
  {
   "cell_type": "markdown",
   "id": "2cf18829",
   "metadata": {},
   "source": [
    "Assim, podemos escrever\n",
    "\\begin{align}\n",
    "|\\Psi_{0}\\rangle_{0,1,2} & = \\frac{1}{\\sqrt{2}}\\Big(c_{0}\\frac{1}{\\sqrt{2}}(|\\Phi_{+}\\rangle_{01} + |\\Phi_{-}\\rangle_{01})|0\\rangle_{2} + c_{0}\\frac{1}{\\sqrt{2}}(|\\Psi_{+}\\rangle_{01} + |\\Psi_{-}\\rangle_{01})|1\\rangle_{2} \\\\\n",
    "& \\hspace{1.5cm} + c_{1}\\frac{1}{\\sqrt{2}}(|\\Psi_{+}\\rangle_{01} - |\\Psi_{-}\\rangle_{01})|0\\rangle_{2} + c_{1}\\frac{1}{\\sqrt{2}}(|\\Phi_{+}\\rangle_{01} - |\\Phi_{-}\\rangle_{01})|1\\rangle_{2}\\Big) \\\\\n",
    "& = \\frac{1}{2}\\Big(|\\Phi_{+}\\rangle_{01}\\big(c_{0}|0\\rangle_{2}+c_{1}|1\\rangle_{2}\\big) + |\\Phi_{-}\\rangle_{01}\\big(c_{0}|0\\rangle_{2}-c_{1}|1\\rangle_{2}\\big) \\\\\n",
    "& \\hspace{1.3cm}  + |\\Psi_{+}\\rangle_{01}\\big(c_{0}|1\\rangle_{2}+c_{1}|0\\rangle_{2}\\big) + |\\Psi_{-}\\rangle_{01}\\big(c_{0}|1\\rangle_{2}-c_{1}|0\\rangle_{2}\\big)\\Big)\n",
    "\\end{align}\n",
    "\n",
    "Notemos também que para a porta de Hadamard, $H=\\frac{1}{\\sqrt{2}}\\begin{bmatrix}1&1\\\\1&-1\\end{bmatrix}$, temos $H|0\\rangle=|+\\rangle=(|0\\rangle+|1\\rangle)/\\sqrt{2}$ e $H|1\\rangle=|-\\rangle=(|0\\rangle-|1\\rangle)/\\sqrt{2}$. Usando $C_{x}^{0\\rightarrow 1}=|0\\rangle\\langle 0|\\otimes\\mathbb{I}+|1\\rangle\\langle 1|\\otimes X$ obteremos que\n",
    "\\begin{align}\n",
    "& C_{x}^{0\\rightarrow 1}H\\otimes\\mathbb{I}|00\\rangle = C_{x}^{0\\rightarrow 1}\\frac{1}{\\sqrt{2}}(|0\\rangle+|1\\rangle)|0\\rangle = \\frac{1}{\\sqrt{2}}(|0\\rangle|0\\rangle+|1\\rangle|1\\rangle) = |\\Phi_{+}\\rangle, \\\\\n",
    "& C_{x}^{0\\rightarrow 1}H\\otimes\\mathbb{I}|01\\rangle = C_{x}^{0\\rightarrow 1}\\frac{1}{\\sqrt{2}}(|0\\rangle+|1\\rangle)|1\\rangle = \\frac{1}{\\sqrt{2}}(|0\\rangle|1\\rangle+|1\\rangle|0\\rangle) = |\\Psi_{+}\\rangle, \\\\\n",
    "& C_{x}^{0\\rightarrow 1}H\\otimes\\mathbb{I}|10\\rangle = C_{x}^{0\\rightarrow 1}\\frac{1}{\\sqrt{2}}(|0\\rangle-|1\\rangle)|0\\rangle = \\frac{1}{\\sqrt{2}}(|0\\rangle|0\\rangle-|1\\rangle|1\\rangle) = |\\Phi_{-}\\rangle, \\\\\n",
    "& C_{x}^{0\\rightarrow 1}H\\otimes\\mathbb{I}|11\\rangle = C_{x}^{0\\rightarrow 1}\\frac{1}{\\sqrt{2}}(|0\\rangle-|1\\rangle)|1\\rangle = \\frac{1}{\\sqrt{2}}(|0\\rangle|1\\rangle-|1\\rangle|0\\rangle) = |\\Psi_{-}\\rangle.\n",
    "\\end{align}"
   ]
  },
  {
   "cell_type": "markdown",
   "id": "ebb4f78c",
   "metadata": {},
   "source": [
    "Uma vez que $H$ e $C_{x}^{0\\rightarrow 1}$ são matrizes hermitianas e unitárias, teremos que\n",
    "\\begin{align}\n",
    "& H\\otimes\\mathbb{I}C_{x}^{0\\rightarrow 1}|\\Phi_{+}\\rangle = H\\otimes\\mathbb{I}C_{x}^{0\\rightarrow 1}C_{x}^{0\\rightarrow 1}H\\otimes\\mathbb{I}|00\\rangle = |00\\rangle, \\\\\\\n",
    "& H\\otimes\\mathbb{I}C_{x}^{0\\rightarrow 1}|\\Psi_{+}\\rangle = |01\\rangle, \\\\\n",
    "& H\\otimes\\mathbb{I}C_{x}^{0\\rightarrow 1}|\\Phi_{-}\\rangle = |10\\rangle, \\\\\n",
    "& H\\otimes\\mathbb{I}C_{x}^{0\\rightarrow 1}|\\Psi_{-}\\rangle = |11\\rangle.\n",
    "\\end{align}\n",
    "\n",
    "Com isso, se Alice aplica $C_{x}^{0\\rightarrow 1}$ e depois $H\\otimes\\mathbb{I}$ nos 2 qubits que estão com ela, o estado dos 3 qubits pode ser escrito como segue\n",
    "\\begin{align}\n",
    "|\\Psi_{1}\\rangle_{0,1,2} & = H\\otimes\\mathbb{I}\\otimes\\mathbb{I}C_{x}^{0\\rightarrow 1}\\otimes\\mathbb{I}|\\Psi_{0}\\rangle_{0,1,2} \\\\\n",
    "& = \\frac{1}{2}\\Big(H\\otimes\\mathbb{I}C_{x}^{0\\rightarrow 1}|\\Phi_{+}\\rangle_{01}\\otimes\\mathbb{I}\\big(c_{0}|0\\rangle_{2}+c_{1}|1\\rangle_{2}\\big) + H\\otimes\\mathbb{I}C_{x}^{0\\rightarrow 1}|\\Phi_{-}\\rangle_{01}\\otimes\\mathbb{I}\\big(c_{0}|0\\rangle_{2}-c_{1}|1\\rangle_{2}\\big) \\\\\n",
    "& \\hspace{1.3cm}  + H\\otimes\\mathbb{I}C_{x}^{0\\rightarrow 1}|\\Psi_{+}\\rangle_{01}\\otimes\\mathbb{I}\\big(c_{0}|1\\rangle_{2}+c_{1}|0\\rangle_{2}\\big) + H\\otimes\\mathbb{I}C_{x}^{0\\rightarrow 1}|\\Psi_{-}\\rangle_{01}\\otimes\\mathbb{I}\\big(c_{0}|1\\rangle_{2}-c_{1}|0\\rangle_{2}\\big)\\Big) \\\\\n",
    "& = \\frac{1}{2}\\Big(|00\\rangle_{01}\\big(c_{0}|0\\rangle_{2}+c_{1}|1\\rangle_{2}\\big) + |10\\rangle_{01}\\big(c_{0}|0\\rangle_{2}-c_{1}|1\\rangle_{2}\\big) \\\\\n",
    "& \\hspace{1.3cm}  + |01\\rangle_{01}\\big(c_{0}|1\\rangle_{2}+c_{1}|0\\rangle_{2}\\big) + |11\\rangle_{01}\\big(c_{0}|1\\rangle_{2}-c_{1}|0\\rangle_{2}\\big)\\Big).\n",
    "\\end{align}"
   ]
  },
  {
   "cell_type": "markdown",
   "id": "2f30f2fe",
   "metadata": {},
   "source": [
    "Por fim, notemos que\n",
    "\\begin{align}\n",
    "& \\mathbb{I}(c_{0}|0\\rangle_{2}+c_{1}|1\\rangle_{2}) = |\\psi\\rangle, \\\\\n",
    "& Z(c_{0}|0\\rangle_{2}-c_{1}|1\\rangle_{2}) = |\\psi\\rangle, \\\\\n",
    "& X(c_{0}|1\\rangle_{2}+c_{1}|0\\rangle_{2}) = |\\psi\\rangle, \\\\\n",
    "& ZX(c_{0}|1\\rangle_{2}-c_{1}|0\\rangle_{2}) = |\\psi\\rangle.\n",
    "\\end{align}\n",
    "\n",
    "Então, para o estado $|\\Psi_{1}\\rangle_{0,1,2}$, dependendo do resultado de medidas na base computacional que Alice faz em seus dois qubits (que equivalem a medidas na base de Bell para o estado $|\\Psi_{0}\\rangle_{0,1,2}$), ela envia os 2 cbits correspondentes a Bob, que faz uma de quatro transformações unitárias locais em seu qubit, tal como indicado abaixo:\n",
    "\\begin{align}\n",
    "\\text{Alice obtém } 00 \\ \\rightarrow\\ \\text{Bob aplica } I, \\\\\n",
    "\\text{Alice obtém } 10 \\ \\rightarrow\\ \\text{Bob aplica } Z, \\\\\n",
    "\\text{Alice obtém } 01 \\ \\rightarrow\\ \\text{Bob aplica } X, \\\\\n",
    "\\text{Alice obtém } 11 \\ \\rightarrow\\ \\text{Bob aplica } ZX.\n",
    "\\end{align}\n",
    "Com isso, para qualquer um dos 4 possíveis resultados das medidas de Alice, o estado do qubit de Bob termina sendo $|\\psi\\rangle.$ Ou seja, para transmitir 1 qubit, Alice e Bob usam 2 cbits mais um ebit (um para maximamente emaranhado):\n",
    "$$\\text{1 qubit } = \\text{ 2 cbits } + \\text{1 ebit}.$$\n",
    "Abaixo simulamos o protocolo de teleportação quântica no IBMQ."
   ]
  },
  {
   "cell_type": "code",
   "execution_count": 2,
   "id": "4494498f",
   "metadata": {},
   "outputs": [],
   "source": [
    "from qiskit import *\n",
    "nshots = 8192\n",
    "qiskit.IBMQ.load_account()\n",
    "provider = qiskit.IBMQ.get_provider(hub = 'ibm-q-research-2', group = 'federal-uni-sant-1', project = 'main')\n",
    "simulator = Aer.get_backend('qasm_simulator')\n",
    "device = provider.get_backend('ibmq_bogota')\n",
    "from qiskit.tools.visualization import plot_histogram\n",
    "from qiskit.ignis.verification.tomography import state_tomography_circuits, StateTomographyFitter\n",
    "from qiskit.tools.monitor import job_monitor, backend_overview, backend_monitor"
   ]
  },
  {
   "cell_type": "code",
   "execution_count": 11,
   "id": "426e01ac",
   "metadata": {},
   "outputs": [
    {
     "data": {
      "image/png": "[encoded data removed]",
      "text/plain": [
       "<Figure size 206.852x144.48 with 1 Axes>"
      ]
     },
     "execution_count": 11,
     "metadata": {},
     "output_type": "execute_result"
    }
   ],
   "source": [
    "def qc_ent_dist():\n",
    "    qc = QuantumCircuit(2, name = 'E dist')\n",
    "    qc.h([0]); qc.cx(0, 1)\n",
    "    return qc\n",
    "qc_ent_dist_ = qc_ent_dist(); qc_ent_dist_.draw(output = 'mpl')"
   ]
  },
  {
   "cell_type": "code",
   "execution_count": 12,
   "id": "e5c057c9",
   "metadata": {},
   "outputs": [
    {
     "data": {
      "image/png": "[encoded data removed]",
      "text/plain": [
       "<Figure size 206.852x144.48 with 1 Axes>"
      ]
     },
     "execution_count": 12,
     "metadata": {},
     "output_type": "execute_result"
    }
   ],
   "source": [
    "def qc_bb_cb():\n",
    "    qc = QuantumCircuit(2, name = 'BB->CB')\n",
    "    qc.cx(0,1); qc.h(0)\n",
    "    return qc\n",
    "qc_bb_cb_ = qc_bb_cb(); qc_bb_cb_.draw(output = 'mpl')"
   ]
  },
  {
   "cell_type": "code",
   "execution_count": 17,
   "id": "3969692d",
   "metadata": {},
   "outputs": [
    {
     "data": {
      "image/png": "[encoded data removed]",
      "text/plain": [
       "<Figure size 869.197x204.68 with 1 Axes>"
      ]
     },
     "execution_count": 17,
     "metadata": {},
     "output_type": "execute_result"
    }
   ],
   "source": [
    "def qc_teleport(th, ph, lb):\n",
    "    qc = QuantumCircuit(3)\n",
    "    qc_ent_dist_ = qc_ent_dist(); qc.append(qc_ent_dist_, [1, 2]) # distribuição de emaranhamento\n",
    "    qc.barrier()\n",
    "    qc.u(th, ph, lb, [0]) # Preparação do estado a ser teletransportado\n",
    "    qc.barrier()\n",
    "    qc_bb_cb_ = qc_bb_cb(); qc.append(qc_bb_cb_, [0, 1]) # Base de Bell para base computacional\n",
    "    qc.barrier()\n",
    "    qc.cx(1, 2); qc.cz(0, 2) # infor clássica + unitária de Bob\n",
    "    return qc\n",
    "qc_teleport_ = qc_teleport(0.1, 0.5, 0); qc_teleport_.decompose().draw(output = 'mpl')"
   ]
  },
  {
   "cell_type": "code",
   "execution_count": 27,
   "id": "ed3c0b4a",
   "metadata": {},
   "outputs": [
    {
     "name": "stdout",
     "output_type": "stream",
     "text": [
      "rho_teo =  [[1.+0.j 0.+0.j]\n",
      " [0.+0.j 0.+0.j]]\n",
      "rho_sim =  [[0.99613433+0.j         0.05358348-0.03129762j]\n",
      " [0.05358348+0.03129762j 0.00386567+0.j        ]]\n"
     ]
    }
   ],
   "source": [
    "import numpy as np\n",
    "import math\n",
    "th, ph, lb = 0, 0, 0; \n",
    "rho_teo = np.array([[math.cos(th/2)**2, (math.cos(ph)+1j*math.sin(ph))*math.sin(th/2)*math.cos(th/2)],\n",
    "                 [(math.cos(ph)+1j*math.sin(ph))*math.sin(th/2)*math.cos(th/2), math.sin(th/2)**2]])\n",
    "qc_teleport_ = qc_teleport(0.1, 0.5, 0)\n",
    "qstc = state_tomography_circuits(qc_teleport_, [2])\n",
    "# simulação\n",
    "job = qiskit.execute(qstc, Aer.get_backend('qasm_simulator'), shots = nshots)\n",
    "qstf = StateTomographyFitter(job.result(), qstc)\n",
    "rho_sim = qstf.fit(method='lstsq')\n",
    "print('rho_teo = ', rho_teo)\n",
    "print('rho_sim = ', rho_sim)"
   ]
  },
  {
   "cell_type": "code",
   "execution_count": 31,
   "id": "369a373b",
   "metadata": {},
   "outputs": [
    {
     "name": "stdout",
     "output_type": "stream",
     "text": [
      "Job Status: job has successfully run\n",
      "rho_exp =  [[0.88989258+0.j         0.04284668-0.01843262j]\n",
      " [0.04284668+0.01843262j 0.11010742+0.j        ]]\n"
     ]
    }
   ],
   "source": [
    "# experimento\n",
    "job = qiskit.execute(qstc, backend = device, shots = nshots)\n",
    "job_monitor(job)\n",
    "qstf = StateTomographyFitter(job.result(), qstc)\n",
    "rho_exp = qstf.fit(method = 'lstsq')\n",
    "print('rho_exp = ', rho_exp)"
   ]
  },
  {
   "cell_type": "code",
   "execution_count": 34,
   "id": "c667b2eb",
   "metadata": {},
   "outputs": [
    {
     "name": "stdout",
     "output_type": "stream",
     "text": [
      "F =  0.8898925781250002\n"
     ]
    }
   ],
   "source": [
    "F = qiskit.quantum_info.state_fidelity(rho_teo, rho_exp); print('F = ', F)"
   ]
  },
  {
   "cell_type": "code",
   "execution_count": 35,
   "id": "d2691b75",
   "metadata": {},
   "outputs": [],
   "source": [
    "# variar th em cos(th/2)|0>+exp(i*ph)sin(th/2)|1>"
   ]
  },
  {
   "cell_type": "code",
   "execution_count": null,
   "id": "32c752a4",
   "metadata": {},
   "outputs": [],
   "source": []
  }
 ],
 "metadata": {
  "kernelspec": {
   "display_name": "Python 3 (ipykernel)",
   "language": "python",
   "name": "python3"
  },
  "language_info": {
   "codemirror_mode": {
    "name": "ipython",
    "version": 3
   },
   "file_extension": ".py",
   "mimetype": "text/x-python",
   "name": "python",
   "nbconvert_exporter": "python",
   "pygments_lexer": "ipython3",
   "version": "3.8.8"
  }
 },
 "nbformat": 4,
 "nbformat_minor": 5
}
