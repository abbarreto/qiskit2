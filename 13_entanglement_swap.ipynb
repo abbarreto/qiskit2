{
 "cells": [
  {
   "cell_type": "markdown",
   "id": "4e6f3555",
   "metadata": {},
   "source": [
    "### Notas de aula de Computação Quântica <br> Autor: Jonas Maziero"
   ]
  },
  {
   "cell_type": "code",
   "execution_count": 1,
   "id": "74740e89",
   "metadata": {},
   "outputs": [],
   "source": [
    "%run init.ipynb"
   ]
  },
  {
   "cell_type": "markdown",
   "id": "41498cba",
   "metadata": {},
   "source": [
    "# Swap de emaranhamento para qudits\n",
    "\n"
   ]
  },
  {
   "cell_type": "code",
   "execution_count": null,
   "id": "1f7d9a66",
   "metadata": {},
   "outputs": [],
   "source": []
  },
  {
   "cell_type": "code",
   "execution_count": null,
   "id": "ffa40326",
   "metadata": {},
   "outputs": [],
   "source": []
  },
  {
   "cell_type": "code",
   "execution_count": null,
   "id": "8fce8e47",
   "metadata": {},
   "outputs": [],
   "source": []
  },
  {
   "cell_type": "code",
   "execution_count": null,
   "id": "b25c91fc",
   "metadata": {},
   "outputs": [],
   "source": []
  },
  {
   "cell_type": "code",
   "execution_count": null,
   "id": "dfefab9d",
   "metadata": {},
   "outputs": [],
   "source": []
  },
  {
   "cell_type": "markdown",
   "id": "48effaa1",
   "metadata": {},
   "source": [
    "## Efeito da coerência local e da entropia do estado global\n",
    "\n",
    "Em https://github.com/jonasmaziero/qiskit/blob/main/24_entanglement_swapping.ipynb e https://arxiv.org/abs/2203.01281 estudamos o efeito que preditibilidade local não nula dos estados parcialmente emaranhados iniciais tem sobre o protocolo de swap de emaranhamento. Vamos continuar explorando esse tema aqui.\n"
   ]
  },
  {
   "cell_type": "code",
   "execution_count": null,
   "id": "69c66a0d",
   "metadata": {},
   "outputs": [],
   "source": []
  }
 ],
 "metadata": {
  "kernelspec": {
   "display_name": "Python 3 (ipykernel)",
   "language": "python",
   "name": "python3"
  },
  "language_info": {
   "codemirror_mode": {
    "name": "ipython",
    "version": 3
   },
   "file_extension": ".py",
   "mimetype": "text/x-python",
   "name": "python",
   "nbconvert_exporter": "python",
   "pygments_lexer": "ipython3",
   "version": "3.8.11"
  }
 },
 "nbformat": 4,
 "nbformat_minor": 5
}
