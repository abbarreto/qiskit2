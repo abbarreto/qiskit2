{
 "cells": [
  {
   "cell_type": "markdown",
   "id": "7a983940",
   "metadata": {},
   "source": [
    "# Canais quânticos para qudits\n",
    "\n",
    "Uma dinâmica escrita como uma representação da soma de operadores de Kraus,\n",
    "$$\\Lambda(\\rho) = \\sum_{j}K_{j}\\rho K_{j}^{\\dagger},$$\n",
    "com os operadores de Kraus $K_{j}$ satisfazendo a restrição\n",
    "$$\\sum_{j}K_{j}^{\\dagger}K_{j}=\\mathbb{I},$$\n",
    "é uma operação completamente positiva e que preserva o traço."
   ]
  },
  {
   "cell_type": "markdown",
   "id": "5b0db5a3",
   "metadata": {},
   "source": [
    "A operação quântica acima, aplicada a um sistema $A$, pode ser obtida a partir da isometria\n",
    "$$|\\Psi\\rangle_{AB} = V_{AB}\\big(|\\psi\\rangle_{A}\\otimes|0\\rangle_{B}\\big) = \\sum_{j}\\big(K_{j}|\\psi\\rangle_{A}\\big)\\otimes|j\\rangle_{B},$$\n",
    "ou seja\n",
    "$$Tr_{B}\\big(|\\Psi\\rangle_{AB}\\langle\\Psi|\\big) = \\Lambda(\\psi).$$\n",
    "\n",
    "Assim como fizemos para medidas gerais, podemos implementar operações quânticas usando protocolos de preparação de estados. Uma vez que conhecemos os operadores de Kraus $K_{j}$, podemos calcular o estado $|\\Psi\\rangle_{AB}$. Uma vez preparado este estado, via algoritmo de preparação de estados, traçamos (ignoramos) o sistema $B$, obtendo assim o estado evoluído do sistema $A$, que será $\\Lambda(\\rho)$. \n",
    "\n",
    "OBS. Uma operação quântica geral, ou mapa completamente positivo que preserva o traço, é equivalente a um medida quântica geral não seletiva.\n",
    "\n",
    "OBS. Podemos, de uma medida seletiva no sistema $B$ e pós-seleção, estudar a ação de cada um dos operadores de Kraus $K_j$."
   ]
  },
  {
   "cell_type": "markdown",
   "id": "edf3084c",
   "metadata": {},
   "source": [
    "## Estado inicial misto\n",
    "\n",
    "Vamos considerar que o sistema $A$ inicia no estado misto\n",
    "$$\\rho_A = \\sum_{l,m=0}^{d-1}\\rho_{l,m}^{A}|l\\rangle_{A}\\langle m|.$$\n",
    "O mapa acima vale para qualquer estado $|\\psi\\rangle$, inclusive aqueles da base computacional, i.e.,\n",
    "$$V_{AB}\\big(|l\\rangle_{A}\\otimes|0\\rangle_{B}\\big) = \\sum_{j}\\big(K_{j}|l\\rangle_{A}\\big)\\otimes|j\\rangle_{B}.$$\n",
    "Com isso, podemos escrever o estado global evoluído como segue\n",
    "\\begin{align}\n",
    "\\tilde{\\rho}_{AB} & = V_{AB}\\big(\\rho_{A}\\otimes|0\\rangle_{B}\\langle 0|\\big)V_{AB}^{\\dagger} \\\\\n",
    "& = V_{AB}\\Big(\\sum_{l,m=0}^{d-1}\\rho_{l,m}^{A}|l\\rangle_{A}\\langle m|\\otimes|0\\rangle_{B}\\langle 0|\\Big)V_{AB}^{\\dagger} \\\\\n",
    "& = \\sum_{l,m=0}^{d-1}\\rho_{l,m}^{A}V_{AB}\\big(|l\\rangle_{A}\\otimes|0\\rangle_{B}\\big)\\big(\\langle m|_{A}\\otimes\\langle 0|_{B}\\big)V_{AB}^{\\dagger} \\\\\n",
    "& = \\sum_{l,m=0}^{d-1}\\rho_{l,m}^{A}\\Big(\\sum_{j}\\big(K_{j}|l\\rangle_{A}\\big)\\otimes|j\\rangle_{B}\\Big)\\Big(\\sum_{k}\\big(\\langle m|_{A}K_{k}^{\\dagger}\\big)\\otimes\\langle k|_{B}\\Big) \\\\\n",
    "& = \\sum_{j,k}K_{j}\\Big(\\sum_{l,m=0}^{d-1}\\rho_{l,m}^{A}|l\\rangle_{A}\\langle m|_{A}\\Big)K_{k}^{\\dagger}\\otimes|j\\rangle_{B}\\langle k| \\\\\n",
    "& = \\sum_{j,k}K_{j}\\rho_{A}K_{k}^{\\dagger}\\otimes|j\\rangle_{B}\\langle k|.\n",
    "\\end{align}"
   ]
  },
  {
   "cell_type": "markdown",
   "id": "5357050a",
   "metadata": {},
   "source": [
    "Assim\n",
    "$$Tr_{B}(\\tilde{\\rho}_{AB}) = \\sum_{j}K_{j}\\rho_{A}K_{j}^{\\dagger}=\\Lambda(\\rho_A).$$\n",
    "\n",
    "No entanto, isso não resolve a questão de como implementar esse mapa para estados iniciais mistos, uma vez que teríamos que preparar $\\tilde{\\rho}_{AB}$. Vejamos duas formas de fazer isso. Conhecendo $\\rho_{A}$ e $\\{K_{j}\\}$ podemos calcular \n",
    "$$\\tilde{\\rho}_{AB} = \\sum_{l,m=0}^{d-1}\\rho_{l,m}^{A}\\Big(\\sum_{j}\\big(K_{j}|l\\rangle_{A}\\big)\\otimes|j\\rangle_{B}\\Big)\\Big(\\sum_{k}\\big(\\langle m|_{A}K_{k}^{\\dagger}\\big)\\otimes\\langle k|_{B}\\Big).$$\n",
    "Ou seja, teremos que calcular $\\sum_{j}\\big(K_{j}|l\\rangle_{A}\\big)\\otimes|j\\rangle_{B}$ para todos os estados $|l\\rangle_{A}$ da base computacional. \n",
    "Tendo calculado e __diagonalizado__ essa matriz densidade, \n",
    "$$\\tilde{\\rho}_{AB} = \\sum_{j=0}^{d_{AB}-1}\\lambda_{j}|\\lambda_{j}\\rangle_{AB}\\langle \\lambda_{j}|,$$ podemos obter o estado evoluído sob a operação quântica $\\Lambda$ preparando o estado misto $\\tilde{\\rho}_{AB}$ em um computador quântico através de uma purificação\n",
    "$$|\\Phi\\rangle_{ABC} = \\sum_{j=0}^{d_{AB}-1}\\sqrt{\\lambda_{j}}|\\lambda_{j}\\rangle_{AB}\\otimes|j\\rangle_{C}.$$\n",
    "Tomando o traço sobre $B$ e $C$ obtemos o estado esperado:\n",
    "$$\\Lambda(\\rho_{A}) = Tr_{BC}\\big(|\\Phi\\rangle_{ABC}\\langle\\Phi|\\big).$$"
   ]
  },
  {
   "cell_type": "markdown",
   "id": "5dce5325",
   "metadata": {},
   "source": [
    "Uma __2ª forma__ de fazer isto para estados mistos é a seguinte. Começamos notando que qualquer estado misto pode ser diagonalizado:\n",
    "$$\\rho_{A} = \\sum_{k=0}^{d_{A}-1}r_{k}|r_{k}\\rangle_{A}\\langle r_{k}|.$$\n",
    "Os operadores de Kraus são operadores linerares. Com isso vem que\n",
    "\\begin{align}\n",
    "\\Lambda(\\rho_{A}) & = \\sum_{j}K_{j}\\rho_{A}K_{j}^{\\dagger} \\\\\n",
    "& = \\sum_{j}K_{j}\\sum_{k=0}^{d_{A}-1}r_{k}|r_{k}\\rangle_{A}\\langle r_{k}|K_{j}^{\\dagger} \\\\\n",
    "& = \\sum_{k=0}^{d_{A}-1}r_{k}\\sum_{j}K_{j}|r_{k}\\rangle_{A}\\langle r_{k}|K_{j}^{\\dagger} \\\\\n",
    "& = \\sum_{k=0}^{d_{A}-1}r_{k}\\Lambda(|r_{k}\\rangle).\n",
    "\\end{align}"
   ]
  },
  {
   "cell_type": "markdown",
   "id": "c32297ec",
   "metadata": {},
   "source": [
    "Assim, podemos simular o canal quântico aplicado a um estado misto primeiramente obtendo a decomposição espectral de $\\rho_{A}$, depois preparando\n",
    "$$|\\Psi_{k}\\rangle_{AB} = \\sum_{j}\\big(K_{j}|r_{k}\\rangle\\big)\\otimes|j\\rangle_{B}$$\n",
    "para \n",
    "$$k=0,\\cdots,d_{A}-1$$\n",
    "e traçando o sistema $B$ para obter \n",
    "$$\\Lambda(|r_{k}\\rangle) = Tr_{B}\\big(|\\Psi_{k}\\rangle_{AB}\\langle\\Psi_{k}|\\big)$$\n",
    "e finalmente calculando a mistura estatísitca \n",
    "$$\\sum_{k}r_{k}\\Lambda(|r_{k}\\rangle)=\\Lambda(\\rho_A).$$"
   ]
  },
  {
   "cell_type": "markdown",
   "id": "370a609f",
   "metadata": {},
   "source": [
    "## Canal de Pauli para qubits\n",
    "\n",
    "Este canal é importante em criptografia e é definido como\n",
    "$$\\Lambda_{p}(\\rho) = \\sum_{j,k=0}^{1}p_{j,k}Z^{j}X^{k}\\rho X^{k}Z^{j},$$\n",
    "em que $X,Z$ são as matrizes de Pauli e $p_{j,k}$ é uma distribuição de probabilidades.\n",
    "Usando $ZX=-iY$ obtemos\n",
    "\\begin{align}\n",
    "\\Lambda_{p}(\\rho) & = p_{0,0}\\rho + p_{0,1}X\\rho X + p_{1,0}Z\\rho Z + p_{1,1}ZX\\rho XZ \\\\\n",
    "& = p_{0,0}\\rho + p_{0,1}X\\rho X + p_{1,0}Z\\rho Z + p_{1,1}(-i)Y\\rho iY \\\\\n",
    "& = p_{0,0}\\rho + p_{0,1}X\\rho X + p_{1,0}Z\\rho Z + p_{1,1}Y\\rho Y \\\\\n",
    "& =: p_{I}\\rho + p_{X}X\\rho X + p_{Z}Z\\rho Z + p_{Y}Y\\rho Y \\\\\n",
    "& =: K_{0}\\rho K_{0}^{\\dagger} + K_{1}\\rho K_{1}^{\\dagger} + K_{2}\\rho K_{2}^{\\dagger} + K_{3}\\rho K_{3}^{\\dagger},\n",
    "\\end{align}\n",
    "com\n",
    "$$K_{0}=\\sqrt{p_{I}}\\mathbb{I},\\  K_{1} = \\sqrt{p_{X}}X,\\ K_{2} = \\sqrt{p_{Z}}Z,\\ K_{3} = \\sqrt{p_{Y}}Y.$$"
   ]
  },
  {
   "cell_type": "code",
   "execution_count": 1,
   "id": "ab54c108",
   "metadata": {},
   "outputs": [],
   "source": [
    "%run init.ipynb"
   ]
  },
  {
   "cell_type": "code",
   "execution_count": 2,
   "id": "7d0443d7",
   "metadata": {},
   "outputs": [
    {
     "data": {
      "image/png": "[encoded data removed]",
      "text/latex": [
       "$\\displaystyle \\left[\\begin{matrix}0.5 r_{z} + 0.5 & 0.5 r_{x} - 0.5 i r_{y}\\\\0.5 r_{x} + 0.5 i r_{y} & 0.5 - 0.5 r_{z}\\end{matrix}\\right]$"
      ],
      "text/plain": [
       "⎡  0.5⋅r_z + 0.5     0.5⋅rₓ - 0.5⋅ⅈ⋅r_y⎤\n",
       "⎢                                      ⎥\n",
       "⎣0.5⋅rₓ + 0.5⋅ⅈ⋅r_y    0.5 - 0.5⋅r_z   ⎦"
      ]
     },
     "execution_count": 2,
     "metadata": {},
     "output_type": "execute_result"
    }
   ],
   "source": [
    "rx,ry,rz = symbols('r_x r_y r_z')\n",
    "rho1qb = (1/2)*(id(2) + rx*pauli(1) + ry*pauli(2) + rz*pauli(3))\n",
    "rho1qb"
   ]
  },
  {
   "cell_type": "code",
   "execution_count": 3,
   "id": "e685bf45",
   "metadata": {},
   "outputs": [],
   "source": [
    "pI,pX,pZ,pY = symbols('p_I p_X p_Z p_Y')\n",
    "K0 = sqrt(pI)*id(2); K1 = sqrt(pX)*pauli(1); K2 = sqrt(pZ)*pauli(3); K3 = sqrt(pY)*pauli(2)"
   ]
  },
  {
   "cell_type": "code",
   "execution_count": 5,
   "id": "8ef9a9e7",
   "metadata": {},
   "outputs": [
    {
     "data": {
      "image/png": "[encoded data removed]",
      "text/latex": [
       "$\\displaystyle \\left[\\begin{matrix}0.5 p_{I} \\left(r_{z} + 1\\right) - 0.5 p_{X} \\left(r_{z} - 1\\right) - 0.5 p_{Y} \\left(r_{z} - 1\\right) + 0.5 p_{Z} \\left(r_{z} + 1\\right) & 0.5 p_{I} \\left(r_{x} - i r_{y}\\right) + 0.5 p_{X} \\left(r_{x} + i r_{y}\\right) - 0.5 p_{Y} \\left(r_{x} + i r_{y}\\right) - 0.5 p_{Z} \\left(r_{x} - i r_{y}\\right)\\\\0.5 p_{I} \\left(r_{x} + i r_{y}\\right) + 0.5 p_{X} \\left(r_{x} - i r_{y}\\right) - 0.5 p_{Y} \\left(r_{x} - i r_{y}\\right) - 0.5 p_{Z} \\left(r_{x} + i r_{y}\\right) & - 0.5 p_{I} \\left(r_{z} - 1\\right) + 0.5 p_{X} \\left(r_{z} + 1\\right) + 0.5 p_{Y} \\left(r_{z} + 1\\right) - 0.5 p_{Z} \\left(r_{z} - 1\\right)\\end{matrix}\\right]$"
      ],
      "text/plain": [
       "⎡      0.5⋅p_I⋅(r_z + 1) - 0.5⋅p_X⋅(r_z - 1) - 0.5⋅p_Y⋅(r_z - 1) + 0.5⋅p_Z⋅(r_\n",
       "⎢                                                                             \n",
       "⎣0.5⋅p_I⋅(rₓ + ⅈ⋅r_y) + 0.5⋅p_X⋅(rₓ - ⅈ⋅r_y) - 0.5⋅p_Y⋅(rₓ - ⅈ⋅r_y) - 0.5⋅p_Z⋅\n",
       "\n",
       "z + 1)        0.5⋅p_I⋅(rₓ - ⅈ⋅r_y) + 0.5⋅p_X⋅(rₓ + ⅈ⋅r_y) - 0.5⋅p_Y⋅(rₓ + ⅈ⋅r_\n",
       "                                                                              \n",
       "(rₓ + ⅈ⋅r_y)       -0.5⋅p_I⋅(r_z - 1) + 0.5⋅p_X⋅(r_z + 1) + 0.5⋅p_Y⋅(r_z + 1) \n",
       "\n",
       "y) - 0.5⋅p_Z⋅(rₓ - ⅈ⋅r_y)⎤\n",
       "                         ⎥\n",
       "- 0.5⋅p_Z⋅(r_z - 1)      ⎦"
      ]
     },
     "execution_count": 5,
     "metadata": {},
     "output_type": "execute_result"
    }
   ],
   "source": [
    "rho_p = K0*rho1qb*K0 + K1*rho1qb*K1 + K2*rho1qb*K2 + K3*rho1qb*K3\n",
    "simplify(rho_p)"
   ]
  },
  {
   "cell_type": "markdown",
   "id": "9326c39c",
   "metadata": {},
   "source": [
    "Vemos assim que o vetor de Bloch evoluído no tempo para um qubit sob o canal de Pauli é (usamos também $\\sum_{j=0}^{3}p_{j}=1$)\n",
    "\\begin{align}\n",
    "& r_{x}^{p} = \\big(p_{I}+p_{X}-p_{Z}-p_{Y}\\big)r_{x}, \\\\\n",
    "& r_{y}^{p} = \\big(p_{I}-p_{X}-p_{Z}+p_{Y}\\big)r_{y}, \\\\\n",
    "& r_{z}^{p} = \\big(p_{I}-p_{X}+p_{Z}-p_{Y}\\big)r_{z}.\n",
    "\\end{align}"
   ]
  },
  {
   "cell_type": "markdown",
   "id": "eb7fb8df",
   "metadata": {},
   "source": [
    "### Implementação via preparação de estados\n",
    "\n",
    "Começamos com o cálculo de $|\\Psi\\rangle_{AB}$. Usamos \n",
    "$$|\\psi\\rangle = \\cos(\\theta/2)|0\\rangle + e^{i\\phi}\\sin(\\theta/2)|1\\rangle$$\n",
    "e $Y|0\\rangle=i|1\\rangle$ e $Y|1\\rangle=-i|0\\rangle$ para escrever\n",
    "\\begin{align}\n",
    "K_{0}|\\psi\\rangle & = \\sqrt{p_{I}}\\mathbb{I}|\\psi\\rangle = \\sqrt{p_{I}}\\big(\\cos(\\theta/2)|0\\rangle + e^{i\\phi}\\sin(\\theta/2)|1\\rangle\\big), \\\\ \n",
    "K_{1}|\\psi\\rangle & = \\sqrt{p_{X}}X|\\psi\\rangle = \\sqrt{p_{X}}\\big(\\cos(\\theta/2)|1\\rangle + e^{i\\phi}\\sin(\\theta/2)|0\\rangle\\big), \\\\\n",
    "K_{2}|\\psi\\rangle & = \\sqrt{p_{Z}}Z|\\psi\\rangle = \\sqrt{p_{Z}}\\big(\\cos(\\theta/2)|0\\rangle - e^{i\\phi}\\sin(\\theta/2)|1\\rangle\\big), \\\\\n",
    "K_{3}|\\psi\\rangle & = \\sqrt{p_{Y}}Y|\\psi\\rangle = i\\sqrt{p_{Y}}\\big(\\cos(\\theta/2)|1\\rangle - e^{i\\phi}\\sin(\\theta/2)|0\\rangle\\big).\n",
    "\\end{align}"
   ]
  },
  {
   "cell_type": "markdown",
   "id": "b52e364e",
   "metadata": {},
   "source": [
    "Teremos assim que\n",
    "\\begin{align}\n",
    "|\\Psi\\rangle_{AB} & = K_{0}|\\psi\\rangle_{A}\\otimes|0\\rangle_{B} + K_{1}|\\psi\\rangle_{A}\\otimes|1\\rangle_{B} + K_{2}|\\psi\\rangle_{A}\\otimes|2\\rangle_{B} + K_{3}|\\psi\\rangle_{A}\\otimes|3\\rangle_{B} \\\\\n",
    "& = \\sqrt{p_{I}}\\big(\\cos(\\theta/2)|0\\rangle_{A} + e^{i\\phi}\\sin(\\theta/2)|1\\rangle_{A}\\big)\\otimes|0\\rangle_{B} + \\sqrt{p_{X}}\\big(\\cos(\\theta/2)|1\\rangle_{A} + e^{i\\phi}\\sin(\\theta/2)|0\\rangle_{A}\\big)\\otimes|1\\rangle_{B} \\\\\n",
    "& + \\sqrt{p_{Z}}\\big(\\cos(\\theta/2)|0\\rangle_{A} - e^{i\\phi}\\sin(\\theta/2)|1\\rangle_{A}\\big)\\otimes|2\\rangle_{B} + i\\sqrt{p_{Y}}\\big(\\cos(\\theta/2)|1\\rangle_{A} - e^{i\\phi}\\sin(\\theta/2)|0\\rangle_{A}\\big)\\otimes|3\\rangle_{B} \\\\\n",
    "& = \\sqrt{p_{I}}\\cos(\\theta/2)|00\\rangle_{AB} + \\sqrt{p_{I}}e^{i\\phi}\\sin(\\theta/2)|10\\rangle_{AB} + \\sqrt{p_{X}}\\cos(\\theta/2)|11\\rangle_{AB} + \\sqrt{p_{X}}e^{i\\phi}\\sin(\\theta/2)|01\\rangle_{AB} \\\\\n",
    "& + \\sqrt{p_{Z}}\\cos(\\theta/2)|02\\rangle_{AB} - \\sqrt{p_{Z}}e^{i\\phi}\\sin(\\theta/2)|12\\rangle_{AB} + \\sqrt{p_{Y}}\\cos(\\theta/2)|13\\rangle_{AB} - \\sqrt{p_{Y}}e^{i\\phi}\\sin(\\theta/2)|03\\rangle_{AB} \\\\\n",
    "& \\doteq \\sqrt{p_{I}}\\cos(\\theta/2)|000\\rangle_{abc} + \\sqrt{p_{I}}e^{i\\phi}\\sin(\\theta/2)|100\\rangle_{abc} + \\sqrt{p_{X}}\\cos(\\theta/2)|101\\rangle_{abc} + \\sqrt{p_{X}}e^{i\\phi}\\sin(\\theta/2)|001\\rangle_{abc} \\\\\n",
    "& + \\sqrt{p_{Z}}\\cos(\\theta/2)|010\\rangle_{abc} - \\sqrt{p_{Z}}e^{i\\phi}\\sin(\\theta/2)|110\\rangle_{abc} + i\\sqrt{p_{Y}}\\cos(\\theta/2)|111\\rangle_{abc} - i\\sqrt{p_{Y}}e^{i\\phi}\\sin(\\theta/2)|011\\rangle_{abc},\n",
    "\\end{align}\n",
    "em que usamos o qubit $a$ para representar $A$ e os qubits $b$ e $c$ para representar $B$."
   ]
  },
  {
   "cell_type": "markdown",
   "id": "378b085b",
   "metadata": {},
   "source": [
    "### Casos particulares\n",
    "Denotemos\n",
    "$$\\Lambda_{p} = \\Lambda_{p}^{p_{I},p_{X},P_{Z},P_{Y}}.$$\n",
    "O canal de Pauli generaliza os canais bit flip, phase flip, bit-phase flip e depolarizing:\n",
    "\\begin{align}\n",
    "& \\Lambda_{bf}(\\rho) := p\\rho + (1-p)X\\rho X \\equiv \\Lambda_{p}^{p,1-p,0,0}, \\\\\n",
    "& \\Lambda_{pf}(\\rho) := p\\rho + (1-p)Z\\rho Z \\equiv \\Lambda_{p}^{p,0,1-p,0}, \\\\\n",
    "& \\Lambda_{bpf}(\\rho) := p\\rho + (1-p)Y\\rho Y \\equiv \\Lambda_{p}^{p,0,0,1-p}, \\\\\n",
    "& \\Lambda_{d}(\\rho) := p\\rho + (1-p)\\frac{\\mathbb{I}_{2}}{2} \\equiv \\Lambda_{p}^{(1+3p)/4,(1-p)/4,(1-p)/4,(1-p)/4},\n",
    "\\end{align}\n",
    "com $p\\in[0,1]$."
   ]
  },
  {
   "cell_type": "markdown",
   "id": "8cb3f52d",
   "metadata": {},
   "source": [
    "Vimos em nosso estudo da álgebra de qudits os __operadores de Heisenberg-Weyl__:\n",
    "\\begin{align}\n",
    "& X(j) = \\sum_{k=0}^{d-1}|j\\oplus k\\rangle\\langle k|, \\\\\n",
    "& Z(j) = \\sum_{k=0}^{d-1}e^{i2\\pi jk/d}|k\\rangle\\langle k|.\n",
    "\\end{align}\n",
    "Para $d=2$ temos\n",
    "\\begin{align}\n",
    "X(0) & = \\sum_{k=0}^{1}|0\\oplus k\\rangle k| = |0\\oplus 0\\rangle\\langle 0| + |0\\oplus 1\\rangle\\langle 1| = |0\\rangle\\langle 0| + |1\\rangle\\langle 1| = \\mathbb{I}, \\\\\n",
    "X(1) & = \\sum_{k=0}^{1}|1\\oplus k\\rangle k| = |1\\oplus 0\\rangle\\langle 0| + |1\\oplus 1\\rangle\\langle 1| = |1\\rangle\\langle 0| + |0\\rangle\\langle 1| = X, \\\\\n",
    "Z(0) & = \\sum_{k=0}^{1}e^{i2\\pi 0k/2}|k\\rangle\\langle k| = |0\\rangle\\langle 0| + |1\\rangle\\langle 1| = \\mathbb{I}, \\\\ \n",
    "Z(1) & = \\sum_{k=0}^{1}e^{i2\\pi k/2}|k\\rangle\\langle k| = |0\\rangle\\langle 0| + e^{i\\pi}|1\\rangle\\langle 1| = Z.\n",
    "\\end{align}"
   ]
  },
  {
   "cell_type": "markdown",
   "id": "ba638a86",
   "metadata": {},
   "source": [
    "Também verificamos a operação TWIRL:\n",
    "$$\\sum_{j,k=0}^{d-1}X(j)Z(k)\\rho Z(k)^{\\dagger}X(j)^{\\dagger} = d\\mathbb{I}_{d}.$$\n",
    "Para $d=2$ teremos\n",
    "\\begin{align}\n",
    "2\\mathbb{I}_{2} & = \\sum_{j,k=0}^{1}X(j)Z(k)\\rho Z(k)^{\\dagger}X(j)^{\\dagger} \\\\\n",
    "& = X(0)Z(0)\\rho Z(0)^{\\dagger}X(0)^{\\dagger} + X(0)Z(1)\\rho Z(1)^{\\dagger}X(0)^{\\dagger} \\\\\n",
    "& + X(1)Z(0)\\rho Z(0)^{\\dagger}X(1)^{\\dagger} + X(1)Z(1)\\rho Z(1)^{\\dagger}X(1)^{\\dagger} \\\\\n",
    "& = \\rho + Z\\rho Z + X\\rho X + XZ\\rho ZX \\\\\n",
    "& = \\rho + Z\\rho Z + X\\rho X + Y\\rho Y.\n",
    "\\end{align}\n",
    "Com isso, o canal depolarizing pode ser reescrito como\n",
    "\\begin{align}\n",
    "\\Lambda_{d}(\\rho) & = p\\rho + \\frac{1-p}{4}2\\mathbb{I}_{2} \\\\\n",
    "& = p\\rho + \\frac{1-p}{4}\\big(\\rho + Z\\rho Z + X\\rho X + Y\\rho Y\\big) \\\\\n",
    "& = \\frac{1+3p}{4}\\rho + \\frac{1-p}{4}\\big(X\\rho X +Z\\rho Z + Y\\rho Y\\big).\n",
    "\\end{align}"
   ]
  },
  {
   "cell_type": "markdown",
   "id": "6a9ac518",
   "metadata": {},
   "source": [
    "Com isso, o estado a ser preparado para simular o o canal bit flip,\n",
    "$$p_{I}=p,\\ p_{X}=1-p,\\ p_{Z}=p_{Y}=0,$$\n",
    "é\n",
    "\\begin{align}\n",
    "|\\Psi_{bf}\\rangle_{AB} & = \\sqrt{p}\\cos(\\theta/2)|000\\rangle_{abc} + \\sqrt{p}e^{i\\phi}\\sin(\\theta/2)|100\\rangle_{abc} + \\sqrt{1-p}\\cos(\\theta/2)|101\\rangle_{abc} + \\sqrt{1-p}e^{i\\phi}\\sin(\\theta/2)|001\\rangle_{abc} \\\\\n",
    "& + \\sqrt{0}\\cos(\\theta/2)|010\\rangle_{abc} - \\sqrt{0}e^{i\\phi}\\sin(\\theta/2)|110\\rangle_{abc} + \\sqrt{0}\\cos(\\theta/2)|111\\rangle_{abc} - \\sqrt{0}e^{i\\phi}\\sin(\\theta/2)|011\\rangle_{abc} \\\\\n",
    "& = \\big(\\sqrt{p}\\cos(\\theta/2)|00\\rangle_{ac} + \\sqrt{p}e^{i\\phi}\\sin(\\theta/2)|10\\rangle_{ac} + \\sqrt{1-p}\\cos(\\theta/2)|11\\rangle_{ac} + \\sqrt{1-p}e^{i\\phi}\\sin(\\theta/2)|01\\rangle_{ac}\\big)|0\\rangle_{b}.\n",
    "\\end{align}\n",
    "Ou seja, nesse caso particular precisamos somente um qubit auxiliar."
   ]
  },
  {
   "cell_type": "markdown",
   "id": "d871eaaa",
   "metadata": {},
   "source": [
    "O estado a ser preparado para simular o o canal phase flip,\n",
    "$$p_{I}=p,\\ p_{X}=0,\\ p_{Z}=1-p,\\ p_{Y}=0,$$\n",
    "é\n",
    "\\begin{align}\n",
    "|\\Psi_{pf}\\rangle_{AB} & = \\sqrt{p}\\cos(\\theta/2)|000\\rangle_{abc} + \\sqrt{p}e^{i\\phi}\\sin(\\theta/2)|100\\rangle_{abc} + \\sqrt{0}\\cos(\\theta/2)|101\\rangle_{abc} + \\sqrt{0}e^{i\\phi}\\sin(\\theta/2)|001\\rangle_{abc} \\\\\n",
    "& + \\sqrt{1-p}\\cos(\\theta/2)|010\\rangle_{abc} - \\sqrt{1-p}e^{i\\phi}\\sin(\\theta/2)|110\\rangle_{abc} + \\sqrt{0}\\cos(\\theta/2)|111\\rangle_{abc} - \\sqrt{0}e^{i\\phi}\\sin(\\theta/2)|011\\rangle_{abc} \\\\\n",
    " & = \\big(\\sqrt{p}\\cos(\\theta/2)|00\\rangle_{ab} + \\sqrt{p}e^{i\\phi}\\sin(\\theta/2)|10\\rangle_{ab} + \\sqrt{1-p}\\cos(\\theta/2)|01\\rangle_{ab} - \\sqrt{1-p}e^{i\\phi}\\sin(\\theta/2)|11\\rangle_{ab}\\big)|0\\rangle_{c}.\n",
    "\\end{align}\n",
    "Neste caso particular também precisamos somente um qubit auxiliar."
   ]
  },
  {
   "cell_type": "markdown",
   "id": "cac326eb",
   "metadata": {},
   "source": [
    "O estado a ser preparado para simular o o canal bit-phase flip,\n",
    "$$p_{I}=p,\\ p_{X}=0,\\ p_{Z}=0,\\ p_{Y}=1-p,$$\n",
    "é\n",
    "\\begin{align}\n",
    "|\\Psi_{bpf}\\rangle_{AB} & = \\sqrt{p}\\cos(\\theta/2)|000\\rangle_{abc} + \\sqrt{p}e^{i\\phi}\\sin(\\theta/2)|100\\rangle_{abc} + \\sqrt{0}\\cos(\\theta/2)|101\\rangle_{abc} + \\sqrt{0}e^{i\\phi}\\sin(\\theta/2)|001\\rangle_{abc} \\\\\n",
    "& + \\sqrt{0}\\cos(\\theta/2)|010\\rangle_{abc} - \\sqrt{0}e^{i\\phi}\\sin(\\theta/2)|110\\rangle_{abc} + i\\sqrt{1-p}\\cos(\\theta/2)|111\\rangle_{abc} - i\\sqrt{1-p}e^{i\\phi}\\sin(\\theta/2)|011\\rangle_{abc} \\\\\n",
    "& = \\sqrt{p}\\cos(\\theta/2)|000\\rangle_{abc} + \\sqrt{p}e^{i\\phi}\\sin(\\theta/2)|100\\rangle_{abc} + i\\sqrt{1-p}\\cos(\\theta/2)|111\\rangle_{abc} - i\\sqrt{1-p}e^{i\\phi}\\sin(\\theta/2)|011\\rangle_{abc} \\\\\n",
    "& = \\sqrt{p}\\cos(\\theta/2)|00\\rangle_{ad} + \\sqrt{p}e^{i\\phi}\\sin(\\theta/2)|10\\rangle_{ad} + i\\sqrt{1-p}\\cos(\\theta/2)|11\\rangle_{ad} - i\\sqrt{1-p}e^{i\\phi}\\sin(\\theta/2)|01\\rangle_{ad} \\\\\n",
    "\\end{align}\n",
    "Neste caso particular, pela maneira como definimos a isometria, precisamos de dois qubits auxiliares."
   ]
  },
  {
   "cell_type": "markdown",
   "id": "1ec2442f",
   "metadata": {},
   "source": [
    "O estado a ser preparado para simular o canal depolarizing,\n",
    "$$p_{I}=\\frac{1+3p}{4},\\ p_{X}=p_{Z}=p_{Y}=\\frac{1-p}{4},$$\n",
    "é\n",
    "\\begin{align}\n",
    "|\\Psi_{d}\\rangle_{AB} & = \\sqrt{\\frac{1+3p}{4}}\\cos(\\theta/2)|000\\rangle_{abc} + \\sqrt{\\frac{1+3p}{4}}e^{i\\phi}\\sin(\\theta/2)|100\\rangle_{abc} + \\sqrt{\\frac{1-p}{4}}\\cos(\\theta/2)|101\\rangle_{abc} + \\sqrt{\\frac{1-p}{4}}e^{i\\phi}\\sin(\\theta/2)|001\\rangle_{abc} \\\\\n",
    "& + \\sqrt{\\frac{1-p}{4}}\\cos(\\theta/2)|010\\rangle_{abc} - \\sqrt{\\frac{1-p}{4}}e^{i\\phi}\\sin(\\theta/2)|110\\rangle_{abc} + \\sqrt{\\frac{1-p}{4}}\\cos(\\theta/2)|111\\rangle_{abc} - \\sqrt{\\frac{1-p}{4}}e^{i\\phi}\\sin(\\theta/2)|011\\rangle_{abc}.\n",
    "\\end{align}\n",
    "Neste caso particular também precisamos de dois qubits auxiliares."
   ]
  },
  {
   "cell_type": "markdown",
   "id": "1f2522b6",
   "metadata": {},
   "source": [
    "## Canal de Heisenberg-Weyl\n",
    "Analogamente que fizemos para qubits, vamos definir o canal de Heisenberg-Weyl como a aplicação aleatória, segundo a distribuição de probabilidade $p_{j,k}$, dos operadores de Heisenberg-Weyl em um estado de um qudit:\n",
    "$$\\Lambda_{hw}(\\rho) = \\sum_{j,k=0}^{d-1}p_{j,k}X(j)Z(k)\\rho Z(k)^{\\dagger}X(j)^{\\dagger}.$$\n",
    "Nesse caso, os operadores de Kraus são \n",
    "$$K_{j,k} = \\sqrt{p_{j,k}}X(j)Z(k).$$\n",
    "\n",
    "O estado a ser preparado para simular essa operação é\n",
    "$$|\\Psi\\rangle_{AB} = \\sum_{j,k=0}^{d-1}\\big(K_{j,k}|\\psi\\rangle_{A}\\big)\\otimes|j\\rangle_{B}|k\\rangle_{C}.$$"
   ]
  },
  {
   "cell_type": "markdown",
   "id": "a50526b6",
   "metadata": {},
   "source": [
    "A ação desses operadores de Krays em um estado qualquer de um qudit,\n",
    "$$|\\psi\\rangle=\\sum_{l=0}^{d-1}\\psi_{l}|l\\rangle,$$\n",
    "é dada como segue\n",
    "\\begin{align}\n",
    "K_{j,k}|\\psi\\rangle & = \\sqrt{p_{j,k}}X(j)Z(k)|\\psi\\rangle \\\\\n",
    "& = \\sqrt{p_{j,k}}X(j)\\sum_{k'=0}^{d-1}e^{i2\\pi kk'/d}|k'\\rangle\\langle k'|\\sum_{l=0}^{d-1}\\psi_{l}|l\\rangle \\\\\n",
    "& = \\sqrt{p_{j,k}}X(j)\\sum_{k',l=0}^{d-1}\\psi_{l}e^{i2\\pi kk'/d}|k'\\rangle\\delta_{k',l} \\\\\n",
    "& = \\sqrt{p_{j,k}}\\sum_{l=0}^{d-1}\\psi_{l}e^{i2\\pi kl/d}X(j)|l\\rangle \\\\\n",
    "& = \\sqrt{p_{j,k}}\\sum_{l=0}^{d-1}\\psi_{l}e^{i2\\pi kl/d}\\sum_{j'=0}^{d-1}|j\\oplus j'\\rangle\\langle j'|l\\rangle \\\\\n",
    "& = \\sqrt{p_{j,k}}\\sum_{l=0}^{d-1}\\psi_{l}e^{i2\\pi kl/d}|j\\oplus l\\rangle.\n",
    "\\end{align}"
   ]
  },
  {
   "cell_type": "markdown",
   "id": "e894a883",
   "metadata": {},
   "source": [
    "Assim o estado a ser preparado fica escrito como \n",
    "$$|\\Psi\\rangle_{AB} = \\sum_{j,k,l=0}^{d-1} \\sqrt{p_{j,k}}\\psi_{l}e^{i2\\pi kl/d}|j\\oplus l\\rangle_{A}|j\\rangle_{B}|k\\rangle_{C}.$$\n",
    "Para 1 qutrit este estado tem 27 termos. Vamos olhar pra casos particulares. Podemos \n",
    "$$\\psi_{l}=1$$\n",
    "para $l=0$, $l=1$ ou $l=2$. Com isso não temos mais soma em $l$ e o estado a ser preparado fica escrito como\n",
    "$$|\\Psi\\rangle_{AB} = \\sum_{j,k=0}^{d-1} \\sqrt{p_{j,k}}e^{i2\\pi kl/d}|j\\oplus l\\rangle_{A}|j\\rangle_{B}|k\\rangle_{C}.$$"
   ]
  },
  {
   "cell_type": "markdown",
   "id": "d98bec12",
   "metadata": {},
   "source": [
    "Este estado tem 9 termos:\n",
    "\\begin{align}\n",
    "|\\Psi\\rangle_{AB} & = \\sqrt{p_{0,0}}|l\\rangle_{A}|0\\rangle_{B}|0\\rangle_{C} + \\sqrt{p_{0,1}}e^{i2\\pi l/d}|l\\rangle_{A}|0\\rangle_{B}|1\\rangle_{C} + \\sqrt{p_{0,2}}e^{i4\\pi l/d}|l\\rangle_{A}|0\\rangle_{B}|2\\rangle_{C} \\\\\n",
    "& + \\sqrt{p_{1,0}}|1\\oplus l\\rangle_{A}|1\\rangle_{B}|0\\rangle_{C} + \\sqrt{p_{1,1}}e^{i2\\pi l/d}|1\\oplus l\\rangle_{A}|1\\rangle_{B}|1\\rangle_{C} + \\sqrt{p_{1,2}}e^{i4\\pi l/d}|1\\oplus l\\rangle_{A}|1\\rangle_{B}|2\\rangle_{C} \\\\\n",
    "& + \\sqrt{p_{2,0}}|2\\oplus l\\rangle_{A}|2\\rangle_{B}|0\\rangle_{C} + \\sqrt{p_{2,1}}e^{i2\\pi l/d}|2\\oplus l\\rangle_{A}|2\\rangle_{B}|1\\rangle_{C} + \\sqrt{p_{2,2}}e^{i4\\pi l/d}|2\\oplus l\\rangle_{A}|2\\rangle_{B}|2\\rangle_{C}.\n",
    "\\end{align}"
   ]
  },
  {
   "cell_type": "markdown",
   "id": "3204821d",
   "metadata": {},
   "source": [
    "Se usamos uma distribuição de probabilidade uniforme,\n",
    "$$p_{j,k}=\\frac{1}{d^{2}}\\ \\forall\\ j,k,$$\n",
    "obtemos a operação TWIRL\n",
    "$$\\Lambda_{t}(\\rho) = \\frac{1}{d^{2}}\\sum_{j,k=0}^{d-1}Z(j)X(k)\\rho X(k)^{\\dagger}Z(j)^{\\dagger} = \\frac{\\mathbb{I}_{d}}{d}.$$\n",
    "Neste caso os operadores de Kraus são dados por\n",
    "$$K_{j,k} = d^{-1}X(j)Z(k).$$"
   ]
  },
  {
   "cell_type": "markdown",
   "id": "0d221e16",
   "metadata": {},
   "source": [
    "## Qudit dephasing \n",
    "\n",
    "Uma forma de apagar por completo a coerência de um estado em relação à base computacional é fazendo uma medida não seletiva nessa base\n",
    "\\begin{align}\n",
    "\\Lambda_{d}^{\\max}(\\rho) = \\sum_{j=0}^{d-1}|j\\rangle\\langle j|\\rho |j\\rangle\\langle j| = \\sum_{j=0}^{d-1}\\rho_{j,j}|j\\rangle\\langle j|,\n",
    "\\end{align}\n",
    "em que usamos \n",
    "$$\\rho_{j,j}=\\langle j|\\rho |j\\rangle.$$\n",
    "Podemos chamar esse canal de __canal de dephasing completo__.\n",
    "\n",
    "Note que neste caso os operadores de Kraus são\n",
    "$$K_{j} = |j\\rangle\\langle j|.$$\n",
    "Para a simulação, termos que preparar o estado\n",
    "\\begin{align}\n",
    "|\\Psi\\rangle_{AB} & = \\sum_{j=0}^{d-1}\\big(K_{j}|\\psi\\rangle_{A}\\big)\\otimes|j\\rangle_{B} \\\\\n",
    "& = \\sum_{j=0}^{d-1}\\big(|j\\rangle\\langle j|\\psi\\rangle_{A}\\big)\\otimes|j\\rangle_{B} \\\\\n",
    "& = \\sum_{j=0}^{d-1}\\psi_{j}|j\\rangle_{A}\\otimes|j\\rangle_{B},\n",
    "\\end{align}\n",
    "com \n",
    "$$\\psi_{j} := _{A}\\langle j|\\psi\\rangle_{B}.$$"
   ]
  },
  {
   "cell_type": "markdown",
   "id": "0f6c499a",
   "metadata": {},
   "source": [
    "Podemos obter este canal como um caso particular do canal de Heisenberg-Weyl (CHW). Consideremos inicialmente um canal similar ao de CHW, mas onde somente os operadores de deslocamento de fase são aplicados, i.e., consideremos o __canal de dephasing the Heisenberg-Weyl__\n",
    "\\begin{align}\n",
    "\\Lambda_{d}(\\rho) & = \\sum_{j=0}^{d-1}p_{j}Z(j)\\rho Z(j)^{\\dagger} \\\\\n",
    "& = \\sum_{j=0}^{d-1}\\sum_{k,l=0}^{d-1}\\rho_{k,l}p_{j}Z(j)|k\\rangle\\langle l|Z(j)^{\\dagger} \\\\\n",
    "& = \\sum_{j=0}^{d-1}\\sum_{k,l=0}^{d-1}\\rho_{k,l}p_{j}e^{i2\\pi jk/d}|k\\rangle\\langle l|e^{-i2\\pi jl/d} \\\\\n",
    "& = \\sum_{k,l=0}^{d-1}\\rho_{k,l}\\Big(\\sum_{j=0}^{d-1}p_{j}e^{i2\\pi j(k-l)/d}\\Big)|k\\rangle\\langle l| \\\\\n",
    "& = \\sum_{k,l=0}^{d-1}\\Lambda_{d}(\\rho)_{k,l}|k\\rangle\\langle l|.\n",
    "\\end{align}\n",
    "Neste caso os operadores de Kraus seriam\n",
    "$$K_{j} = \\sqrt{p_{j}}Z(j).$$"
   ]
  },
  {
   "cell_type": "markdown",
   "id": "89d4661e",
   "metadata": {},
   "source": [
    "Vale notar que os elemtos diagonais da matriz evoluída não mudam. Ou seja, para \n",
    "$$k=l$$\n",
    "teremos\n",
    "\\begin{align}\n",
    "\\big(\\Lambda_{d}(\\rho)\\big)_{k,k} & = \\rho_{k,k}\\Big(\\sum_{j=0}^{d-1}p_{j}e^{i2\\pi j(k-k)/d}\\Big) \\\\\n",
    "& = \\rho_{k,k}.\n",
    "\\end{align}\n",
    "Esse é um requisito básico para uma operação de dephasing: não afetar as populaçõese só modificar as coerências.\n",
    "\n",
    "As coerências da matriz densidade serão afetadas. Para \n",
    "$$k\\ne l$$\n",
    "temos que\n",
    "$$\\big(\\Lambda_{d}(\\rho)\\big)_{k,l} = \\rho_{k,l}\\Big(\\sum_{j=0}^{d-1}p_{j}e^{i2\\pi j(k-l)/d}\\Big).$$\n",
    "Ou seja, as coerências são multiplicadas por um fator $\\sum_{j=0}^{d-1}p_{j}e^{i2\\pi j(k-l)/d}$ que depende das probabilidades dos operadores de HW atuarem no sistema."
   ]
  },
  {
   "cell_type": "markdown",
   "id": "54d93bd1",
   "metadata": {},
   "source": [
    "Vimos, na aula sobre qudits, que\n",
    "$$\\sum_{k=0}^{d-1}e^{2\\pi ik(l-m)/d} = d\\delta_{l,m}.$$\n",
    "Então, se na expressão acima para $\\Lambda_{d}(\\rho)$ fazemos todas as probabilidades $p_{j}$ iguais, i.e., se fazemos\n",
    "$$p_{j} = \\frac{1}{d},$$\n",
    "obteremos\n",
    "\\begin{align}\n",
    "\\Lambda_{d}^{p_{j}=1/d}(\\rho) & = \\sum_{k,l=0}^{d-1}\\rho_{k,l}\\frac{1}{d}\\Big(\\sum_{j=0}^{d-1}e^{i2\\pi j(k-l)/d}\\Big)|k\\rangle\\langle l| \\\\\n",
    " & = \\sum_{k,l=0}^{d-1}\\rho_{k,l}\\frac{1}{d}d\\delta_{k,l}|k\\rangle\\langle l| \\\\\n",
    " & = \\sum_{k=0}^{d-1}\\rho_{k,k}|k\\rangle\\langle k| \\\\\n",
    " & = \\Lambda_{d}^{\\max}(\\rho).\n",
    "\\end{align}"
   ]
  },
  {
   "cell_type": "markdown",
   "id": "dfe5782e",
   "metadata": {},
   "source": [
    "#### Casos particulares\n",
    "\n",
    "Para \n",
    "$$d=2$$\n",
    "temos\n",
    "\\begin{align}\n",
    "\\Lambda_{d}(\\rho) & = p_{0}Z(0)\\rho Z(0)^{\\dagger} + p_{1}Z(1)\\rho Z(1)^{\\dagger} \\\\\n",
    "& = p_{0}\\rho + (1-p_{0})Z\\rho Z \\\\\n",
    "& = \\Lambda_{pf}(\\rho),\n",
    "\\end{align}\n",
    "que é igual ao canal de phase flip."
   ]
  },
  {
   "cell_type": "markdown",
   "id": "5d3eb92f",
   "metadata": {},
   "source": [
    "Para \n",
    "$$d = 3$$\n",
    "teremos\n",
    "\\begin{align}\n",
    "\\Lambda_{d}(\\rho) & = p_{0}Z(0)\\rho Z(0)^{\\dagger} + p_{1}Z(1)\\rho Z(1)^{\\dagger} +  p_{2}Z(2)\\rho Z(2)^{\\dagger}.\n",
    "\\end{align}\n",
    "Neste caso, vamos tentar ganhar insight olhando para os elementos de matriz. Para $k=l$ temos\n",
    "$$\\big(\\Lambda_{d}(\\rho)\\big)_{k,l}=\\rho_{k,k}.$$\n",
    "Para $k\\ne l$ e $k,l=0,1,2$ teremos\n",
    "\\begin{align}\n",
    "\\big(\\Lambda_{d}(\\rho)\\big)_{k,l} & = \\rho_{k,l}\\Big(\\sum_{j=0}^{2}p_{j}e^{i2\\pi j(k-l)/d}\\Big) \\\\\n",
    " & = \\rho_{k,l}\\big(p_{0} + p_{1}e^{i2\\pi(k-l)/3} + p_{2}e^{i4\\pi(k-l)/3}\\big).\n",
    "\\end{align}\n",
    "Nos falta entender o significado físico destas expressões matemáticas. Vale observar já que como \n",
    "$$Z(0)=\\mathbb{I},$$\n",
    "teremos a correspondência\n",
    "$$p_{0}=1\\Leftrightarrow t=0 \\text{ e } p_{0}=0\\Leftrightarrow t=\\infty.$$"
   ]
  },
  {
   "cell_type": "markdown",
   "id": "33e0eece",
   "metadata": {},
   "source": [
    "Explicitamente, os elementos de matriz ficam escritos como segue\n",
    "\\begin{align}\n",
    "\\big(\\Lambda_{d}(\\rho)\\big)_{0,1} & = \\rho_{0,1}\\big(p_{0} + p_{1}e^{i2\\pi(0-1)/3} + p_{2}e^{i4\\pi(0-1)/3}\\big) \\\\\n",
    " & = \\rho_{0,1}\\big(p_{0} + p_{1}e^{-i2\\pi/3} + p_{2}e^{-i4\\pi/3}\\big) \\\\\n",
    " & = \\rho_{0,1}\\big(p_{0} - p_{1}(1+i\\sqrt{3})/2 - p_{2}(1-i\\sqrt{3})/2\\big), \\\\\n",
    "\\big(\\Lambda_{d}(\\rho)\\big)_{0,2} & = \\rho_{0,2}\\big(p_{0} + p_{1}e^{i2\\pi(0-2)/3} + p_{2}e^{i4\\pi(0-2)/3}\\big) \\\\\n",
    "& = \\rho_{0,2}\\big(p_{0} + p_{1}e^{-i4\\pi/3} + p_{2}e^{-i8\\pi/3}\\big) \\\\\n",
    "& = \\rho_{0,2}\\big(p_{0} + p_{1}e^{-i4\\pi/3} + p_{2}e^{-i2\\pi/3}\\big) \\\\\n",
    "& = \\rho_{0,2}\\big(p_{0} - p_{1}(1-i\\sqrt{3})/2 - p_{2}(1+i\\sqrt{3})/2\\big), \\\\\n",
    "\\big(\\Lambda_{d}(\\rho)\\big)_{1,2} & = \\rho_{1,2}\\big(p_{0} + p_{1}e^{i2\\pi(1-2)/3} + p_{2}e^{i4\\pi(1-2)/3}\\big) \\\\\n",
    "& = \\rho_{1,2}\\big(p_{0} + p_{1}e^{-i2\\pi/3} + p_{2}e^{-i4\\pi/3}\\big) \\\\\n",
    "& = \\rho_{1,2}\\big(p_{0} - p_{1}(1+i\\sqrt{3})/2 - p_{2}(1-i\\sqrt{3})/2\\big), \\\\\n",
    "\\end{align}"
   ]
  },
  {
   "cell_type": "code",
   "execution_count": 7,
   "id": "bbcc0378",
   "metadata": {},
   "outputs": [
    {
     "data": {
      "image/png": "[encoded data removed]",
      "text/latex": [
       "$\\displaystyle \\left( - \\frac{1}{2}, \\  - \\frac{\\sqrt{3}}{2}, \\  - \\frac{1}{2}, \\  \\frac{\\sqrt{3}}{2}, \\  - \\frac{1}{2}, \\  - \\frac{\\sqrt{3}}{2}\\right)$"
      ],
      "text/plain": [
       "⎛      -√3         √3        -√3 ⎞\n",
       "⎜-1/2, ────, -1/2, ──, -1/2, ────⎟\n",
       "⎝       2          2          2  ⎠"
      ]
     },
     "execution_count": 7,
     "metadata": {},
     "output_type": "execute_result"
    }
   ],
   "source": [
    "cos(-2*pi/3), sin(-2*pi/3), cos(-4*pi/3), sin(-4*pi/3), cos(-8*pi/3), sin(-8*pi/3)"
   ]
  },
  {
   "cell_type": "markdown",
   "id": "b35eec08",
   "metadata": {},
   "source": [
    "Para uma matriz densidade de um qutrit,\n",
    "$$\\rho \\doteq \\begin{bmatrix}\\rho_{0,0}&\\rho_{0,1}&\\rho_{0,2} \\\\ \\rho_{1,0}&\\rho_{1,1}&\\rho_{1,2} \\\\ \\rho_{2,0}&\\rho_{2,1}&\\rho_{2,2}\\end{bmatrix},$$\n",
    "a coerência norma $l_{1}$ é dada por\n",
    "\\begin{align}\n",
    "C_{l_{1}}(\\rho) & = \\sum_{k\\ne l}|\\rho_{k,l}| = 2\\big(|\\rho_{0,1}|+|\\rho_{0,2}|+|\\rho_{1,2}|\\big).\n",
    "\\end{align}"
   ]
  },
  {
   "cell_type": "markdown",
   "id": "1228bd6f",
   "metadata": {},
   "source": [
    "Para este estado evoluído sob dephasing de HW teremos\n",
    "\\begin{align}\n",
    "C_{l_{1}}(\\Lambda_{d}(\\rho)) & = \\sum_{k\\ne l}\\big|\\Lambda_{d}(\\rho)_{k,l}\\big| \\\\\n",
    "& = 2\\big(\\big|\\Lambda_{d}(\\rho)_{0,1}\\big|+\\big|\\Lambda_{d}(\\rho)_{0,2}\\big|+\\big|\\Lambda_{d}(\\rho)_{1,2}\\big|\\big).\n",
    "\\end{align}\n",
    "Essa conta é longa, então vamos olhar termo a termo\n",
    "\\begin{align}\n",
    "\\big|\\Lambda_{d}(\\rho)_{0,1}\\big| & = |\\rho_{0,1}|\\big(p_{0} + p_{1}e^{-i2\\pi/3} + p_{2}e^{-i4\\pi/3}\\big)\\big| \\\\\n",
    "& = |\\rho_{0,1}|\\big(p_{0} + p_{1}e^{-i2\\pi/3} + p_{2}e^{-i4\\pi/3}\\big)\\big(p_{0} + p_{1}e^{i2\\pi/3} + p_{2}e^{i4\\pi/3}\\big) \\\\\n",
    "& = |\\rho_{0,1}|\\big(p_{0}^{2} + p_{1}^{2} + p_{2}^{2} + p_{0}p_{1}\\big(e^{i2\\pi/3}+e^{-i2\\pi/3}\\big) + p_{0}p_{2}\\big(e^{i4\\pi/3}+e^{-i4\\pi/3}\\big) + p_{1}p_{2}\\big(e^{i2\\pi/3}+e^{-i2\\pi/3}\\big)\\big) \\\\\n",
    "& = |\\rho_{0,1}|\\big(p_{0}^{2} + p_{1}^{2} + p_{2}^{2} + 2p_{0}p_{1}\\cos(2\\pi/3) + 2p_{0}p_{2}\\cos(4\\pi/3) + 2p_{1}p_{2}\\cos(2\\pi/3)\\big) \\\\\n",
    "& = |\\rho_{0,1}|\\big((2p_{0}^{2} + 2p_{1}^{2} + 2p_{2}^{2})/2 + 2p_{0}p_{1}(-1/2) + 2p_{0}p_{2}(-1/2) + 2p_{1}p_{2}(-1/2)\\big) \\\\\n",
    "& = \\frac{1}{2}|\\rho_{0,1}|\\big((p_{0}-p_{1})^{2}+(p_{0}-p_{2})^{2}+(p_{1}-p_{2})^{2}\\big)\n",
    "\\end{align}"
   ]
  },
  {
   "cell_type": "markdown",
   "id": "307818ac",
   "metadata": {},
   "source": [
    "Pode-se verificar (__exercício__) também que\n",
    "\\begin{align}\n",
    "& \\big|\\Lambda_{d}(\\rho)_{0,2}\\big| = \\frac{1}{2}|\\rho_{0,2}|\\big((p_{0}-p_{1})^{2}+(p_{0}-p_{2})^{2}+(p_{1}-p_{2})^{2}\\big), \\\\\n",
    "& \\big|\\Lambda_{d}(\\rho)_{1,2}\\big| = \\frac{1}{2}|\\rho_{1,2}|\\big((p_{0}-p_{1})^{2}+(p_{0}-p_{2})^{2}+(p_{1}-p_{2})^{2}\\big).\n",
    "\\end{align}\n",
    "Com isso, podemos escrever a coerência quântica como\n",
    "\\begin{align}\n",
    "C_{l_{1}}(\\Lambda_{d}(\\rho)) & = 2\\big(|\\rho_{0,1}|+|\\rho_{0,2}|+|\\rho_{1,2}|\\big)\\big((p_{0}-p_{1})^{2}+(p_{0}-p_{2})^{2}+(p_{1}-p_{2})^{2}\\big)/2 \\\\\n",
    "& = C_{l_{1}}(\\rho)\\big((p_{0}-p_{1})^{2}+(p_{0}-p_{2})^{2}+(p_{1}-p_{2})^{2}\\big)/2.\n",
    "\\end{align}\n",
    "\n",
    "Olhando para esta expressão, vemos que se as probabilidades são iguais, i.e., \n",
    "$$p_{0}=p_1=p_2=1/3\\ \\therefore\\ C_{l_{1}}(\\Lambda_{d}(\\rho))=0,$$\n",
    "como esperado. No entanto, se $p_0=1$ e $p_1=p_2=0$, teremos $C_{l_{1}}(\\Lambda_{d}(\\rho))=C_{l_{1}}(\\rho)$, também é esperado pois $Z(0)=\\mathbb{I}$. Na verdade, se só um dos operadores atua, ou seja, se só um dos estados base recebe uma mudança de fase, então a coerência não muda:\n",
    "\\begin{align}\n",
    "& p_0=1,\\ p_1=p_2=0\\ \\therefore\\ C_{l_{1}}(\\Lambda_{d}(\\rho))=C_{l_{1}}(\\rho), \\\\\n",
    "& p_1=1,\\ p_0=p_2=0\\ \\therefore\\ C_{l_{1}}(\\Lambda_{d}(\\rho))=C_{l_{1}}(\\rho), \\\\\n",
    "& p_2=1,\\ p_0=p_1=0\\ \\therefore\\ C_{l_{1}}(\\Lambda_{d}(\\rho))=C_{l_{1}}(\\rho).\n",
    "\\end{align}"
   ]
  },
  {
   "cell_type": "markdown",
   "id": "1a96eba7",
   "metadata": {},
   "source": [
    "## Qudit bit flip\n",
    "\n",
    "De forma análoga ao que fizemos acima, podemos definir o canal de bit-flip de Heisenberg-Weyl como\n",
    "$$\\Lambda_{bf}(\\rho) = \\sum_{j=0}^{d-1}p_{j}X(j)\\rho X(j)^{\\dagger},$$\n",
    "com $\\{p_j\\}$ sendo uma distribuição de probabilidades. Aqui é mais complicado ainda para se ter o que esperar sobre a ação do canal para qubits. Por isso, vamos olhar para alguns casos particulares. Termos assim que\n",
    "\\begin{align}\n",
    "\\Lambda_{bf}(\\rho) & = \\sum_{j=0}^{d-1}p_{j}X(j)\\sum_{k,l=0}^{d-1}\\rho_{k,l}|k\\rangle\\langle l| X(j)^{\\dagger} \\\\\n",
    "& = \\sum_{k,l=0}^{d-1}\\rho_{k,l}\\sum_{j=0}^{d-1}p_{j}X(j)|k\\rangle\\langle l| X(j)^{\\dagger} \\\\\n",
    "& = \\sum_{k,l=0}^{d-1}\\rho_{k,l}\\sum_{j=0}^{d-1}p_{j}|j\\oplus k\\rangle\\langle j\\oplus l|.\n",
    "\\end{align}\n",
    "Essa expressão não ajuda muita de forma geral. Vamos olhar para alguns exemplos."
   ]
  },
  {
   "cell_type": "markdown",
   "id": "9504ec7e",
   "metadata": {},
   "source": [
    "### $d=2$\n",
    "Neste caso teremos\n",
    "\\begin{align}\n",
    "\\Lambda_{bf}(\\rho) & = \\sum_{j=0}^{1}p_{j}X(j)\\rho X(j)^{\\dagger} \\\\\n",
    "& = p_{0}X(0)\\rho X(0)^{\\dagger} + p_{1}X(1)\\rho X(1)^{\\dagger} \\\\\n",
    "& = p_{0}\\rho + (1-p_{0})X\\rho X,\n",
    "\\end{align}\n",
    "que é o bem conhecido canal de inversão de bits para qubits."
   ]
  },
  {
   "cell_type": "markdown",
   "id": "2c049925",
   "metadata": {},
   "source": [
    "### $d=3$\n",
    "Neste caso teremos\n",
    "\\begin{align}\n",
    "\\Lambda_{bf}(\\rho) & = \\sum_{j=0}^{2}p_{j}X(j)\\rho X(j)^{\\dagger} \\\\\n",
    "& = p_{0}X(0)\\rho X(0)^{\\dagger} + p_{1}X(1)\\rho X(1)^{\\dagger} + p_{2}X(2)\\rho X(2)^{\\dagger} \\\\\n",
    "& = p_{0}\\rho + p_{1}X(1)\\rho X(1)^{\\dagger} + p_{2}X(2)\\rho X(2)^{\\dagger}.\n",
    "\\end{align}\n",
    "Temos que\n",
    "\\begin{align}\n",
    "X(1)\\rho X(1)^{\\dagger} = & \\sum_{k,l=0}^{2}\\rho_{k,l}X(1)|k\\rangle\\langle l|X(1)^{\\dagger} \\\\\n",
    "= & \\sum_{k,l=0}^{2}\\rho_{k,l}|1\\oplus k\\rangle\\langle 1\\oplus l| \\\\\n",
    "= & \\rho_{0,0}|1\\oplus 0\\rangle\\langle 1\\oplus 0| + \\rho_{0,1}|1\\oplus 0\\rangle\\langle 1\\oplus 1| + \\rho_{0,2}|1\\oplus 0\\rangle\\langle 1\\oplus 2| \\\\\n",
    "& + \\rho_{1,0}|1\\oplus 1\\rangle\\langle 1\\oplus 0| + \\rho_{1,1}|1\\oplus 1\\rangle\\langle 1\\oplus 1| + \\rho_{1,2}|1\\oplus 1\\rangle\\langle 1\\oplus 2| \\\\\n",
    "& + \\rho_{2,0}|1\\oplus 2\\rangle\\langle 1\\oplus 0| + \\rho_{2,1}|1\\oplus 2\\rangle\\langle 1\\oplus 1| + \\rho_{2,2}|1\\oplus 2\\rangle\\langle 1\\oplus 2| \\\\\n",
    "= & \\rho_{0,0}|1\\rangle\\langle 1| + \\rho_{0,1}|1\\rangle\\langle 2| + \\rho_{0,2}|1\\rangle\\langle 0| \\\\\n",
    "& + \\rho_{1,0}|2\\rangle\\langle 1| + \\rho_{1,1}|2\\rangle\\langle 2| + \\rho_{1,2}|2\\rangle\\langle 0| \\\\\n",
    "& + \\rho_{2,0}|0\\rangle\\langle 1| + \\rho_{2,1}|0\\rangle\\langle 2| + \\rho_{2,2}|0\\rangle\\langle 0|\n",
    "\\end{align}"
   ]
  },
  {
   "cell_type": "markdown",
   "id": "66a23c7a",
   "metadata": {},
   "source": [
    "e\n",
    "\\begin{align}\n",
    "X(2)\\rho X(2)^{\\dagger} = & \\sum_{k,l=0}^{2}\\rho_{k,l}X(2)|k\\rangle\\langle l|X(2)^{\\dagger} \\\\\n",
    "= & \\sum_{k,l=0}^{2}\\rho_{k,l}|2\\oplus k\\rangle\\langle 2\\oplus l| \\\\\n",
    "= & \\rho_{0,0}|2\\oplus 0\\rangle\\langle 2\\oplus 0| + \\rho_{0,1}|2\\oplus 0\\rangle\\langle 2\\oplus 1| + \\rho_{0,2}|2\\oplus 0\\rangle\\langle 2\\oplus 2| \\\\\n",
    "& + \\rho_{1,0}|2\\oplus 1\\rangle\\langle 2\\oplus 0| + \\rho_{1,1}|2\\oplus 1\\rangle\\langle 2\\oplus 1| + \\rho_{1,2}|2\\oplus 1\\rangle\\langle 2\\oplus 2| \\\\\n",
    "& + \\rho_{2,0}|2\\oplus 2\\rangle\\langle 2\\oplus 0| + \\rho_{2,1}|2\\oplus 2\\rangle\\langle 2\\oplus 1| + \\rho_{2,2}|2\\oplus 2\\rangle\\langle 2\\oplus 2| \\\\\n",
    "= & \\rho_{0,0}|2\\rangle\\langle 2| + \\rho_{0,1}|2\\rangle\\langle 0| + \\rho_{0,2}|2\\rangle\\langle 1| \\\\\n",
    "& + \\rho_{1,0}|0\\rangle\\langle 2| + \\rho_{1,1}|0\\rangle\\langle 0| + \\rho_{1,2}|0\\rangle\\langle 1| \\\\\n",
    "& + \\rho_{2,0}|1\\rangle\\langle 2| + \\rho_{2,1}|1\\rangle\\langle 0| + \\rho_{2,2}|1\\rangle\\langle 1|.\n",
    "\\end{align}"
   ]
  },
  {
   "cell_type": "markdown",
   "id": "a4f49f20",
   "metadata": {},
   "source": [
    "Com isso, o operador densidade evoluído é dado por\n",
    "\\begin{align}\n",
    "\\Lambda_{bf}(\\rho) & = \\big( p_{0}\\rho_{0,0} + p_{1}\\rho_{2,2} + p_{2}\\rho_{1,1} \\big)|0\\rangle\\langle 0| +  \\big( p_{0}\\rho_{0,1} + p_{1}\\rho_{2,0} + p_{2}\\rho_{1,2} \\big)|0\\rangle\\langle 1| +  \\big( p_{0}\\rho_{0,2} + p_{1}\\rho_{2,1} + p_{2}\\rho_{1,0} \\big)|0\\rangle\\langle 2| \\\\\n",
    " & = \\big( p_{0}\\rho_{1,0} + p_{1}\\rho_{0,2} + p_{2}\\rho_{2,1} \\big)|1\\rangle\\langle 0| +  \\big( p_{0}\\rho_{1,1} + p_{1}\\rho_{0,0} + p_{2}\\rho_{2,2} \\big)|1\\rangle\\langle 1| +  \\big( p_{0}\\rho_{1,2} + p_{1}\\rho_{0,1} + p_{2}\\rho_{2,0} \\big)|1\\rangle\\langle 2| \\\\\n",
    "& = \\big( p_{0}\\rho_{2,0} + p_{1}\\rho_{1,2} + p_{2}\\rho_{0,1} \\big)|2\\rangle\\langle 0| +  \\big( p_{0}\\rho_{2,1} + p_{1}\\rho_{1,0} + p_{2}\\rho_{0,2} \\big)|2\\rangle\\langle 1| +  \\big( p_{0}\\rho_{2,2} + p_{1}\\rho_{1,1} + p_{2}\\rho_{0,0} \\big)|2\\rangle\\langle 2|.\n",
    "\\end{align}\n",
    "Como esperado, é fácil ver que $Tr(\\Lambda_{bf}(\\rho))=1$. Note também que tanto as populações quanto as coerências são afetadas por este canal.\n",
    "\n",
    "Para o cálculo da coerência quântica, notemos que\n",
    "\\begin{align}\n",
    "\\big|\\Lambda_{bf}(\\rho)_{0,1}\\big|^{2} = & \\big|p_{0}\\rho_{0,1} + p_{1}\\rho_{2,0} + p_{2}\\rho_{1,2}\\big|^{2} \\\\\n",
    "= & \\big(p_{0}\\rho_{0,1} + p_{1}\\rho_{2,0} + p_{2}\\rho_{1,2}\\big)\\big(p_{0}\\rho_{0,1}^{*} + p_{1}\\rho_{2,0}^{*} + p_{2}\\rho_{1,2}^{*} \\big) \\\\\n",
    "= & p_{0}^{2}|\\rho_{0,1}|^{2} + p_{1}^{2}|\\rho_{2,0}|^{2} + p_{2}^{2}\\rho_{1,2}^{2} + 2p_{0}p_{1}\\Re\\big(\\rho_{0,1}\\rho_{2,0}^{*}\\big) + 2p_{0}p_{2}\\Re\\big(\\rho_{0,1}\\rho_{1,2}^{*}\\big)  + 2p_{1}p_{2}\\Re\\big(\\rho_{2,0}\\rho_{1,2}^{*}\\big), \\\\\n",
    "\\big|\\Lambda_{bf}(\\rho)_{0,2}\\big|^{2} = & p_{0}^{2}|\\rho_{0,2}|^{2} + p_{1}^{2}|\\rho_{2,1}|^{2} + p_{2}^{2}\\rho_{1,0}^{2} + 2p_{0}p_{1}\\Re\\big(\\rho_{0,2}\\rho_{2,1}^{*}\\big) + 2p_{0}p_{2}\\Re\\big(\\rho_{0,2}\\rho_{1,0}^{*}\\big)  + 2p_{1}p_{2}\\Re\\big(\\rho_{2,1}\\rho_{1,0}^{*}\\big), \\\\\n",
    "\\big|\\Lambda_{bf}(\\rho)_{1,2}\\big|^{2} = & p_{0}^{2}|\\rho_{1,2}|^{2} + p_{1}^{2}|\\rho_{0,1}|^{2} + p_{2}^{2}\\rho_{2,0}^{2} + 2p_{0}p_{1}\\Re\\big(\\rho_{1,2}\\rho_{0,1}^{*}\\big) + 2p_{0}p_{2}\\Re\\big(\\rho_{1,2}\\rho_{2,0}^{*}\\big)  + 2p_{1}p_{2}\\Re\\big(\\rho_{0,1}\\rho_{2,0}^{*}\\big).\n",
    "\\end{align}"
   ]
  },
  {
   "cell_type": "markdown",
   "id": "33725e5c",
   "metadata": {},
   "source": [
    "Pela forma das expressões, vemos que será difícil obter uma equação sucinta para a coerência norma l1. Por isso, vamos considerar a coerência norma l2 (que não é um monótono de coerência):\n",
    "\\begin{align}\n",
    "C_{l_{2}}(\\rho) = & \\sum_{k\\ne l}|\\rho_{k,l}|^{2} \\\\\n",
    "= & 2\\big(\\big|\\Lambda_{bf}(\\rho)_{0,1}\\big|^{2} + \\big|\\Lambda_{bf}(\\rho)_{0,2}\\big|^{2} + \\big|\\Lambda_{bf}(\\rho)_{1,2}\\big|^{2}\\big) \\\\\n",
    "& = 2\\big(\\big(p_{0}^{2}+p_{1}^{2}+p_{2}^{2}\\big)\\big(|\\rho_{0,1}|^{2}+|\\rho_{0,2}|^{2}+|\\rho_{1,2}|^{2}\\big) + cdots\n",
    "\\end{align}"
   ]
  },
  {
   "cell_type": "markdown",
   "id": "12f4297f",
   "metadata": {},
   "source": [
    "Parece que não simplifica. Então não consideraremos este canal para o artigo..."
   ]
  },
  {
   "cell_type": "markdown",
   "id": "60ed886c",
   "metadata": {},
   "source": [
    "# Exercícios\n",
    "\n",
    "1. Verifique que os operadores de Kraus\n",
    "$$K_{j,k} = \\sqrt{p_{j,k}}X(j)Z(k)$$\n",
    "satisfazem a relação de completeza\n",
    "$$\\sum_{j,k}K_{j,k}^{\\dagger}K_{j,k} = \\mathbb{I}_{d}.$$"
   ]
  },
  {
   "cell_type": "markdown",
   "id": "6d923f0c",
   "metadata": {},
   "source": [
    "_SOL._ Usando\n",
    "\\begin{align}\n",
    "Z(j)^{\\dagger}Z(j) & = \\sum_{k=0}^{d-1}e^{-i2\\pi jk/d}|k\\rangle\\langle k|\\sum_{l=0}^{d-1}e^{i2\\pi jl/d}|l\\rangle\\langle l| \\\\\n",
    "& = \\sum_{k,l=0}^{d-1}e^{-i2\\pi j(k-l)/d}|k\\rangle\\langle k|l\\rangle\\langle l| \\\\\n",
    "& = \\sum_{k,l=0}^{d-1}e^{-i2\\pi j(k-l)/d}\\delta_{k,l}|k\\rangle\\langle l| \\\\\n",
    "& = \\sum_{k=0}^{d-1}(1)|k\\rangle\\langle k| \\\\\n",
    "& = \\mathbb{I}.\n",
    "\\end{align}"
   ]
  },
  {
   "cell_type": "markdown",
   "id": "cee06d14",
   "metadata": {},
   "source": [
    "e\n",
    "\\begin{align}\n",
    "X(j)^{\\dagger}X(j) & = \\sum_{k=0}^{d-1}|k\\rangle\\langle j\\oplus k|\\sum_{l=0}^{d-1}|j\\oplus l\\rangle\\langle l| \\\\\n",
    "& = \\sum_{k,l=0}^{d-1}|k\\rangle\\langle j\\oplus k|j\\oplus l\\rangle\\langle l| \\\\\n",
    "& = \\sum_{k,l=0}^{d-1}\\delta_{k,l}|k\\rangle\\langle l| \\\\\n",
    "& = \\sum_{k=0}^{d-1}|k\\rangle\\langle k| \\\\\n",
    "& = \\mathbb{I}\n",
    "\\end{align}"
   ]
  },
  {
   "cell_type": "markdown",
   "id": "f56ca951",
   "metadata": {},
   "source": [
    "teremos que\n",
    "\\begin{align}\n",
    "\\sum_{j,k=0}^{d-1}K_{j,k}^{\\dagger}K_{j,k} & = \\sum_{j,k=0}^{d-1}p_{j,k}Z(k)^{\\dagger}X(j)^{\\dagger}X(j)Z(k) \\\\\n",
    "& = \\sum_{j,k=0}^{d-1}p_{j,k}Z(k)^{\\dagger}Z(k) \\\\\n",
    "& = \\sum_{j,k=0}^{d-1}p_{j,k}\\mathbb{I}_{d} \\\\\n",
    "& = \\mathbb{I}_{d}.\n",
    "\\end{align}"
   ]
  },
  {
   "cell_type": "markdown",
   "id": "9b5989ba",
   "metadata": {},
   "source": [
    "### Referências\n",
    "\n",
    "1. M. Wilde, Quantum information theory, Second edition. New York: Cambridge University Press, 2017.\n",
    "\n",
    "1. T. F. Jordan, A. Shaji, and E. C. G. Sudarshan, “Maps for Lorentz transformations of spin,” Phys. Rev. A, vol. 73, no. 3, p. 032104, Mar. 2006, doi: 10.1103/PhysRevA.73.032104.\n"
   ]
  },
  {
   "cell_type": "code",
   "execution_count": null,
   "id": "1b58596e",
   "metadata": {},
   "outputs": [],
   "source": []
  }
 ],
 "metadata": {
  "kernelspec": {
   "display_name": "Python 3 (ipykernel)",
   "language": "python",
   "name": "python3"
  },
  "language_info": {
   "codemirror_mode": {
    "name": "ipython",
    "version": 3
   },
   "file_extension": ".py",
   "mimetype": "text/x-python",
   "name": "python",
   "nbconvert_exporter": "python",
   "pygments_lexer": "ipython3",
   "version": "3.8.8"
  }
 },
 "nbformat": 4,
 "nbformat_minor": 5
}
