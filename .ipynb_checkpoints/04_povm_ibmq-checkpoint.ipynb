{
 "cells": [
  {
   "cell_type": "markdown",
   "id": "0904918b",
   "metadata": {},
   "source": [
    "### Notas de aula de Computação Quântica <br> Autor: Jonas Maziero"
   ]
  },
  {
   "cell_type": "markdown",
   "id": "93053678",
   "metadata": {},
   "source": [
    "# Implementação de POVMs no IBMQ\n",
    "\n",
    "Estas notas são baseadas em (Y. S. Yordanov and C. H. W. Barnes, Implementation of a general single-qubit positive operator-valued measure on a circuit-based quantum computer, __Phys. Rev. A 100, 062317 (2019)__).\n",
    "\n",
    "Os autores obtiveram uma forma de implementar POVMs com $n$ elementos a partir da composição de operações básicas que implementam POVMs com 2 elementos.\n",
    "\n",
    "Vale notar que na verdade os autores implementam medidas gerais. Ou seja, eles estão interessados em implementar um POVM com elementos $\\{E_{j}\\}=\\{M_{j}^{\\dagger}M_{j}\\}$ em um sistema preparado inicialmente no estado $|\\psi_{0}\\rangle$ tal que\n",
    "\\begin{equation}\n",
    "|\\psi_{0}\\rangle \\xrightarrow[]{\\text{obtém }M_{j}} \\frac{M_{j}|\\psi_{0}\\rangle}{\\sqrt{Pr(M_{j}|\\psi_{0})}}\n",
    "\\end{equation}\n",
    "com\n",
    "\\begin{equation}\n",
    "Pr(M_{j}|\\psi_{0}) = \\langle\\psi_{0}|M_{j}^{\\dagger}M_{j}|\\psi_{0}\\rangle = ||M_{j}|\\psi_{0}\\rangle||^{2}.\n",
    "\\end{equation}\n",
    "\n",
    "Usando um sistema auxiliar $B$, essa POVM pode ser implementada \"unitariamente\":\n",
    "\\begin{equation}\n",
    "U_{AB}|\\psi_{0}\\rangle_{A}\\otimes|0\\rangle_{B} = \\sum_{j}(M_{j}|\\psi_{0}\\rangle_{A})\\otimes|j\\rangle_{B}.\n",
    "\\end{equation}"
   ]
  },
  {
   "cell_type": "markdown",
   "id": "386065c8",
   "metadata": {},
   "source": [
    "## POVMs de 1 qubit com 2 elementos\n",
    "Começamos escrevendo o estado inicial na base computacional\n",
    "\\begin{equation}\n",
    "|\\psi_{0}\\rangle = c_{0}|0\\rangle_{A}+c_{1}|1\\rangle_{A}.\n",
    "\\end{equation}\n",
    "A ideia é manter em mente que queremos transformar o estado inicial \n",
    "\\begin{equation}\n",
    "|\\Psi_{0}\\rangle = |\\psi_{0}\\rangle_{A}\\otimes|0\\rangle_{B}\n",
    "\\end{equation}\n",
    "em\n",
    "\\begin{equation}\n",
    "|\\Psi_{f}\\rangle = (M_{1}|\\psi_{0}\\rangle_{A})\\otimes|o_{1}\\rangle_{B} + (M_{2}|\\psi_{0}\\rangle_{A})\\otimes|o_{2}\\rangle_{B},\n",
    "\\end{equation}\n",
    "com $\\{|o_{j}\\rangle\\}_{j=1}^{2}$ estados ortogonais do sistema auxiliar.\n",
    "\n",
    "A primeira operação do protocolo é uma transformação unitária no sistema $A$:\n",
    "\\begin{align}\n",
    "|\\Psi_{1}\\rangle & = (U_{A}\\otimes\\mathbb{I}_{B})|\\Psi_{0}\\rangle = (U_{A}|\\psi_{0}\\rangle_{A})\\otimes|0\\rangle_{B} \\\\\n",
    "& := (c_{0}'|0\\rangle_{A}+c_{1}'|1\\rangle_{A})\\otimes|0\\rangle_{B}.\n",
    "\\end{align}\n",
    "\n",
    "O circuito quântico, do protocolo como um todo, está mostrado na figura abaixo. \n",
    "<img src = 'qcircuit_povm2.png' width = '500'>"
   ]
  },
  {
   "cell_type": "markdown",
   "id": "ef21e91f",
   "metadata": {},
   "source": [
    "Seguindo aplicamos uma $R_{y}$ controlada, com o estado $|0\\rangle$ como ativador. Utilizaremos a notação:\n",
    "\n",
    "\\begin{equation}\n",
    "C_{R_{y}(\\theta)}^{A_{0}\\rightarrow B} = |0\\rangle_{A}\\langle 0|\\otimes R_{y}(\\theta) + |1\\rangle_{A}\\langle 1|\\otimes \\mathbb{I}_{B},\n",
    "\\end{equation}\n",
    "em que \n",
    "\\begin{equation}\n",
    "R_{y}(\\theta)=\\begin{bmatrix} \\cos(\\theta/2) & -\\sin(\\theta/2) \\\\ \\sin(\\theta/2) & \\cos(\\theta/2) \\end{bmatrix}.\n",
    "\\end{equation}\n",
    "Com isso, obteremos o estado\n",
    "\\begin{align}\n",
    "|\\Psi_{2}\\rangle & = C_{R_{y}(\\theta)}^{A_{0}\\rightarrow B}|\\Psi_{1}\\rangle \\\\\n",
    "& = c_{0}'|0\\rangle_{A}\\otimes\\big(\\cos(\\theta/2)|0\\rangle_{B}+\\sin(\\theta/2)|1\\rangle_{B} \\big)+c_{1}'|1\\rangle_{A}\\otimes|0\\rangle_{B}.\n",
    "\\end{align}\n",
    "\n",
    "Depois, aplica-se outra $R_{y}$ controlada, mas com $|1\\rangle$ como ativador:\n",
    "\\begin{equation}\n",
    "C_{R_{y}(\\phi)}^{A_{1}\\rightarrow B} = |0\\rangle_{A}\\langle 0|\\otimes \\mathbb{I}_{B} + |1\\rangle_{A}\\langle 1|\\otimes R_{y}(\\phi).\n",
    "\\end{equation}\n",
    "Assim, obtemos o estado\n",
    "\\begin{align}\n",
    "|\\Psi_{3}\\rangle & = C_{R_{y}(\\phi)}^{A_{1}\\rightarrow B}|\\Psi_{2}\\rangle \\\\\n",
    "& = c_{0}'|0\\rangle_{A}\\otimes\\big(\\cos(\\theta/2)|0\\rangle_{B}+\\sin(\\theta/2)|1\\rangle_{B} \\big)+c_{1}'|1\\rangle_{A}\\otimes\\big(\\cos(\\phi/2)|0\\rangle_{B}+\\sin(\\phi/2)|1\\rangle_{B} \\big) \\\\\n",
    "& = \\big(\\cos(\\theta/2)c_{0}'|0\\rangle_{A} + \\cos(\\phi/2)c_{1}'|1\\rangle_{A}\\big)\\otimes|0\\rangle_{B} + \\big(\\sin(\\theta/2)c_{0}'|0\\rangle_{A} + \\sin(\\phi/2)c_{1}'|1\\rangle_{A}\\big)\\otimes|1\\rangle_{B} \\\\\n",
    "& = (D_{1}U_{A}|\\psi_{0}\\rangle_{A})\\otimes|0\\rangle_{B} + (D_{2}U_{A}|\\psi_{0}\\rangle_{A})\\otimes|1\\rangle_{B}.\n",
    "\\end{align}"
   ]
  },
  {
   "cell_type": "markdown",
   "id": "96496da0",
   "metadata": {},
   "source": [
    "Acima definimos os operadores \n",
    "\\begin{align}\n",
    "D_{1} & = \\cos(\\theta/2)|0\\rangle_{A}\\langle 0| + \\cos(\\phi/2)|1\\rangle_{A}\\langle 1|, \\\\\n",
    "D_{2} & = \\sin(\\theta/2)|0\\rangle_{A}\\langle 0| + \\sin(\\phi/2)|1\\rangle_{A}\\langle 1|,\n",
    "\\end{align}\n",
    "que são operadores gerais de um qubit, a menos de uma transformação unitária para generalizar os autovetores. Podemos garantir que esses operadores sejam positivos restringindo\n",
    "\\begin{equation}\n",
    "\\theta,\\phi\\in[0,\\pi].\n",
    "\\end{equation}\n",
    "\n",
    "Seguimos aplicando uma unitária qualquer $V_{1}$ controlada\n",
    "\\begin{equation}\n",
    "C_{V_{1}}^{B_{0}\\rightarrow A} = V_{1}\\otimes|0\\rangle_{B}\\langle 0| + \\mathbb{I}\\otimes|1\\rangle_{B}\\langle 1|,\n",
    "\\end{equation}\n",
    "obtendo o estado\n",
    "\\begin{align}\n",
    "|\\Psi_{4}\\rangle & = C_{V_{1}}^{B_{0}\\rightarrow A}|\\Psi_{3}\\rangle \\\\\n",
    "& = (V_{1}D_{1}U_{A}|\\psi_{0}\\rangle_{A})\\otimes|0\\rangle_{B} + (D_{2}U_{A}|\\psi_{0}\\rangle_{A})\\otimes|1\\rangle_{B}.\n",
    "\\end{align}\n",
    "\n",
    "Por fim, aplicamos uma unitária qualquer $V_{2}$ controlada\n",
    "\\begin{equation}\n",
    "C_{V_{2}}^{B_{1}\\rightarrow A} = \\mathbb{I}_{A}\\otimes|0\\rangle_{B}\\langle 0| + V_{2}\\otimes|1\\rangle_{B}\\langle 1|,\n",
    "\\end{equation}\n",
    "obtendo o estado\n",
    "\\begin{align}\n",
    "|\\Psi_{5}\\rangle & = C_{V_{2}}^{B_{1}\\rightarrow A}|\\Psi_{4}\\rangle \\\\\n",
    "& = (V_{1}D_{1}U_{A}|\\psi_{0}\\rangle_{A})\\otimes|0\\rangle_{B} + (V_{2}D_{2}U_{A}|\\psi_{0}\\rangle_{A})\\otimes|1\\rangle_{B} \\\\\n",
    "& = (M_{1}|\\psi_{0}\\rangle_{A})\\otimes|0\\rangle_{B} + (M_{2}|\\psi_{0}\\rangle_{A})\\otimes|1\\rangle_{B}.\n",
    "\\end{align}"
   ]
  },
  {
   "cell_type": "markdown",
   "id": "e886f5fa",
   "metadata": {},
   "source": [
    "Pelo teorema da _decomposição em valores singulares_, temos que para qualquer matriz $A$, existem matrizes unitárias $U$ e $W$ e uma matriz $D$ positiva e diagonal na base padrão $\\{|j\\rangle\\}$ tais que\n",
    "\\begin{equation}\n",
    "A = UDW.\n",
    "\\end{equation}\n",
    "Portanto, o circuito acima é tal que temos duas matrizes \"gerais\"\n",
    "\\begin{align}\n",
    "& M_{1} = V_{1}D_{1}U_{A}, \\\\\n",
    "& M_{2} = V_{2}D_{2}U_{A}.\n",
    "\\end{align}\n",
    "A possível limitação de $U_{A}$ aparecer nas duas equações é importante para que a relação de completeza dos operadores de medida seja satisfeita:\n",
    "\\begin{align}\n",
    "\\sum_{j}M_{j}^{\\dagger}M_{j} & = M_{1}^{\\dagger}M_{1} + M_{2}^{\\dagger}M_{2} \\\\\n",
    "& = U_{A}^{\\dagger}D_{1}^{\\dagger}V_{1}^{\\dagger}V_{1}D_{1}U_{A} + U_{A}^{\\dagger}D_{2}^{\\dagger}V_{2}^{\\dagger}V_{2}D_{2}U_{A} \\\\\n",
    "& = U_{A}^{\\dagger}D_{1}^{2}U_{A} + U_{A}^{\\dagger}D_{2}^{2}U_{A} = U_{A}^{\\dagger}\\big(D_{1}^{2}+D_{2}^{2}\\big)U_{A} \\\\\n",
    "& = U_{A}^{\\dagger}\\big(\\cos^{2}(\\theta/2)|0\\rangle_{A}\\langle 0| + \\cos^{2}(\\phi/2)|1\\rangle_{A}\\langle 1| + \\sin^{2}(\\theta/2)|0\\rangle_{A}\\langle 0| + \\sin^{2}(\\phi/2)|1\\rangle_{A}\\langle 1|\\big)U_{A} \\\\\n",
    "& = U_{A}^{\\dagger}\\big(|0\\rangle_{A}\\langle 0| + |1\\rangle_{A}\\langle 1|\\big)U_{A} = U_{A}^{\\dagger}U_{A} \\\\\n",
    "& = \\mathbb{I}_{A}.\n",
    "\\end{align}"
   ]
  },
  {
   "cell_type": "markdown",
   "id": "aca2a3f3",
   "metadata": {},
   "source": [
    "### Experimento no IBMQ\n",
    "\n",
    "Como exemplo, usamos primeiramente operadores de medida definidos por \n",
    "\\begin{equation}\n",
    "\\theta=\\phi=\\pi/4 \\text{, } V_{1}=V_{2} = \\mathbb{I} \\text{ e } U_{A} = \\frac{1}{\\sqrt{2}}\\begin{bmatrix}1&1\\\\1&-1\\end{bmatrix}=H.\n",
    "\\end{equation}\n",
    "Assim\n",
    "\\begin{align}\n",
    "D_{1}(\\pi/8) = 2^{-1}\\sqrt{2+\\sqrt{2}}\\mathbb{I} \\text{ e } D_{2}(\\pi/8) = 2^{-1}\\sqrt{2-\\sqrt{2}}\\mathbb{I}\n",
    "\\end{align}\n",
    "e\n",
    "\\begin{align}\n",
    "& M_{1} = V_{1}D_{1}(\\pi/8)U_{A} = \\frac{1}{2}\\sqrt{1+1/\\sqrt{2}}\\begin{bmatrix}1&1\\\\1&-1\\end{bmatrix}, \\\\\n",
    "& M_{2} = V_{2}D_{2}(\\pi/8)U_{A} = \\frac{1}{2}\\sqrt{1-1/\\sqrt{2}}\\begin{bmatrix}1&1\\\\1&-1\\end{bmatrix}.\n",
    "\\end{align}\n",
    "Pode-se verificar que esses operadores não são projetores, mas são operadores de medida bem definidos."
   ]
  },
  {
   "cell_type": "code",
   "execution_count": 1,
   "id": "07bc0d32",
   "metadata": {},
   "outputs": [],
   "source": [
    "%run init.ipynb\n",
    "from qiskit import *\n",
    "nshots = 8192\n",
    "IBMQ.load_account()\n",
    "provider = qiskit.IBMQ.get_provider(hub = 'ibm-q-research-2', group = 'federal-uni-sant-1', project = 'main')\n",
    "device = provider.get_backend('ibmq_belem')\n",
    "simulator = Aer.get_backend('qasm_simulator')\n",
    "from qiskit.visualization import plot_histogram\n",
    "from qiskit.tools.monitor import job_monitor"
   ]
  },
  {
   "cell_type": "code",
   "execution_count": 10,
   "id": "551ddd63",
   "metadata": {},
   "outputs": [
    {
     "data": {
      "image/png": "[encoded data removed]",
      "text/latex": [
       "$\\displaystyle \\left( \\sqrt{\\frac{\\sqrt{2}}{4} + \\frac{1}{2}}, \\  \\sqrt{\\frac{1}{2} - \\frac{\\sqrt{2}}{4}}\\right)$"
      ],
      "text/plain": [
       "⎛    ________      ________⎞\n",
       "⎜   ╱ √2   1      ╱ 1   √2 ⎟\n",
       "⎜  ╱  ── + ─ ,   ╱  ─ - ── ⎟\n",
       "⎝╲╱   4    2   ╲╱   2   4  ⎠"
      ]
     },
     "execution_count": 10,
     "metadata": {},
     "output_type": "execute_result"
    }
   ],
   "source": [
    "cos(pi/8), sin(pi/8)"
   ]
  },
  {
   "cell_type": "code",
   "execution_count": 11,
   "id": "28be30ec",
   "metadata": {},
   "outputs": [
    {
     "data": {
      "image/png": "[encoded data removed]",
      "text/latex": [
       "$\\displaystyle \\left( \\left[\\begin{matrix}\\frac{\\sqrt{2}}{2} & \\frac{\\sqrt{2}}{2}\\\\\\frac{\\sqrt{2}}{2} & - \\frac{\\sqrt{2}}{2}\\end{matrix}\\right], \\  \\left[\\begin{matrix}1 & 0\\\\0 & 1\\end{matrix}\\right], \\  \\left[\\begin{matrix}\\sqrt{\\frac{\\sqrt{2}}{4} + \\frac{1}{2}} & 0\\\\0 & \\sqrt{\\frac{\\sqrt{2}}{4} + \\frac{1}{2}}\\end{matrix}\\right], \\  \\left[\\begin{matrix}\\sqrt{\\frac{1}{2} - \\frac{\\sqrt{2}}{4}} & 0\\\\0 & \\sqrt{\\frac{1}{2} - \\frac{\\sqrt{2}}{4}}\\end{matrix}\\right]\\right)$"
      ],
      "text/plain": [
       "⎛                    ⎡    ________              ⎤  ⎡    ________              \n",
       "⎜⎡√2   √2 ⎤          ⎢   ╱ √2   1               ⎥  ⎢   ╱ 1   √2               \n",
       "⎜⎢──   ── ⎥          ⎢  ╱  ── + ─        0      ⎥  ⎢  ╱  ─ - ──        0      \n",
       "⎜⎢2    2  ⎥  ⎡1  0⎤  ⎢╲╱   4    2               ⎥  ⎢╲╱   2   4                \n",
       "⎜⎢        ⎥, ⎢    ⎥, ⎢                          ⎥, ⎢                          \n",
       "⎜⎢√2  -√2 ⎥  ⎣0  1⎦  ⎢                  ________⎥  ⎢                  ________\n",
       "⎜⎢──  ────⎥          ⎢                 ╱ √2   1 ⎥  ⎢                 ╱ 1   √2 \n",
       "⎜⎣2    2  ⎦          ⎢     0          ╱  ── + ─ ⎥  ⎢     0          ╱  ─ - ── \n",
       "⎝                    ⎣              ╲╱   4    2 ⎦  ⎣              ╲╱   2   4  \n",
       "\n",
       "⎤⎞\n",
       "⎥⎟\n",
       "⎥⎟\n",
       "⎥⎟\n",
       "⎥⎟\n",
       "⎥⎟\n",
       "⎥⎟\n",
       "⎥⎟\n",
       "⎦⎠"
      ]
     },
     "execution_count": 11,
     "metadata": {},
     "output_type": "execute_result"
    }
   ],
   "source": [
    "U = (1/sqrt(2))*Matrix([[1,1],[1,-1]]); V1 = Matrix([[1,0],[0,1]]); V2 = V1\n",
    "D1 = Matrix([[cos(pi/8),0],[0,cos(pi/8)]]); D2 = Matrix([[sin(pi/8),0],[0,sin(pi/8)]])\n",
    "U, U*U.T, D1, D2"
   ]
  },
  {
   "cell_type": "code",
   "execution_count": 12,
   "id": "fb9c3a1a",
   "metadata": {},
   "outputs": [
    {
     "data": {
      "image/png": "[encoded data removed]",
      "text/latex": [
       "$\\displaystyle \\left( \\left[\\begin{matrix}\\frac{\\sqrt{2} \\sqrt{\\frac{\\sqrt{2}}{4} + \\frac{1}{2}}}{2} & \\frac{\\sqrt{2} \\sqrt{\\frac{\\sqrt{2}}{4} + \\frac{1}{2}}}{2}\\\\\\frac{\\sqrt{2} \\sqrt{\\frac{\\sqrt{2}}{4} + \\frac{1}{2}}}{2} & - \\frac{\\sqrt{2} \\sqrt{\\frac{\\sqrt{2}}{4} + \\frac{1}{2}}}{2}\\end{matrix}\\right], \\  \\left[\\begin{matrix}\\frac{\\sqrt{2} \\sqrt{\\frac{1}{2} - \\frac{\\sqrt{2}}{4}}}{2} & \\frac{\\sqrt{2} \\sqrt{\\frac{1}{2} - \\frac{\\sqrt{2}}{4}}}{2}\\\\\\frac{\\sqrt{2} \\sqrt{\\frac{1}{2} - \\frac{\\sqrt{2}}{4}}}{2} & - \\frac{\\sqrt{2} \\sqrt{\\frac{1}{2} - \\frac{\\sqrt{2}}{4}}}{2}\\end{matrix}\\right]\\right)$"
      ],
      "text/plain": [
       "⎛⎡       ________          ________ ⎤  ⎡       ________          ________ ⎤⎞\n",
       "⎜⎢      ╱ √2   1          ╱ √2   1  ⎥  ⎢      ╱ 1   √2          ╱ 1   √2  ⎥⎟\n",
       "⎜⎢√2⋅  ╱  ── + ─    √2⋅  ╱  ── + ─  ⎥  ⎢√2⋅  ╱  ─ - ──    √2⋅  ╱  ─ - ──  ⎥⎟\n",
       "⎜⎢   ╲╱   4    2       ╲╱   4    2  ⎥  ⎢   ╲╱   2   4        ╲╱   2   4   ⎥⎟\n",
       "⎜⎢───────────────   ─────────────── ⎥  ⎢───────────────   ─────────────── ⎥⎟\n",
       "⎜⎢       2                 2        ⎥  ⎢       2                 2        ⎥⎟\n",
       "⎜⎢                                  ⎥, ⎢                                  ⎥⎟\n",
       "⎜⎢       ________          ________ ⎥  ⎢       ________          ________ ⎥⎟\n",
       "⎜⎢      ╱ √2   1          ╱ √2   1  ⎥  ⎢      ╱ 1   √2          ╱ 1   √2  ⎥⎟\n",
       "⎜⎢√2⋅  ╱  ── + ─   -√2⋅  ╱  ── + ─  ⎥  ⎢√2⋅  ╱  ─ - ──   -√2⋅  ╱  ─ - ──  ⎥⎟\n",
       "⎜⎢   ╲╱   4    2       ╲╱   4    2  ⎥  ⎢   ╲╱   2   4        ╲╱   2   4   ⎥⎟\n",
       "⎜⎢───────────────  ─────────────────⎥  ⎢───────────────  ─────────────────⎥⎟\n",
       "⎝⎣       2                 2        ⎦  ⎣       2                 2        ⎦⎠"
      ]
     },
     "execution_count": 12,
     "metadata": {},
     "output_type": "execute_result"
    }
   ],
   "source": [
    "M1 = V1*D1*U; M2 = V2*D2*U; M1, M2"
   ]
  },
  {
   "cell_type": "code",
   "execution_count": 14,
   "id": "f6272958",
   "metadata": {},
   "outputs": [
    {
     "data": {
      "image/png": "[encoded data removed]",
      "text/latex": [
       "$\\displaystyle \\left( \\left[\\begin{matrix}\\frac{\\sqrt{2}}{4} + \\frac{1}{2} & 0\\\\0 & \\frac{\\sqrt{2}}{4} + \\frac{1}{2}\\end{matrix}\\right], \\  \\left[\\begin{matrix}\\frac{1}{2} - \\frac{\\sqrt{2}}{4} & 0\\\\0 & \\frac{1}{2} - \\frac{\\sqrt{2}}{4}\\end{matrix}\\right], \\  \\left[\\begin{matrix}1 & 0\\\\0 & 1\\end{matrix}\\right]\\right)$"
      ],
      "text/plain": [
       "⎛⎡√2   1        ⎤  ⎡1   √2        ⎤        ⎞\n",
       "⎜⎢── + ─    0   ⎥  ⎢─ - ──    0   ⎥        ⎟\n",
       "⎜⎢4    2        ⎥  ⎢2   4         ⎥  ⎡1  0⎤⎟\n",
       "⎜⎢              ⎥, ⎢              ⎥, ⎢    ⎥⎟\n",
       "⎜⎢        √2   1⎥  ⎢        1   √2⎥  ⎣0  1⎦⎟\n",
       "⎜⎢  0     ── + ─⎥  ⎢  0     ─ - ──⎥        ⎟\n",
       "⎝⎣        4    2⎦  ⎣        2   4 ⎦        ⎠"
      ]
     },
     "execution_count": 14,
     "metadata": {},
     "output_type": "execute_result"
    }
   ],
   "source": [
    "M1*M1, M2*M2, M1*M1 + M2*M2 # não são projetores, mas são operadores de medida"
   ]
  },
  {
   "cell_type": "markdown",
   "id": "ab6138ab",
   "metadata": {},
   "source": [
    "Vamos usar o estado inicial\n",
    "\\begin{equation}\n",
    "|\\psi_{0}\\rangle_{A} = |0\\rangle_{A}.\n",
    "\\end{equation}\n",
    "\n",
    "Com isso, vem que as probabilidade dos diferentes resultados da medida são:\n",
    "\\begin{align}\n",
    "Pr(M_{1}|0) & = \\langle 0|M_{1}^{\\dagger}M_{1}|0\\rangle = \\langle 0|2^{-2}(2+\\sqrt{2})H^{\\dagger}H|0\\rangle = 2^{-1}(1+\\sqrt{2}/2)\\langle 0|0\\rangle \\\\\n",
    "& = 2^{-1}(1+1/\\sqrt{2}) \\approx 0.85, \\\\\n",
    "Pr(M_{2}|0) & = \\langle 0|M_{2}^{\\dagger}M_{2}|0\\rangle = \\langle 0|2^{-2}(2-\\sqrt{2})H^{\\dagger}H|0\\rangle = 2^{-1}(1-\\sqrt{2}/2)\\langle 0|0\\rangle \\\\\n",
    "& = 2^{-1}(1-1/\\sqrt{2}) \\approx 0.15.\n",
    "\\end{align}"
   ]
  },
  {
   "cell_type": "code",
   "execution_count": 11,
   "id": "67e3d956",
   "metadata": {
    "scrolled": true
   },
   "outputs": [
    {
     "data": {
      "image/png": "[encoded data removed]",
      "text/latex": [
       "$\\displaystyle \\left( 0.853553390593274, \\  0.146446609406726\\right)$"
      ],
      "text/plain": [
       "(0.8535533905932737, 0.14644660940672624)"
      ]
     },
     "execution_count": 11,
     "metadata": {},
     "output_type": "execute_result"
    }
   ],
   "source": [
    "2*float((1/4)*(1+1/sqrt(2))), 2*float((1/4)*(1-1/sqrt(2)))"
   ]
  },
  {
   "cell_type": "markdown",
   "id": "15d83734",
   "metadata": {},
   "source": [
    "O estado global é\n",
    "\\begin{align}\n",
    "|\\Psi_{5}\\rangle & = (M_{1}|\\psi_{0}\\rangle_{A})\\otimes|0\\rangle_{B} + (M_{2}|\\psi_{0}\\rangle_{A})\\otimes|1\\rangle_{B} \\\\\n",
    "& = (2^{-1}\\sqrt{2+\\sqrt{2}}H|0\\rangle_{A})\\otimes|0\\rangle_{B} + (2^{-1}\\sqrt{2-\\sqrt{2}}H|0\\rangle_{A})\\otimes|1\\rangle_{B} \\\\\n",
    "& = (2^{-1}\\sqrt{2+\\sqrt{2}}|+\\rangle_{A})\\otimes|0\\rangle_{B} + (2^{-1}\\sqrt{2-\\sqrt{2}}|+\\rangle_{A})\\otimes|1\\rangle_{B} \\\\\n",
    "& = 2^{-1}\\sqrt{1+1/\\sqrt{2}}|00\\rangle_{AB} + 2^{-1}\\sqrt{1+1/\\sqrt{2}}|10\\rangle_{AB} + 2^{-1}\\sqrt{1-1/\\sqrt{2}}|01\\rangle_{AB} + 2^{-1}\\sqrt{1-1/\\sqrt{2}}|11\\rangle_{AB}.\n",
    "\\end{align}\n",
    "Temos assim que \n",
    "\\begin{align}\n",
    "Pr(M_{1}|0_{A}) & = Pr(0_{B}|\\Psi_{5}) = Pr(00_{AB}|\\Psi_{5}) + Pr(10_{AB}|\\Psi_{5}) \\\\\n",
    "& = 2\\big(2^{-2}(1+1/\\sqrt{2})\\big) \\approx 0.85, \\\\\n",
    "Pr(M_{2}|0_{A}) & = Pr(1_{B}|\\Psi_{5}) = Pr(01_{AB}|\\Psi_{5}) + Pr(11_{AB}|\\Psi_{5}) \\\\\n",
    "& = 2\\big(2^{-2}(1-1/\\sqrt{2})\\big) \\approx 0.15.\n",
    "\\end{align}"
   ]
  },
  {
   "cell_type": "code",
   "execution_count": 8,
   "id": "0183f50a",
   "metadata": {
    "scrolled": true
   },
   "outputs": [
    {
     "data": {
      "image/png": "[encoded data removed]",
      "text/plain": [
       "<Figure size 460.633x204.68 with 1 Axes>"
      ]
     },
     "execution_count": 8,
     "metadata": {},
     "output_type": "execute_result"
    }
   ],
   "source": [
    "qr = QuantumRegister(2); cr = ClassicalRegister(1); qc = QuantumCircuit(qr, cr)\n",
    "qc.h(qr[0]); qc.x(qr[0]); qc.cry(math.pi/4, 0, 1); qc.x(qr[0]); qc.cry(math.pi/4, 0, 1)\n",
    "qc.measure(1,0)\n",
    "qc.draw(output = 'mpl')"
   ]
  },
  {
   "cell_type": "code",
   "execution_count": 35,
   "id": "8183ed19",
   "metadata": {},
   "outputs": [
    {
     "name": "stdout",
     "output_type": "stream",
     "text": [
      "Job Status: job has successfully run\n"
     ]
    }
   ],
   "source": [
    "job_sim = execute(qc, backend = simulator, shots = nshots)\n",
    "job_exp = execute(qc, backend = device, shots = nshots)\n",
    "job_monitor(job_exp)"
   ]
  },
  {
   "cell_type": "code",
   "execution_count": 40,
   "id": "2283c46b",
   "metadata": {},
   "outputs": [
    {
     "data": {
      "image/png": "[encoded data removed]",
      "text/plain": [
       "<Figure size 504x360 with 1 Axes>"
      ]
     },
     "execution_count": 40,
     "metadata": {},
     "output_type": "execute_result"
    }
   ],
   "source": [
    "plot_histogram([job_sim.result().get_counts(), job_exp.result().get_counts()], \n",
    "                legend = ['sim', 'exp'])"
   ]
  },
  {
   "cell_type": "markdown",
   "id": "9734b027",
   "metadata": {},
   "source": [
    "### Sobre o problema inverso\n",
    "Desprezando alguns detalhes (parâmetros), podemos escrever uma matriz unitária $2\\times 2$ qualquer como\n",
    "\\begin{align}\n",
    "U & = \\begin{bmatrix}e^{i\\xi}\\cos\\gamma & e^{i\\eta}\\sin\\gamma \\\\ -e^{-i\\eta}\\sin\\gamma & e^{-i\\xi}\\cos\\gamma. \\end{bmatrix}\n",
    "\\end{align}\n",
    "Os vetores linha(coluna) desta matriz formam um conjunto ortonormal e $\\det(U)=1$.\n",
    "Para, dados os operadores de medida $M_{j}$, gostaríamos de obter os parâmetros reais que determinam as matrizes unitárias que devemos usar. Mesmo no caso mais simples de medidas gerais com 2 elementos em um qubit, precisamos de 3 unitárias, e portanto 9 parâmetros, além dos 2 ângulos nas matrizes diagonais. Resolver esse problema involve resolver um sistema de equações não lineares. Obteremos esse sistema na sequência."
   ]
  },
  {
   "cell_type": "code",
   "execution_count": 37,
   "id": "e411a77a",
   "metadata": {},
   "outputs": [
    {
     "data": {
      "image/png": "[encoded data removed]",
      "text/latex": [
       "$\\displaystyle \\left[\\begin{matrix}\\left(1.0 i \\sin{\\left(\\xi \\right)} + \\cos{\\left(\\xi \\right)}\\right) \\cos{\\left(\\gamma \\right)} & \\left(1.0 i \\sin{\\left(\\eta \\right)} + \\cos{\\left(\\eta \\right)}\\right) \\sin{\\left(\\gamma \\right)}\\\\\\left(1.0 i \\sin{\\left(\\eta \\right)} - \\cos{\\left(\\eta \\right)}\\right) \\sin{\\left(\\gamma \\right)} & \\left(- 1.0 i \\sin{\\left(\\xi \\right)} + \\cos{\\left(\\xi \\right)}\\right) \\cos{\\left(\\gamma \\right)}\\end{matrix}\\right]$"
      ],
      "text/plain": [
       "⎡(1.0⋅ⅈ⋅sin(ξ) + cos(ξ))⋅cos(γ)  (1.0⋅ⅈ⋅sin(η) + cos(η))⋅sin(γ)⎤\n",
       "⎢                                                              ⎥\n",
       "⎣(1.0⋅ⅈ⋅sin(η) - cos(η))⋅sin(γ)   (-ⅈ⋅sin(ξ) + cos(ξ))⋅cos(γ)  ⎦"
      ]
     },
     "execution_count": 37,
     "metadata": {},
     "output_type": "execute_result"
    }
   ],
   "source": [
    "def U(xi, et, ga):\n",
    "    return Matrix([[(cos(xi)+1j*sin(xi))*cos(ga), (cos(et)+1j*sin(et))*sin(ga)],\n",
    "                    [-(cos(et)-1j*sin(et))*sin(ga), (cos(xi)-1j*sin(xi))*cos(ga)]])\n",
    "xi, et, ga = symbols('xi eta gamma'); U(xi, et, ga)"
   ]
  },
  {
   "cell_type": "code",
   "execution_count": 38,
   "id": "301a2331",
   "metadata": {},
   "outputs": [
    {
     "data": {
      "image/png": "[encoded data removed]",
      "text/latex": [
       "$\\displaystyle \\left( \\left[\\begin{matrix}\\cos{\\left(\\frac{\\theta}{2} \\right)} & 0\\\\0 & \\cos{\\left(\\frac{\\phi}{2} \\right)}\\end{matrix}\\right], \\  \\left[\\begin{matrix}\\sin{\\left(\\frac{\\theta}{2} \\right)} & 0\\\\0 & \\sin{\\left(\\frac{\\phi}{2} \\right)}\\end{matrix}\\right]\\right)$"
      ],
      "text/plain": [
       "⎛⎡   ⎛θ⎞        ⎤  ⎡   ⎛θ⎞        ⎤⎞\n",
       "⎜⎢cos⎜─⎟    0   ⎥  ⎢sin⎜─⎟    0   ⎥⎟\n",
       "⎜⎢   ⎝2⎠        ⎥  ⎢   ⎝2⎠        ⎥⎟\n",
       "⎜⎢              ⎥, ⎢              ⎥⎟\n",
       "⎜⎢           ⎛φ⎞⎥  ⎢           ⎛φ⎞⎥⎟\n",
       "⎜⎢  0     cos⎜─⎟⎥  ⎢  0     sin⎜─⎟⎥⎟\n",
       "⎝⎣           ⎝2⎠⎦  ⎣           ⎝2⎠⎦⎠"
      ]
     },
     "execution_count": 38,
     "metadata": {},
     "output_type": "execute_result"
    }
   ],
   "source": [
    "def D1(th, ph):\n",
    "    return Matrix([[cos(th/2),0],[0,cos(ph/2)]])\n",
    "def D2(th, ph):\n",
    "    return Matrix([[sin(th/2),0],[0,sin(ph/2)]])\n",
    "th,ph = symbols('theta phi'); D1(th, ph), D2(th, ph)"
   ]
  },
  {
   "cell_type": "markdown",
   "id": "79de467b",
   "metadata": {},
   "source": [
    "Teremos que\n",
    "\\begin{align}\n",
    "& M_{1} = V_{1}D_{1}U = V_{1}(\\xi_{1},\\eta_{1},\\gamma_{1})D_{1}(\\theta,\\phi)U(\\xi_{2},\\eta_{2},\\gamma_{2}) = \\frac{1}{2}\\sqrt{1+1/\\sqrt{2}}\\begin{bmatrix}1&1\\\\1&-1\\end{bmatrix}, \\\\\n",
    "& M_{2} = V_{2}D_{2}U_{A}  = V_{2}(\\xi_{3},\\eta_{3},\\gamma_{3})D_{2}(\\theta,\\phi)U(\\xi_{2},\\eta_{2},\\gamma_{2}) = \\frac{1}{2}\\sqrt{1-1/\\sqrt{2}}\\begin{bmatrix}1&1\\\\1&-1\\end{bmatrix}.\n",
    "\\end{align}\n",
    "Ou seja, temos 13 incógnitas e 16 equações (8 pra parte real e 8 para a parte imaginária). O sistema de equações a ser resolvido é não linear e bem complicado de resolver até numericamente. Port\n",
    "anto esse caminho e a aplicação geral desse método parece difícil para um caso geral, embora se possa inferir as unitárias em alguns casos particulares."
   ]
  },
  {
   "cell_type": "code",
   "execution_count": 41,
   "id": "c38cc280",
   "metadata": {
    "scrolled": true
   },
   "outputs": [
    {
     "data": {
      "image/png": "[encoded data removed]",
      "text/latex": [
       "$\\displaystyle \\left[\\begin{matrix}1.0 e^{2 i \\xi_{1}} \\cos^{2}{\\left(\\gamma_{1} \\right)} \\cos{\\left(\\frac{\\theta}{2} \\right)} - 1.0 \\sin^{2}{\\left(\\gamma_{1} \\right)} \\cos{\\left(\\frac{\\phi}{2} \\right)} - 0.25 \\sqrt{2 \\sqrt{2} + 4} & 1.0 e^{i \\eta_{1} - i \\xi_{1}} \\sin{\\left(\\gamma_{1} \\right)} \\cos{\\left(\\gamma_{1} \\right)} \\cos{\\left(\\frac{\\phi}{2} \\right)} + 1.0 e^{i \\eta_{1} + i \\xi_{1}} \\sin{\\left(\\gamma_{1} \\right)} \\cos{\\left(\\gamma_{1} \\right)} \\cos{\\left(\\frac{\\theta}{2} \\right)} - 0.25 \\sqrt{2 \\sqrt{2} + 4}\\\\- 1.0 e^{- i \\eta_{1} - i \\xi_{1}} \\sin{\\left(\\gamma_{1} \\right)} \\cos{\\left(\\gamma_{1} \\right)} \\cos{\\left(\\frac{\\phi}{2} \\right)} - 1.0 e^{- i \\eta_{1} + i \\xi_{1}} \\sin{\\left(\\gamma_{1} \\right)} \\cos{\\left(\\gamma_{1} \\right)} \\cos{\\left(\\frac{\\theta}{2} \\right)} - 0.25 \\sqrt{2 \\sqrt{2} + 4} & - 1.0 \\sin^{2}{\\left(\\gamma_{1} \\right)} \\cos{\\left(\\frac{\\theta}{2} \\right)} + 0.25 \\sqrt{2 \\sqrt{2} + 4} + 1.0 e^{- 2 i \\xi_{1}} \\cos^{2}{\\left(\\gamma_{1} \\right)} \\cos{\\left(\\frac{\\phi}{2} \\right)}\\end{matrix}\\right]$"
      ],
      "text/plain": [
       "⎡                     2⋅ⅈ⋅ξ₁    2        ⎛θ⎞      2        ⎛φ⎞          ______\n",
       "⎢                1.0⋅ℯ      ⋅cos (γ₁)⋅cos⎜─⎟ - sin (γ₁)⋅cos⎜─⎟ - 0.25⋅╲╱ 2⋅√2 \n",
       "⎢                                        ⎝2⎠               ⎝2⎠                \n",
       "⎢                                                                             \n",
       "⎢   -ⅈ⋅η₁ - ⅈ⋅ξ₁                    ⎛φ⎞    -ⅈ⋅η₁ + ⅈ⋅ξ₁                    ⎛θ⎞\n",
       "⎢- ℯ            ⋅sin(γ₁)⋅cos(γ₁)⋅cos⎜─⎟ - ℯ            ⋅sin(γ₁)⋅cos(γ₁)⋅cos⎜─⎟\n",
       "⎣                                   ⎝2⎠                                    ⎝2⎠\n",
       "\n",
       "____                       ⅈ⋅η₁ - ⅈ⋅ξ₁                    ⎛φ⎞        ⅈ⋅η₁ + ⅈ⋅\n",
       "+ 4                   1.0⋅ℯ           ⋅sin(γ₁)⋅cos(γ₁)⋅cos⎜─⎟ + 1.0⋅ℯ         \n",
       "                                                          ⎝2⎠                 \n",
       "                                                                              \n",
       "          __________                       2        ⎛θ⎞          __________   \n",
       " - 0.25⋅╲╱ 2⋅√2 + 4                   - sin (γ₁)⋅cos⎜─⎟ + 0.25⋅╲╱ 2⋅√2 + 4  + \n",
       "                                                    ⎝2⎠                       \n",
       "\n",
       "ξ₁                    ⎛θ⎞          __________⎤\n",
       "  ⋅sin(γ₁)⋅cos(γ₁)⋅cos⎜─⎟ - 0.25⋅╲╱ 2⋅√2 + 4 ⎥\n",
       "                      ⎝2⎠                    ⎥\n",
       "                                             ⎥\n",
       "     -2⋅ⅈ⋅ξ₁    2        ⎛φ⎞                 ⎥\n",
       "1.0⋅ℯ       ⋅cos (γ₁)⋅cos⎜─⎟                 ⎥\n",
       "                         ⎝2⎠                 ⎦"
      ]
     },
     "execution_count": 41,
     "metadata": {},
     "output_type": "execute_result"
    }
   ],
   "source": [
    "xi1,et1,ga1,xi2,et2,ga2,xi3,et3,ga3 = symbols('xi_1 eta_1 gamma_1 xi_2 eta_2 gamma_2 xi_3 eta_3 gamma_3')\n",
    "simplify(U(xi1,et1,ga1)*D1(th,ph)*U(xi2,et2,ga2) - (1/2)*sqrt(1+1/sqrt(2))*Matrix([[1,1],[1,-1]]))"
   ]
  },
  {
   "cell_type": "code",
   "execution_count": 42,
   "id": "4ba4510b",
   "metadata": {},
   "outputs": [
    {
     "data": {
      "image/png": "[encoded data removed]",
      "text/latex": [
       "$\\displaystyle \\left[\\begin{matrix}- 1.0 e^{- i \\eta_{2} + i \\eta_{3}} \\sin{\\left(\\gamma_{2} \\right)} \\sin{\\left(\\gamma_{3} \\right)} \\sin{\\left(\\frac{\\phi}{2} \\right)} + 1.0 e^{i \\xi_{2} + i \\xi_{3}} \\sin{\\left(\\frac{\\theta}{2} \\right)} \\cos{\\left(\\gamma_{2} \\right)} \\cos{\\left(\\gamma_{3} \\right)} - 0.25 \\sqrt{2 \\sqrt{2} + 4} & 1.0 e^{i \\eta_{2} + i \\xi_{3}} \\sin{\\left(\\gamma_{2} \\right)} \\sin{\\left(\\frac{\\theta}{2} \\right)} \\cos{\\left(\\gamma_{3} \\right)} + 1.0 e^{i \\eta_{3} - i \\xi_{2}} \\sin{\\left(\\gamma_{3} \\right)} \\sin{\\left(\\frac{\\phi}{2} \\right)} \\cos{\\left(\\gamma_{2} \\right)} - 0.25 \\sqrt{2 \\sqrt{2} + 4}\\\\- 1.0 e^{- i \\eta_{2} - i \\xi_{3}} \\sin{\\left(\\gamma_{2} \\right)} \\sin{\\left(\\frac{\\phi}{2} \\right)} \\cos{\\left(\\gamma_{3} \\right)} - 1.0 e^{- i \\eta_{3} + i \\xi_{2}} \\sin{\\left(\\gamma_{3} \\right)} \\sin{\\left(\\frac{\\theta}{2} \\right)} \\cos{\\left(\\gamma_{2} \\right)} - 0.25 \\sqrt{2 \\sqrt{2} + 4} & - 1.0 e^{i \\eta_{2} - i \\eta_{3}} \\sin{\\left(\\gamma_{2} \\right)} \\sin{\\left(\\gamma_{3} \\right)} \\sin{\\left(\\frac{\\theta}{2} \\right)} + 1.0 e^{- i \\xi_{2} - i \\xi_{3}} \\sin{\\left(\\frac{\\phi}{2} \\right)} \\cos{\\left(\\gamma_{2} \\right)} \\cos{\\left(\\gamma_{3} \\right)} + 0.25 \\sqrt{2 \\sqrt{2} + 4}\\end{matrix}\\right]$"
      ],
      "text/plain": [
       "⎡   -ⅈ⋅η₂ + ⅈ⋅η₃                    ⎛φ⎞        ⅈ⋅ξ₂ + ⅈ⋅ξ₃    ⎛θ⎞             \n",
       "⎢- ℯ            ⋅sin(γ₂)⋅sin(γ₃)⋅sin⎜─⎟ + 1.0⋅ℯ           ⋅sin⎜─⎟⋅cos(γ₂)⋅cos(\n",
       "⎢                                   ⎝2⎠                       ⎝2⎠             \n",
       "⎢                                                                             \n",
       "⎢    -ⅈ⋅η₂ - ⅈ⋅ξ₃            ⎛φ⎞            -ⅈ⋅η₃ + ⅈ⋅ξ₂            ⎛θ⎞       \n",
       "⎢ - ℯ            ⋅sin(γ₂)⋅sin⎜─⎟⋅cos(γ₃) - ℯ            ⋅sin(γ₃)⋅sin⎜─⎟⋅cos(γ₂\n",
       "⎣                            ⎝2⎠                                    ⎝2⎠       \n",
       "\n",
       "             __________       ⅈ⋅η₂ + ⅈ⋅ξ₃            ⎛θ⎞                ⅈ⋅η₃ -\n",
       "γ₃) - 0.25⋅╲╱ 2⋅√2 + 4   1.0⋅ℯ           ⋅sin(γ₂)⋅sin⎜─⎟⋅cos(γ₃) + 1.0⋅ℯ      \n",
       "                                                     ⎝2⎠                      \n",
       "                                                                              \n",
       "           __________       ⅈ⋅η₂ - ⅈ⋅η₃                    ⎛θ⎞        -ⅈ⋅ξ₂ - \n",
       ") - 0.25⋅╲╱ 2⋅√2 + 4     - ℯ           ⋅sin(γ₂)⋅sin(γ₃)⋅sin⎜─⎟ + 1.0⋅ℯ        \n",
       "                                                           ⎝2⎠                \n",
       "\n",
       " ⅈ⋅ξ₂            ⎛φ⎞                  __________⎤\n",
       "     ⋅sin(γ₃)⋅sin⎜─⎟⋅cos(γ₂) - 0.25⋅╲╱ 2⋅√2 + 4 ⎥\n",
       "                 ⎝2⎠                            ⎥\n",
       "                                                ⎥\n",
       "ⅈ⋅ξ₃    ⎛φ⎞                          __________ ⎥\n",
       "    ⋅sin⎜─⎟⋅cos(γ₂)⋅cos(γ₃) + 0.25⋅╲╱ 2⋅√2 + 4  ⎥\n",
       "        ⎝2⎠                                     ⎦"
      ]
     },
     "execution_count": 42,
     "metadata": {},
     "output_type": "execute_result"
    }
   ],
   "source": [
    "simplify(U(xi3,et3,ga3)*D2(th,ph)*U(xi2,et2,ga2) - (1/2)*sqrt(1+1/sqrt(2))*Matrix([[1,1],[1,-1]]))"
   ]
  },
  {
   "cell_type": "markdown",
   "id": "3d682d91",
   "metadata": {},
   "source": [
    "## POVMs de 1 qubit com $n$ elementos\n",
    "\n",
    "Pode-se compor o circuito acima para implementar um POVM com $n$ elementos, como mostrado na figura abaixo:\n",
    "\n",
    "<img src = 'qcircuit_povmn.png' width = '800'>"
   ]
  },
  {
   "cell_type": "markdown",
   "id": "dc645984",
   "metadata": {},
   "source": [
    "Os autores dizem que este circuito geral prepara o estado\n",
    "\\begin{equation}\n",
    "|\\Psi\\rangle = \\sum_{j=1}^{n-1}(M_{j}|\\psi_{0}\\rangle)\\otimes|o_{1}^{(j)}\\rangle + (M_{n}|\\psi_{0}\\rangle)\\otimes|o_{2}^{(n-1)}\\rangle,\n",
    "\\end{equation}\n",
    "com \n",
    "\\begin{equation}\n",
    "M_{j} = \n",
    "\\begin{cases} \n",
    "V_{1}^{(1)}D_{1}^{(1)}U \\text{, para } j=1, \\\\\n",
    "V_{1}^{(j)}D_{1}^{(j)}\\Pi_{k=1}^{j-1}V_{2}^{(k)}D_{2}^{(k)}U \\text{, para } 1<j<n, \\\\\n",
    "\\Pi_{k=1}^{n-1}V_{2}^{(k)}D_{2}^{(k)}U \\text{, para } j = n.\n",
    "\\end{cases}\n",
    "\\end{equation}"
   ]
  },
  {
   "cell_type": "markdown",
   "id": "5eadebc7",
   "metadata": {},
   "source": [
    "### Caso $n=3$: <br>\n",
    "Depois da aplicação da porta $U$ e do módulo 1, teremos obtido o estado\n",
    "\\begin{equation}\n",
    "|\\Phi_{1}\\rangle = \\big((V_{1}^{(1)}D_{1}^{(1)}U|\\psi_{0}\\rangle_{A})\\otimes|0\\rangle_{B} + (V_{2}^{(1)}D_{2}^{(1)}U|\\psi_{0}\\rangle_{A})\\otimes|1\\rangle_{B}\\big)\\otimes|0\\rangle_{C},\n",
    "\\end{equation}\n",
    "com \n",
    "\\begin{align}\n",
    "& D_{1}^{(1)} = \\cos(\\theta_{1}/2)|0\\rangle_{A}\\langle 0| + \\cos(\\phi_{1}/2)|1\\rangle_{A}\\langle 1| \\\\\n",
    "& D_{2}^{(1)} = \\sin(\\theta_{1}/2)|0\\rangle_{A}\\langle 0| + \\sin(\\phi_{1}/2)|1\\rangle_{A}\\langle 1|.\n",
    "\\end{align}\n",
    "\n",
    "Para ter algo parecido com o caso $n=2$, vamos definir\n",
    "\\begin{equation}\n",
    "V_{2}^{(1)}D_{2}^{(1)}U|\\psi_{0}\\rangle_{A} =: c|0\\rangle_{A} + d|1\\rangle_{A}\n",
    "\\end{equation}\n",
    "e\n",
    "\\begin{equation}\n",
    "V_{1}^{(1)}D_{1}^{(1)}U =: M_{1}\n",
    "\\end{equation}\n",
    "para escrever\n",
    "\\begin{align}\n",
    "|\\Phi_{1}\\rangle & = M_{1}|\\psi_{0}\\rangle_{A}|00\\rangle_{BC} +  (c|0\\rangle_{A} + d|1\\rangle_{A})\\otimes|10\\rangle_{BC} \\\\\n",
    "& = M_{1}|\\psi_{0}\\rangle_{A}|00\\rangle_{BC} +  c|01\\rangle_{AB}\\otimes|0\\rangle_{C} + d|11\\rangle_{AB}\\otimes|0\\rangle_{C}.\n",
    "\\end{align}"
   ]
  },
  {
   "cell_type": "markdown",
   "id": "3bc360fe",
   "metadata": {},
   "source": [
    "Seguindo, aplicamos as rotações controladas \n",
    "\\begin{align}\n",
    "C^{A_{0}B_{1}\\rightarrow C}_{R_{y}(\\theta_{2})} = |0\\rangle_{A}\\langle 0|\\otimes|1\\rangle_{B}\\langle 1|\\otimes R_{y}(\\theta_{2}) + (|0\\rangle_{A}\\langle 0|\\otimes|0\\rangle_{B}\\langle 0|+|1\\rangle_{A}\\langle 1|\\otimes|0\\rangle_{B}\\langle 0|+|1\\rangle_{A}\\langle 1|\\otimes|1\\rangle_{B}\\langle 1|)\\otimes\\mathbb{I}_{C}.\n",
    "\\end{align}\n",
    "e\n",
    "\\begin{align}\n",
    "C^{A_{1}B_{1}\\rightarrow C}_{R_{y}(\\phi_{2})} = |1\\rangle_{A}\\langle 1|\\otimes|1\\rangle_{B}\\langle 1|\\otimes R_{y}(\\phi_{2}) + (|0\\rangle_{A}\\langle 0|\\otimes|0\\rangle_{B}\\langle 0|+|1\\rangle_{A}\\langle 1|\\otimes|0\\rangle_{B}\\langle 0|+|0\\rangle_{A}\\langle 0|\\otimes|1\\rangle_{B}\\langle 1|)\\otimes\\mathbb{I}_{C}.\n",
    "\\end{align}\n",
    "para obter\n",
    "\\begin{align}\n",
    "|\\Phi_{2}\\rangle & = C^{A_{1}B_{1}\\rightarrow C}_{R_{y}(\\phi_{2})}C^{A_{0}B_{1}\\rightarrow C}_{R_{y}(\\theta_{2})}|\\Phi_{1}\\rangle \\\\\n",
    "& = M_{1}|\\psi_{0}\\rangle_{A}|00\\rangle_{BC} +  c|01\\rangle_{AB}\\otimes R_{y}(\\theta_{2}/2)|0\\rangle_{C} + d|11\\rangle_{AB}\\otimes R_{y}(\\phi_{2}/2)|0\\rangle_{C} \\\\\n",
    "& = M_{1}|\\psi_{0}\\rangle_{A}|00\\rangle_{BC} +  c|01\\rangle_{AB}\\otimes \\big(\\cos(\\theta_{2}/2)|0\\rangle_{C}+\\sin(\\theta_{2}/2)|1\\rangle_{C}\\big) + d|11\\rangle_{AB}\\otimes \\big(\\cos(\\phi_{2}/2)|0\\rangle_{C}+\\sin(\\phi_{2}/2)|1\\rangle_{C}\\big) \\\\\n",
    "& = M_{1}|\\psi_{0}\\rangle_{A}|00\\rangle_{BC} +  \\big(c\\cos(\\theta_{2}/2)|0\\rangle_{A}+d\\cos(\\phi_{2}/2)|1\\rangle_{A}\\big)\\otimes|10\\rangle_{BC} +  \\big(c\\sin(\\theta_{2}/2)|0\\rangle_{A}+d\\sin(\\phi_{2}/2)|1\\rangle_{A}\\big)\\otimes|11\\rangle_{BC} \\\\\n",
    "& = M_{1}|\\psi_{0}\\rangle_{A}|00\\rangle_{BC} +  D_{1}^{(2)}\\big(c|0\\rangle_{A}+d|1\\rangle_{A}\\big)\\otimes|10\\rangle_{BC} +  D_{2}^{(2)}\\big(c|0\\rangle_{A}+d|1\\rangle_{A}\\big)\\otimes|11\\rangle_{BC} \\\\\n",
    "& = M_{1}|\\psi_{0}\\rangle_{A}|00\\rangle_{BC} +  D_{1}^{(2)}V_{2}^{(1)}D_{2}^{(1)}U|\\psi_{0}\\rangle_{A}\\otimes|10\\rangle_{BC} +  D_{2}^{(2)}V_{2}^{(1)}D_{2}^{(1)}U|\\psi_{0}\\rangle_{A}\\otimes|11\\rangle_{BC} \\\\\n",
    "\\end{align}\n",
    "com  \n",
    "\\begin{align}\n",
    "& D_{1}^{(2)} := \\cos(\\theta_{2}/2)|0\\rangle_{A}\\langle 0| + \\cos(\\phi_{2}/2)|1\\rangle_{A}\\langle 1|, \\\\\n",
    "& D_{2}^{(2)} := \\sin(\\theta_{2}/2)|0\\rangle_{A}\\langle 0| + \\sin(\\phi_{2}/2)|1\\rangle_{A}\\langle 1|.\n",
    "\\end{align}"
   ]
  },
  {
   "cell_type": "markdown",
   "id": "f22e7a23",
   "metadata": {},
   "source": [
    "Aplicando $C_{V_{1}^{(2)}}^{B_{1}C_{0}\\rightarrow A}$ e $C_{V_{2}^{(2)}}^{B_{1}C_{1}\\rightarrow A}$ obteremos\n",
    "\\begin{align}\n",
    "|\\Phi_{3}\\rangle & = C_{V_{1}^{(2)}}^{B_{1}C_{0}\\rightarrow A}C_{V_{2}^{(2)}}^{B_{1}C_{1}\\rightarrow A}|\\Phi_{2}\\rangle \\\\\n",
    "& = M_{1}|\\psi_{0}\\rangle_{A}|00\\rangle_{BC} +  V_{1}^{(2)}D_{1}^{(2)}V_{2}^{(1)}D_{2}^{(1)}U|\\psi_{0}\\rangle_{A}\\otimes|10\\rangle_{BC} +  V_{2}^{(2)}D_{2}^{(2)}V_{2}^{(1)}D_{2}^{(1)}U|\\psi_{0}\\rangle_{A}\\otimes|11\\rangle_{BC} \\\\\n",
    "& = M_{1}|\\psi_{0}\\rangle_{A}|00\\rangle_{BC} +  M_{2}|\\psi_{0}\\rangle_{A}\\otimes|10\\rangle_{BC} +  M_{3}|\\psi_{0}\\rangle_{A}\\otimes|11\\rangle_{BC}\n",
    "\\end{align}\n",
    "com\n",
    "\\begin{align}\n",
    "& M_{1} := V_{1}^{(1)}D_{1}^{(1)}U, \\\\\n",
    "& M_{2} := V_{1}^{(2)}D_{1}^{(2)}V_{2}^{(1)}D_{2}^{(1)}U, \\\\\n",
    "& M_{3} := V_{2}^{(2)}D_{2}^{(2)}V_{2}^{(1)}D_{2}^{(1)}U.\n",
    "\\end{align}"
   ]
  },
  {
   "cell_type": "markdown",
   "id": "1d15e2e4",
   "metadata": {},
   "source": [
    "Verificação da relação de completeza:\n",
    "\\begin{align}\n",
    "\\sum_{j}M_{j}^{\\dagger}M_{j} & = M_{1}^{\\dagger}M_{1} + M_{2}^{\\dagger}M_{2} + M_{3}^{\\dagger}M_{3} \\\\\n",
    "& = U^{\\dagger}D_{1}^{(1)}(V_{1}^{(1)})^{\\dagger}V_{1}^{(1)}D_{1}^{(1)}U + U^{\\dagger}D_{2}^{(1)}(V_{2}^{(1)})^{\\dagger}D_{1}^{(2)}(V_{1}^{(2)})^{\\dagger}V_{1}^{(2)}D_{1}^{(2)}V_{2}^{(1)}D_{2}^{(1)}U \\\\\n",
    "& + U^{\\dagger}D_{2}^{(1)}(V_{2}^{(1)})^{\\dagger}D_{2}^{(2)}(V_{2}^{(2)})^{\\dagger}V_{2}^{(2)}D_{2}^{(2)}V_{2}^{(1)}D_{2}^{(1)}U \\\\\n",
    "& = U^{\\dagger}(D_{1}^{(1)})^{2}U + U^{\\dagger}D_{2}^{(1)}(V_{2}^{(1)})^{\\dagger}(D_{1}^{(2)})^{2}V_{2}^{(1)}D_{2}^{(1)}U + U^{\\dagger}D_{2}^{(1)}(V_{2}^{(1)})^{\\dagger}(D_{2}^{(2)})^{2}V_{2}^{(1)}D_{2}^{(1)}U \\\\\n",
    "& = U^{\\dagger}(D_{1}^{(1)})^{2}U + U^{\\dagger}D_{2}^{(1)}(V_{2}^{(1)})^{\\dagger}\\big((D_{1}^{(2)})^{2}+(D_{2}^{(2)})^{2}\\big)V_{2}^{(1)}D_{2}^{(1)}U \\\\\n",
    "& = U^{\\dagger}(D_{1}^{(1)})^{2}U + U^{\\dagger}D_{2}^{(1)}(V_{2}^{(1)})^{\\dagger}V_{2}^{(1)}D_{2}^{(1)}U \\\\\n",
    "& = U^{\\dagger}(D_{1}^{(1)})^{2}U + U^{\\dagger}(D_{2}^{(1)})^{2}U = U^{\\dagger}\\big((D_{1}^{(1)})^{2}+(D_{2}^{(1)})^{2}\\big)U \\\\\n",
    "& = U^{\\dagger}U = \\mathbb{I}.\n",
    "\\end{align}"
   ]
  },
  {
   "cell_type": "markdown",
   "id": "8b1b86e6",
   "metadata": {},
   "source": [
    "### Experimento no IBMQ\n",
    "Como um estado geral de um qubit pode ser escrito como\n",
    "\\begin{equation}\n",
    "|\\psi(\\theta,\\phi)\\rangle = \\cos(\\theta/2)|0\\rangle + e^{i\\phi}\\sin(\\theta/2)|1\\rangle,\n",
    "\\end{equation}\n",
    "vemos que\n",
    "\\begin{align}\n",
    "& |\\psi(0,0)\\rangle=|0\\rangle, \\\\\n",
    "& |\\psi(2\\pi/3,0)\\rangle = (|0\\rangle + \\sqrt{3}|1\\rangle)/2, \\\\\n",
    "& |\\psi(4\\pi/3,0)\\rangle = -(|0\\rangle - \\sqrt{3}|1\\rangle)/2,\n",
    "\\end{align}\n",
    "que \"correspondem\" aos elementos do POVM $\\{M_{1},M_{2},M_{3}\\}$, respectivamente. Ou seja, este POVM \"corresponde\" a direções separadas por $120^{\\circ}$ no plano $xz$ da esfera de Bloch."
   ]
  },
  {
   "cell_type": "code",
   "execution_count": 4,
   "id": "14e5120b",
   "metadata": {},
   "outputs": [
    {
     "data": {
      "image/png": "[encoded data removed]",
      "text/latex": [
       "$\\displaystyle \\left( \\frac{1}{2}, \\  \\frac{\\sqrt{3}}{2}, \\  - \\frac{1}{2}, \\  \\frac{\\sqrt{3}}{2}\\right)$"
      ],
      "text/plain": [
       "⎛     √3        √3⎞\n",
       "⎜1/2, ──, -1/2, ──⎟\n",
       "⎝     2         2 ⎠"
      ]
     },
     "execution_count": 4,
     "metadata": {},
     "output_type": "execute_result"
    }
   ],
   "source": [
    "cos(pi/3), sin(pi/3), cos(2*pi/3), sin(2*pi/3)"
   ]
  },
  {
   "cell_type": "markdown",
   "id": "3e831a1d",
   "metadata": {},
   "source": [
    "Consideremos uma medida geral com os seguintes elementos\n",
    "\\begin{align}\n",
    "& M_{1} = a|0\\rangle\\langle 0|, \\\\\n",
    "& M_{2} = b|\\psi(2\\pi/3,0)\\rangle\\langle\\psi(2\\pi/3,0)|, \\\\\n",
    "& M_{2} = c|\\psi(4\\pi/3,0)\\rangle\\langle\\psi(2\\pi/3,0)|.\n",
    "\\end{align}\n",
    "A relação de completeza deve ser satisfeita:\n",
    "\\begin{align}\n",
    "\\mathbb{I} & =: \\sum_{j}M_{j}^{\\dagger}M_{j} \\\\\n",
    "& = M_{1}^{\\dagger}M_{1} + M_{2}^{\\dagger}M_{2} + M_{3}^{\\dagger}M_{3} = M_{1}^{2} + M_{2}^{2} + M_{3}^{2} \\\\\n",
    "& = a^{2}|0\\rangle\\langle 0| + b^{2}|\\psi(2\\pi/3,0)\\rangle\\langle\\psi(2\\pi/3,0)| + c^{2}|\\psi(4\\pi/3,0)\\rangle\\langle\\psi(2\\pi/3,0)| \\\\\n",
    "& = a^{2}|0\\rangle\\langle 0| + \\frac{b^{2}}{4}\\big(|0\\rangle+\\sqrt{3}|1\\rangle\\big)\\big(\\langle 0|+\\sqrt{3}\\langle1|\\big) + \\frac{c^{2}}{4}\\big(|0\\rangle-\\sqrt{3}|1\\rangle\\big)\\big(\\langle 0|-\\sqrt{3}\\langle1|\\big) \\\\\n",
    "& = a^{2}|0\\rangle\\langle 0| + \\frac{b^{2}}{4}\\big(|0\\rangle\\langle 0| + \\sqrt{3}|0\\rangle\\langle 1| + \\sqrt{3}|1\\rangle\\langle 0| + 3|1\\rangle\\langle 1|\\big) \\\\\n",
    "& \\hspace{0.5cm} + \\frac{c^{2}}{4}\\big(|0\\rangle\\langle 0| - \\sqrt{3}|0\\rangle\\langle 1| - \\sqrt{3}|1\\rangle\\langle 0| + 3|1\\rangle\\langle 1|\\big)  \\\\\n",
    "& = a^{2}|0\\rangle\\langle 0| + 2\\frac{b^{2}}{4}\\big(|0\\rangle\\langle 0| + 3|1\\rangle\\langle 1|\\big) = (a^{2}+b^{2}/2)|0\\rangle\\langle 0| + (3b^{2}/2)|1\\rangle\\langle 1|, \\\\\n",
    "\\end{align}\n",
    "em que fizemos $c=b$. Devemos ter portanto\n",
    "\\begin{align}\n",
    "& (3b^{2}/2) = 1 \\ \\therefore\\ b = \\sqrt{2/3}, \\\\\n",
    "& \\therefore\\ a^{2}+b^{2}/2 = a^{2}+(2/3)/2 = 1 \\ \\therefore\\ a = \\sqrt{1-1/3}=\\sqrt{2/3}.\n",
    "\\end{align}"
   ]
  },
  {
   "cell_type": "markdown",
   "id": "7c9825e9",
   "metadata": {},
   "source": [
    "Obtemos assim\n",
    "\\begin{align}\n",
    "& M_{1} = \\sqrt{2/3}|0\\rangle\\langle 0| = \\sqrt{\\frac{2}{3}}\\begin{bmatrix}1&0\\\\0&0\\end{bmatrix}, \\\\\n",
    "& M_{2} = \\sqrt{\\frac{2}{3}}|\\psi(2\\pi/3,0)\\rangle\\langle\\psi(2\\pi/3,0)| = \\frac{1}{4}\\sqrt{\\frac{2}{3}}\\begin{bmatrix}1&\\sqrt{3}\\\\\\sqrt{3}&3\\end{bmatrix}, \\\\\n",
    "& M_{2} = \\sqrt{\\frac{2}{3}}|\\psi(4\\pi/3,0)\\rangle\\langle\\psi(2\\pi/3,0)| = \\frac{1}{4}\\sqrt{\\frac{2}{3}}\\begin{bmatrix}1&-\\sqrt{3}\\\\-\\sqrt{3}&3\\end{bmatrix}.\n",
    "\\end{align}"
   ]
  },
  {
   "cell_type": "code",
   "execution_count": 7,
   "id": "4f845e09",
   "metadata": {},
   "outputs": [
    {
     "data": {
      "image/png": "[encoded data removed]",
      "text/latex": [
       "$\\displaystyle \\left( \\left[\\begin{matrix}0.816496580927726 & 0\\\\0 & 0\\end{matrix}\\right], \\  \\left[\\begin{matrix}0.204124145231932 & 0.353553390593274\\\\0.353553390593274 & 0.612372435695794\\end{matrix}\\right], \\  \\left[\\begin{matrix}0.204124145231932 & -0.353553390593274\\\\-0.353553390593274 & 0.612372435695794\\end{matrix}\\right]\\right)$"
      ],
      "text/plain": [
       "⎛⎡0.816496580927726  0⎤  ⎡0.204124145231932  0.353553390593274⎤  ⎡0.2041241452\n",
       "⎜⎢                    ⎥, ⎢                                    ⎥, ⎢            \n",
       "⎝⎣        0          0⎦  ⎣0.353553390593274  0.612372435695794⎦  ⎣-0.353553390\n",
       "\n",
       "31932   -0.353553390593274⎤⎞\n",
       "                          ⎥⎟\n",
       "593274  0.612372435695794 ⎦⎠"
      ]
     },
     "execution_count": 7,
     "metadata": {},
     "output_type": "execute_result"
    }
   ],
   "source": [
    "M1 = sqrt(2/3.)*Matrix([[1,0],[0,0]]); M2 = sqrt(2/3.)*(1/4)*Matrix([[1,sqrt(3.)],[sqrt(3.),3]])\n",
    "M3 = sqrt(2/3.)*(1/4)*Matrix([[1,-sqrt(3.)],[-sqrt(3.),3]])\n",
    "M1, M2, M3"
   ]
  },
  {
   "cell_type": "code",
   "execution_count": 6,
   "id": "1bfde221",
   "metadata": {},
   "outputs": [
    {
     "data": {
      "image/png": "[encoded data removed]",
      "text/latex": [
       "$\\displaystyle \\left[\\begin{matrix}1.0 & 0\\\\0 & 1.0\\end{matrix}\\right]$"
      ],
      "text/plain": [
       "⎡1.0   0 ⎤\n",
       "⎢        ⎥\n",
       "⎣ 0   1.0⎦"
      ]
     },
     "execution_count": 6,
     "metadata": {},
     "output_type": "execute_result"
    }
   ],
   "source": [
    "simplify(M1*M1 + M2*M2 + M3*M3)"
   ]
  },
  {
   "cell_type": "markdown",
   "id": "c86fa3a8",
   "metadata": {},
   "source": [
    "Novamente vamos calcular as probabilidades para um estado preparado $|\\psi_{0}\\rangle:=|0\\rangle$:\n",
    "\\begin{align}\n",
    "Pr(M_{1}|0\\rangle & = \\langle 0|M_{1}^{\\dagger}M_{1}|0\\rangle = 2/3 \\approx 0.66666666, \\\\\n",
    "Pr(M_{2}|0\\rangle & = \\langle 0|M_{2}^{\\dagger}M_{2}|0\\rangle = (2/3)|\\langle 0|\\psi(2\\pi/3,0)\\rangle|^{2} = (2/3)(1/4) = 1/6 \\approx 0.16666666, \\\\\n",
    "Pr(M_{3}|0\\rangle & = \\langle 0|M_{3}^{\\dagger}M_{3}|0\\rangle = (2/3)|\\langle 0|\\psi(4\\pi/3,0)\\rangle|^{2} = (2/3)(1/4) = 1/6 \\approx 0.16666666.\n",
    "\\end{align}"
   ]
  },
  {
   "cell_type": "code",
   "execution_count": 9,
   "id": "7b54d701",
   "metadata": {},
   "outputs": [
    {
     "data": {
      "image/png": "[encoded data removed]",
      "text/latex": [
       "$\\displaystyle \\left( 0.666666666666667, \\  0.166666666666667, \\  1.0\\right)$"
      ],
      "text/plain": [
       "(0.6666666666666666, 0.16666666666666666, 1.0)"
      ]
     },
     "execution_count": 9,
     "metadata": {},
     "output_type": "execute_result"
    }
   ],
   "source": [
    "2/3, 1/6, 2/3+2*(1/6)"
   ]
  },
  {
   "cell_type": "markdown",
   "id": "5d203415",
   "metadata": {},
   "source": [
    "Nesse caso, seguindo nossa __referência principal__, escolhemos\n",
    "\\begin{align}\n",
    "& U = \\mathbb{I}, V_{1}^{(1)} = \\mathbb{I} \\text{, } V_{2}^{(1)} = \\frac{1}{\\sqrt{2}}\\begin{bmatrix}1&1\\\\-1&1\\end{bmatrix}, \\\\\n",
    "& V_{1}^{(2)} = \\frac{1}{2}\\begin{bmatrix}1&-\\sqrt{3}\\\\\\sqrt{3}&1\\end{bmatrix} \\text{, } V_{2}^{(2)} = -\\frac{1}{2}\\begin{bmatrix}\\sqrt{3}&-1\\\\1&\\sqrt{3}\\end{bmatrix}, \\\\\n",
    "& \\theta_{1} = \\arccos(\\sqrt{2/3}) \\text{, } \\phi_{1} = \\pi/2 \\text{, } \\theta_{2} = 0 \\text{, } \\phi_{2} = \\pi/2.\n",
    "\\end{align}"
   ]
  },
  {
   "cell_type": "code",
   "execution_count": 48,
   "id": "0b6f20c4",
   "metadata": {},
   "outputs": [],
   "source": [
    "#th1 = acos(sqrt(2/3)); ph1 = pi/2; th2 = 0; ph2 = pi/2\n",
    "D11 = Matrix([[sqrt(2/3),0],[0,1/sqrt(2)]]); D21 = Matrix([[sqrt(1/3),0],[0,1/sqrt(2)]]) \n",
    "D12 = Matrix([[1,0],[0,1/sqrt(2)]]); D22 = Matrix([[0,0],[0,1/sqrt(2)]])\n",
    "U = Matrix([[1,0],[0,1]]); V11 = Matrix([[1,0],[0,1]]); V21 = (1/sqrt(2))*Matrix([[1,1],[-1,1]])\n",
    "V12 = (1/2)*Matrix([[1,-sqrt(3)],[sqrt(3),1]]); V22 = -(1/2)*Matrix([[sqrt(3),-1],[1,sqrt(3)]])"
   ]
  },
  {
   "cell_type": "code",
   "execution_count": 62,
   "id": "4bc9a497",
   "metadata": {},
   "outputs": [
    {
     "data": {
      "text/plain": [
       "(array([[0.81649658, 0.        ],\n",
       "        [0.        , 0.70710678]]),\n",
       " array([[0.81649658, 0.        ],\n",
       "        [0.        , 0.        ]]))"
      ]
     },
     "execution_count": 62,
     "metadata": {},
     "output_type": "execute_result"
    }
   ],
   "source": [
    "M1 = V11*D11*U\n",
    "np.array(M1).astype(np.float64), np.array(Matrix([[sqrt(2/3),0],[0,0]])).astype(np.float64)"
   ]
  },
  {
   "cell_type": "code",
   "execution_count": 56,
   "id": "1bf5a9ff",
   "metadata": {},
   "outputs": [
    {
     "data": {
      "text/plain": [
       "(array([[ 0.45412415, -0.05618622],\n",
       "        [ 0.20921582,  0.6097894 ]]),\n",
       " array([[0.20412415, 0.35355339],\n",
       "        [0.35355339, 0.61237244]]))"
      ]
     },
     "execution_count": 56,
     "metadata": {},
     "output_type": "execute_result"
    }
   ],
   "source": [
    "M2 = V12*D12*V21*D21*U\n",
    "np.array(M2).astype(np.float64), np.array((1/4)*sqrt(2/3)*Matrix([[1,sqrt(3)],[sqrt(3),3]])).astype(np.float64)\n",
    "# não é o resultado que precisamos"
   ]
  },
  {
   "cell_type": "code",
   "execution_count": 57,
   "id": "af4817e0",
   "metadata": {},
   "outputs": [
    {
     "data": {
      "text/plain": [
       "(array([[-0.14433757,  0.1767767 ],\n",
       "        [ 0.25      , -0.30618622]]),\n",
       " array([[ 0.20412415, -0.35355339],\n",
       "        [-0.35355339,  0.61237244]]))"
      ]
     },
     "execution_count": 57,
     "metadata": {},
     "output_type": "execute_result"
    }
   ],
   "source": [
    "M3 = V22*D22*V21*D21*U\n",
    "np.array(M3).astype(np.float64), np.array((1/4)*sqrt(2/3)*Matrix([[1,-sqrt(3)],[-sqrt(3),3]])).astype(np.float64)\n",
    "# não é o resultado que precisamos"
   ]
  },
  {
   "cell_type": "code",
   "execution_count": 61,
   "id": "9d7d32a7",
   "metadata": {},
   "outputs": [
    {
     "data": {
      "text/plain": [
       "array([[ 1.00000000e+000, -3.69319145e-127],\n",
       "       [-3.69319145e-127,  1.00000000e+000]])"
      ]
     },
     "execution_count": 61,
     "metadata": {},
     "output_type": "execute_result"
    }
   ],
   "source": [
    "np.array(M1.T*M1 + M2.T*M2 + M3.T*M3).astype(np.float64) # esta ok a relacao de completeza"
   ]
  },
  {
   "cell_type": "markdown",
   "id": "749ce70e",
   "metadata": {},
   "source": [
    "A seguir precisaremos da porta geral de um qubit,\n",
    "\\begin{equation}\n",
    "U(\\theta,\\phi,\\lambda) = \\begin{bmatrix} \\cos(\\theta/2) & -e^{i\\lambda}\\sin(\\theta/2) \\\\ e^{i\\phi}\\sin(\\theta/2) & e^{i(\\phi+\\lambda)}\\cos(\\theta/2)\\end{bmatrix},\n",
    "\\end{equation}\n",
    "aplicada de forma comtrolada:\n",
    "\\begin{equation}\n",
    "CU(\\theta,\\phi,\\lambda,\\gamma) = |0\\rangle\\langle 0 |\\otimes I + |1\\rangle\\langle 1|\\otimes e^{i\\gamma}U(\\theta,\\phi,\\lambda).\n",
    "\\end{equation}\n",
    "Precisaremos aplicar\n",
    "\\begin{equation}\n",
    "V_{2}^{(1)} = \\frac{1}{\\sqrt{2}}\\begin{bmatrix}1&1\\\\-1&1\\end{bmatrix} = U(\\pi/2,\\pi,\\pi).\n",
    "\\end{equation}"
   ]
  },
  {
   "cell_type": "markdown",
   "id": "728f38ed",
   "metadata": {},
   "source": [
    "Para o 2° módulo, precisaremos da $R_{y}$ duplamente controlada. Embora $CCX$ esteja disponível no qiskit, teremos que contruir $CCY$. "
   ]
  },
  {
   "cell_type": "code",
   "execution_count": 78,
   "id": "41a6af6a",
   "metadata": {},
   "outputs": [],
   "source": [
    "def qc_ry(th):\n",
    "    qr = QuantumRegister(1); qc = QuantumCircuit(qr, name = 'RY')\n",
    "    qc.ry(th, 0)\n",
    "    return qc"
   ]
  },
  {
   "cell_type": "code",
   "execution_count": 81,
   "id": "d166f7e9",
   "metadata": {},
   "outputs": [
    {
     "data": {
      "image/png": "[encoded data removed]",
      "text/plain": [
       "<Figure size 775.049x264.88 with 1 Axes>"
      ]
     },
     "execution_count": 81,
     "metadata": {},
     "output_type": "execute_result"
    }
   ],
   "source": [
    "qr = QuantumRegister(3); cr = ClassicalRegister(2); qc = QuantumCircuit(qr, cr)\n",
    "# U = I\n",
    "qc.x(qr[0]); qc.cry(math.acos(math.sqrt(2/3)), 0, 1); qc.x(qr[0]); qc.cry(math.pi/2, 0, 1)\n",
    "# V11 = I\n",
    "qc.cu(math.pi/2,math.pi,math.pi,0, 1,0)\n",
    "qc.barrier()\n",
    "qc_ry_ = qc_ry(0); ccry = qc_ry_.to_gate().control(2)\n",
    "qc.x(0); qc.append(ccry, qr); qc.x(0)\n",
    "qc.ry(0, 0)\n",
    "qc.measure(1,0); qc.measure(2,1)\n",
    "qc.draw(output = 'mpl')"
   ]
  },
  {
   "cell_type": "markdown",
   "id": "bb128aca",
   "metadata": {},
   "source": [
    "##### Exercício\n",
    "Analogamente ao que fizemos para $n=2$ e $n=3$, obtenha os operadores de medida $M_{j}$ para $n=4$ e verifique a relação de completeza."
   ]
  },
  {
   "cell_type": "markdown",
   "id": "735333ed",
   "metadata": {},
   "source": [
    "_SOL._ Começamos com o estado\n",
    "\\begin{align}\n",
    "|\\Xi_{1}\\rangle & = \\big(V_{1}^{(1)}D_{1}^{(1)}U|\\psi_{0}\\rangle_{A}|00\\rangle_{BC} +  V_{1}^{(2)}D_{1}^{(2)}V_{2}^{(1)}D_{2}^{(1)}U|\\psi_{0}\\rangle_{A}\\otimes|10\\rangle_{BC} +  V_{2}^{(2)}D_{2}^{(2)}V_{2}^{(1)}D_{2}^{(1)}U|\\psi_{0}\\rangle_{A}\\otimes|11\\rangle_{BC} \\big)\\otimes |0\\rangle_{D} \\\\\n",
    "& =: M_{1}|\\psi_{0}\\rangle_{A}|000\\rangle_{BCD} +  M_{2}|\\psi_{0}\\rangle_{A}\\otimes|100\\rangle_{BCD} +  \\big(e|0\\rangle_{A}+f|1\\rangle_{A}\\big)\\otimes|11\\rangle_{BC}|0\\rangle_{D} \\\\\n",
    "& =: M_{1}|\\psi_{0}\\rangle_{A}|000\\rangle_{BCD} +  M_{2}|\\psi_{0}\\rangle_{A}\\otimes|100\\rangle_{BCD} +  e|011\\rangle_{ABC}|0\\rangle_{D} + f|111\\rangle_{ABC}|0\\rangle_{D}.\n",
    "\\end{align}\n",
    "Seguindo, aplicamos as $R_{y}$ controladas\n",
    "\\begin{align}\n",
    "|\\Xi_{2}\\rangle & = C_{R_{y}(\\theta_{3})}^{A_{0}B_{1}C_{1}\\rightarrow D}C_{R_{y}(\\phi_{3})}^{A_{1}B_{1}C_{1}\\rightarrow D}|\\Xi_{1}\\rangle \\\\\n",
    "& =: M_{1}|\\psi_{0}\\rangle_{A}|000\\rangle_{BCD} +  M_{2}|\\psi_{0}\\rangle_{A}\\otimes|100\\rangle_{BCD} +  e|011\\rangle_{ABC}R_{y}(\\theta_{3})|0\\rangle_{D} + f|111\\rangle_{ABC}R_{y}(\\theta_{3})|0\\rangle_{D} \\\\\n",
    "& =: M_{1}|\\psi_{0}\\rangle_{A}|000\\rangle_{BCD} +  M_{2}|\\psi_{0}\\rangle_{A}\\otimes|100\\rangle_{BCD} +  e|011\\rangle_{ABC}\\big(\\cos(\\theta_{3}/2)|0\\rangle_{D}+\\sin(\\theta_{3}/2)|1\\rangle_{D}\\big) \\\\\n",
    "& + f|111\\rangle_{ABC}\\big(\\cos(\\phi_{3}/2)|0\\rangle_{D}+\\sin(\\phi_{3}/2)|1\\rangle_{D}\\big) \\\\\n",
    "& =: M_{1}|\\psi_{0}\\rangle_{A}|000\\rangle_{BCD} +  M_{2}|\\psi_{0}\\rangle_{A}\\otimes|100\\rangle_{BCD} +  \\big(e\\cos(\\theta_{3}/2)|0\\rangle_{A}+f\\cos(\\phi_{3}/2)|1\\rangle_{A}\\big)|110\\rangle_{BCD} \\\\\n",
    "& + \\big(e\\sin(\\theta_{3}/2)|0\\rangle_{A}+f\\sin(\\phi_{3}/2)|1\\rangle_{A}\\big)|111\\rangle_{BCD} \\\\\n",
    "& =: M_{1}|\\psi_{0}\\rangle_{A}|000\\rangle_{BCD} +  M_{2}|\\psi_{0}\\rangle_{A}\\otimes|100\\rangle_{BCD} +  D_{1}^{(3)}\\big(e|0\\rangle_{A}+f|1\\rangle_{A}\\big)|110\\rangle_{BCD} \\\\\n",
    "& + D_{2}^{(3)}\\big(e|0\\rangle_{A}+f|1\\rangle_{A}\\big)|111\\rangle_{BCD} \\\\\n",
    "& =: M_{1}|\\psi_{0}\\rangle_{A}|000\\rangle_{BCD} +  M_{2}|\\psi_{0}\\rangle_{A}\\otimes|100\\rangle_{BCD} +  D_{1}^{(3)}V_{2}^{(2)}D_{2}^{(2)}V_{2}^{(1)}D_{2}^{(1)}U|\\psi_{0}\\rangle_{A}|110\\rangle_{BCD} \\\\\n",
    "& + D_{2}^{(3)}V_{2}^{(2)}D_{2}^{(2)}V_{2}^{(1)}D_{2}^{(1)}U|\\psi_{0}\\rangle_{A}|111\\rangle_{BCD}.\n",
    "\\end{align}"
   ]
  },
  {
   "cell_type": "markdown",
   "id": "842cf657",
   "metadata": {},
   "source": [
    "em que definimos\n",
    "\\begin{align}\n",
    "& D_{1}^{(3)} := \\cos(\\theta_{3}/2)|0\\rangle_{A}\\langle 0| + \\cos(\\phi_{3}/2)|1\\rangle_{A}\\langle 1|, \\\\\n",
    "& D_{2}^{(3)} := \\sin(\\theta_{3}/2)|0\\rangle_{A}\\langle 0| + \\sin(\\phi_{3}/2)|1\\rangle_{A}\\langle 1|.\n",
    "\\end{align}\n",
    "\n",
    "Finalmente, aplicando as $V$ controladas teremos\n",
    "\\begin{align}\n",
    "|\\Xi_{3}\\rangle & = C_{V_{1}^{(3)}}^{B_{1}C_{1}D_{0}\\rightarrow A}C_{V_{2}^{(3)}}^{B_{1}C_{1}D_{1}\\rightarrow A}|\\Xi_{2}\\rangle \\\\\n",
    "& =: M_{1}|\\psi_{0}\\rangle_{A}|000\\rangle_{BCD} +  M_{2}|\\psi_{0}\\rangle_{A}\\otimes|100\\rangle_{BCD} +  V_{1}^{(3)}D_{1}^{(3)}V_{2}^{(2)}D_{2}^{(2)}V_{2}^{(1)}D_{2}^{(1)}U|\\psi_{0}\\rangle_{A}|110\\rangle_{BCD} \\\\\n",
    "& + V_{2}^{(3)}D_{2}^{(3)}V_{2}^{(2)}D_{2}^{(2)}V_{2}^{(1)}D_{2}^{(1)}U|\\psi_{0}\\rangle_{A}|111\\rangle_{BCD} \\\\\n",
    "& =: M_{1}|\\psi_{0}\\rangle_{A}|000\\rangle_{BCD} +  M_{2}|\\psi_{0}\\rangle_{A}\\otimes|100\\rangle_{BCD} +  M_{3}|\\psi_{0}\\rangle_{A}|110\\rangle_{BCD} + M_{4}|\\psi_{0}\\rangle_{A}|111\\rangle_{BCD} \\\\\n",
    "\\end{align}\n",
    "em que definimos\n",
    "\\begin{align}\n",
    "& M_{1} := V_{1}^{(1)}D_{1}^{(1)}U, \\\\\n",
    "& M_{2} := V_{1}^{(2)}D_{1}^{(2)}V_{2}^{(1)}D_{2}^{(1)}U, \\\\\n",
    "& M_{3} := V_{1}^{(3)}D_{1}^{(3)}V_{2}^{(2)}D_{2}^{(2)}V_{2}^{(1)}D_{2}^{(1)}U, \\\\\n",
    "& M_{4} := V_{2}^{(3)}D_{2}^{(3)}V_{2}^{(2)}D_{2}^{(2)}V_{2}^{(1)}D_{2}^{(1)}U.\n",
    "\\end{align}"
   ]
  },
  {
   "cell_type": "markdown",
   "id": "7e686a94",
   "metadata": {},
   "source": [
    "Verificação da relação de completeza\n",
    "\\begin{align}\n",
    "\\sum_{j}M_{j}^{\\dagger}M_{j} & = M_{1}^{\\dagger}M_{1} + M_{2}^{\\dagger}M_{2} + M_{3}^{\\dagger}M_{3} + M_{4}^{\\dagger}M_{4} \\\\\n",
    "& = U^{\\dagger}D_{1}^{(1)}(V_{1}^{(1)})^{\\dagger}V_{1}^{(1)}D_{1}^{(1)}U + U^{\\dagger}D_{2}^{(1)}(V_{2}^{(1)})^{\\dagger}D_{1}^{(2)}(V_{1}^{(2)})^{\\dagger}V_{1}^{(2)}D_{1}^{(2)}V_{2}^{(1)}D_{2}^{(1)}U \\\\\n",
    "& + U^{\\dagger}D_{2}^{(1)}(V_{2}^{(1)})^{\\dagger}D_{2}^{(2)}(V_{2}^{(2)})^{\\dagger}D_{1}^{(3)}(V_{1}^{(3)})^{\\dagger}V_{1}^{(3)}D_{1}^{(3)}V_{2}^{(2)}D_{2}^{(2)}V_{2}^{(1)}D_{2}^{(1)}U \\\\\n",
    "& + U^{\\dagger}D_{2}^{(1)}(V_{2}^{(1)})^{\\dagger}D_{2}^{(2)}(V_{2}^{(2)})^{\\dagger}D_{2}^{(3)}(V_{2}^{(3)})^{\\dagger}V_{2}^{(3)}D_{2}^{(3)}V_{2}^{(2)}D_{2}^{(2)}V_{2}^{(1)}D_{2}^{(1)}U \\\\\n",
    "& \\vdots \\\\\n",
    "& = \\mathbb{I}.\n",
    "\\end{align}"
   ]
  },
  {
   "cell_type": "markdown",
   "id": "6359bcc2",
   "metadata": {},
   "source": [
    "##### Exercício\n",
    "Analogamente ao que fizemos para $n=2$ e $n=3$, faça os cálculos, simulação e implemente experimentalmente no IBMQ o seguinte exemplo de medida geral em um qubit com $n=4$ elementos:\n",
    "\\begin{align}\n",
    "M_{1} = a|0\\rangle\\langle 0|, \\\\\n",
    "M_{2} = b|+\\rangle\\langle +|, \\\\\n",
    "M_{3} = c|1\\rangle\\langle 1|, \\\\\n",
    "M_{4} = d|-\\rangle\\langle -|, \n",
    "\\end{align}\n",
    "com $|\\pm\\rangle = (|0\\rangle\\pm|1\\rangle)/\\sqrt{2}$. Novamente, esta POVM pode ser associada com estados $\\{|\\psi(0,0)\\rangle,|\\psi(\\pi/2,0)\\rangle,|\\psi(\\pi,0)\\rangle,|\\psi(3\\pi/2,0)\\rangle$, separados sequencialmente por um ângulo $\\pi/2$ no plano $xz$ da esfera de Bloch. Primeiramente, verifique que é possível usarmos\n",
    "\\begin{equation}\n",
    "a=b=c=d=\\frac{1}{\\sqrt{2}}.\n",
    "\\end{equation}"
   ]
  },
  {
   "cell_type": "code",
   "execution_count": null,
   "id": "edc3076a",
   "metadata": {},
   "outputs": [],
   "source": []
  }
 ],
 "metadata": {
  "kernelspec": {
   "display_name": "Python 3 (ipykernel)",
   "language": "python",
   "name": "python3"
  },
  "language_info": {
   "codemirror_mode": {
    "name": "ipython",
    "version": 3
   },
   "file_extension": ".py",
   "mimetype": "text/x-python",
   "name": "python",
   "nbconvert_exporter": "python",
   "pygments_lexer": "ipython3",
   "version": "3.8.11"
  }
 },
 "nbformat": 4,
 "nbformat_minor": 5
}
