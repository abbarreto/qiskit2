{
 "cells": [
  {
   "cell_type": "markdown",
   "id": "c1a5405f",
   "metadata": {},
   "source": [
    "### Notas de aula de Computação Quântica <br> Autor: Jonas Maziero"
   ]
  },
  {
   "cell_type": "code",
   "execution_count": 1,
   "id": "60988f0e",
   "metadata": {},
   "outputs": [],
   "source": [
    "%run init.ipynb"
   ]
  },
  {
   "cell_type": "markdown",
   "id": "d7595bcf",
   "metadata": {},
   "source": [
    "# Algoritmo de Simon\n",
    "\n",
    "Nos é fornecido um oráculo que retorna o valor de uma função\n",
    "$$f:\\{0,1\\}^{n}\\rightarrow \\{0,1\\}^{n}.$$\n",
    "Essa função é tal que\n",
    "$$f(x)=f(y) \\text{ se e somente se } x=y\\oplus s.$$\n",
    "O problema de Simon é, fazendo perguntas para o oráculo, determinar se\n",
    "$$s=00\\cdots0 \\text{ ou }s\\ne00\\cdots0.$$\n",
    "OBS. Algumas vezes o problema de Simon é dito como o problema de determinar $s$.\n",
    "\n",
    "Notemos que se\n",
    "$$s=00\\cdots 0 \\text{ a função é } 1\\text{-pra-}1,$$\n",
    "ou seja, para diferentes valores de $x$ teremos diferentes valores de $f(x)$. Mas se\n",
    "$$s\\ne00\\cdots 0 \\text{ a função é } 2\\text{-pra-}1,$$\n",
    "ou seja, teremos 2 valores $x$ mapeados em um único valor $f(x)$."
   ]
  },
  {
   "cell_type": "markdown",
   "id": "4841eb47",
   "metadata": {},
   "source": [
    "Começamos inicializando 2 grupos de $n$ qubits nos estado\n",
    "$$|\\Psi_{0}\\rangle = |0\\rangle^{\\otimes n}\\otimes|0\\rangle^{\\otimes n}.$$\n",
    "\n",
    "Seguindo, como fizemos no algoritmo de Deutsch-Jozsa (ADJ) e no algoritmo de Bernstein-Vazirani (ABV), aplicamos portas de __Hadamard__ no primeiro grupo de $n$ qubits. Obtemos assim o estado\n",
    "\\begin{align}\n",
    "|\\Psi_{1}\\rangle & = \\big(H^{\\otimes n}\\otimes\\mathbb{I}^{\\otimes n}\\big)|\\Psi_{0}\\rangle = H^{\\otimes n}|0\\rangle^{\\otimes n}\\otimes|0\\rangle^{\\otimes n} = |+\\rangle^{\\otimes n}\\otimes|0\\rangle^{\\otimes n} \\\\\n",
    "& = \\frac{1}{2^{n/2}}\\sum_{x=0}^{2^{n}-1}|x\\rangle\\otimes|0\\rangle^{\\otimes n}.\n",
    "\\end{align}"
   ]
  },
  {
   "cell_type": "markdown",
   "id": "73427fa9",
   "metadata": {},
   "source": [
    "Também como nos ADJ e ABV, a ação do __oráculo__ é a seguinte\n",
    "$$U_{f}|x\\rangle\\otimes|y\\rangle=|x\\rangle\\otimes|y\\oplus f(x)\\rangle,$$\n",
    "ou\n",
    "$$U_{f} = \\sum_{x,y=0}^{2^{n}-1}|x\\rangle\\langle x|\\otimes|y\\oplus f(x)\\rangle\\langle y|.$$\n",
    "Com isso teremos que\n",
    "\\begin{align}\n",
    "|\\Psi_{2}\\rangle &= U_{f}|\\Psi_{1}\\rangle \\\\\n",
    "& = \\frac{1}{2^{n/2}}\\sum_{x=0}^{2^{n}-1}U_{f}|x\\rangle\\otimes|0\\rangle^{\\otimes n} = \\frac{1}{2^{n/2}}\\sum_{x=0}^{2^{n}-1}U_{f}|x\\rangle\\otimes|0\\rangle \\\\\n",
    "& = \\frac{1}{2^{n/2}}\\sum_{x=0}^{2^{n}-1}|x\\rangle\\otimes|0\\oplus f(x)\\rangle = \\frac{1}{2^{n/2}}\\sum_{x=0}^{2^{n}-1}|x\\rangle\\otimes|f(x)\\rangle.\n",
    "\\end{align}"
   ]
  },
  {
   "cell_type": "markdown",
   "id": "b9ba9b50",
   "metadata": {},
   "source": [
    "O algoritmo de Simon está ilustrado na figura abaixo.\n",
    "<img src='fig_simon.png' width='400'>"
   ]
  },
  {
   "cell_type": "markdown",
   "id": "7e1865e5",
   "metadata": {},
   "source": [
    "Seguindo, fazemos medidas no 2º grupo de $n$ qubits. A _probabilidade_ de obtermos o resultado $|j\\rangle=|j_{1}j_{2}\\cdots j_{n}\\rangle$ é\n",
    "\\begin{align}\n",
    "Pr(j|\\Psi_{2}) & = \\langle\\Psi_{2}|\\big(\\mathbb{I}_{n}\\otimes|j\\rangle\\langle j|\\big)|\\Psi_{2}\\rangle \\\\\n",
    "& = \\frac{1}{2^{n/2}}\\sum_{x=0}^{2^{n}-1}\\langle x|\\otimes\\langle f(x)|\\big(\\mathbb{I}_{n}\\otimes|j\\rangle\\langle j|\\big)\\frac{1}{2^{n/2}}\\sum_{y=0}^{2^{n}-1}|y\\rangle\\otimes|f(y)\\rangle \\\\\n",
    "& = \\frac{1}{2^{n}}\\sum_{x,y=0}^{2^{n}-1}\\langle x|y\\rangle\\otimes\\langle f(x)|j\\rangle\\langle j|f(y)\\rangle  = \\frac{1}{2^{n}}\\sum_{x,y=0}^{2^{n}-1}\\delta_{x,y}\\otimes\\langle f(x)|j\\rangle\\langle j|f(y)\\rangle \\\\\n",
    "& = \\frac{1}{2^{n}}\\sum_{x=0}^{2^{n}-1}\\langle f(x)|j\\rangle\\langle j|f(x)\\rangle = \\frac{1}{2^{n}}\\sum_{x=0}^{2^{n}-1}\\big|\\langle f(x)|j\\rangle\\big|^{2} \\\\\n",
    "& = \\begin{cases} 2^{-n} \\text{ se } f \\text{ é 1-pra-1} \\\\\n",
    "2^{-n+1} \\text{ se } f \\text{ é 2-pra-1} \\end{cases}.\n",
    "\\end{align}"
   ]
  },
  {
   "cell_type": "markdown",
   "id": "9c860beb",
   "metadata": {},
   "source": [
    "Se o resultado $|j\\rangle$ é obtido, o estado pós medida é proporcional a\n",
    "\\begin{align}\n",
    "\\big(\\mathbb{I}_{n}\\otimes|j\\rangle\\langle j|\\big)|\\Psi_{2}\\rangle  & = \\big(\\mathbb{I}_{n}\\otimes|j\\rangle\\langle j|\\big)\\frac{1}{2^{n/2}}\\sum_{x=0}^{2^{n}-1}|x\\rangle\\otimes|f(x)\\rangle \\\\\n",
    "& = \\frac{1}{2^{n/2}}\\sum_{x=0}^{2^{n}-1}|x\\rangle\\otimes\\langle j|f(x)\\rangle|j\\rangle.\n",
    "\\end{align}\n",
    "\n",
    "Então, se a função é $1\\text{-pra-}1$, os $f(x)$ são todos distintos e obteremos o estado pós-medida\n",
    "$$ |x\\rangle\\otimes|j\\rangle = |f^{-1}(j)\\rangle\\otimes|j\\rangle,$$\n",
    "em que usamos $f(x)=j\\ \\therefore\\ x=f^{-1}(f(x))=f^{-1}(j)$.\n",
    "\n",
    "Se a função é $2\\text{-pra-}1$, teremos 2 valores de $x$ tais que $f(x)=j$, e com isso o estado pós medida pode ser escrito como segue\n",
    "$$2^{-1/2}\\big(|x\\rangle+|x'\\rangle\\big)\\otimes|j\\rangle = 2^{-1/2}\\big(|x\\rangle+|x\\oplus s\\rangle\\big)\\otimes|j\\rangle.$$\n",
    "\n",
    "Até aqui, não conseguimos obter informação alguma sobre $s$ pois os estados $|x\\rangle$, tais que $f(x)=j$, são igualmente prováveis."
   ]
  },
  {
   "cell_type": "markdown",
   "id": "2962c94f",
   "metadata": {},
   "source": [
    "Seguindo, aplicaremos __portas de Hadamard__ em cada um dos $n$ qubits do 1º grupo de qubits. Antes, escrevemos\n",
    "\\begin{align}\n",
    "H^{\\otimes n} & = \\frac{1}{2^{n/2}}\\sum_{x,y=0}^{2^{n}-1}(-1)^{x\\cdot y}|x\\rangle\\langle y| \\\\\n",
    "& = \\sum_{y=0}^{2^{n}-1}\\Big(\\frac{1}{2^{n/2}}\\sum_{x=0}^{2^{n}-1}(-1)^{x\\cdot y}|x\\rangle\\Big)\\langle y| \\\\\n",
    "& = \\sum_{y=0}^{2^{n}-1}|\\psi_{y}\\rangle\\langle y|,\n",
    "\\end{align}\n",
    "em que usamos\n",
    "$$|\\psi_{y}\\rangle = \\frac{1}{2^{n/2}}\\sum_{x=0}^{2^{n}-1}(-1)^{x\\cdot y}|x\\rangle.$$"
   ]
  },
  {
   "cell_type": "markdown",
   "id": "6976a350",
   "metadata": {},
   "source": [
    "No caso em que $s=00\\cdots 0$, o estado evoluído será\n",
    "\\begin{align}\n",
    "& \\big(H^{\\otimes n}\\otimes\\mathbb{I}_{2}^{\\otimes n}\\big)\\big(|x\\rangle\\otimes|j\\rangle\\big) \\\\\n",
    "& = \\Big(\\sum_{y=0}^{2^{n}-1}|\\psi_{y}\\rangle\\langle y|\\otimes\\mathbb{I}_{2}^{\\otimes n}\\Big)\\big(|x\\rangle\\otimes|j\\rangle\\big) \\\\\n",
    "& = \\sum_{y=0}^{2^{n}-1}|\\psi_{y}\\rangle\\langle y|x\\rangle\\otimes|j\\rangle = \\sum_{y=0}^{2^{n}-1}|\\psi_{y}\\rangle\\delta_{y,x}\\otimes|j\\rangle \\\\\n",
    "& = |\\psi_{x}\\rangle\\otimes|j\\rangle = \\frac{1}{2^{n/2}}\\sum_{y=0}^{2^{n}-1}(-1)^{x\\cdot y}|y\\rangle\\otimes|j\\rangle \\\\\n",
    "& = \\frac{1}{2^{n/2}}\\sum_{y_{1},\\cdots,y_{n}=0}^{1}(-1)^{x_{1}y_{1}+\\cdots x_{n}y_{n}}|y_{1}\\cdots y_{n}\\rangle\\otimes|j\\rangle.\n",
    "\\end{align}\n",
    "Por conseguinte, neste caso, se medimos o 1º grupo de $n$ qubits na base computacional, obteremos qualquer um dos estados $|y_{1}\\cdots y_{n}\\rangle$ com igual probabilidade, $2^{-n}$."
   ]
  },
  {
   "cell_type": "markdown",
   "id": "cab1cfc6",
   "metadata": {},
   "source": [
    "No caso em que $s\\ne00\\cdots 0$, o estado evoluído será\n",
    "\\begin{align}\n",
    "& \\big(H^{\\otimes n}\\otimes\\mathbb{I}_{2}^{\\otimes n}\\big)2^{-1/2}\\big(\\big(|x\\rangle+|x\\oplus s\\rangle\\big))\\otimes|j\\rangle\\big) \\\\\n",
    "& = \\Big(\\sum_{y=0}^{2^{n}-1}|\\psi_{y}\\rangle\\langle y|\\otimes\\mathbb{I}_{2}^{\\otimes n}\\Big)2^{-1/2}\\big(\\big(|x\\rangle+|x\\oplus s\\rangle\\big)\\otimes|j\\rangle\\big) \\\\\n",
    "& = \\frac{1}{2^{1/2}}\\sum_{y=0}^{2^{n}-1}|\\psi_{y}\\rangle\\big(\\langle y|x\\rangle+\\langle y|x\\oplus s\\rangle\\big)\\otimes|j\\rangle \\\\\n",
    "& = \\frac{1}{2^{1/2}}\\sum_{y=0}^{2^{n}-1}|\\psi_{y}\\rangle\\big(\\delta_{y,x}+\\delta_{y,x\\oplus s}\\big)\\otimes|j\\rangle \\\\\n",
    "& = \\frac{1}{2^{1/2}}\\big(|\\psi_{x}\\rangle+|\\psi_{x\\oplus s}\\rangle\\big)\\otimes|j\\rangle \\\\\n",
    "& = \\frac{1}{2^{1/2}}\\Big(\\frac{1}{2^{n/2}}\\sum_{y=0}^{2^{n}-1}(-1)^{y\\cdot x}|y\\rangle + \\frac{1}{2^{n/2}}\\sum_{y=0}^{2^{n}-1}(-1)^{y\\cdot x\\oplus s}|y\\rangle\\Big)\\otimes|j\\rangle \\\\\n",
    "& = \\frac{1}{2^{(n+1)/2}}\\sum_{y=0}^{2^{n}-1}\\big((-1)^{y\\cdot x}+(-1)^{y\\cdot x\\oplus s}\\big)|y\\rangle\\otimes|j\\rangle \\\\\n",
    "\\end{align}\n",
    " "
   ]
  },
  {
   "cell_type": "code",
   "execution_count": null,
   "id": "11a91ae6",
   "metadata": {},
   "outputs": [],
   "source": []
  },
  {
   "cell_type": "code",
   "execution_count": null,
   "id": "a28a9c6f",
   "metadata": {},
   "outputs": [],
   "source": []
  },
  {
   "cell_type": "code",
   "execution_count": null,
   "id": "a0826097",
   "metadata": {},
   "outputs": [],
   "source": []
  },
  {
   "cell_type": "markdown",
   "id": "9c0f1a41",
   "metadata": {},
   "source": [
    "Não farei nenhuma análise sobre complexidade computacional. Mas observo que o algoritmo de Simon tem um ganho exponencial no número de queries em relação a algoritmos clássicos com erro limitado (ACEL). O algoritmo de Bernstein-Vazirani tem um ganho superpolinomial em relação a ACEL, enquanto que o algoritmo de Deutsch-Jozsa não tem ganho em relação a ACEL.\n",
    "\n",
    "Vale mencionar também que o algoritmo de Simon motivou Shor a propor seu bem conhecido algoritmo de fatoração."
   ]
  },
  {
   "cell_type": "markdown",
   "id": "d92ce474",
   "metadata": {},
   "source": [
    "### Exercícios\n",
    "\n",
    "1. Verifique que o operador $U_{f} = \\sum_{x,y=0}^{2^{n}-1}|x\\rangle\\langle x|\\otimes|y\\oplus f(x)\\rangle\\langle y|$ é unitário."
   ]
  },
  {
   "cell_type": "code",
   "execution_count": null,
   "id": "b232f48c",
   "metadata": {},
   "outputs": [],
   "source": []
  }
 ],
 "metadata": {
  "kernelspec": {
   "display_name": "Python 3 (ipykernel)",
   "language": "python",
   "name": "python3"
  },
  "language_info": {
   "codemirror_mode": {
    "name": "ipython",
    "version": 3
   },
   "file_extension": ".py",
   "mimetype": "text/x-python",
   "name": "python",
   "nbconvert_exporter": "python",
   "pygments_lexer": "ipython3",
   "version": "3.8.11"
  }
 },
 "nbformat": 4,
 "nbformat_minor": 5
}
