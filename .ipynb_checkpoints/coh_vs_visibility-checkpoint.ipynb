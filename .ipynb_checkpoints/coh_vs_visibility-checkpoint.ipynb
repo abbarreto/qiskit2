{
 "cells": [
  {
   "cell_type": "code",
   "execution_count": 87,
   "id": "5b6baa61",
   "metadata": {},
   "outputs": [],
   "source": [
    "%run init.ipynb"
   ]
  },
  {
   "cell_type": "markdown",
   "id": "6c3a76a2",
   "metadata": {},
   "source": [
    "# Visibilidade vs coerência no interferômetro de Mach-Zehnder generalizado\n",
    "Vamos considerar um IMZ com um divisor de feixes geral com coeficientes de transmissão e reflexão $T$ e $R$, respectivamente, com $T^{2}+R^{2}=1$ pois $T^{2}$ é a probabilidade do quanton ser transmitido. Vamos para as contas\n",
    "\\begin{align}\n",
    "|0\\rangle & \\xrightarrow[]{DFG_{1}} T_{1}|0\\rangle + iR_{1}|1\\rangle =: |\\psi_{0}\\rangle, \\\\\n",
    "|\\psi_{0}\\rangle & \\xrightarrow[]{E_{1},E_{2}} iT_{1}|1\\rangle + iiR_{1}|0\\rangle =: |\\psi_{1}\\rangle, \\\\\n",
    "|\\psi_{1}\\rangle & \\xrightarrow[]{\\phi} e^{i\\phi}iT_{1}|1\\rangle - R_{1}|0\\rangle =: |\\psi_{2}\\rangle, \\\\\n",
    "|\\psi_{2}\\rangle & \\xrightarrow[]{DFG_{2}} ie^{i\\phi}T_{1}\\big(T_{2}|1\\rangle+iR_{2}|0\\rangle\\big) - R_{1}\\big(T_{2}|0\\rangle+iR_{2}|1\\rangle\\big) \\\\\n",
    "& = -\\big(e^{i\\phi}T_{1}R_{2}+R_{1}T_{2}\\big)|0\\rangle + i\\big(e^{i\\phi}T_{1}T_{2}-R_{1}R_{2}\\big) \\\\\n",
    "& =: |\\psi_{3}\\rangle.\n",
    "\\end{align}"
   ]
  },
  {
   "cell_type": "markdown",
   "id": "247cffdd",
   "metadata": {},
   "source": [
    "Quanto às __probabilidades__, teremos\n",
    "\\begin{align}\n",
    "Pr(0) & = \\big|-\\big(e^{i\\phi}T_{1}R_{2}+R_{1}T_{2}\\big)\\big|^{2} = \\big(e^{i\\phi}T_{1}R_{2}+R_{1}T_{2}\\big)\\big(e^{-i\\phi}T_{1}R_{2}+R_{1}T_{2}\\big) \\\\\n",
    "& = T_{1}^{2}R_{2}^{2} + R_{1}^{2}T_{2}^{2} + T_{1}R_{1}T_{2}R_{2}\\big(e^{i\\phi}+e^{-i\\phi}\\big) \\\\\n",
    "& = T_{1}^{2}R_{2}^{2} + R_{1}^{2}T_{2}^{2} + 2T_{1}R_{1}T_{2}R_{2}\\cos\\phi, \\\\\n",
    "Pr(1) & = \\big|i\\big(e^{i\\phi}T_{1}T_{2}-R_{1}R_{2}\\big)\\big|^{2} = \\big(e^{i\\phi}T_{1}T_{2}-R_{1}R_{2}\\big)\\big(e^{-i\\phi}T_{1}T_{2}-R_{1}R_{2}\\big) \\\\\n",
    "& = T_{1}^{2}T_{2}^{2} + R_{1}^{2}R_{2}^{2} - T_{1}R_{1}T_{2}R_{2}\\big(e^{i\\phi}+e^{-i\\phi}\\big) \\\\\n",
    "& = T_{1}^{2}T_{2}^{2} + R_{1}^{2}R_{2}^{2} - 2T_{1}R_{1}T_{2}R_{2}\\cos\\phi.\n",
    "\\end{align}\n",
    "\n",
    "__Exercício:__ Verifique que $Pr(1)=1-Pr(0).$"
   ]
  },
  {
   "cell_type": "code",
   "execution_count": 86,
   "id": "707d89a7",
   "metadata": {},
   "outputs": [
    {
     "data": {
      "application/vnd.jupyter.widget-view+json": {
       "model_id": "bde24f85d2c64e64ac4e8c20988e036e",
       "version_major": 2,
       "version_minor": 0
      },
      "text/plain": [
       "interactive(children=(FloatSlider(value=0.0, description='R1', max=1.0, step=0.05), FloatSlider(value=0.0, des…"
      ]
     },
     "metadata": {},
     "output_type": "display_data"
    }
   ],
   "source": [
    "def plot_Pr0(R1, R2):\n",
    "    matplotlib.rcParams.update({'font.size':12}); plt.figure(figsize = (6,4), dpi = 100)\n",
    "    ph_max = 2*math.pi; dph = ph_max/20; ph = np.arange(0, ph_max+dph, dph)\n",
    "    dimph = ph.shape[0]; P0 = np.zeros(dimph)\n",
    "    T1 = math.sqrt(1 - R1**2); T2 = math.sqrt(1 - R2**2)\n",
    "    P0 = T1**2*R2**2 + R1**2*T2**2 + 2*T1*R1*T2*R2*np.cos(ph)\n",
    "    plt.plot(ph, P0); plt.xlabel(r'$\\phi$'); plt.ylabel(r'$Pr(0)$')\n",
    "    plt.xlim(0, 2*math.pi); plt.ylim(0, 1)\n",
    "    plt.annotate(r'$R_{1}=$'+str(R1), xy=(0.5,0.5), xytext=(0.5,0.5), fontsize=12)\n",
    "    plt.annotate(r'$R_{2}=$'+str(R1), xy=(0.5,0.4), xytext=(0.5,0.4), fontsize=12)\n",
    "    plt.show()   \n",
    "interactive(plot_Pr0, R1 = (0, 1, 0.05), R2 = (0, 1, 0.05))"
   ]
  },
  {
   "cell_type": "markdown",
   "id": "7351d2b7",
   "metadata": {},
   "source": [
    "Com relação às __visibilidades__, como $0\\le T_{1},R_{1},T_{2},R_{2}\\le 1$, começamos notando que\n",
    "\\begin{align}\n",
    "Pr(0)_{\\max} & = T_{1}^{2}R_{2}^{2} + R_{1}^{2}T_{2}^{2} + 2T_{1}R_{1}T_{2}R_{2}\\max_{\\phi}\\cos\\phi \\\\\n",
    "& = T_{1}^{2}R_{2}^{2} + R_{1}^{2}T_{2}^{2} + 2T_{1}R_{1}T_{2}R_{2}, \\\\\n",
    "Pr(0)_{\\min} & = T_{1}^{2}R_{2}^{2} + R_{1}^{2}T_{2}^{2} + 2T_{1}R_{1}T_{2}R_{2}\\min_{\\phi}\\cos\\phi \\\\\n",
    "& = T_{1}^{2}R_{2}^{2} + R_{1}^{2}T_{2}^{2} - 2T_{1}R_{1}T_{2}R_{2}, \\\\\n",
    "Pr(1)_{\\max} & = T_{1}^{2}T_{2}^{2} + R_{1}^{2}R_{2}^{2} - 2T_{1}R_{1}T_{2}R_{2}\\min_{\\phi}\\cos\\phi \\\\\n",
    "& = T_{1}^{2}T_{2}^{2} + R_{1}^{2}R_{2}^{2} + 2T_{1}R_{1}T_{2}R_{2}, \\\\\n",
    "Pr(1)_{\\min} & = T_{1}^{2}T_{2}^{2} + R_{1}^{2}R_{2}^{2} - 2T_{1}R_{1}T_{2}R_{2}\\max_{\\phi}\\cos\\phi \\\\\n",
    "& = T_{1}^{2}T_{2}^{2} + R_{1}^{2}R_{2}^{2} - 2T_{1}R_{1}T_{2}R_{2}.\n",
    "\\end{align}\n",
    "Assim\n",
    "\\begin{align}\n",
    "V_{0} & = \\frac{Pr(0)_{\\max}-Pr(0)_{\\min}}{Pr(0)_{\\max}+Pr(0)_{\\min}} = \\frac{2T_{1}R_{1}T_{2}R_{2}}{T_{1}^{2}R_{2}^{2} + R_{1}^{2}T_{2}^{2}}, \\\\\n",
    "V_{1} & = \\frac{Pr(1)_{\\max}-Pr(1)_{\\min}}{Pr(1)_{\\max}+Pr(1)_{\\min}} = \\frac{2T_{1}R_{1}T_{2}R_{2}}{T_{1}^{2}T_{2}^{2} + R_{1}^{2}R_{2}^{2}}.\n",
    "\\end{align}\n",
    "Essas duas expressões para a visibilidade interferométrica são, em geral, diferentes."
   ]
  },
  {
   "cell_type": "code",
   "execution_count": 72,
   "id": "6adde221",
   "metadata": {},
   "outputs": [
    {
     "data": {
      "application/vnd.jupyter.widget-view+json": {
       "model_id": "7f0a6336f9574819b921345712268778",
       "version_major": 2,
       "version_minor": 0
      },
      "text/plain": [
       "interactive(children=(IntSlider(value=40, description='th', max=90, step=10), IntSlider(value=180, description…"
      ]
     },
     "metadata": {},
     "output_type": "display_data"
    }
   ],
   "source": [
    "def V1(T1, T2):\n",
    "    return (2*T1*T2*np.sqrt(1-T1**2)*np.sqrt(1-T2**2))/((T1**2)*(T2**2) + (1-T1**2)*(1-T2**2))\n",
    "def V_3d(th, ph):\n",
    "    x = np.linspace(0.00001, 0.99999, 20); y = np.linspace(0.00001, 0.99999, 20); X, Y = np.meshgrid(x, y)\n",
    "    Z = V1(X, Y); fig = plt.figure(); \n",
    "    ax = plt.axes(projection = \"3d\"); ax.plot_wireframe(X, Y, Z, color = 'blue')\n",
    "    ax.set_xlabel(r'$T_{1}$'); ax.set_ylabel(r'$T_{2}$'); ax.set_zlabel(r'$V_{0}$')\n",
    "    ax.view_init(th, ph); fig.tight_layout(); plt.show()\n",
    "interactive(V_3d, th = (0,90,10), ph = (0,360,10))"
   ]
  },
  {
   "cell_type": "code",
   "execution_count": 73,
   "id": "fd01ed34",
   "metadata": {},
   "outputs": [
    {
     "data": {
      "application/vnd.jupyter.widget-view+json": {
       "model_id": "c82dda4a80aa4e9e85a797f6ba2c80c6",
       "version_major": 2,
       "version_minor": 0
      },
      "text/plain": [
       "interactive(children=(IntSlider(value=40, description='th', max=90, step=10), IntSlider(value=180, description…"
      ]
     },
     "metadata": {},
     "output_type": "display_data"
    }
   ],
   "source": [
    "from mpl_toolkits import mplot3d\n",
    "def V0(T1, T2):\n",
    "    return (2*T1*T2*np.sqrt(1-T1**2)*np.sqrt(1-T2**2))/((T1**2)*(1-T2**2) + (1-T1**2)*T2**2)\n",
    "def V_3d(th, ph):\n",
    "    x = np.linspace(0.00001, 0.99999, 20); y = np.linspace(0.00001, 0.99999, 20); X, Y = np.meshgrid(x, y)\n",
    "    Z = V0(X, Y); fig = plt.figure(); \n",
    "    ax = plt.axes(projection = \"3d\"); ax.plot_wireframe(X, Y, Z, color = 'blue')\n",
    "    ax.set_xlabel(r'$T_{1}$'); ax.set_ylabel(r'$T_{2}$'); ax.set_zlabel(r'$V_{0}$')\n",
    "    ax.view_init(th, ph); fig.tight_layout(); plt.show()\n",
    "interactive(V_3d, th = (0,90,10), ph = (0,360,10))"
   ]
  },
  {
   "cell_type": "code",
   "execution_count": 74,
   "id": "6bd3025e",
   "metadata": {},
   "outputs": [
    {
     "data": {
      "application/vnd.jupyter.widget-view+json": {
       "model_id": "315cc96f0533438c8c192310958a8e23",
       "version_major": 2,
       "version_minor": 0
      },
      "text/plain": [
       "interactive(children=(IntSlider(value=40, description='th', max=90, step=10), IntSlider(value=180, description…"
      ]
     },
     "metadata": {},
     "output_type": "display_data"
    }
   ],
   "source": [
    "def V_3d(th, ph):\n",
    "    x = np.linspace(0.00001, 0.99999, 20); y = np.linspace(0.00001, 0.99999, 20); X, Y = np.meshgrid(x, y)\n",
    "    Z = V0(X, Y)-V1(X, Y); fig = plt.figure(); \n",
    "    ax = plt.axes(projection = \"3d\"); ax.plot_wireframe(X, Y, Z, color = 'blue')\n",
    "    ax.set_xlabel(r'$T_{1}$'); ax.set_ylabel(r'$T_{2}$'); ax.set_zlabel(r'$V_{0}-V_{1}$')\n",
    "    ax.view_init(th, ph); fig.tight_layout(); plt.show()\n",
    "interactive(V_3d, th = (0,90,10), ph = (0,360,10))"
   ]
  },
  {
   "cell_type": "code",
   "execution_count": 16,
   "id": "675718c7",
   "metadata": {},
   "outputs": [],
   "source": [
    "import math\n",
    "import qiskit"
   ]
  },
  {
   "cell_type": "code",
   "execution_count": 22,
   "id": "befbeb20",
   "metadata": {},
   "outputs": [],
   "source": [
    "def shannon_num(pv):\n",
    "    d = pv.shape[0]; SE = 0.0; j = -1\n",
    "    while (j < d-1):\n",
    "        j = j + 1\n",
    "        if pv[j] > 10**-15 and pv[j] < (1.0-10**-15):\n",
    "            SE -= pv[j]*math.log2(pv[j])\n",
    "    return SE"
   ]
  },
  {
   "cell_type": "code",
   "execution_count": 23,
   "id": "622414b9",
   "metadata": {},
   "outputs": [],
   "source": [
    "import scipy.linalg.lapack as lapak\n",
    "def von_neumann_num(rho):\n",
    "    d = rho.shape[0]; b = lapak.zheevd(rho)\n",
    "    return shannon_num(b[0])"
   ]
  },
  {
   "cell_type": "code",
   "execution_count": 24,
   "id": "edd6b830",
   "metadata": {},
   "outputs": [],
   "source": [
    "def coh_re_num(rho):\n",
    "    d = rho.shape[0]; pv = np.zeros(d)\n",
    "    for j in range(0,d):\n",
    "        pv[j] = rho[j,j].real\n",
    "    return shannon_num(pv) - von_neumann_num(rho)"
   ]
  },
  {
   "cell_type": "code",
   "execution_count": 25,
   "id": "31f5c0f2",
   "metadata": {},
   "outputs": [],
   "source": [
    "def P_vn_num(rho):\n",
    "    d = rho.shape[0]; P = 0\n",
    "    for j in range(0, d):\n",
    "        if rho[j,j] > 10**-15 and rho[j,j] < (1.0-10**-15):\n",
    "            P += np.absolute(rho[j,j])*math.log2(np.absolute(rho[j,j]))\n",
    "    return math.log2(d) + P"
   ]
  },
  {
   "cell_type": "code",
   "execution_count": 20,
   "id": "5e6084e1",
   "metadata": {},
   "outputs": [
    {
     "data": {
      "image/png": "[encoded data removed]",
      "text/plain": [
       "<Figure size 374.326x144.48 with 1 Axes>"
      ]
     },
     "execution_count": 20,
     "metadata": {},
     "output_type": "execute_result"
    }
   ],
   "source": [
    "def qc_gmzi(th, ph, ga):\n",
    "    qc = qiskit.QuantumCircuit(1)\n",
    "    qc.rx(-2*th, 0); qc.z(0); qc.y(0); qc.p(ph, 0); qc.rx(-2*ga, 0)\n",
    "    return qc\n",
    "th, ph, ga = math.pi/3, math.pi/2, math.pi; qcgmzi = qc_gmzi(th, ph, ga); qcgmzi.draw(output = 'mpl')"
   ]
  },
  {
   "cell_type": "code",
   "execution_count": 38,
   "id": "83914792",
   "metadata": {},
   "outputs": [
    {
     "name": "stderr",
     "output_type": "stream",
     "text": [
      "ibmqfactory.load_account:WARNING:2022-03-29 11:09:18,364: Credentials are already in use. The existing account in the session will be replaced.\n"
     ]
    }
   ],
   "source": [
    "nshots = 8192\n",
    "qiskit.IBMQ.load_account()\n",
    "provider = qiskit.IBMQ.get_provider(hub = 'ibm-q-research-2', group = 'federal-uni-sant-1', project = 'main')\n",
    "device = provider.get_backend('ibmq_armonk')\n",
    "simulator = qiskit.Aer.get_backend('qasm_simulator')\n",
    "from qiskit.tools.monitor import job_monitor\n",
    "from qiskit.ignis.verification.tomography import state_tomography_circuits, StateTomographyFitter"
   ]
  },
  {
   "cell_type": "code",
   "execution_count": 44,
   "id": "a28160e4",
   "metadata": {},
   "outputs": [
    {
     "name": "stdout",
     "output_type": "stream",
     "text": [
      "Job Status: job has successfully run\n"
     ]
    }
   ],
   "source": [
    "# for error mitigation\n",
    "from qiskit.ignis.mitigation.measurement import complete_meas_cal, CompleteMeasFitter\n",
    "qr = qiskit.QuantumRegister(1)\n",
    "qubit_list = [0] # os qubits para os quais aplicaremos calibracao de medidas\n",
    "meas_calibs, state_labels = complete_meas_cal(qubit_list = qubit_list, qr = qr)\n",
    "job = qiskit.execute(meas_calibs, backend = device, shots = nshots); job_monitor(job)\n",
    "cal_results = job.result()\n",
    "meas_fitter = CompleteMeasFitter(cal_results, state_labels)"
   ]
  },
  {
   "cell_type": "code",
   "execution_count": 45,
   "id": "61551f52",
   "metadata": {},
   "outputs": [
    {
     "name": "stdout",
     "output_type": "stream",
     "text": [
      "Job Status: job has successfully run\n",
      "Job Status: job has successfully run\n",
      "Job Status: job has successfully run\n",
      "Job Status: job has successfully run\n",
      "Job Status: job has successfully run\n",
      "Job Status: job has successfully run\n",
      "Job Status: job has successfully run\n",
      "Job Status: job has successfully run\n",
      "Job Status: job has successfully run\n",
      "Job Status: job has successfully run\n",
      "Job Status: job has successfully run\n"
     ]
    }
   ],
   "source": [
    "# for computing coherence and predictability\n",
    "th_max = math.pi/2; dth = th_max/10; th = np.arange(0, th_max+dth, dth); dimth = th.shape[0]\n",
    "Csim = np.zeros(dimth); Psim = np.zeros(dimth); Cexp = np.zeros(dimth); Pexp = np.zeros(dimth)\n",
    "for j in range(0, dimth):\n",
    "    qr = qiskit.QuantumRegister(1); qc = qiskit.QuantumCircuit(qr); qc.rx(-2*th[j], qr[0])\n",
    "    qstc = state_tomography_circuits(qc, qr[0])\n",
    "    job = qiskit.execute(qstc, simulator, shots = nshots) # simulation\n",
    "    qstf = StateTomographyFitter(job.result(), qstc); rho = qstf.fit(method = 'lstsq')\n",
    "    Csim[j] = coh_re_num(rho); Psim[j] = P_vn_num(rho)\n",
    "    jobE = qiskit.execute(qstc, backend = device, shots = nshots); job_monitor(jobE)\n",
    "    mitigated_results = meas_fitter.filter.apply(jobE.result())\n",
    "    qstfE = StateTomographyFitter(mitigated_results, qstc)\n",
    "    #qstfE = StateTomographyFitter(jobE.result(), qstc)\n",
    "    rhoE = qstfE.fit(method = 'lstsq')\n",
    "    Cexp[j] = coh_re_num(rhoE); Pexp[j] = P_vn_num(rhoE)"
   ]
  },
  {
   "cell_type": "code",
   "execution_count": 47,
   "id": "e006749b",
   "metadata": {},
   "outputs": [
    {
     "data": {
      "text/plain": [
       "array([7.70115763e-03, 1.57380886e-01, 4.40540792e-01, 7.03349898e-01,\n",
       "       9.08742255e-01, 9.99108562e-01, 9.44028574e-01, 7.58127448e-01,\n",
       "       5.03568498e-01, 1.48176718e-01, 9.53925297e-04])"
      ]
     },
     "execution_count": 47,
     "metadata": {},
     "output_type": "execute_result"
    }
   ],
   "source": [
    "Cexp"
   ]
  },
  {
   "cell_type": "code",
   "execution_count": 48,
   "id": "732e63a8",
   "metadata": {},
   "outputs": [
    {
     "data": {
      "text/plain": [
       "array([9.92298842e-01, 8.42619114e-01, 5.59459208e-01, 2.96650102e-01,\n",
       "       9.12577447e-02, 8.91438237e-04, 5.59714258e-02, 2.41872552e-01,\n",
       "       4.96431502e-01, 7.35376639e-01, 9.13560707e-01])"
      ]
     },
     "execution_count": 48,
     "metadata": {},
     "output_type": "execute_result"
    }
   ],
   "source": [
    "Pexp"
   ]
  },
  {
   "cell_type": "code",
   "execution_count": 46,
   "id": "b9d054ec",
   "metadata": {},
   "outputs": [
    {
     "data": {
      "image/png": "[encoded data removed]",
      "text/plain": [
       "<Figure size 600x400 with 1 Axes>"
      ]
     },
     "metadata": {
      "needs_background": "light"
     },
     "output_type": "display_data"
    }
   ],
   "source": [
    "matplotlib.rcParams.update({'font.size':12}); plt.figure(figsize = (6,4), dpi = 100)\n",
    "plt.plot(th, Csim, label = r'$C_{re}^{sim}$')\n",
    "plt.plot(th, Psim, label = r'$P_{vn}^{sim}$')\n",
    "plt.plot(th, Cexp, 'o', label = r'$C_{re}^{exp}$')\n",
    "plt.plot(th, Pexp, '*', label = r'$P_{vn}^{exp}$')\n",
    "plt.legend(); plt.xlabel(r'$\\theta$')\n",
    "plt.savefig('coh_vs_ivi_armonk_mit.pdf', format = 'pdf', dpi = 200)\n",
    "plt.show()"
   ]
  },
  {
   "cell_type": "code",
   "execution_count": 114,
   "id": "89d5d82f",
   "metadata": {},
   "outputs": [
    {
     "name": "stdout",
     "output_type": "stream",
     "text": [
      "Job Status: job has successfully run\n",
      "Job Status: job has successfully run\n",
      "Job Status: job has successfully run\n",
      "Job Status: job has successfully run\n",
      "Job Status: job has successfully run\n",
      "Job Status: job has successfully run\n",
      "Job Status: job has successfully run\n",
      "Job Status: job has successfully run\n",
      "Job Status: job has successfully run\n",
      "Job Status: job has successfully run\n",
      "Job Status: job has successfully run\n"
     ]
    }
   ],
   "source": [
    "# for computing the visibility\n",
    "ph_max = 2*math.pi; dph = ph_max/10; ph = np.arange(0, ph_max+dph, dph); dimph = ph.shape[0]\n",
    "P0sim = np.zeros(dimph); P0exp = np.zeros(dimph)\n",
    "th[j] = math.pi/2\n",
    "for k in range(0, dimph):\n",
    "    qr = qiskit.QuantumRegister(1); cr = qiskit.ClassicalRegister(1); qc = qiskit.QuantumCircuit(qr, cr)\n",
    "    qc.rx(-2*th[j], qr[0]); qc.z(qr[0]); qc.y(qr[0]) \n",
    "    qc.p(ph[k], qr[0]); ga = th[j]; qc.rx(-2*ga, qr[0]); qc.measure(qr[0], cr[0])\n",
    "    job = qiskit.execute(qc, backend = simulator, shots = nshots) # simulation\n",
    "    counts = job.result().get_counts(qc)\n",
    "    if '0' in counts:\n",
    "        P0sim[k] = counts['0']\n",
    "    jobE = qiskit.execute(qc, backend = device, shots = nshots); job_monitor(jobE)\n",
    "    mitigated_results = meas_fitter.filter.apply(jobE.result())\n",
    "    countsE = mitigated_results.get_counts(qc)\n",
    "    #countsE = jobE.result().get_counts(qc)\n",
    "    if '0' in countsE:\n",
    "        P0exp[k] = countsE['0']\n",
    "P0sim = P0sim/nshots; P0exp = P0exp/nshots"
   ]
  },
  {
   "cell_type": "code",
   "execution_count": 115,
   "id": "77df238b",
   "metadata": {},
   "outputs": [
    {
     "data": {
      "text/plain": [
       "array([1.        , 0.90838173, 0.66274091, 0.37488527, 0.11976134,\n",
       "       0.01881309, 0.12251453, 0.36310798, 0.65050474, 0.90455797,\n",
       "       1.        ])"
      ]
     },
     "execution_count": 115,
     "metadata": {},
     "output_type": "execute_result"
    }
   ],
   "source": [
    "P0exp"
   ]
  },
  {
   "cell_type": "code",
   "execution_count": 118,
   "id": "b0016170",
   "metadata": {},
   "outputs": [
    {
     "data": {
      "text/plain": [
       "array([1.        , 0.90612793, 0.65258789, 0.34069824, 0.09924316,\n",
       "       0.        , 0.09228516, 0.34741211, 0.64331055, 0.90209961,\n",
       "       1.        ])"
      ]
     },
     "execution_count": 118,
     "metadata": {},
     "output_type": "execute_result"
    }
   ],
   "source": [
    "P0sim"
   ]
  },
  {
   "cell_type": "code",
   "execution_count": null,
   "id": "5d574c6f",
   "metadata": {},
   "outputs": [],
   "source": [
    "P0expthpi2 = \n",
    "P0simthpi2 ="
   ]
  },
  {
   "cell_type": "code",
   "execution_count": 119,
   "id": "6f3081af",
   "metadata": {},
   "outputs": [],
   "source": [
    "P0expthpi4 = np.array([1.        , 0.90838173, 0.66274091, 0.37488527, 0.11976134,\n",
    "       0.01881309, 0.12251453, 0.36310798, 0.65050474, 0.90455797,\n",
    "       1.        ])\n",
    "P0simthpi4 = np.array([1.        , 0.90612793, 0.65258789, 0.34069824, 0.09924316,\n",
    "       0.        , 0.09228516, 0.34741211, 0.64331055, 0.90209961,\n",
    "       1.        ])"
   ]
  },
  {
   "cell_type": "code",
   "execution_count": 120,
   "id": "c1c7ecf6",
   "metadata": {},
   "outputs": [
    {
     "data": {
      "image/png": "[encoded data removed]",
      "text/plain": [
       "<Figure size 600x400 with 1 Axes>"
      ]
     },
     "metadata": {
      "needs_background": "light"
     },
     "output_type": "display_data"
    }
   ],
   "source": [
    "matplotlib.rcParams.update({'font.size':12}); plt.figure(figsize = (6,4), dpi = 100)\n",
    "plt.plot(ph, P0simthpi4, label = r'$P_{0}^{sim}(\\theta=\\pi/4)$')\n",
    "plt.plot(ph, P0expthpi4, 'o', label = r'$P_{0}^{exp}(\\theta=\\pi/4)$')\n",
    "plt.plot(ph, P0simthpi2, label = r'$P_{0}^{sim}(\\theta=\\pi/2)$')\n",
    "plt.plot(ph, P0expthpi2, '*', label = r'$P_{0}^{exp}(\\theta=\\pi/2)$')\n",
    "plt.ylim(0, 2*math.pi); plt.ylim(-0.01, 1.01)\n",
    "plt.legend(); plt.xlabel(r'$\\phi$')\n",
    "plt.savefig('P0_thpi4_armonk_mit.pdf', format = 'pdf', dpi = 200)\n",
    "plt.show()"
   ]
  },
  {
   "cell_type": "code",
   "execution_count": null,
   "id": "f83ba879",
   "metadata": {},
   "outputs": [],
   "source": []
  }
 ],
 "metadata": {
  "kernelspec": {
   "display_name": "Python 3 (ipykernel)",
   "language": "python",
   "name": "python3"
  },
  "language_info": {
   "codemirror_mode": {
    "name": "ipython",
    "version": 3
   },
   "file_extension": ".py",
   "mimetype": "text/x-python",
   "name": "python",
   "nbconvert_exporter": "python",
   "pygments_lexer": "ipython3",
   "version": "3.8.11"
  }
 },
 "nbformat": 4,
 "nbformat_minor": 5
}
