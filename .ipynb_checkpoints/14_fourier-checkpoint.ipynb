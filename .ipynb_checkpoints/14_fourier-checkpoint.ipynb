{
 "cells": [
  {
   "cell_type": "markdown",
   "id": "a2c8f61d",
   "metadata": {},
   "source": [
    "### Notas de aula de Computação Quântica <br> Autor: Jonas Maziero"
   ]
  },
  {
   "cell_type": "code",
   "execution_count": 3,
   "id": "383eb0d8",
   "metadata": {},
   "outputs": [],
   "source": [
    "%run init.ipynb"
   ]
  },
  {
   "cell_type": "markdown",
   "id": "0166c11c",
   "metadata": {},
   "source": [
    "# Transformada de Fourier quântica\n",
    "\n",
    "A transformada de Fourier discreta clássica é um mapa entre o conjunto de $d$ números\n",
    "$$x=(x_{0},\\cdots,x_{d-1})$$\n",
    "e o conjunto de $d$ números \n",
    "$$y=(y_{0},\\cdots,y_{d-1})$$\n",
    "com\n",
    "\\begin{equation}\n",
    "y_{k} := \\frac{1}{\\sqrt{d}}\\sum_{j=0}^{d-1}x_{j}e^{2\\pi ijk/d}.\n",
    "\\end{equation}\n",
    "\n",
    "No caso quântico, esses conjuntos de números são representados por estados quânticos. Mas precisamente, eles são os coeficientes de um vetor de estado quando representado na base computacional (de um qudit):\n",
    "\\begin{align}\n",
    "|x\\rangle & = \\sum_{j=0}^{d-1}x_{j}|j\\rangle = \\begin{bmatrix} x_{0} \\\\ \\vdots \\\\ x_{d-1} \\end{bmatrix}, \\\\\n",
    "|y\\rangle & = \\sum_{k=0}^{d-1}y_{k}|k\\rangle = \\begin{bmatrix} y_{0} \\\\ \\vdots \\\\ y_{d-1} \\end{bmatrix} \\\\\n",
    "& \\equiv \\sum_{k=0}^{d-1}\\frac{1}{\\sqrt{d}}\\sum_{j=0}^{d-1}x_{j}e^{2\\pi ijk/d}|k\\rangle = \\sum_{j=0}^{d-1}x_{j}\\Big(\\frac{1}{\\sqrt{d}}\\sum_{k=0}^{d-1}e^{2\\pi ijk/d}|k\\rangle\\Big).\n",
    "\\end{align}"
   ]
  },
  {
   "cell_type": "markdown",
   "id": "58eff326",
   "metadata": {},
   "source": [
    "Vemos que essa transformação,\n",
    "\\begin{align}\n",
    "|y\\rangle & =: U_{tfq}|x\\rangle \\\\\n",
    "& = U_{tfq}\\sum_{j=0}^{d-1}x_{j}|j\\rangle = \\sum_{j=0}^{d-1}x_{j}U_{tfq}|j\\rangle,\n",
    "\\end{align}\n",
    "pode ser obtida se a ação dessa transformação na base computacional for\n",
    "$$U_{tfq}|j\\rangle = \\frac{1}{\\sqrt{d}}\\sum_{k=0}^{d-1}e^{2\\pi ijk/d}|k\\rangle \\text{, para }j=0,\\cdots,d-1.$$\n",
    "Isso pode ser obtido com\n",
    "$$U_{tfq} = \\frac{1}{\\sqrt{d}}\\sum_{k,l=0}^{d-1}e^{2\\pi ikl/d}|k\\rangle\\langle l| \\equiv F,$$\n",
    "que coincide com a porta de Fourier, que discutimos anteriormente, quando estudamos qudits."
   ]
  },
  {
   "cell_type": "markdown",
   "id": "556f048b",
   "metadata": {},
   "source": [
    "Vamos representar os vetores da base computacional de um qudit em termos da base computacional produto de\n",
    "$$n=\\log_{2}(d)\\ \\therefore\\ d=2^{n}.$$\n",
    "OBS. Se a dimensão $d$ não é uma potência de $2$, aumentamos o número de qubits até que $2^{n}> d$.\n",
    "\n",
    "Ou seja, escreveremos\n",
    "$$|j\\rangle = |j_{1}\\cdots j_{n}\\rangle \\equiv |j_{1}\\rangle\\otimes\\cdots\\otimes|j_{n}\\rangle$$\n",
    "com\n",
    "$$j_{s}=0,1 \\text{ para } s=1,\\cdots,n$$\n",
    "e\n",
    "$$j = j_{1}2^{n-1}+j_{2}2^{n-2}+\\cdots+j_{n-1}2^{1}+j_{n}2^{0} = \\sum_{l=1}^{n}j_{l}2^{n-l}.$$\n",
    "Para uso posterior, notemos que\n",
    "$$\\frac{j}{2^{n}} = j2^{-n} = \\sum_{l=1}^{n}j_{l}2^{-l}.$$"
   ]
  },
  {
   "cell_type": "markdown",
   "id": "39dd8066",
   "metadata": {},
   "source": [
    "Seguindo, vamos atuar o operador de um qudit representado por $\\log_{2}(d)$ qubits:\n",
    "\\begin{align}\n",
    "F|j\\rangle & = F|j_{1}\\cdots j_{n}\\rangle = F(|j_{1}\\rangle\\otimes|j_{2}\\rangle\\otimes\\cdots\\otimes|j_{n-1}\\rangle\\otimes|j_{n}\\rangle) \\\\\n",
    "& = \\frac{1}{\\sqrt{d}}\\sum_{k=0}^{d-1}e^{2\\pi ijk/d}|k\\rangle  = \\frac{1}{\\sqrt{2^{n}}}\\sum_{k=0}^{2^{n}-1}e^{2\\pi ijk/2^{n}}|k\\rangle \\\\\n",
    "& = \\frac{1}{\\sqrt{2^{n}}}\\sum_{k_{1},k_{2},\\cdots, k_{n-1},k_{n}=0}^{1}e^{2\\pi ij\\sum_{l=1}^{n}k_{l}2^{-l}}|k_{1}k_{2}\\cdots k_{n-1}k_{n}\\rangle  \\\\\n",
    "& = \\frac{1}{\\sqrt{2^{n}}}\\sum_{k_{1},k_{2},\\cdots,k_{n-1},k_{n}=0}^{1}\\Pi_{l=1}^{n}e^{2\\pi ijk_{l}2^{-l}}|k_{1}k_{2}\\cdots k_{n-1}k_{n}\\rangle \\\\\n",
    "& = \\frac{1}{\\sqrt{2^{n}}}\\sum_{k_{1},k_{2},\\cdots,k_{n-1},k_{n}=0}^{1}e^{2\\pi ijk_{1}2^{-1}}e^{2\\pi ijk_{2}2^{-2}}\\cdots e^{2\\pi ijk_{n}2^{-n+1}}e^{2\\pi ijk_{n}2^{-n}}|k_{1}\\rangle\\otimes|k_{2}\\rangle\\otimes\\cdots\\otimes|k_{n-1}\\rangle\\otimes|k_{n}\\rangle \\\\\n",
    "& = \\frac{1}{\\sqrt{2^{n}}}\\Big(\\sum_{k_{1}=0}^{1}e^{2\\pi ijk_{1}2^{-1}}|k_{1}\\rangle\\Big)\\otimes\\Big(\\sum_{k_{2}=0}^{1}e^{2\\pi ijk_{2}2^{-2}}|k_{2}\\rangle\\Big)\\otimes\\cdots \\otimes\\Big(\\sum_{k_{n-1}=0}^{1}e^{2\\pi ijk_{n}2^{-n+1}}|k_{n-1}\\rangle\\Big)\\Big(\\sum_{k_{n}=0}^{1}e^{2\\pi ijk_{n}2^{-n}}|k_{n}\\rangle\\Big) \\\\\n",
    "& = \\frac{1}{\\sqrt{2^{n}}}\\Big(|0\\rangle+e^{2\\pi ij2^{-1}}|1\\rangle\\Big)\\otimes\\Big(|0\\rangle+e^{2\\pi ij2^{-2}}|1\\rangle\\Big)\\otimes\\cdots \\otimes\\Big(|0\\rangle+e^{2\\pi ij2^{-n+1}}|1\\rangle\\Big)\\otimes\\Big(|0\\rangle+e^{2\\pi ij2^{-n}}|1\\rangle\\Big). \\hspace{1cm} (\\star)\n",
    "\\end{align}"
   ]
  },
  {
   "cell_type": "markdown",
   "id": "50d7cd22",
   "metadata": {},
   "source": [
    "Ou seja, para implementar a TFQ, precisamos preparar $n$ qubits em um estado produto de estados que são uma superposição dos estados da base computacional com o estado $|1\\rangle$  do qubit $p$ recebendo uma fase $e^{2\\pi ij2^{-p}}$\n",
    "com \n",
    "$$p=1,2,\\cdots,n.$$\n",
    "Podemos escrever essa fase como segue\n",
    "\\begin{align}\n",
    "e^{2\\pi ij2^{-p}} & = e^{2\\pi i\\sum_{l=1}^{n}j_{l}2^{n-l}2^{-p}} = e^{2\\pi i\\sum_{l=1}^{n}j_{l}2^{n-l-p}} = \\Pi_{l=1}^{n}e^{2\\pi ij_{l}2^{n-l-p}} \\\\\n",
    "& = e^{2\\pi ij_{1}2^{n-1-p}}e^{2\\pi ij_{2}2^{n-2-p}}\\cdots e^{2\\pi ij_{n-1}2^{n-n+1-p}}e^{2\\pi ij_{l}2^{n-n-p}} \\\\\n",
    "& = e^{2\\pi ij_{1}2^{n-1-p}}e^{2\\pi ij_{2}2^{n-2-p}}\\cdots e^{2\\pi ij_{n-1}2^{1-p}}e^{2\\pi ij_{n}2^{-p}}.\n",
    "\\end{align}\n",
    "Alguns casos\n",
    "\\begin{align}\n",
    "& e^{2\\pi ij2^{-1}} = e^{2\\pi ij_{1}2^{n-2}}e^{2\\pi ij_{2}2^{n-3}}\\cdots e^{2\\pi ij_{n-1}2^{0}}e^{2\\pi ij_{n}2^{-1}}, \\\\\n",
    "& e^{2\\pi ij2^{-2}} = e^{2\\pi ij_{1}2^{n-3}}e^{2\\pi ij_{2}2^{n-4}}\\cdots e^{2\\pi ij_{n-1}2^{-1}}e^{2\\pi ij_{n}2^{-2}}, \\\\\n",
    "& \\vdots \\\\\n",
    "& e^{2\\pi ij2^{-n+1}} = e^{2\\pi ij_{1}2^{0}}e^{2\\pi ij_{2}2^{-1}}\\cdots e^{2\\pi ij_{n-1}2^{2-n}}e^{2\\pi ij_{n}2^{-n+1}}, \\\\\n",
    "& e^{2\\pi ij2^{-n}} = e^{2\\pi ij_{1}2^{-1}}e^{2\\pi ij_{2}2^{-2}}\\cdots e^{2\\pi ij_{n-1}2^{1-n}}e^{2\\pi ij_{n}2^{-n}}.\n",
    "\\end{align}"
   ]
  },
  {
   "cell_type": "markdown",
   "id": "d843d06f",
   "metadata": {},
   "source": [
    "Lembrando, a ação da porta de Hadamard pode ser escrita de forma geral como\n",
    "$$H|j_{l}\\rangle = \\frac{1}{\\sqrt{2}}\\big(|0\\rangle+e^{2\\pi ij_{l}/2}|1\\rangle\\big).$$\n",
    "A porta de fase,\n",
    "$$P(\\phi) = |0\\rangle\\langle 0|+e^{i\\phi}|1\\rangle\\langle 1|,$$\n",
    "atua como segue\n",
    "$$P(\\phi)|0\\rangle = |0\\rangle \\text{ e } P(\\phi)|1\\rangle = e^{i\\phi}|1\\rangle.$$\n",
    "Olhando para a última igualdade para o estado $F|j\\rangle$, vemos que a forma dos estado locais se parecem com aquelas que podemos obter aplicando uma porta de fase $P(\\phi)$. No entanto, vemos também que essas fases, $e^{2\\pi ij2^{-p}}$, dependem dos estados iniciais de todos os qubits. Isso nos indica que precisaremos aplicar portas de fases controladas\n",
    "$$C_{P(\\phi)}^{A\\rightarrow B} = |0\\rangle_{A}\\langle 0|\\otimes\\mathbb{I}_{B} + |1\\rangle_{A}\\langle 1|\\otimes P(\\phi).$$\n",
    "Ou seja, a porta de fase dá uma fase $e^{i\\phi}$ ao target se o estado do controle for $|1\\rangle$. Ou poderíamos dizer que essa porta adiciona uma fase \n",
    "$$e^{i\\phi j_{p}}$$ \n",
    "ao estado $|1\\rangle$ target, com $j_{p}=0,1$ dependendo do estado do qubit target $p$."
   ]
  },
  {
   "cell_type": "markdown",
   "id": "92e06532",
   "metadata": {},
   "source": [
    "Vamos começar olhando para o estado do __1º qubit__, que é proporcional a $|0\\rangle+e^{2\\pi ij2^{-1}}|1\\rangle.$ Essa exponencial é dada por\n",
    "$$e^{2\\pi ij2^{-1}} = e^{2\\pi ij_{1}2^{n-2}}e^{2\\pi ij_{2}2^{n-3}}\\cdots e^{2\\pi ij_{n-1}2^{0}}e^{2\\pi ij_{n}2^{-1}} = e^{2\\pi i\\big(j_{1}2^{n-2}+j_{2}2^{n-3}\\cdots+j_{n-1}2^{0}+j_{n}2^{-1}\\big)}.$$\n",
    "Pelo $j_{1}$, vamos começar aplicando a Hadamard no 1º qubit\n",
    "$$(H_{1}|j_{1}\\rangle)\\otimes|j_{2}\\cdots j_{n}\\rangle = \\frac{1}{\\sqrt{2}}\\Big(|0\\rangle+e^{2\\pi ij_{1}2^{-1}}|1\\rangle\\Big)\\otimes|j_{2}\\cdots j_{n}\\rangle$$\n",
    "\n",
    "Seguindo, aplicaremos a porta de fase controlada com o controle indo, individualmente, desde o qubit $l=2$ até o qubit $l=n$, adicionando uma fase\n",
    "$$e^{2\\pi ij_{l}2^{-l}}$$\n",
    "ao estado $|1\\rangle$ do target, o qubit 1 neste caso.\n",
    "\n",
    "Para o qubit $2$ como controle teremos\n",
    "$$C_{P(2\\pi i2^{-2})}^{2\\rightarrow 1}(H_{1}|j_{1}\\rangle)\\otimes|j_{2}\\cdots j_{n}\\rangle = \\frac{1}{\\sqrt{2}}\\Big(|0\\rangle+e^{2\\pi i(j_{1}2^{-1}+j_{2}2^{-2})}|1\\rangle\\Big)\\otimes|j_{2}\\cdots j_{n}\\rangle.$$\n",
    "Como a ação para os outros qubits é similar, teremos\n",
    "\\begin{align}\n",
    "\\Pi_{q=2}^{n}C_{P(2\\pi i2^{-q})}^{q\\rightarrow 1}(H_{1}|j_{1}\\rangle)\\otimes|j_{2}\\cdots j_{n}\\rangle & = \\frac{1}{\\sqrt{2}}\\Big(|0\\rangle+e^{2\\pi i(j_{1}2^{-1}+j_{2}2^{-2}+\\cdots+j_{n}2^{-n})}|1\\rangle\\Big)\\otimes|j_{2}\\cdots j_{n}\\rangle \\\\\n",
    "&  = \\frac{1}{\\sqrt{2}}\\Big(|0\\rangle+e^{2\\pi ij2^{-n}}|1\\rangle\\Big)\\otimes|j_{2}\\cdots j_{n}\\rangle \\\\\n",
    "& =: |\\xi_{0}\\rangle.\n",
    "\\end{align}\n",
    "Note que este é o estado do qubit $n$ no estado $F|j\\rangle$. Isso indica que depois de finalizar as operações, precisaremos fazer uma troca entre os estados dos qubits $1$ e $n$."
   ]
  },
  {
   "cell_type": "markdown",
   "id": "4dfb466e",
   "metadata": {},
   "source": [
    "Seguindo, aplicamos uma Hadamard no __2º qubit__, obtendo\n",
    "$$H_{2}|\\xi_{0}\\rangle = \\frac{1}{\\sqrt{2}}\\Big(|0\\rangle+e^{2\\pi ij2^{-n}}|1\\rangle\\Big)\\otimes\\Big(|0\\rangle+e^{2\\pi ij_{2}2^{-1}}|1\\rangle\\Big)\\otimes|j_{3}\\cdots j_{n}\\rangle.$$\n",
    "Seguindo, aplica-se portas de fase controladas como segue\n",
    "\\begin{align}\n",
    "& \\Pi_{q=3}^{n-1}C_{P(2\\pi i2^{-q+1})}^{q\\rightarrow 2}\\frac{1}{\\sqrt{2}}\\Big(|0\\rangle+e^{2\\pi ij2^{-n}}|1\\rangle\\Big)\\otimes\\big(H_{2}|j_{2}\\rangle\\big)\\otimes|j_{3}\\cdots j_{n}\\rangle \\\\\n",
    "& = \\frac{1}{\\sqrt{2}}\\Big(|0\\rangle+e^{2\\pi ij2^{-n}}|1\\rangle\\Big)\\otimes\\Big(|0\\rangle+e^{2\\pi i(j_{2}2^{-1}+j_{3}2^{-2}+\\cdots+j_{n}2^{-n+1})}|1\\rangle\\Big)\\otimes|j_{3}\\cdots j_{n}\\rangle \\\\\n",
    "& = \\frac{1}{\\sqrt{2}}\\Big(|0\\rangle+e^{2\\pi ij2^{-n}}|1\\rangle\\Big)\\otimes\\Big(|0\\rangle+e^{2\\pi i(j_{1}2^{0}+j_{2}2^{-1}+j_{3}2^{-2}+\\cdots+j_{n}2^{-n+1})}|1\\rangle\\Big)\\otimes|j_{3}\\cdots j_{n}\\rangle \\\\\n",
    "& = \\frac{1}{\\sqrt{2}}\\Big(|0\\rangle+e^{2\\pi ij2^{-n}}|1\\rangle\\Big)\\otimes\\Big(|0\\rangle+e^{2\\pi ij2^{-n+1}}|1\\rangle\\Big)\\otimes|j_{3}\\cdots j_{n}\\rangle \\\\\n",
    "& =: |\\xi_{1}\\rangle,\n",
    "\\end{align}\n",
    "em que usamos e\n",
    "$$e^{2\\pi ij_{1}2^{0}} = e^{2\\pi ij_{1}} = \\cos(j_{1}2\\pi)+i\\sin(j_{1}2\\pi) = 1+i0=1$$\n",
    "para $j_{1}=0,1$ e\n",
    "\\begin{align}\n",
    "j2^{-n+1} & = \\sum_{l=1}^{n}j_{l}2^{n-l}2^{-n+1} = \\sum_{l=1}^{n}j_{l}2^{-l+1} \\\\\n",
    "& = j_{1}2^{0} + j_{2}2^{-1} + j_{3}2^{-2}+\\cdots+j_{n}2^{-n+1}.\n",
    "\\end{align}"
   ]
  },
  {
   "cell_type": "markdown",
   "id": "8cd37c1e",
   "metadata": {},
   "source": [
    "Fazendo mais uma passo, aplicamos a Hadarmad no __3º qubit__ e as portas de fase controladas no qubit 3 com os qubits controle indo desde o 4º até o n-ésimo. Com isso, obteremos\n",
    "\\begin{align}\n",
    "& \\Pi_{q=4}^{n}C_{P(2\\pi ij_{q}2^{-q+2})}^{q\\rightarrow 3}\\frac{1}{\\sqrt{2}}\\Big(|0\\rangle+e^{2\\pi ij2^{-n}}|1\\rangle\\Big)\\otimes\\Big(|0\\rangle+e^{2\\pi ij2^{-n+1}}|1\\rangle\\Big)\\otimes\\Big(H_{3}|j_{3}\\rangle\\Big)\\otimes|j_{4}j_{5}\\cdots j_{n}\\rangle \\\\\n",
    "& = \\frac{1}{\\sqrt{2}}\\Big(|0\\rangle+e^{2\\pi ij2^{-n}}|1\\rangle\\Big)\\otimes\\Big(|0\\rangle+e^{2\\pi ij2^{-n+1}}|1\\rangle\\Big)\\otimes\\Big(|0\\rangle+e^{2\\pi i(j_{3}2^{-1}+j_{4}2^{-2}+\\cdots+j_{n}2^{-n+2})}|1\\rangle\\Big)\\otimes|j_{4}j_{5}\\cdots j_{n}\\rangle \\\\\n",
    "& \\equiv \\frac{1}{\\sqrt{2}}\\Big(|0\\rangle+e^{2\\pi ij2^{-n}}|1\\rangle\\Big)\\otimes\\Big(|0\\rangle+e^{2\\pi ij2^{-n+1}}|1\\rangle\\Big)\\otimes\\Big(|0\\rangle+e^{2\\pi i(j_{1}2^{1}+j_{2}2^{0}+j_{3}2^{-1}+j_{4}2^{-2}+\\cdots+j_{n}2^{-n+2})}|1\\rangle\\Big)\\otimes|j_{4}j_{5}\\cdots j_{n}\\rangle \\\\\n",
    "& = \\frac{1}{\\sqrt{2}}\\Big(|0\\rangle+e^{2\\pi ij2^{-n}}|1\\rangle\\Big)\\otimes\\Big(|0\\rangle+e^{2\\pi ij2^{-n+1}}|1\\rangle\\Big)\\otimes\\Big(|0\\rangle+e^{2\\pi ij2^{-n+2}}|1\\rangle\\Big)\\otimes|j_{4}j_{5}\\cdots j_{n}\\rangle,\n",
    "\\end{align}\n",
    "em que usamos\n",
    "\\begin{align}\n",
    "& e^{2\\pi ij_{2}2^{0}} = e^{2\\pi ij_{2}} = \\cos(j_{2}2\\pi)+i\\sin(j_{2}2\\pi) = 1, \\\\\n",
    "& e^{2\\pi ij_{1}2^{1}} = e^{4\\pi ij_{1}} = \\cos(j_{1}4\\pi)+i\\sin(j_{1}4\\pi) = 1\n",
    "\\end{align}\n",
    "para $j_{1},j_{2}=0,1$\n",
    "\\begin{align}\n",
    "j2^{-n+2} & = \\sum_{l=1}^{n}j_{l}2^{n-l}2^{-n+2} = \\sum_{l=1}^{n}j_{l}2^{-l+2} \\\\\n",
    "& = j_{1}2^{1} + j_{2}2^{0} + j_{3}2^{-1} + \\cdots + j_{n-1}2^{-n+3} + j_{n}2^{-n+2}.\n",
    "\\end{align}"
   ]
  },
  {
   "cell_type": "markdown",
   "id": "8a30cc32",
   "metadata": {},
   "source": [
    "Bom, com isso podemos inferir que se continuarmos com esse processo, de aplicar a porta de Hadamard $H_{l}$ no qubit $l=4,\\cdots,n$ seguida de uma fase controlada aplicada no qubit $l$ com o qubit $q=l+1,\\cdots,n$ como controle, \n",
    "$$\\Pi_{q=l+1}^{n}C_{P(2\\pi i2^{-q+l-1})}^{q\\rightarrow l},$$\n",
    "obteremos o seguinte estado\n",
    "$$ |\\Xi\\rangle = \\frac{1}{\\sqrt{2}}\\Big(|0\\rangle+e^{2\\pi ij2^{-n}}|1\\rangle\\Big)\\otimes\\Big(|0\\rangle+e^{2\\pi ij2^{-n+1}}|1\\rangle\\Big)\\otimes\\Big(|0\\rangle+e^{2\\pi ij2^{-n+2}}|1\\rangle\\Big)\\otimes\\cdots\\otimes\\Big(|0\\rangle+e^{2\\pi ij2^{-2}}|1\\rangle\\Big)\\otimes\\Big(|0\\rangle+e^{2\\pi ij2^{-1}}|1\\rangle\\Big).$$\n",
    "Observe que para o __qubit $n$__ só aplicamos a Hadamard, sem aplicação de fases controladas.\n",
    "\n",
    "Vemos que este estado é equivalente ao estado da eq. ($\\star$) se trocarmos os estados dos qubit 1 e $n$, $2$ e $n-1$, $3$ e $n-2$, $\\cdots$. Assim, finalmente obtemos que\n",
    "\\begin{equation}\n",
    "F|j\\rangle = \\Pi_{l=1}^{n/2}SWAP^{l\\leftrightarrow n-l+1}|\\Xi\\rangle.\n",
    "\\end{equation}\n",
    "Essa equação é válida se $n$ for par. Se $n$ for ímpar, devemos usar como limite superior do produtório: \n",
    "$$(n-1)/2.$$\n",
    "Lembrando\n",
    "\\begin{align}\n",
    "SWAP^{l\\leftrightarrow n-l+1} & = CNOT^{l\\rightarrow n-l+1}CNOT^{n-l+1\\rightarrow l}CNOT^{l\\rightarrow n-l+1} \\\\\n",
    "& = CNOT^{n-l+1\\rightarrow l}CNOT^{l\\rightarrow n-l+1}CNOT^{n-l+1\\rightarrow l}.\n",
    "\\end{align}\n",
    "_OBS._ Essas SWAPs comutam, e a princípio poderiam ser aplicadas em paralelo. Mas, na prática isso não é bem assim pois não temos conectividade entre todos os qubits do chip, e isso implica em várias SWAPs intermedidárias de estado para então aplicar as CNOTs entre os qubits $l$ e $n-l+1$. \n",
    "\n",
    "O circuito quântico para implementação da TFQ está mostrado na figura abaixo\n",
    "<img src='fig_tfq.png' width = '900'>"
   ]
  },
  {
   "cell_type": "markdown",
   "id": "b9185360",
   "metadata": {},
   "source": [
    "### Circuito quântico para a TFQ de $n$ qubits"
   ]
  },
  {
   "cell_type": "code",
   "execution_count": 4,
   "id": "6fb372cd",
   "metadata": {},
   "outputs": [],
   "source": [
    "from qiskit import *\n",
    "nshots = 8192\n",
    "IBMQ.load_account()\n",
    "provider= qiskit.IBMQ.get_provider(hub='ibm-q-research-2',group='federal-uni-sant-1',project='main')\n",
    "device = provider.get_backend('ibmq_bogota')\n",
    "simulator = Aer.get_backend('qasm_simulator')\n",
    "from qiskit.visualization import plot_histogram\n",
    "from qiskit.tools.monitor import job_monitor\n",
    "from qiskit.quantum_info import state_fidelity"
   ]
  },
  {
   "cell_type": "code",
   "execution_count": 14,
   "id": "bad37f16",
   "metadata": {},
   "outputs": [],
   "source": [
    "def qc_qft(n):\n",
    "    qr = QuantumRegister(n); qc = QuantumCircuit(qr, name = 'QFT')\n",
    "    for l in range(0, n):\n",
    "        qc.h(qr[l])\n",
    "        if l < n-1:\n",
    "            for q in range(l+1, n):\n",
    "                lb = 2*math.pi*2**(-q+l-1)\n",
    "                qc.cp(lb, qr[q], qr[l])\n",
    "            #qc.barrier()\n",
    "    #qc.barrier()\n",
    "    if n%2 == 0:\n",
    "        ul = n//2\n",
    "    else:\n",
    "        ul = (n-1)//2\n",
    "    for p in range(0, ul):\n",
    "        qc.swap(p, n-1-p)\n",
    "    return qc"
   ]
  },
  {
   "cell_type": "code",
   "execution_count": 13,
   "id": "2cc8c767",
   "metadata": {},
   "outputs": [
    {
     "data": {
      "image/png": "[encoded data removed]",
      "text/plain": [
       "<Figure size 1424.12x264.88 with 1 Axes>"
      ]
     },
     "execution_count": 13,
     "metadata": {},
     "output_type": "execute_result"
    }
   ],
   "source": [
    "n = 4; qc_qft_ = qc_qft(n); qc_qft_.draw(output='mpl')"
   ]
  },
  {
   "cell_type": "markdown",
   "id": "e13e89cc",
   "metadata": {},
   "source": [
    "# TFQ inversa\n",
    "Para obter o circuito quântico para a transformada de Fourier quântica inversa, notemos primeiramente que a inversa da porta de Hadamard é a própria:\n",
    "$$H^{\\dagger} = H.$$\n",
    "Como a CNOT também é hermitiana, terremos também que\n",
    "$$SWAP^{\\dagger} = SWAP$$\n",
    "pois $SWAP_{AB} = CNOT_{AB}CNOT_{BA}CNOT_{AB}$ e a $CNOT$ é hermitiana.\n",
    "\n",
    "Já para a porta de fase temos que\n",
    "$$P(\\phi)^{\\dagger} = P(-\\phi).$$\n",
    "Assim\n",
    "$$C_{P(\\phi)}^{\\dagger} = C_{P(-\\phi)}.$$"
   ]
  },
  {
   "cell_type": "code",
   "execution_count": 17,
   "id": "92d685c8",
   "metadata": {
    "scrolled": true
   },
   "outputs": [],
   "source": [
    "def qc_iqft(n):\n",
    "    qr = QuantumRegister(n); qc = QuantumCircuit(qr, name = 'IQFT')\n",
    "    if n%2 == 0:\n",
    "        ul = n//2\n",
    "    else:\n",
    "        ul = (n-1)//2\n",
    "    for p in range(ul-1, -1, -1):\n",
    "        qc.swap(p, n-1-p)\n",
    "    #qc.barrier()\n",
    "    for l in range(n-1, -1, -1):\n",
    "        if l < n-1:\n",
    "            for q in range(n-1, l+1-1, -1):\n",
    "                lb = -2*math.pi*2**(-q+l-1)#; print(lb)\n",
    "                qc.cp(lb, qr[q], qr[l])\n",
    "        qc.h(qr[l])\n",
    "        #qc.barrier()\n",
    "    return qc"
   ]
  },
  {
   "cell_type": "code",
   "execution_count": 16,
   "id": "88c90bfe",
   "metadata": {},
   "outputs": [
    {
     "data": {
      "image/png": "[encoded data removed]",
      "text/plain": [
       "<Figure size 1484.47x264.88 with 1 Axes>"
      ]
     },
     "execution_count": 16,
     "metadata": {},
     "output_type": "execute_result"
    }
   ],
   "source": [
    "n = 4; qc_iqft_ = qc_iqft(n); qc_iqft_.draw(output='mpl')"
   ]
  },
  {
   "cell_type": "markdown",
   "id": "0f2d2172",
   "metadata": {},
   "source": [
    "## TFQ de 1 qubit\n",
    "Para 1 qubit, a TFQ é simplementente a porta de Hadamard, a última linha do circuito da figura acima para a TFQ. Neste caso, se começamos com \n",
    "$$|x\\rangle=x_{0}|0\\rangle+x_{1}|1\\rangle,$$\n",
    "teremos\n",
    "\\begin{align}\n",
    "|y\\rangle & = F|x\\rangle = H|x\\rangle = x_{0}H|0\\rangle+x_{1}H|1\\rangle \\\\\n",
    "& = x_{0}2^{-1/2}(|0\\rangle+|1\\rangle)+x_{1}2^{-1/2}(|0\\rangle-|1\\rangle) \\\\\n",
    "& = 2^{-1/2}(x_{0}+x_{1})|0\\rangle + 2^{-1/2}(x_{0}-x_{1})|1\\rangle \\\\\n",
    "& = y_{0}|0\\rangle + y_{1}|1\\rangle.\n",
    "\\end{align}"
   ]
  },
  {
   "cell_type": "code",
   "execution_count": 18,
   "id": "40d80a9c",
   "metadata": {},
   "outputs": [
    {
     "data": {
      "image/png": "[encoded data removed]",
      "text/plain": [
       "<Figure size 219.833x84.28 with 1 Axes>"
      ]
     },
     "execution_count": 18,
     "metadata": {},
     "output_type": "execute_result"
    }
   ],
   "source": [
    "n = 1\n",
    "qr = QuantumRegister(n); qc = QuantumCircuit(qr)\n",
    "th = math.pi; ph = 0; lb = 0\n",
    "qc.u(th, ph, lb, qr[0])\n",
    "qc_qft_ = qc_qft(n); qft = qc_qft_.to_gate(); qc.append(qft, [0])\n",
    "qc.draw(output='mpl')"
   ]
  },
  {
   "cell_type": "code",
   "execution_count": 24,
   "id": "468d1c46",
   "metadata": {},
   "outputs": [
    {
     "name": "stdout",
     "output_type": "stream",
     "text": [
      "[ 0.70710678+0.00000000e+00j -0.70710678-8.65956056e-17j]\n"
     ]
    }
   ],
   "source": [
    "svsimulator = Aer.get_backend('statevector_simulator')\n",
    "job = execute(qc, backend = svsimulator, shots = 1, memory = True)\n",
    "print(job.result().get_statevector(qc))"
   ]
  },
  {
   "cell_type": "code",
   "execution_count": null,
   "id": "56e361b0",
   "metadata": {},
   "outputs": [],
   "source": []
  }
 ],
 "metadata": {
  "kernelspec": {
   "display_name": "Python 3 (ipykernel)",
   "language": "python",
   "name": "python3"
  },
  "language_info": {
   "codemirror_mode": {
    "name": "ipython",
    "version": 3
   },
   "file_extension": ".py",
   "mimetype": "text/x-python",
   "name": "python",
   "nbconvert_exporter": "python",
   "pygments_lexer": "ipython3",
   "version": "3.8.11"
  }
 },
 "nbformat": 4,
 "nbformat_minor": 5
}
