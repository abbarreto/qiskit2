{
 "cells": [
  {
   "cell_type": "markdown",
   "id": "08c9dfc7",
   "metadata": {},
   "source": [
    "# Experimento de Afshar e violação de relações de complementariedade\n",
    "https://link.springer.com/article/10.1007/s10701-022-00585-7"
   ]
  },
  {
   "cell_type": "code",
   "execution_count": null,
   "id": "db65516a",
   "metadata": {},
   "outputs": [],
   "source": []
  }
 ],
 "metadata": {
  "kernelspec": {
   "display_name": "Python 3 (ipykernel)",
   "language": "python",
   "name": "python3"
  },
  "language_info": {
   "codemirror_mode": {
    "name": "ipython",
    "version": 3
   },
   "file_extension": ".py",
   "mimetype": "text/x-python",
   "name": "python",
   "nbconvert_exporter": "python",
   "pygments_lexer": "ipython3",
   "version": "3.8.8"
  }
 },
 "nbformat": 4,
 "nbformat_minor": 5
}
