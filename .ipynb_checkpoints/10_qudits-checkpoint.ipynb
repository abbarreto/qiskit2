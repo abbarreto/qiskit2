{
 "cells": [
  {
   "cell_type": "markdown",
   "id": "1113df53",
   "metadata": {},
   "source": [
    "# Qudits\n",
    "\n",
    "Tanto em teleportação quanto em codificação superdensa com qubits, usamos estados maximamente emaranhados como recurso. Para qudits, sistemas quânticos de $d$ níveis, estados maximamente emaranhados tem a forma\n",
    "\\begin{equation}\n",
    "|\\Phi\\rangle_{AB} = \\frac{1}{\\sqrt{d}}\\sum_{j=0}^{d-1}|j\\rangle_{A}\\otimes|j\\rangle_{B}.\n",
    "\\end{equation}\n",
    "alguns casos particulares seriam\n",
    "\\begin{align}\n",
    "& d=2:\\ |\\Phi\\rangle_{AB} = 2^{-1/2}\\big(|00\\rangle_{AB}+|11\\rangle_{AB}\\big), \\\\\n",
    "& d=3:\\ |\\Phi\\rangle_{AB} = 3^{-1/2}\\big(|00\\rangle_{AB}+|11\\rangle_{AB}+|22\\rangle_{AB}\\big), \\\\\n",
    "& d=4:\\ |\\Phi\\rangle_{AB} = 4^{-1/2}\\big(|00\\rangle_{AB}+|11\\rangle_{AB}+|22\\rangle_{AB}+|33\\rangle_{AB}\\big), \\\\\n",
    "& \\vdots.\n",
    "\\end{align}\n",
    "\n",
    "__Exercício:__ Escreva um estado maximamente emaranhado para $d=5$."
   ]
  },
  {
   "cell_type": "markdown",
   "id": "68c971a2",
   "metadata": {},
   "source": [
    "Outra operação básica utilizada foi a porta de Hadamard. No caso de qubits, essa porta é generalizada pela __porta ou operador de Fourier__:\n",
    "\\begin{equation}\n",
    "F = \\frac{1}{\\sqrt{d}}\\sum_{j,k=0}^{d-1}e^{2\\pi ijk/d}|j\\rangle\\langle k|.\n",
    "\\end{equation}\n",
    "Novamente, alguns casos particulares seriam\n",
    "\\begin{align}\n",
    "d=2:\\ F &= \\frac{1}{\\sqrt{2}}\\sum_{j,k=0}^{2-1}e^{2\\pi ijk/2}|j\\rangle\\langle k| \\\\\n",
    "& = \\frac{1}{\\sqrt{2}}\\big(e^{\\pi i0\\cdot 0}|0\\rangle\\langle 0|+e^{\\pi i0\\cdot 1}|0\\rangle\\langle 1|+e^{\\pi i1\\cdot 0}|1\\rangle\\langle 0|+e^{\\pi i1\\cdot1}|1\\rangle\\langle 1|\\big) \\\\\n",
    "& = \\frac{1}{\\sqrt{2}}\\big(|0\\rangle\\langle 0|+|0\\rangle\\langle 1|+|1\\rangle\\langle 0|-|1\\rangle\\langle 1|\\big) \\\\\n",
    "& = \\frac{1}{\\sqrt{2}}\\begin{bmatrix}1&1\\\\1&-1\\end{bmatrix}, \\\\\n",
    "\\end{align}"
   ]
  },
  {
   "cell_type": "markdown",
   "id": "f3c1d304",
   "metadata": {},
   "source": [
    "\\begin{align}\n",
    "d=3:\\ F &= \\frac{1}{\\sqrt{3}}\\sum_{j,k=0}^{3-1}e^{2\\pi ijk/3}|j\\rangle\\langle k| \\\\\n",
    "& = \\frac{1}{\\sqrt{3}}\\big(e^{2\\pi i0\\cdot 0/3}|0\\rangle\\langle 0| + e^{2\\pi i0\\cdot 1/3}|0\\rangle\\langle 1| + e^{2\\pi i0\\cdot 2/3}|0\\rangle\\langle 2| \\\\\n",
    "& \\hspace{1.5cm} + e^{2\\pi i1\\cdot 0/3}|1\\rangle\\langle 0| + e^{2\\pi i1\\cdot 1/3}|1\\rangle\\langle 1| + e^{2\\pi i1\\cdot 2/3}|1\\rangle\\langle 2| \\\\\n",
    "& \\hspace{1.5cm} + e^{2\\pi i2\\cdot 0/3}|2\\rangle\\langle 0| + e^{2\\pi i2\\cdot 1/3}|2\\rangle\\langle 1| + e^{2\\pi i2\\cdot 2/3}|2\\rangle\\langle 2|\\big) \\\\\n",
    "& = \\frac{1}{\\sqrt{3}}\\big(|0\\rangle\\langle 0| + |0\\rangle\\langle 1| + |0\\rangle\\langle 2| + |1\\rangle\\langle 0| + e^{2\\pi i/3}|1\\rangle\\langle 1| + e^{4\\pi i/3}|1\\rangle\\langle 2| \\\\\n",
    "& \\hspace{1.5cm} + |2\\rangle\\langle 0| + e^{4\\pi i/3}|2\\rangle\\langle 1| + e^{8\\pi i/3}|2\\rangle\\langle 2|\\big) \\\\\n",
    "& = \\frac{1}{\\sqrt{3}}\\begin{bmatrix} 1&1&1 \\\\ 1 & e^{2\\pi i/3} & e^{4\\pi i/3} \\\\ 1 & e^{4\\pi i/3} & e^{8\\pi i/3} \\end{bmatrix}.\n",
    "\\end{align}"
   ]
  },
  {
   "cell_type": "markdown",
   "id": "c9f1ebc9",
   "metadata": {},
   "source": [
    "\\begin{align}\n",
    "d=4:\\ F =& \\frac{1}{\\sqrt{4}}\\sum_{j,k=0}^{4-1}e^{2\\pi ijk/4}|j\\rangle\\langle k| = \\frac{1}{2}\\sum_{j,k=0}^{3}e^{\\pi ijk/2}|j\\rangle\\langle k| \\\\\n",
    "& = \\frac{1}{2}\\big(e^{\\pi i0\\cdot 0/2}|0\\rangle\\langle 0| + e^{\\pi i0\\cdot 1/2}|0\\rangle\\langle 1| + e^{\\pi i0\\cdot 2/2}|0\\rangle\\langle 2| + e^{\\pi i0\\cdot 3/2}|0\\rangle\\langle 3| \\\\\n",
    "& \\hspace{1.2cm} + e^{\\pi i1\\cdot 0/2}|1\\rangle\\langle 0| + e^{\\pi i1\\cdot 1/2}|1\\rangle\\langle 1| + e^{\\pi i1\\cdot 2/2}|1\\rangle\\langle 2| + e^{\\pi i1\\cdot 3/2}|1\\rangle\\langle 3| \\\\\n",
    "& \\hspace{1.2cm} + e^{\\pi i2\\cdot 0/2}|2\\rangle\\langle 0| + e^{\\pi i2\\cdot 1/2}|2\\rangle\\langle 1| + e^{\\pi i2\\cdot 2/2}|2\\rangle\\langle 2| + e^{\\pi i2\\cdot 3/2}|2\\rangle\\langle 3| \\\\\n",
    "& \\hspace{1.2cm} + e^{\\pi i3\\cdot 0/2}|3\\rangle\\langle 0| + e^{\\pi i3\\cdot 1/2}|3\\rangle\\langle 1| + e^{\\pi i3\\cdot 2/2}|3\\rangle\\langle 2| + e^{\\pi i3\\cdot 3/2}|3\\rangle\\langle 3|\\big) \\\\\n",
    "& = \\frac{1}{2}\\big(|0\\rangle\\langle 0| + |0\\rangle\\langle 1| + |0\\rangle\\langle 2| + |0\\rangle\\langle 3| \\\\\n",
    "& \\hspace{1.2cm} + |1\\rangle\\langle 0| + e^{\\pi i/2}|1\\rangle\\langle 1| + e^{\\pi i}|1\\rangle\\langle 2| + e^{3\\pi i/2}|1\\rangle\\langle 3| \\\\\n",
    "& \\hspace{1.2cm} + |2\\rangle\\langle 0| + e^{\\pi i}|2\\rangle\\langle 1| + e^{2\\pi i}|2\\rangle\\langle 2| + e^{3\\pi i}|2\\rangle\\langle 3| \\\\\n",
    "& \\hspace{1.2cm} + |3\\rangle\\langle 0| + e^{3\\pi i/2}|3\\rangle\\langle 1| + e^{3\\pi i}|3\\rangle\\langle 2| + e^{9\\pi i/2}|3\\rangle\\langle 3|\\big) \\\\\n",
    "& = \\frac{1}{2}\\begin{bmatrix} 1&1&1&1 \\\\ 1 & e^{\\pi i/2} & e^{\\pi i} & e^{3\\pi i/2} \\\\ \n",
    "1 & e^{\\pi i} & e^{2\\pi i} & e^{3\\pi i} \\\\ 1& e^{3\\pi i/2} & e^{3\\pi i} & e^{9\\pi i/2} \\end{bmatrix}.\n",
    "\\end{align}\n",
    "\n",
    "__Exercício:__ Escreva a matriz que representa a porta de Fourier para $d=5$."
   ]
  },
  {
   "cell_type": "markdown",
   "id": "5f7052a1",
   "metadata": {},
   "source": [
    "A ação da porta de Fourier na base computacional nos retorna os __estados de Fourier__:\n",
    "\\begin{align}\n",
    "F|l\\rangle & = \\frac{1}{\\sqrt{d}}\\sum_{j,k=0}^{d-1}e^{2\\pi ijk/d}|j\\rangle\\langle k|l\\rangle = \\frac{1}{\\sqrt{d}}\\sum_{j,k=0}^{d-1}e^{2\\pi ijk/d}|j\\rangle\\delta_{k,l} \\\\\n",
    "& = \\frac{1}{\\sqrt{d}}\\sum_{j=0}^{d-1}e^{2\\pi ijl/d}|j\\rangle,\n",
    "\\end{align}\n",
    "para \n",
    "\\begin{equation}\n",
    "l=0,\\cdots,d-1.\n",
    "\\end{equation}\n",
    "\n",
    "Exemplos:\n",
    "Para $d=2$ teremos\n",
    "\\begin{align}\n",
    "F|0\\rangle & = \\frac{1}{\\sqrt{2}}\\sum_{j=0}^{2-1}e^{2\\pi ij\\cdot 0/2}|j\\rangle = \\frac{1}{\\sqrt{2}}\\big(e^{2\\pi i0\\cdot 0/2}|0\\rangle+e^{2\\pi i1\\cdot 0/2}|1\\rangle\\big) = \\frac{1}{\\sqrt{2}}\\big(|0\\rangle+|1\\rangle\\big), \\\\\n",
    "F|1\\rangle & = \\frac{1}{\\sqrt{2}}\\sum_{j=0}^{2-1}e^{2\\pi ij\\cdot 0/2}|j\\rangle = \\frac{1}{\\sqrt{2}}\\big(e^{2\\pi i0\\cdot 1/2}|0\\rangle+e^{2\\pi i1\\cdot 1/2}|1\\rangle\\big) = \\frac{1}{\\sqrt{2}}\\big(|0\\rangle-|1\\rangle\\big).\n",
    "\\end{align}"
   ]
  },
  {
   "cell_type": "markdown",
   "id": "74b5af45",
   "metadata": {},
   "source": [
    "Para d = 3 teremos\n",
    "\\begin{align}\n",
    "F|0\\rangle & = \\frac{1}{\\sqrt{3}}\\sum_{j=0}^{3-1}e^{2\\pi ij\\cdot 0/3}|j\\rangle = \\frac{1}{\\sqrt{3}}\\big(e^{2\\pi i0\\cdot 0/3}|0\\rangle + e^{2\\pi i1\\cdot 0/3}|1\\rangle + e^{2\\pi i2\\cdot 0/3}|2\\rangle\\big) \\\\\n",
    "& = \\frac{1}{\\sqrt{3}}\\big(|0\\rangle + |1\\rangle + |2\\rangle\\big), \\\\\n",
    "F|1\\rangle & = \\frac{1}{\\sqrt{3}}\\sum_{j=0}^{3-1}e^{2\\pi ij\\cdot 1/3}|j\\rangle = \\frac{1}{\\sqrt{3}}\\big(e^{2\\pi i0\\cdot 1/3}|0\\rangle + e^{2\\pi i1\\cdot 1/3}|1\\rangle + e^{2\\pi i2\\cdot 1/3}|2\\rangle\\big) \\\\\n",
    "& = \\frac{1}{\\sqrt{3}}\\big(|0\\rangle +  e^{2\\pi i/3}|1\\rangle +  e^{4\\pi i/3}|2\\rangle\\big), \\\\\n",
    "F|2\\rangle & = \\frac{1}{\\sqrt{3}}\\sum_{j=0}^{3-1}e^{2\\pi ij\\cdot 2/3}|j\\rangle = \\frac{1}{\\sqrt{3}}\\big(e^{2\\pi i0\\cdot 2/3}|0\\rangle + e^{2\\pi i1\\cdot 2/3}|1\\rangle + e^{2\\pi i2\\cdot 2/3}|2\\rangle\\big) \\\\\n",
    "& = \\frac{1}{\\sqrt{3}}\\big(|0\\rangle +  e^{4\\pi i/3}|1\\rangle +  e^{8\\pi i/3}|2\\rangle\\big).\n",
    "\\end{align}"
   ]
  },
  {
   "cell_type": "markdown",
   "id": "474b11d6",
   "metadata": {},
   "source": [
    "Para d = 4 teremos\n",
    "\\begin{align}\n",
    "F|0\\rangle & = \\frac{1}{\\sqrt{4}}\\sum_{j=0}^{4-1}e^{2\\pi ij\\cdot 0/4}|j\\rangle = \\frac{1}{2}\\big(e^{2\\pi i0\\cdot 0/4}|0\\rangle + e^{2\\pi i1\\cdot 0/4}|1\\rangle + e^{2\\pi i2\\cdot 0/4}|2\\rangle + e^{2\\pi i3\\cdot 0/4}|2\\rangle\\big) \\\\\n",
    "& = \\frac{1}{2}\\big(|0\\rangle + |1\\rangle + |2\\rangle + |3\\rangle\\big), \\\\\n",
    "F|1\\rangle & = \\frac{1}{\\sqrt{4}}\\sum_{j=0}^{4-1}e^{2\\pi ij\\cdot 1/4}|j\\rangle = \\frac{1}{2}\\big(e^{2\\pi i0\\cdot 1/4}|0\\rangle + e^{2\\pi i1\\cdot 1/4}|1\\rangle + e^{2\\pi i2\\cdot 1/4}|2\\rangle + e^{2\\pi i3\\cdot 1/4}|3\\rangle\\big) \\\\\n",
    "& = \\frac{1}{2}\\big(|0\\rangle +  e^{\\pi i/2}|1\\rangle + e^{\\pi i}|2\\rangle + e^{3\\pi i/2}|3\\rangle\\big), \\\\\n",
    "F|2\\rangle & = \\frac{1}{\\sqrt{4}}\\sum_{j=0}^{4-1}e^{2\\pi ij\\cdot 2/4}|j\\rangle = \\frac{1}{2}\\big(e^{2\\pi i0\\cdot 2/4}|0\\rangle + e^{2\\pi i1\\cdot 2/4}|1\\rangle + e^{2\\pi i2\\cdot 2/4}|2\\rangle + e^{2\\pi i3\\cdot 2/4}|3\\rangle\\big) \\\\\n",
    "& = \\frac{1}{\\sqrt{3}}\\big(|0\\rangle +  e^{\\pi i}|1\\rangle + e^{2\\pi i}|2\\rangle + e^{3\\pi i}|3\\rangle\\big) \\\\\n",
    "F|3\\rangle & = \\frac{1}{\\sqrt{4}}\\sum_{j=0}^{4-1}e^{2\\pi ij\\cdot 3/4}|j\\rangle = \\frac{1}{2}\\big(e^{2\\pi i0\\cdot 3/4}|0\\rangle + e^{2\\pi i1\\cdot 3/4}|1\\rangle + e^{2\\pi i2\\cdot 3/4}|2\\rangle + e^{2\\pi i3\\cdot 3/4}|3\\rangle\\big) \\\\\n",
    "& = \\frac{1}{\\sqrt{3}}\\big(|0\\rangle +  e^{3\\pi i/2}|1\\rangle + e^{3\\pi i}|2\\rangle + e^{9\\pi i/2}|3\\rangle\\big).\n",
    "\\end{align}\n",
    "\n",
    "__Exercício:__ Obtenha a ação da porta de Fourier na base computacional para $d=5$."
   ]
  },
  {
   "cell_type": "markdown",
   "id": "64689745",
   "metadata": {},
   "source": [
    "Outra operação que precisaremos é o __operador de deslocamento cíclico__, $X(j)$, é definido por\n",
    "\\begin{equation}\n",
    "X(j)|k\\rangle = |j\\oplus k\\rangle \\equiv |(j+k)\\mod(d)\\rangle.\n",
    "\\end{equation}\n",
    "\n",
    "Para o caso particular $d=2$ vem que\n",
    "\\begin{align}\n",
    "CNOT_{2} =&  \\sum_{j=0}^{2-1}|j\\rangle\\langle j|\\otimes X(j) = |0\\rangle\\langle 0|\\otimes X(0) + |1\\rangle\\langle 1|\\otimes X(1) \\\\\n",
    "& = |0\\rangle\\langle 0|\\otimes \\mathbb{I} + |1\\rangle\\langle 1|\\otimes X,\n",
    "\\end{align}\n",
    "em que usamos\n",
    "\\begin{align}\n",
    "& X(0)|0\\rangle = |0\\oplus 0\\rangle = |0\\rangle, \\\\\n",
    "& X(0)|1\\rangle = |0\\oplus 1\\rangle = |1\\rangle, \\\\\n",
    "& \\therefore\\ X(0) = \\mathbb{I}, \\\\\n",
    "& X(1)|0\\rangle = |1\\oplus 0\\rangle = |1\\rangle, \\\\\n",
    "& X(1)|1\\rangle = |1\\oplus 1\\rangle = |0\\rangle, \\\\\n",
    "& \\therefore\\ X(1) = X.\n",
    "\\end{align}"
   ]
  },
  {
   "cell_type": "markdown",
   "id": "5e33e2ad",
   "metadata": {},
   "source": [
    "Para $d=3$ vem que\n",
    "\\begin{align}\n",
    "CNOT_{3} =&  \\sum_{j=0}^{2-1}|j\\rangle\\langle j|\\otimes X(j) \\\\\n",
    "& = |0\\rangle\\langle 0|\\otimes X(0) + |1\\rangle\\langle 1|\\otimes X(1)  + |2\\rangle\\langle 2|\\otimes X(2).\n",
    "\\end{align}\n",
    "com\n",
    "\\begin{align}\n",
    "& X(0)|0\\rangle = |0\\oplus 0\\rangle = |0\\rangle, \\\\\n",
    "& X(0)|1\\rangle = |0\\oplus 1\\rangle = |1\\rangle, \\\\\n",
    "& X(0)|2\\rangle = |0\\oplus 2\\rangle = |2\\rangle, \\\\\n",
    "& \\therefore\\ X(0) = \\mathbb{I}, \\\\\n",
    "& X(1)|0\\rangle = |1\\oplus 0\\rangle = |1\\rangle, \\\\\n",
    "& X(1)|1\\rangle = |1\\oplus 1\\rangle = |2\\rangle, \\\\\n",
    "& X(1)|2\\rangle = |1\\oplus 2\\rangle = |0\\rangle, \\\\\n",
    "& X(2)|0\\rangle = |2\\oplus 0\\rangle = |2\\rangle, \\\\\n",
    "& X(2)|1\\rangle = |2\\oplus 1\\rangle = |0\\rangle, \\\\\n",
    "& X(2)|2\\rangle = |2\\oplus 2\\rangle = |1\\rangle.\n",
    "\\end{align}\n",
    "Com esse exemplo fica claro porque chamamos $X(j)$ de operador de deslocamento. Vemos que $X(j)$ muda ciclicamente estados da base computacional $\\{|k\\rangle\\}$. Sempre teremos $X(0)=\\mathbb{I}$ pois o deslocamento por $0$ unidades equivale a não fazer nada.\n",
    "\n",
    "__Exercício:__ Mostre que os elementos de matriz do operador deslocamento na base computacional são dados por\n",
    "$\\langle k|X(j)|l\\rangle = \\delta_{k,j\\oplus l}$."
   ]
  },
  {
   "cell_type": "markdown",
   "id": "d7eeb6a9",
   "metadata": {},
   "source": [
    "Outra operacão básica é a __porta CNOT generalizada__:\n",
    "\\begin{equation}\n",
    "CNOT_{d} = \\sum_{j=0}^{d-1}|j\\rangle\\langle j|\\otimes X(j).\n",
    "\\end{equation}\n",
    "\n",
    "Para $d=2$ temos\n",
    "\\begin{align}\n",
    "CNOT_{2} =& \\sum_{j=0}^{2-1}|j\\rangle\\langle j|\\otimes X(j) = |0\\rangle\\langle 0|\\otimes X(0) + |1\\rangle\\langle 1|\\otimes X(1) \\\\\n",
    " =& |0\\rangle\\langle 0|\\otimes \\mathbb{I} + |1\\rangle\\langle 1|\\otimes X.\n",
    "\\end{align}\n",
    "A ação da $CNOT_{2}$ na base computacional é bem conhecida:\n",
    "\\begin{align}\n",
    "& CNOT_{2}|00\\rangle = |00\\rangle, \\\\\n",
    "& CNOT_{2}|01\\rangle = |01\\rangle, \\\\\n",
    "& CNOT_{2}|10\\rangle = |11\\rangle, \\\\\n",
    "& CNOT_{2}|11\\rangle = |10\\rangle.\n",
    "\\end{align}"
   ]
  },
  {
   "cell_type": "markdown",
   "id": "989eb203",
   "metadata": {},
   "source": [
    "Para $d=3$ teremos\n",
    "\\begin{align}\n",
    "CNOT_{3} =& \\sum_{j=0}^{3-1}|j\\rangle\\langle j|\\otimes X(j) \\\\\n",
    "& = |0\\rangle\\langle 0|\\otimes X(0) + |1\\rangle\\langle 1|\\otimes X(1) + |2\\rangle\\langle 2|\\otimes X(2).\n",
    "\\end{align}\n",
    "A ação da $CNOT_{3}$ na base computacional é a seguinte:\n",
    "\\begin{align}\n",
    "& CNOT_{3}|00\\rangle = |00\\rangle, \\\\\n",
    "& CNOT_{3}|01\\rangle = |01\\rangle, \\\\\n",
    "& CNOT_{3}|02\\rangle = |02\\rangle, \\\\\n",
    "& CNOT_{3}|10\\rangle = |11\\rangle, \\\\\n",
    "& CNOT_{3}|11\\rangle = |12\\rangle, \\\\\n",
    "& CNOT_{3}|12\\rangle = |10\\rangle, \\\\\n",
    "& CNOT_{3}|20\\rangle = |22\\rangle, \\\\\n",
    "& CNOT_{3}|21\\rangle = |20\\rangle, \\\\\n",
    "& CNOT_{3}|22\\rangle = |21\\rangle.\n",
    "\\end{align}\n",
    "\n",
    "\n",
    "Vemos assim que a porta $CNOT_{d}$ aplica um deslocamente $X(j)$ no estado do qudit target se o estado do qudit controle for $|j\\rangle$."
   ]
  },
  {
   "cell_type": "markdown",
   "id": "b8f64d5b",
   "metadata": {},
   "source": [
    "Outro operador importante é o __operador de fase__, que é denotado e definido por:\n",
    "\\begin{equation}\n",
    "Z(j)|k\\rangle = e^{2\\pi ijk/d}|k\\rangle.\n",
    "\\end{equation}\n",
    "__Exercício:__ Verifique que os elementos de matriz do operador de fase na base computacional são dados por $\\langle k|Z(j)|l\\rangle = e^{2\\pi ijl/d}\\delta_{k,l}$.\n",
    "\n",
    "\n",
    "É fácil ver que\n",
    "\\begin{align}\n",
    "& Z(0)|k\\rangle = e^{2\\pi ij0/d}|k\\rangle = |k\\rangle \\\\\n",
    "& \\therefore\\ Z(0) = \\mathbb{I}\\ \\forall\\ d.\n",
    "\\end{align}\n",
    "\n",
    "Ademais\n",
    "\\begin{equation}\n",
    "Z(j)|0\\rangle = e^{2\\pi i0k/d}|0\\rangle = |0\\rangle \\ \\forall\\ j.\n",
    "\\end{equation}"
   ]
  },
  {
   "cell_type": "markdown",
   "id": "b764d186",
   "metadata": {},
   "source": [
    "Para $d=2$ teremos\n",
    "\\begin{align}\n",
    "& Z(1)|1\\rangle = e^{2\\pi i1\\cdot 1/2}|1\\rangle = -|1\\rangle, \\\\\n",
    "& \\therefore\\ Z(j) = Z.\n",
    "\\end{align}\n",
    "Ou seja, para $d=2$ o operador de fase $Z(j)$ é o operador de Pauli $Z$.\n",
    "\n",
    "Para $d=3$ teremos\n",
    "\\begin{align}\n",
    "& Z(1)|1\\rangle = e^{2\\pi i1\\cdot 1/3}|1\\rangle = e^{2\\pi i/3}|1\\rangle, \\\\\n",
    "& Z(1)|2\\rangle = e^{2\\pi i1\\cdot 2/3}|2\\rangle = e^{4\\pi i/3}|2\\rangle, \\\\\n",
    "& Z(2)|1\\rangle = e^{2\\pi i2\\cdot 1/3}|1\\rangle = e^{4\\pi i/3}|1\\rangle, \\\\\n",
    "& Z(2)|2\\rangle = e^{2\\pi i2\\cdot 2/3}|2\\rangle = e^{8\\pi i/3}|2\\rangle.\n",
    "\\end{align}"
   ]
  },
  {
   "cell_type": "markdown",
   "id": "f00fc8d1",
   "metadata": {},
   "source": [
    "Para $d=4$ teremos\n",
    "\\begin{align}\n",
    "& Z(1)|1\\rangle = e^{2\\pi i1\\cdot 1/4}|1\\rangle = e^{\\pi i/2}|1\\rangle = i|1\\rangle, \\\\\n",
    "& Z(1)|2\\rangle = e^{2\\pi i1\\cdot 2/4}|2\\rangle = e^{\\pi i}|2\\rangle = -|2\\rangle, \\\\\n",
    "& Z(1)|3\\rangle = e^{2\\pi i1\\cdot 3/4}|3\\rangle = e^{3\\pi i/2}|3\\rangle = -i|3\\rangle, \\\\\n",
    "& Z(2)|1\\rangle = e^{2\\pi i2\\cdot 1/4}|1\\rangle = e^{\\pi i}|1\\rangle = -|1\\rangle, \\\\\n",
    "& Z(2)|2\\rangle = e^{2\\pi i2\\cdot 2/4}|2\\rangle = e^{2\\pi i}|2\\rangle = |2\\rangle, \\\\\n",
    "& Z(2)|3\\rangle = e^{2\\pi i2\\cdot 3/4}|3\\rangle = e^{3\\pi i}|3\\rangle = -|3\\rangle.\n",
    "\\end{align}\n",
    "\n",
    "__Exercício:__ Obtenha a ação do operador de fase na base computacional para $d=5$."
   ]
  },
  {
   "cell_type": "markdown",
   "id": "8e352788",
   "metadata": {},
   "source": [
    "Para dois qubits, temos que\n",
    "\\begin{equation}\n",
    "|\\Phi_{+}\\rangle_{AB} = CNOT^{A\\rightarrow B}_{2}(H\\otimes\\mathbb{I})(|0\\rangle_{A}\\otimes |0\\rangle_{B}).\n",
    "\\end{equation}\n",
    "\n",
    "Para dois qudits, também podemos obter um estado maximamente emaranhado:\n",
    "\\begin{align}\n",
    "& CNOT_{d}^{A\\rightarrow B}(F_{A}\\otimes\\mathbb{I}_{B})(|0\\rangle_{A}\\otimes|0\\rangle_{B}) = CNOT_{d}^{A\\rightarrow B}(F_{A}|0\\rangle_{A}\\otimes|0\\rangle_{B}) \\\\\n",
    "& = CNOT_{d}^{A\\rightarrow B}\\Big(\\frac{1}{\\sqrt{d}}\\sum_{j=0}^{d-1}e^{2\\pi ij0/d}|j\\rangle\\otimes|0\\rangle_{B}\\Big) = \\frac{1}{\\sqrt{d}}\\sum_{j=0}^{d-1}CNOT_{d}^{A\\rightarrow B}(|j\\rangle\\otimes|0\\rangle_{B}) \\\\\n",
    "& = \\frac{1}{\\sqrt{d}}\\sum_{j=0}^{d-1}\\Big(\\sum_{k=0}^{d-1}|k\\rangle\\langle k|\\otimes X(k)\\Big)(|j\\rangle\\otimes|0\\rangle_{B}) = \\frac{1}{\\sqrt{d}}\\sum_{j,k=0}^{d-1}\\delta_{k,j}|k\\rangle\\otimes X(k)|0\\rangle_{B} \\\\\n",
    "& = \\frac{1}{\\sqrt{d}}\\sum_{k=0}^{d-1}|k\\rangle\\otimes|k\\oplus 0\\rangle_{B} = \\frac{1}{\\sqrt{d}}\\sum_{k=0}^{d-1}|k\\rangle\\otimes|k\\rangle_{B} \\\\\n",
    "& = |\\Phi\\rangle_{AB}.\n",
    "\\end{align}"
   ]
  },
  {
   "cell_type": "markdown",
   "id": "52b2b4e2",
   "metadata": {},
   "source": [
    "Os operadores \n",
    "\\begin{equation}\n",
    "\\{X(j)Z(k)\\}_{j,k\\in\\{0,\\cdots,d-1\\}}\n",
    "\\end{equation}\n",
    "são conhecidos como __operadores de Heisenberg-Weyl__. \n",
    "\n",
    "A __base de Bell para dois qubits__ pode ser\n",
    "\\begin{align}\n",
    "|\\Phi_{j,k}\\rangle_{AB} & = \\big(X_{A}(j)Z_{A}(k)\\otimes\\mathbb{I}_{B}\\big)|\\Phi\\rangle_{AB} \\\\\n",
    "& = \\big(X_{A}(j)Z_{A}(k)\\otimes\\mathbb{I}_{B}\\big)\\frac{1}{\\sqrt{d}}\\sum_{l=0}^{d-1}|l\\rangle_{A}\\otimes|l\\rangle_{B} \\\\\n",
    "& = \\frac{1}{\\sqrt{d}}\\sum_{l=0}^{d-1}(X_{A}(j)Z_{A}(k)|l\\rangle_{A})\\otimes|l\\rangle_{B} \\\\\n",
    "& = \\frac{1}{\\sqrt{d}}\\sum_{l=0}^{d-1}(X_{A}(j)e^{2\\pi ikl/d}|l\\rangle_{A})\\otimes|l\\rangle_{B} \\\\\n",
    "& = \\frac{1}{\\sqrt{d}}\\sum_{l=0}^{d-1}e^{2\\pi ikl/d}|j\\oplus l\\rangle_{A}\\otimes|l\\rangle_{B}.\n",
    "\\end{align}"
   ]
  },
  {
   "cell_type": "markdown",
   "id": "b2da247a",
   "metadata": {},
   "source": [
    "Essa base, que é constituída por $d^{2}$ vetores, é ortonormal\n",
    "\\begin{align}\n",
    "_{AB}\\langle\\Phi_{j,k}|\\Phi_{l,m}\\rangle_{AB} & = \\Big(\\frac{1}{\\sqrt{d}}\\sum_{n=0}^{d-1}e^{2\\pi ikn/d}\\langle j\\oplus n|\\otimes\\langle n|\\Big)\\Big(\\frac{1}{\\sqrt{d}}\\sum_{p=0}^{d-1}e^{2\\pi imp/d}|l\\oplus p\\rangle\\otimes|p\\rangle\\Big) \\\\\n",
    "& = \\frac{1}{d}\\sum_{n,p=0}^{d-1} \\langle j\\oplus n|l\\oplus p\\rangle\\otimes\\langle n|p\\rangle = \\frac{1}{d}\\sum_{n,p=0}^{d-1} \\langle j\\oplus n|l\\oplus p\\rangle\\delta_{n,p} \\\\\n",
    "& = \\frac{1}{d}\\sum_{n=0}^{d-1} \\langle j\\oplus n|l\\oplus n\\rangle\\delta_{n,p} = \\frac{1}{d}\\sum_{n=0}^{d-1}\\delta_{j,l}\\delta_{n,p}  = \\frac{1}{d}d\\delta_{j,l}\\delta_{n,p} \\\\\n",
    "& = \\delta_{j,l}\\delta_{n,p}.\n",
    "\\end{align}"
   ]
  },
  {
   "cell_type": "markdown",
   "id": "bbccb542",
   "metadata": {},
   "source": [
    "E essa base é completa\n",
    "\\begin{align}\n",
    "& \\sum_{j,k=0}^{d-1}|\\Phi_{j,k}\\rangle_{AB}\\langle\\Phi_{j,k}| = \\sum_{j,k=0}^{d-1}\\frac{1}{\\sqrt{d}}\\sum_{l=0}^{d-1}e^{2\\pi ikl/d}|j\\oplus l\\rangle\\otimes|l\\rangle\\frac{1}{\\sqrt{d}}\\sum_{m=0}^{d-1}e^{-2\\pi ikm/d}\\langle j\\oplus m|\\otimes\\langle m| \\\\\n",
    "& = \\frac{1}{d}\\sum_{j,k,l,m=0}^{d-1}e^{2\\pi ik(l-m)/d}|j\\oplus l\\rangle\\langle j\\oplus m|\\otimes|l\\rangle\\langle m| \\\\\n",
    "& = \\frac{1}{d}\\sum_{j,l,m=0}^{d-1}\\Big(\\sum_{k=0}^{d-1}e^{2\\pi ik(l-m)/d}\\Big)|j\\oplus l\\rangle\\langle j\\oplus m|\\otimes|l\\rangle\\langle m| = \\frac{1}{d}\\sum_{j,l,m=0}^{d-1}d\\delta_{l,m}|j\\oplus l\\rangle\\langle j\\oplus m|\\otimes|l\\rangle\\langle m| \\\\\n",
    "& = \\sum_{j,l=0}^{d-1}|j\\oplus l\\rangle\\langle j\\oplus l|\\otimes|l\\rangle\\langle l| = \\sum_{j,l=0}^{d-1}(|j\\oplus l\\rangle\\otimes|l\\rangle)(\\langle j\\oplus l|\\otimes\\langle l|) \\\\\n",
    "& = \\mathbb{I},\n",
    "\\end{align}\n",
    "em que usamos\n",
    "\\begin{align}\n",
    "l=m: \\ \\therefore\\ & \\sum_{k=0}^{d-1}e^{2\\pi ik(l-m)/d} = \\sum_{k=0}^{d-1}e^{0} = d, \\\\\n",
    "l\\ne m: \\ \\therefore\\ & \\sum_{k=0}^{d-1}e^{2\\pi ik(l-m)/d} = \\sum_{k=0}^{d-1}\\big(e^{2\\pi i(l-m)/d}\\big)^{k} =  \\frac{1-\\big(e^{2\\pi i(l-m)/d}\\big)^{d}}{1-e^{2\\pi i(l-m)/d}} \\\\\n",
    "& =  \\frac{1-e^{2\\pi i(l-m)}}{1-e^{2\\pi i(l-m)/d}} = 0,\n",
    "\\end{align}\n",
    "em que usamos a série finita\n",
    "\\begin{equation}\n",
    "\\sum_{k=0}^{d-1}x^{k} = \\frac{1-x^{d}}{1-x}\n",
    "\\end{equation}\n",
    "e\n",
    "\\begin{align}\n",
    "& e^{2\\pi i(l-m)} = \\cos(2\\pi(l-m)) +i\\sin(2\\pi(l-m)) = 1-i0 = 1 \\text{ pois } l-m\\in\\mathbb{Z}, \\\\\n",
    "& e^{2\\pi i(l-m)/d} = \\cos(2\\pi(l-m)/d) +i\\sin(2\\pi(l-m)/d) \\ne 1 \\text{ pois } (l-m)/d\\notin\\mathbb{Z}.\n",
    "\\end{align}"
   ]
  },
  {
   "cell_type": "markdown",
   "id": "a160f880",
   "metadata": {},
   "source": [
    "## Codificação superdensa para qudits\n",
    "O protocolo para qudits é análogo ao que vimos para qubits:\n",
    "1. Alice e Bob, em laboratórios distantes, recebem cada um um qubit de uma par de qudits prerarados em um estado maximamente emaranhados\n",
    "\\begin{equation}\n",
    "|\\Phi\\rangle_{AB} = \\frac{1}{\\sqrt{d}}\\sum_{j=0}^{d-1}|j\\rangle_{A}\\otimes|j\\rangle_{B}.\n",
    "\\end{equation}\n",
    "2. Alice aplica em seu qudit um dos $d^{2}$ operadores de Heisenberg-Weyl:\n",
    "\\begin{equation}\n",
    "X(j)Z(k),\n",
    "\\end{equation}\n",
    "preparando assim um dos estados da base de Bell generalizada:\n",
    "\\begin{equation}\n",
    "|\\Phi_{j,k}\\rangle_{AB} = \\big(X_{A}(j)Z_{A}(k)\\otimes\\mathbb{I}_{B}\\big)|\\Phi\\rangle_{AB}= \\frac{1}{\\sqrt{d}}\\sum_{l=0}^{d-1}e^{2\\pi ikl/d}|j\\oplus l\\rangle_{A}\\otimes|l\\rangle_{B}.\n",
    "\\end{equation}\n",
    "Bob e Alice devem combinar de antemão a codificação do para de índices $(j,k)$ nas $d^{2}$ possíveis mensagens.\n",
    "3. Alice envia seu qudit para Bob através de um canal sem ruído.\n",
    "4. Bob faz uma medida na base de Bell, generalizada descobrindo qual mensagem Alice enviou."
   ]
  },
  {
   "cell_type": "markdown",
   "id": "57301c85",
   "metadata": {},
   "source": [
    "## Teleportação quântica para qudits\n",
    "O protocolo de teleportação para qudits também é similar à teleportação de qubits. Alice e Bob querem preparar um qudit no laboratório de Bob $|\\psi\\rangle_{A'}$, mas sem usar comunicação quântica, ou seja, usando somente comunicação clássica e operações quânticas locais. Alice e Bob podem realizar essa preparação remota de estados se compartilharem um estado maximamente emaranhado e seguirem a seguinte sequência de operações:\n",
    "1. Alice recebe um qudit em um estado qualquer desconhecido:\n",
    "\\begin{equation}\n",
    "|\\psi\\rangle_{A'} = \\sum_{j=0}^{d-1}c_{j}|j\\rangle_{A'}.\n",
    "\\end{equation}\n",
    "2. Alice e Bob, em laboratórios distantes, recebem cada um um qubit de uma par de qudits prerarados em um estado maximamente emaranhado\n",
    "\\begin{equation}\n",
    "|\\Phi\\rangle_{AB} = \\frac{1}{\\sqrt{d}}\\sum_{j=0}^{d-1}|j\\rangle_{A}\\otimes|j\\rangle_{B}.\n",
    "\\end{equation}\n",
    "3. Alice faz uma medida na base de Bell generalizada nos qudits $A'$ e $A$ que estão com ela:\n",
    "\\begin{equation}\n",
    "|\\Phi_{j,k}\\rangle_{A'A} = \\big(X_{A'}(j)Z_{A'}(k)\\otimes\\mathbb{I}_{A}\\big)|\\Phi\\rangle_{A'A}= \\frac{1}{\\sqrt{d}}\\sum_{l=0}^{d-1}e^{2\\pi ikl/d}|j\\oplus l\\rangle_{A'}\\otimes|l\\rangle_{A}.\n",
    "\\end{equation}\n",
    "4. Alice manda informação clássica pra Bob informando o para de índices $(j,k)$, que correspondem ao estado $|\\Phi_{j,k}\\rangle_{A'A}$ obtido na medida na base de Bell generalizada.\n",
    "5. Bob aplica uma operação\n",
    "\\begin{equation}\n",
    "Z_{B}(j)X_{B}(k)\n",
    "\\end{equation}\n",
    "para transformar o estado do seu qudit no estado $|\\psi\\rangle_{B}$."
   ]
  },
  {
   "cell_type": "markdown",
   "id": "fc4114bf",
   "metadata": {},
   "source": [
    "Contas ..."
   ]
  },
  {
   "cell_type": "markdown",
   "id": "effe0c37",
   "metadata": {},
   "source": [
    "Vamos começar verificando que\n",
    "\\begin{equation}\n",
    "(M_{A}\\otimes\\mathbb{I}_{B})|\\Phi\\rangle_{AB} = (\\mathbb{I}_{A}\\otimes M_{B}^{T})|\\Phi\\rangle_{AB},\n",
    "\\end{equation}\n",
    "com \n",
    "\\begin{equation}\n",
    "M=\\sum_{j,k=0}^{d-1}M_{j,k}|j\\rangle\\langle k|\n",
    "\\end{equation}\n",
    "sendo uma matriz qualquer. Com isso, teremos\n",
    "\\begin{align}\n",
    "(M_{A}\\otimes\\mathbb{I}_{B})|\\Phi\\rangle_{AB} & = \\Big(\\sum_{j,k=0}^{d-1}M_{j,k}|j\\rangle\\langle k|\\otimes\\mathbb{I}_{B}\\Big)\\Big(\\frac{1}{\\sqrt{d}}\\sum_{l=0}^{d-1}|l\\rangle_{A}\\otimes|l\\rangle_{B}\\Big) \\\\\n",
    "& = \\frac{1}{\\sqrt{d}}\\sum_{j,k,l=0}^{d-1}M_{j,k}|j\\rangle\\langle k|l\\rangle_{A}\\otimes|l\\rangle_{B} \\\\\n",
    "& = \\frac{1}{\\sqrt{d}}\\sum_{j,k,l=0}^{d-1}M_{j,k}|j\\rangle\\delta_{k,l}\\otimes|l\\rangle_{B} \\\\\n",
    "& = \\frac{1}{\\sqrt{d}}\\sum_{j,k=0}^{d-1}M_{j,k}|j\\rangle_{A}\\otimes|k\\rangle_{B}.\n",
    "\\end{align}"
   ]
  },
  {
   "cell_type": "markdown",
   "id": "114cfe67",
   "metadata": {},
   "source": [
    "A transposta de $M$ pode ser escrita como\n",
    "\\begin{equation}\n",
    "M^{T}=\\sum_{j,k=0}^{d-1}M_{k,j}|j\\rangle\\langle k|.\n",
    "\\end{equation}\n",
    "Assim\n",
    "\\begin{align}\n",
    "(\\mathbb{I}_{A}\\otimes M_{B}^{T})|\\Phi\\rangle_{AB} & = \\Big((\\mathbb{I}_{A}\\otimes \\sum_{j,k=0}^{d-1}M_{k,j}|j\\rangle\\langle k|\\Big)\\Big(\\frac{1}{\\sqrt{d}}\\sum_{l=0}^{d-1}|l\\rangle_{A}\\otimes|l\\rangle_{B}\\Big) \\\\\n",
    "& = \\frac{1}{\\sqrt{d}}\\sum_{j,k,l=0}^{d-1}M_{k,j}|l\\rangle_{A}\\otimes|j\\rangle\\langle k|l\\rangle_{B} \\\\\n",
    "& = \\frac{1}{\\sqrt{d}}\\sum_{j,k,l=0}^{d-1}M_{k,j}|l\\rangle_{A}\\otimes|j\\rangle\\delta_{k,l} \\\\\n",
    "& = \\frac{1}{\\sqrt{d}}\\sum_{j,k=0}^{d-1}M_{k,j}|k\\rangle_{A}\\otimes|j\\rangle \\\\\n",
    "& \\equiv \\frac{1}{\\sqrt{d}}\\sum_{j,k=0}^{d-1}M_{j,k}|j\\rangle_{A}\\otimes|k\\rangle \\\\\n",
    "& = (M_{A}\\otimes\\mathbb{I}_{B})|\\Phi\\rangle_{AB}.\n",
    "\\end{align}"
   ]
  },
  {
   "cell_type": "markdown",
   "id": "99e8dcee",
   "metadata": {},
   "source": [
    "Seguindo, usaremos \n",
    "\\begin{align}\n",
    "& (M_{A}\\otimes\\mathbb{I}_{B})|\\Phi\\rangle_{AB} = (\\mathbb{I}_{A}\\otimes M_{B}^{T})|\\Phi\\rangle_{AB} \\ \\therefore\\ _{AB}\\langle\\Phi|(M_{A}^{\\dagger}\\otimes\\mathbb{I}_{B}) = _{AB}\\langle\\Phi|(\\mathbb{I}_{A}\\otimes (M_{B}^{T})^{\\dagger}) \\\\\n",
    "& \\therefore\\ _{AB}\\langle\\Phi|(M_{A}^{\\dagger}\\otimes\\mathbb{I}_{B}) = _{AB}\\langle\\Phi|(\\mathbb{I}_{A}\\otimes M_{B}^{*})\n",
    "\\end{align}\n",
    "algumas vezes na sequência. Depois de feita a distribuição de emaranhamento e Alice e Bob compartilharem o estado $|\\psi\\rangle_{A'}|\\Phi\\rangle_{AB}$, Alice faz uma medida na base de Bell generalizada\n",
    "\\begin{equation}\n",
    "|\\Phi_{j,k}\\rangle_{A'A} = \\big(X_{A'}(j)Z_{A'}(k)\\otimes\\mathbb{I}_{A}\\big)|\\Phi\\rangle_{A'A}  = (U_{A'}^{(jk)}\\otimes\\mathbb{I}_{A}\\big)|\\Phi\\rangle_{A'A}.\n",
    "\\end{equation}\n",
    "Com isso, o estado pós-medida não normalizado será dado por\n",
    "\\begin{align}\n",
    "& \\big(|\\Phi_{j,k}\\rangle_{A'A}\\langle\\Phi_{j,k}|\\otimes\\mathbb{I}_{B}\\big)\\big(|\\psi\\rangle_{A'}|\\Phi\\rangle_{AB}\\big) \\\\\n",
    "& = \\big(|\\Phi_{j,k}\\rangle_{A'A}(_{AA'}\\langle\\Phi|(U_{A'}^{(jk)})^{\\dagger}\\otimes\\mathbb{I}_{A})\\otimes\\mathbb{I}_{B}\\big)\\big(|\\psi\\rangle_{A'}|\\Phi\\rangle_{AB}\\big) \\\\\n",
    "& = \\big(|\\Phi_{j,k}\\rangle_{A'A}(_{AA'}\\langle\\Phi|(\\mathbb{I}_{A'}\\otimes(U_{A}^{(jk)})^{*})\\otimes\\mathbb{I}_{B}\\big)\\big(|\\psi\\rangle_{A'}|\\Phi\\rangle_{AB}\\big) \\\\\n",
    "& = \\big((|\\Phi_{j,k}\\rangle_{A'A}\\langle\\Phi|\\otimes\\mathbb{I}_{B})(\\mathbb{I}_{A'}\\otimes(U_{A}^{(jk)})^{*}\\otimes\\mathbb{I}_{B}\\big)\\big(|\\psi\\rangle_{A'}|\\Phi\\rangle_{AB}\\big) \\\\\n",
    "& = \\big(|\\Phi_{j,k}\\rangle_{A'A}\\langle\\Phi|\\otimes\\mathbb{I}_{B}\\big)\\big(|\\psi\\rangle_{A'}\\otimes((U_{A}^{(jk)})^{*}\\otimes\\mathbb{I}_{B})|\\Phi\\rangle_{AB}\\big) \\\\\n",
    "& = \\big(|\\Phi_{j,k}\\rangle_{A'A}\\langle\\Phi|\\otimes\\mathbb{I}_{B}\\big)\\big(|\\psi\\rangle_{A'}\\otimes(\\mathbb{I}_{A}\\otimes((U_{B}^{(jk)})^{*})^{T})|\\Phi\\rangle_{AB}\\big) \\\\\n",
    "& = \\big(|\\Phi_{j,k}\\rangle_{A'A}\\langle\\Phi|\\otimes\\mathbb{I}_{B}\\big)\\big(|\\psi\\rangle_{A'}\\otimes(\\mathbb{I}_{A}\\otimes(U_{B}^{(jk)})^{\\dagger})|\\Phi\\rangle_{AB}\\big) \\\\\n",
    "& = \\big(|\\Phi_{j,k}\\rangle_{A'A}\\langle\\Phi|\\otimes\\mathbb{I}_{B}\\big)\\big(\\mathbb{I}_{A'}\\otimes\\mathbb{I}_{A}\\otimes(U_{B}^{(jk)})^{\\dagger}\\big)\\big(|\\psi\\rangle_{A'}|\\Phi\\rangle_{AB}\\big) \\\\\n",
    "& = \\big(|\\Phi_{j,k}\\rangle_{A'A}\\langle\\Phi|\\otimes(U_{B}^{(jk)})^{\\dagger}\\big)\\big(|\\psi\\rangle_{A'}|\\Phi\\rangle_{AB}\\big) \\\\\n",
    "& = \\big(\\mathbb{I}_{A'}\\otimes\\mathbb{I}_{A}\\otimes(U_{B}^{(jk)})^{\\dagger}\\big) \\big(|\\Phi_{j,k}\\rangle_{A'A}\\langle\\Phi|\\otimes\\mathbb{I}_{B}\\big)\\big(|\\psi\\rangle_{A'}|\\Phi\\rangle_{AB}\\big) \\\\\n",
    "\\end{align}"
   ]
  },
  {
   "cell_type": "markdown",
   "id": "dd49d572",
   "metadata": {},
   "source": [
    "Agora notemos\n",
    "\\begin{align}\n",
    "& \\big(|\\Phi_{j,k}\\rangle_{A'A}\\langle\\Phi|\\otimes\\mathbb{I}_{B}\\big)\\big(|\\psi\\rangle_{A'}|\\Phi\\rangle_{AB}\\big) \\\\\n",
    "& = \\big(|\\Phi_{j,k}\\rangle_{A'A}d^{-1/2}\\sum_{l}\\langle l|_{A'}\\otimes\\langle l|_{A}\\otimes\\sum_{n}|n\\rangle_{B}\\langle n|\\big)\\big(|\\psi\\rangle_{A'}\\otimes d^{-1/2}\\sum_{m}|m\\rangle_{A}\\otimes|m\\rangle_{B}\\big) \\\\\n",
    "& = d^{-1}\\sum_{l,n,m}\\big(|\\Phi_{j,k}\\rangle_{A'A}\\otimes|n\\rangle_{B}\\big)\\big(\\langle l|_{A'}\\otimes\\langle l|_{A}\\otimes\\langle n|_{B}\\big)\\big(|\\psi\\rangle_{A'}\\otimes |m\\rangle_{A}\\otimes|m\\rangle_{B}\\big) \\\\\n",
    "& = d^{-1}\\sum_{l,n,m}\\big(|\\Phi_{j,k}\\rangle_{A'A}\\otimes|n\\rangle_{B}\\big)\\big(_{A'}\\langle l|\\psi\\rangle_{A'}\\otimes _{A}\\langle l|m\\rangle_{A}\\otimes _{B}\\langle n|m\\rangle_{B}\\big) \\\\\n",
    "& = d^{-1}\\sum_{l,n,m}\\big(|\\Phi_{j,k}\\rangle_{A'A}\\otimes|n\\rangle_{B}\\big)\\big(_{A'}\\langle l|\\psi\\rangle_{A'}\\otimes \\delta_{l,m}\\otimes \\delta_{n,m}\\big) \\\\\n",
    "& = d^{-1}\\sum_{l}\\big(|\\Phi_{j,k}\\rangle_{A'A}\\otimes|l\\rangle_{B}\\big)_{A'}\\langle l|\\psi\\rangle_{A'} \\\\\n",
    "& = d^{-1}|\\Phi_{j,k}\\rangle_{A'A}\\otimes\\sum_{l}(_{A'}\\langle l|\\psi\\rangle_{A'})|n\\rangle_{B} \\\\\n",
    "& \\equiv d^{-1}|\\Phi_{j,k}\\rangle_{A'A}\\otimes\\sum_{l}(_{B}\\langle l|\\psi\\rangle_{B})|n\\rangle_{B} \\\\\n",
    "& = d^{-1}|\\Phi_{j,k}\\rangle_{A'A}\\otimes|\\psi\\rangle_{B}.\n",
    "\\end{align}"
   ]
  },
  {
   "cell_type": "markdown",
   "id": "d6fadc17",
   "metadata": {},
   "source": [
    "Com isso, o estado pós-medida não normalizado fica escrito como\n",
    "\\begin{align}\n",
    "& \\big(|\\Phi_{j,k}\\rangle_{A'A}\\langle\\Phi_{j,k}|\\otimes\\mathbb{I}_{B}\\big)\\big(|\\psi\\rangle_{A'}|\\Phi\\rangle_{AB}\\big) \\\\\n",
    "& = \\big(\\mathbb{I}_{A'}\\otimes\\mathbb{I}_{A}\\otimes(U_{B}^{(jk)})^{\\dagger}\\big)\\big(d^{-1}|\\Phi_{j,k}\\rangle_{A'A}\\otimes|\\psi\\rangle_{B}\\big) \\\\\n",
    "& = d^{-1}|\\Phi_{j,k}\\rangle_{A'A}\\otimes(U_{B}^{(jk)})^{\\dagger}|\\psi\\rangle_{B}.\n",
    "\\end{align}\n",
    "\n",
    "Por conseguinte, uma vez que Alice envia o par de índices $(j,k)$ correspondente ao resultado da sua medida na base generalizada de Bell, Bob, conhecendo $(j,k)$, aplica\n",
    "\\begin{equation}\n",
    "U_{B}^{(jk)}(U_{B}^{(jk)})^{\\dagger}|\\psi\\rangle_{B} = \\mathbb{I}_{B}|\\psi\\rangle_{B} = |\\psi\\rangle_{B},\n",
    "\\end{equation}\n",
    "completando assim o protocolo de teleportação.\n",
    "\n",
    "__Exercício:__ Calcule a probabilidade de Alice obter o resultado $|\\Phi_{j,k}\\rangle_{A'A}$ em sua medida na base de Bell generalizada.\n",
    "\n",
    "__Exercício:__ Considerando que Bob não conhece o resultado da medida feita por Alice, mas que ele sabe que ela fez tal medida, qual é o operador densidade que ele atribui ao seu qudit?"
   ]
  },
  {
   "cell_type": "code",
   "execution_count": null,
   "id": "bb06652d",
   "metadata": {},
   "outputs": [],
   "source": []
  }
 ],
 "metadata": {
  "kernelspec": {
   "display_name": "Python 3 (ipykernel)",
   "language": "python",
   "name": "python3"
  },
  "language_info": {
   "codemirror_mode": {
    "name": "ipython",
    "version": 3
   },
   "file_extension": ".py",
   "mimetype": "text/x-python",
   "name": "python",
   "nbconvert_exporter": "python",
   "pygments_lexer": "ipython3",
   "version": "3.8.11"
  }
 },
 "nbformat": 4,
 "nbformat_minor": 5
}
