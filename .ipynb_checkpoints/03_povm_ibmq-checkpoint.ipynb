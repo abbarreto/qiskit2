{
 "cells": [
  {
   "cell_type": "markdown",
   "id": "93053678",
   "metadata": {},
   "source": [
    "# Implementação de POVMs no IBMQ\n",
    "\n",
    "Estas notas são baseadas em (Y. S. Yordanov and C. H. W. Barnes, Implementation of a general single-qubit positive operator-valued measure on a circuit-based quantum computer, __Phys. Rev. A 100, 062317 (2019)__).\n",
    "\n",
    "Os autores obtiveram uma forma de implementar POVM com $n$ elementos a partir da composição de operações básicas que implementam POVMs com 2 elementos.\n",
    "\n",
    "Vale notar que na verdade os autores implementam medidas gerais. Ou seja, eles estão interessados em implementar um POVM com elementos $\\{E_{j}\\}=\\{M_{j}^{\\dagger}M_{j}\\}$ em um sistema preparado inicialmente no estado $|\\psi_{0}\\rangle$ tal que\n",
    "\\begin{equation}\n",
    "|\\psi_{0}\\rangle \\xrightarrow[]{\\text{obtém }M_{j}} \\frac{M_{j}|\\psi_{0}\\rangle}{Pr(M_{j}|\\psi_{0})}\n",
    "\\end{equation}\n",
    "com\n",
    "\\begin{equation}\n",
    "Pr(M_{j}|\\psi_{0}) = ||M_{j}|\\psi_{0}\\rangle|| = \\langle\\psi_{0}|M_{j}^{\\dagger}M_{j}|\\psi_{0}\\rangle.\n",
    "\\end{equation}\n",
    "\n",
    "Usando um sistema auxiliar $B$, essa POVM pode ser implementada unitariamente:\n",
    "\\begin{equation}\n",
    "U_{AB}|\\psi_{0}\\rangle_{A}\\otimes|0\\rangle_{B} = \\sum_{j}(M_{j}|\\psi_{0}\\rangle_{A})\\otimes|j\\rangle_{B}.\n",
    "\\end{equation}"
   ]
  },
  {
   "cell_type": "markdown",
   "id": "3ff094da",
   "metadata": {},
   "source": [
    "## POVMs de 1 qubit com 2 elementos\n",
    "Começamos escrevendo o estado inicial na base computacional\n",
    "\\begin{equation}\n",
    "|\\psi_{0}\\rangle = c_{0}|0\\rangle_{A}+c_{1}|1\\rangle_{A}.\n",
    "\\end{equation}\n",
    "A ideia é manter em mente que queremos transformar o estado inicial \n",
    "\\begin{equation}\n",
    "|\\Psi_{0}\\rangle = |\\psi_{0}\\rangle_{A}\\otimes|0\\rangle_{B}\n",
    "\\end{equation}\n",
    "em\n",
    "\\begin{equation}\n",
    "|\\Psi_{f}\\rangle = (M_{1}|\\psi_{0}\\rangle_{A})\\otimes|o_{1}\\rangle_{B} + (M_{2}|\\psi_{0}\\rangle_{A})\\otimes|o_{2}\\rangle_{B},\n",
    "\\end{equation}\n",
    "com $\\{|o_{j}\\rangle\\}_{j=1}^{2}$ estados ortogonais do sistema auxiliar.\n",
    "\n",
    "A primeira operação do protocolo é uma transformação unitária no sistema $A$:\n",
    "\\begin{align}\n",
    "|\\Psi_{1}\\rangle & = (U_{A}\\otimes\\mathbb{I}_{B})|\\Psi_{0}\\rangle = (U_{A}|\\psi_{0}\\rangle_{A})\\otimes|0\\rangle_{B} \\\\\n",
    "& := (c_{0}'|0\\rangle_{A}+c_{1}'|1\\rangle_{A})\\otimes|0\\rangle_{B}.\n",
    "\\end{align}\n",
    "\n",
    "<img src = 'qcircuit_povm2.png' width = '500'>"
   ]
  },
  {
   "cell_type": "markdown",
   "id": "3503d403",
   "metadata": {},
   "source": [
    "Seguindo aplicamos uma $R_{y}$ controlada, com o estado $|0\\rangle$ como ativador\n",
    "\\begin{equation}\n",
    "\\tilde{C}_{R_{y}(\\theta)}^{A\\rightarrow B} = |0\\rangle_{A}\\langle 0|\\otimes R_{y}(\\theta) + |1\\rangle_{A}\\langle 1|\\otimes \\mathbb{I}_{B},\n",
    "\\end{equation}\n",
    "em que $R_{y}(\\theta)=\\begin{bmatrix} \\cos(\\theta/2) & -\\sin(\\theta/2) \\\\ \\sin(\\theta/2) & \\cos(\\theta/2) \\end{bmatrix}$. Com isso, obteremos o estado\n",
    "\\begin{align}\n",
    "|\\Psi_{2}\\rangle & = \\tilde{C}_{R_{y}(\\theta)}^{A\\rightarrow B}|\\Psi_{1}\\rangle \\\\\n",
    "& = c_{0}'|0\\rangle_{A}\\otimes\\big(\\cos(\\theta/2)|0\\rangle_{B}+\\sin(\\theta/2)|1\\rangle_{B} \\big)+c_{1}'|1\\rangle_{A}\\otimes|0\\rangle_{B}.\n",
    "\\end{align}\n",
    "\n",
    "Depois, aplica-se outra $R_{y}$ controlada, mas com $|1\\rangle$ como ativador:\n",
    "\\begin{equation}\n",
    "C_{R_{y}(\\phi)}^{A\\rightarrow B} = |0\\rangle_{A}\\langle 0|\\otimes \\mathbb{I}_{B} + |1\\rangle_{A}\\langle 1|\\otimes R_{y}(\\phi).\n",
    "\\end{equation}\n",
    "Assim, obtemos o estado\n",
    "\\begin{align}\n",
    "|\\Psi_{3}\\rangle & = C_{R_{y}(\\phi)}^{A\\rightarrow B}|\\Psi_{2}\\rangle \\\\\n",
    "& = c_{0}'|0\\rangle_{A}\\otimes\\big(\\cos(\\theta/2)|0\\rangle_{B}+\\sin(\\theta/2)|1\\rangle_{B} \\big)+c_{1}'|1\\rangle_{A}\\otimes\\big(\\cos(\\phi/2)|0\\rangle_{B}+\\sin(\\phi/2)|1\\rangle_{B} \\big) \\\\\n",
    "& = \\big(\\cos(\\theta/2)c_{0}'|0\\rangle_{A} + \\cos(\\phi/2)c_{1}'|1\\rangle_{A}\\big)\\otimes|0\\rangle_{B} + \\big(\\sin(\\theta/2)c_{0}'|0\\rangle_{A} + \\sin(\\phi/2)c_{1}'|1\\rangle_{A}\\big)\\otimes|1\\rangle_{B} \\\\\n",
    "& = (D_{1}U_{A}|\\psi_{0}\\rangle_{A})\\otimes|0\\rangle_{B} + (D_{2}U_{A}|\\psi_{0}\\rangle_{A})\\otimes|1\\rangle_{B}.\n",
    "\\end{align}"
   ]
  },
  {
   "cell_type": "markdown",
   "id": "9ab93c4a",
   "metadata": {},
   "source": [
    "Acima definimos os operadores \n",
    "\\begin{align}\n",
    "D_{1} & = \\cos(\\theta/2)|0\\rangle_{A}\\langle 0| + \\cos(\\phi/2)|1\\rangle_{A}\\langle 1|, \\\\\n",
    "D_{2} & = \\sin(\\theta/2)|0\\rangle_{A}\\langle 0| + \\sin(\\phi/2)|1\\rangle_{A}\\langle 1|,\n",
    "\\end{align}\n",
    "que são operadores gerais de um qubit, a menos de uma transformação unitária para generalizar os autovetores. Podemos garantir que esses operadores sejam positivos restringindo\n",
    "\\begin{equation}\n",
    "\\theta,\\phi\\in[0,\\pi].\n",
    "\\end{equation}\n",
    "\n",
    "Por isso, seguimos aplicando uma unitária qualquer $V_{1}$ controlada\n",
    "\\begin{equation}\n",
    "\\tilde{C}_{V_{1}}^{B\\rightarrow A} = V_{1}\\otimes|0\\rangle_{B}\\langle 0| + \\mathbb{I}\\otimes|1\\rangle_{B}\\langle 1|,\n",
    "\\end{equation}\n",
    "obtendo o estado\n",
    "\\begin{align}\n",
    "|\\Psi_{4}\\rangle & = \\tilde{C}_{V_{1}}^{B\\rightarrow A}|\\Psi_{3}\\rangle \\\\\n",
    "& = (V_{1}D_{1}U_{A}|\\psi_{0}\\rangle_{A})\\otimes|0\\rangle_{B} + (D_{2}U_{A}|\\psi_{0}\\rangle_{A})\\otimes|1\\rangle_{B}.\n",
    "\\end{align}\n",
    "\n",
    "Por fim, aplicamos uma unitária qualquer $V_{2}$ controlada\n",
    "\\begin{equation}\n",
    "C_{V_{2}}^{B\\rightarrow A} = \\mathbb{I}_{A}\\otimes|0\\rangle_{B}\\langle 0| + V_{2}\\otimes|1\\rangle_{B}\\langle 1|,\n",
    "\\end{equation}\n",
    "obtendo o estado\n",
    "\\begin{align}\n",
    "|\\Psi_{5}\\rangle & = \\tilde{C}_{V_{2}}^{B\\rightarrow A}|\\Psi_{4}\\rangle \\\\\n",
    "& = (V_{1}D_{1}U_{A}|\\psi_{0}\\rangle_{A})\\otimes|0\\rangle_{B} + (V_{2}D_{2}U_{A}|\\psi_{0}\\rangle_{A})\\otimes|1\\rangle_{B} \\\\\n",
    "& = (M_{1}|\\psi_{0}\\rangle_{A})\\otimes|0\\rangle_{B} + (M_{2}|\\psi_{0}\\rangle_{A})\\otimes|1\\rangle_{B}.\n",
    "\\end{align}"
   ]
  },
  {
   "cell_type": "markdown",
   "id": "c3e32519",
   "metadata": {},
   "source": [
    "Pelo teorema da decomposição em valores singulares, temos que para qualquer matriz $A$, existem matrizes unitárias $U$ e $W$ e uma matriz $D$ positiva e diagonal na base padrão $\\{|j\\rangle\\}$ tais que\n",
    "\\begin{equation}\n",
    "A = UDW.\n",
    "\\end{equation}\n",
    "Portanto, o circuito acima é tal que temos duas matrizes gerais\n",
    "\\begin{equation}\n",
    "M_{1} = V_{1}D_{1}U_{A} \\text{ e } M_{2} = V_{2}D_{2}U_{A}.\n",
    "\\end{equation}\n",
    "A possível limitação de $U_{A}$ aparecer nas duas equações é importante para que a relação de completeza dos operadores de medida seja satisfeita:\n",
    "\\begin{align}\n",
    "\\sum_{j}M_{j}^{\\dagger}M_{j} & = M_{1}^{\\dagger}M_{1} + M_{2}^{\\dagger}M_{2} \\\\\n",
    "& = U_{A}^{\\dagger}D_{1}^{\\dagger}V_{1}^{\\dagger}V_{1}D_{1}U_{A} + U_{A}^{\\dagger}D_{2}^{\\dagger}V_{2}^{\\dagger}V_{2}D_{2}U_{A} \\\\\n",
    "& = U_{A}^{\\dagger}D_{1}^{2}U_{A} + U_{A}^{\\dagger}D_{2}^{2}U_{A} = U_{A}^{\\dagger}\\big(D_{1}^{2}+D_{2}^{2}\\big)U_{A} \\\\\n",
    "& = U_{A}^{\\dagger}\\big(\\cos^{2}(\\theta/2)|0\\rangle_{A}\\langle 0| + \\cos^{2}(\\phi/2)|1\\rangle_{A}\\langle 1| + \\sin^{2}(\\theta/2)|0\\rangle_{A}\\langle 0| + \\sin^{2}(\\phi/2)|1\\rangle_{A}\\langle 1|\\big)U_{A} \\\\\n",
    "& = U_{A}^{\\dagger}\\big(|0\\rangle_{A}\\langle 0| + |1\\rangle_{A}\\langle 1|\\big)U_{A} = U_{A}^{\\dagger}U_{A} \\\\\n",
    "& = \\mathbb{I}_{A}.\n",
    "\\end{align}"
   ]
  },
  {
   "cell_type": "markdown",
   "id": "be3b701e",
   "metadata": {},
   "source": [
    "## POVMs de 1 qubit com $n$ elementos\n",
    "\n",
    "Pode-se compor o circuito acima para implementar um POVM com $n$ elementos, como mostrado na figura abaixo:\n",
    "\n",
    "<img src = 'qcircuit_povmn.png' width = '800'>"
   ]
  },
  {
   "cell_type": "code",
   "execution_count": null,
   "id": "71ddfaf7",
   "metadata": {},
   "outputs": [],
   "source": []
  }
 ],
 "metadata": {
  "kernelspec": {
   "display_name": "Python 3 (ipykernel)",
   "language": "python",
   "name": "python3"
  },
  "language_info": {
   "codemirror_mode": {
    "name": "ipython",
    "version": 3
   },
   "file_extension": ".py",
   "mimetype": "text/x-python",
   "name": "python",
   "nbconvert_exporter": "python",
   "pygments_lexer": "ipython3",
   "version": "3.8.8"
  }
 },
 "nbformat": 4,
 "nbformat_minor": 5
}
