{
 "cells": [
  {
   "cell_type": "markdown",
   "id": "e221c73c",
   "metadata": {},
   "source": [
    "# Isometrias vs unitárias\n",
    "\n",
    "Uma transformação unitária é uma transformação linear $U$ tal que\n",
    "\\begin{equation}\n",
    "UU^{\\dagger} = U^{\\dagger}U = \\mathbb{I}.\n",
    "\\end{equation}\n",
    "\n",
    "Uma transformação isométrica é uma transformação linear $V$ tal que\n",
    "\\begin{equation}\n",
    "V^{\\dagger}V = \\mathbb{I} \\text{ e } VV^{\\dagger}=\\Pi,\n",
    "\\end{equation}\n",
    "com $\\Pi$ sendo um projetor. \n",
    "\n",
    "Assim como uma transformação unitária, uma isometria preserva norma, pois\n",
    "\\begin{align}\n",
    "& |\\psi'\\rangle = V|\\psi\\rangle \\\\\n",
    "& \\therefore\\ ||\\psi'||^{2} = \\langle\\psi'|\\psi'\\rangle = \\langle\\psi|V^{\\dagger}V|\\psi\\rangle =\\langle\\psi|\\mathbb{I}|\\psi\\rangle \\\\\n",
    "& \\hspace{2cm}= ||\\psi||^{2}. \n",
    "\\end{align}\n",
    "No entanto, diferentemente da transformação unitária, a isometria não é reversível:\n",
    "\\begin{equation}\n",
    "V^{\\dagger}|\\psi'\\rangle = V^{\\dagger}V|\\psi\\rangle = \\Pi|\\psi\\rangle \\ne |\\psi\\rangle\n",
    "\\end{equation}\n",
    "em geral."
   ]
  },
  {
   "cell_type": "markdown",
   "id": "dbe27877",
   "metadata": {},
   "source": [
    "Para discutir mais sobre isometrias, vamos considerar um canal quântico\n",
    "\\begin{equation}\n",
    "\\Lambda^{A\\rightarrow B}(\\rho_{A}) \\equiv \\Lambda(\\rho_{A}) = \\sum_{j}K_{j}\\rho_{A} K_{j}^{\\dagger},\n",
    "\\end{equation}\n",
    "em que $K_{j}:\\mathcal{H}_{A}\\rightarrow\\mathcal{H}_{B}$ são tais que \n",
    "\\begin{equation}\n",
    "\\sum_{j}K_{j}^{\\dagger}K_{j}=\\mathbb{I}.\n",
    "\\end{equation}\n",
    "Não é difícil verificar que a isometria\n",
    "\\begin{equation}\n",
    "V^{A\\rightarrow BE}_{\\Lambda} \\equiv V_{\\Lambda}:= \\sum_{j}K_{j}\\otimes|j\\rangle_{E}\n",
    "\\end{equation}\n",
    "nos fornece o canal quântico acima:\n",
    "\\begin{align}\n",
    "& Tr_{E}\\big(V_{\\Lambda}\\rho_{A}V_{\\Lambda}^{\\dagger}\\big) = Tr_{E}\\big(\\sum_{j}K_{j}\\otimes|j\\rangle_{E}\\rho_{A}\\sum_{k}K_{k}^{\\dagger}\\otimes\\langle k|_{E}\\big) \\\\\n",
    "& = Tr_{E}\\big(\\sum_{jk}K_{j}\\rho_{A}K_{k}^{\\dagger}\\otimes|j\\rangle_{E}\\langle k|\\big) = \\sum_{j}K_{j}\\rho_{A}K_{j}^{\\dagger} \\\\\n",
    "& = \\Lambda(\\rho_{A}).\n",
    "\\end{align}"
   ]
  },
  {
   "cell_type": "markdown",
   "id": "1803c5f2",
   "metadata": {},
   "source": [
    "Neste caso, podemos verificar que $V_{\\Lambda}$ é de fato uma isometria. Começamos com\n",
    "\\begin{align}\n",
    "& V_{\\Lambda}^{\\dagger}V_{\\Lambda} = \\sum_{k}K_{k}^{\\dagger}\\otimes\\langle k|_{E}\\sum_{j}K_{j}\\otimes|j\\rangle_{E} \\\\\n",
    "& = \\sum_{kj}K_{k}^{\\dagger}K_{j}\\otimes_{E}\\langle k|j\\rangle_{E} = \\sum_{j}K_{j}^{\\dagger}K_{j} = \\mathbb{I}.\n",
    "\\end{align}\n",
    "\n",
    "Usando\n",
    "\\begin{align}\n",
    "V_{\\Lambda}V_{\\Lambda}^{\\dagger} & = \\sum_{j}K_{j}\\otimes|j\\rangle_{E}\\sum_{k}K_{k}^{\\dagger}\\otimes\\langle k|_{E} \\\\\n",
    "& = \\sum_{jk}K_{j}K_{k}^{\\dagger}\\otimes|j\\rangle_{E}\\langle k|\n",
    "\\end{align}"
   ]
  },
  {
   "cell_type": "markdown",
   "id": "8fb6a2ba",
   "metadata": {},
   "source": [
    "podemos escrever\n",
    "\\begin{align}\n",
    "(V_{\\Lambda}V_{\\Lambda}^{\\dagger})^{2} & = \\Big(\\sum_{jk}K_{j}K_{k}^{\\dagger}\\otimes|j\\rangle_{E}\\langle k|_{E}\\Big)\\Big(\\sum_{lm}K_{l}K_{m}^{\\dagger}\\otimes|l\\rangle_{E}\\langle m|_{E}\\Big) \\\\\n",
    "& = \\sum_{jklm}K_{j}K_{k}^{\\dagger}K_{l}K_{m}^{\\dagger}\\otimes|j\\rangle_{E}\\langle k|l\\rangle_{E}\\langle m|_{E} \\\\\n",
    "& = \\sum_{jm}K_{j}\\big(\\sum_{l}K_{l}^{\\dagger}K_{l}\\big)K_{m}^{\\dagger}\\otimes|j\\rangle_{E}\\langle m| \\\\\n",
    "& = \\sum_{jm}K_{j}K_{m}^{\\dagger}\\otimes|j\\rangle_{E}\\langle m| \\\\\n",
    "& = V_{\\Lambda}V_{\\Lambda}^{\\dagger}.\n",
    "\\end{align}"
   ]
  },
  {
   "cell_type": "markdown",
   "id": "1ce17527",
   "metadata": {},
   "source": [
    "## Canal complementar\n",
    "Na criptografia, por exemplo, é interessante considerar também o estado do ambiente (o sistema purificador), que codifica a informação que pode ser acessada pela espiã Eva. O mapa CPTP que leva o estado original $\\rho_{A}$ em um estado de $E$ é chamado de canal complementar, cuja ação é obtida como segue:\n",
    "\\begin{align}\n",
    "\\Lambda_{c}^{A\\rightarrow E}(\\rho_{A}) & = Tr_{B}\\Big(V^{A\\rightarrow BE}_{\\Lambda}\\rho_{A}\\big(V^{A\\rightarrow BE}_{\\Lambda}\\big)^{\\dagger}\\Big) \\\\\n",
    "& = Tr_{B}\\Big(\\sum_{j}(K_{j}\\otimes|j\\rangle_{E})\\rho_{A}\\sum_{k}(K_{k}^{\\dagger}\\otimes\\langle k|_{E})\\Big) \\\\\n",
    "& = \\sum_{jk}Tr_{B}\\Big(K_{j}\\rho_{A}K_{k}^{\\dagger}\\otimes|j\\rangle_{E}\\langle k|\\Big) \\\\ \n",
    "& = \\sum_{jk}Tr_{B}\\big(K_{j}\\rho_{A}K_{k}^{\\dagger}\\big)|j\\rangle_{E}\\langle k| \\\\\n",
    "& = \\sum_{jk}\\rho^{E}_{jk}|j\\rangle_{E}\\langle k|\n",
    "\\end{align}"
   ]
  },
  {
   "cell_type": "markdown",
   "id": "aced0eb0",
   "metadata": {},
   "source": [
    "## Exemplo: Canal bit-flip\n",
    "Esta interação ruidosa inverte o estado da base computacional com probabilidade $p$. Portanto, se o sistema quântico $A$, um qubit, está inicialmente no estado $|\\psi\\rangle_{A}$, ao ser sujeito a esta canal quântico, este evoluirá para\n",
    "\\begin{equation}\n",
    "\\Lambda_{bf}(|\\psi\\rangle_{A}) = (1-p)|\\psi\\rangle_{A}\\langle\\psi| + pX|\\psi\\rangle_{A}\\langle\\psi|X,\n",
    "\\end{equation}\n",
    "em que usamos que $X|0\\rangle=|1\\rangle$ e $X|1\\rangle=|0\\rangle$. Os operadores de Kraus são então\n",
    "\\begin{equation}\n",
    "K_{1}=\\sqrt{1-p}\\mathbb{I} \\text{ e } K_{2}=\\sqrt{p}X.\n",
    "\\end{equation}\n",
    "\n",
    "Este canal quântico pode ser obtido usando a seguinte purificação/isometria:\n",
    "\\begin{equation}\n",
    "V^{A\\rightarrow AE}_{\\Lambda_{bf}}|\\psi\\rangle_{A} = \\sqrt{1-p}|\\psi\\rangle_{A}\\otimes|0\\rangle_{E} + \\sqrt{p}X|\\psi\\rangle_{A}\\otimes|1\\rangle_{E}\n",
    "\\end{equation}\n",
    "Temos que\n",
    "\\begin{align}\n",
    "& Tr_{E}\\Big(V^{A\\rightarrow AE}_{\\Lambda_{bf}}|\\psi\\rangle_{A}\\langle\\psi|\\big(V^{A\\rightarrow AE}_{\\Lambda_{bf}}\\big)^{\\dagger}\\Big) \\\\\n",
    "& = Tr_{E}\\Big(\\big(\\sqrt{1-p}|\\psi\\rangle_{A}\\otimes|0\\rangle_{E} + \\sqrt{p}X|\\psi\\rangle_{A}\\otimes|1\\rangle_{E}\\big)\\big(\\sqrt{1-p}\\langle\\psi|_{A}\\otimes\\langle 0|_{E} + \\sqrt{p}\\langle\\psi|_{A}X\\otimes\\langle 1|_{E}\\big)\\Big) \\\\\n",
    "& = Tr_{E}\\Big((1-p)|\\psi\\rangle_{A}\\langle\\psi|\\otimes|0\\rangle_{E}\\langle 0| + pX|\\psi\\rangle_{A}\\langle\\psi|X\\otimes|1\\rangle_{E}\\langle 1| + \\big(\\sqrt{p(1-p)}|\\psi\\rangle_{A}\\langle\\psi|X\\otimes|0\\rangle_{E}\\langle 1|+t.c.\\big) \\Big) \\\\\n",
    "& = (1-p)|\\psi\\rangle_{A}\\langle\\psi| + pX|\\psi\\rangle_{A}\\langle\\psi|X \\\\\n",
    "& = \\Lambda_{bf}(|\\psi\\rangle_{A}).\n",
    "\\end{align}"
   ]
  },
  {
   "cell_type": "markdown",
   "id": "8a25212b",
   "metadata": {},
   "source": [
    "Como a isometria mapeia o estado de um qubit em estados de dois qubits, sua _representação matricial é retangular_:\n",
    "\\begin{align}\n",
    "V^{A\\rightarrow AE}_{\\Lambda_{bf}} \\doteq \n",
    "\\begin{bmatrix} \n",
    "_{AE}\\langle 00|V^{A\\rightarrow AE}_{\\Lambda_{bf}}|0\\rangle_{A} &  _{AE}\\langle 00|V^{A\\rightarrow AE}_{\\Lambda_{bf}}|1\\rangle_{A} \\\\\n",
    "_{AE}\\langle 01|V^{A\\rightarrow AE}_{\\Lambda_{bf}}|0\\rangle_{A} &  _{AE}\\langle 01|V^{A\\rightarrow AE}_{\\Lambda_{bf}}|1\\rangle_{A} \\\\\n",
    "_{AE}\\langle 10|V^{A\\rightarrow AE}_{\\Lambda_{bf}}|0\\rangle_{A} &  _{AE}\\langle 10|V^{A\\rightarrow AE}_{\\Lambda_{bf}}|1\\rangle_{A} \\\\\n",
    "_{AE}\\langle 11|V^{A\\rightarrow AE}_{\\Lambda_{bf}}|0\\rangle_{A} &  _{AE}\\langle 11|V^{A\\rightarrow AE}_{\\Lambda_{bf}}|1\\rangle_{A}\n",
    "\\end{bmatrix} = \n",
    "\\begin{bmatrix} \n",
    "\\sqrt{1-p} &  0 \\\\\n",
    "0 &  \\sqrt{p} \\\\\n",
    "0 &  \\sqrt{1-p} \\\\\n",
    "\\sqrt{p} &  0.\n",
    "\\end{bmatrix},\n",
    "\\end{align}\n",
    "em que usamos \n",
    "\\begin{align}\n",
    "V^{A\\rightarrow AE}_{\\Lambda_{bf}}|0\\rangle_{A} & = \\sqrt{1-p}|0\\rangle_{A}\\otimes|0\\rangle_{E} + \\sqrt{p}X|0\\rangle_{A}\\otimes|1\\rangle_{E} \\\\\n",
    "& = \\sqrt{1-p}|0\\rangle_{A}\\otimes|0\\rangle_{E} + \\sqrt{p}|1\\rangle_{A}\\otimes|1\\rangle_{E} \\\\\n",
    "V^{A\\rightarrow AE}_{\\Lambda_{bf}}|1\\rangle_{A} & = \\sqrt{1-p}|1\\rangle_{A}\\otimes|0\\rangle_{E} + \\sqrt{p}X|1\\rangle_{A}\\otimes|1\\rangle_{E} \\\\\n",
    "& = \\sqrt{1-p}|1\\rangle_{A}\\otimes|0\\rangle_{E} + \\sqrt{p}|0\\rangle_{A}\\otimes|1\\rangle_{E}\n",
    "\\end{align}"
   ]
  },
  {
   "cell_type": "markdown",
   "id": "114608b8",
   "metadata": {},
   "source": [
    "Para este canal, também podemos obter o _canal complementar_:\n",
    "\\begin{align}\n",
    "& Tr_{A}\\Big(V^{A\\rightarrow AE}_{\\Lambda_{bf}}|\\psi\\rangle_{A}\\langle\\psi|\\big(V^{A\\rightarrow AE}_{\\Lambda_{bf}}\\big)^{\\dagger}\\Big) \\\\\n",
    "& = Tr_{A}\\Big(\\big(\\sqrt{1-p}|\\psi\\rangle_{A}\\otimes|0\\rangle_{E} + \\sqrt{p}X|\\psi\\rangle_{A}\\otimes|1\\rangle_{E}\\big)\\big(\\sqrt{1-p}\\langle\\psi|_{A}\\otimes\\langle 0|_{E} + \\sqrt{p}\\langle\\psi|_{A}X\\otimes\\langle 1|_{E}\\big)\\Big) \\\\\n",
    "& = (1-p)Tr_{A}(|\\psi\\rangle_{A}\\langle\\psi|)|0\\rangle_{E}\\langle0| + pTr_{A}(X|\\psi\\rangle_{A}\\langle\\psi|X)|1\\rangle_{E}\\langle1| + \\big(\\sqrt{p(1-p)}Tr_{A}(|\\psi\\rangle_{A}\\langle\\psi|X)|0\\rangle_{E}\\langle 1| + t.c.\\big) \\\\\n",
    "& = (1-p)|0\\rangle_{E}\\langle0| + pTr_{A}(X^{2}|\\psi\\rangle_{A}\\langle\\psi|)|1\\rangle_{E}\\langle1| + \\big(\\sqrt{p(1-p)}\\langle\\psi|X|\\psi\\rangle_{A}|0\\rangle_{E}\\langle 1| + t.c.\\big) \\\\\n",
    "& = (1-p)|0\\rangle_{E}\\langle0| + p|1\\rangle_{E}\\langle1| + \\big(\\sqrt{p(1-p)}_{A}\\langle\\psi|X|\\psi\\rangle_{A}|0\\rangle_{E}\\langle 1| + t.c.\\big) \\\\\n",
    "& = \\Lambda_{c,bf}^{A\\rightarrow E}(\\rho_{A}),\n",
    "\\end{align}\n",
    "que também podem ser obtidos usando os operadores de Kraus, pois $\\Lambda_{c,bf}^{A\\rightarrow E}(\\rho_{A}) = \\sum_{jk}Tr_{B}\\big(K_{j}\\rho_{A}K_{k}^{\\dagger}\\big)|j\\rangle_{E}\\langle k|$ e\n",
    "\\begin{align}\n",
    "\\rho^{E}_{00} &= Tr_{B}\\big(K_{1}\\rho_{A}K_{1}^{\\dagger}\\big) = Tr_{B}\\big(\\sqrt{1-p}\\mathbb{I}|\\psi\\rangle_{A}\\langle\\psi|\\sqrt{1-p}\\mathbb{I}\\big) = 1-p, \\\\\n",
    "\\rho^{E}_{01} &= Tr_{B}\\big(K_{1}\\rho_{A}K_{2}^{\\dagger}\\big) = Tr_{B}\\big(\\sqrt{1-p}\\mathbb{I}|\\psi\\rangle_{A}\\langle\\psi|\\sqrt{p}X\\big) = \\sqrt{p(1-p)}_{A}\\langle\\psi|X|\\psi\\rangle_{A} \\\\\n",
    "& = \\big(\\rho^{E}_{10}\\big)^{*}, \\\\\n",
    "\\rho^{E}_{11} &= Tr_{B}\\big(K_{2}\\rho_{A}K_{2}^{\\dagger}\\big) = Tr_{B}\\big(\\sqrt{p}X|\\psi\\rangle_{A}\\langle\\psi|\\sqrt{p}X\\big) = p_{A}\\langle\\psi|X^{2}|\\psi\\rangle_{A} = p.\n",
    "\\end{align}"
   ]
  },
  {
   "cell_type": "markdown",
   "id": "37fbc129",
   "metadata": {},
   "source": [
    "### Isometria como parte de uma unitária\n",
    "Uma outra forma de ver a evolução de estado dada pela isometria acima é considerar que sistema + ambiente estão inicialmente no estado $|\\psi\\rangle_{A}\\otimes|0\\rangle_{E}$ e que são transformados unitariamente para\n",
    "\\begin{equation}\n",
    "U^{AE}_{bf}|\\psi\\rangle_{A}\\otimes|0\\rangle_{E} = \\sqrt{1-p}|\\psi\\rangle_{A}\\otimes|0\\rangle_{E} + \\sqrt{p}X|\\psi\\rangle_{A}\\otimes|1\\rangle_{E}.\n",
    "\\end{equation}\n",
    "Note que o lado direito é o mesmo, só mudamos o lado esquerdo da igualdade em relação ao mapa isométrico. Mas para sabermos como essa trasnformação unitária atua em geral, precisaremos definir de maneira consistente como ela atua no estado inicial $|\\psi\\rangle_{A}\\otimes|1\\rangle_{E}$. Fazemos isso usando novamente a maneira como o canal de inversão de bit funciona, mas com probabilidades e ações trocadas pois trocamos o estado inicial do ambiente, e usando fases que garantem ortogonalidade ao estado acima:\n",
    "\\begin{equation}\n",
    "U^{AE}_{bf}|\\psi\\rangle_{A}\\otimes|1\\rangle_{E} = \\sqrt{1-p}X|\\psi\\rangle_{A}\\otimes|1\\rangle_{E} - \\sqrt{p}|\\psi\\rangle_{A}\\otimes|0\\rangle_{E}.\n",
    "\\end{equation}\n",
    "__Exercício:__ Verifique que \\begin{equation}\n",
    "\\big(U_{AE}|\\psi\\rangle_{A}\\otimes|0\\rangle_{E},U_{AE}|\\psi\\rangle_{A}\\otimes|1\\rangle_{E}\\big)=0.\n",
    "\\end{equation}\n",
    "\n",
    "OBS. Claro, fica a questão de se essa é a única forma de transformar a isometria em uma unitária."
   ]
  },
  {
   "cell_type": "markdown",
   "id": "d6b6fe05",
   "metadata": {},
   "source": [
    "Neste caso, teremos a seguinte representação matricial\n",
    "\\begin{align}\n",
    "U^{AE}_{bf} & \\doteq \n",
    "\\begin{bmatrix} \n",
    "_{AE}\\langle 00|U^{AE}_{bf}|00\\rangle_{AE} &  _{AE}\\langle 00|U^{AE}_{bf}|01\\rangle_{AE} & _{AE}\\langle 00|U^{AE}_{bf}|10\\rangle_{AE} & _{AE}\\langle 00|U^{AE}_{bf}|11\\rangle_{AE} \\\\\n",
    "_{AE}\\langle 01|U^{AE}_{bf}|00\\rangle_{AE} &  _{AE}\\langle 01|U^{AE}_{bf}|01\\rangle_{AE} & _{AE}\\langle 01|U^{AE}_{bf}|10\\rangle_{AE} & _{AE}\\langle 01|U^{AE}_{bf}|11\\rangle_{AE} \\\\\n",
    "_{AE}\\langle 10|U^{AE}_{bf}|00\\rangle_{AE} &  _{AE}\\langle 10|U^{AE}_{bf}|01\\rangle_{AE} & _{AE}\\langle 10|U^{AE}_{bf}|10\\rangle_{AE} & _{AE}\\langle 10|U^{AE}_{bf}|11\\rangle_{AE} \\\\\n",
    "_{AE}\\langle 11|U^{AE}_{bf}|00\\rangle_{AE} &  _{AE}\\langle 11|U^{AE}_{bf}|01\\rangle_{AE} & _{AE}\\langle 11|U^{AE}_{bf}|10\\rangle_{AE} & _{AE}\\langle 11|U^{AE}_{bf}|11\\rangle_{AE}\n",
    "\\end{bmatrix} \\\\\n",
    "& = \\begin{bmatrix} \n",
    "\\sqrt{1-p} &  -\\sqrt{p} & 0 & 0 \\\\\n",
    "0 & 0 & \\sqrt{p} & \\sqrt{1-p} \\\\\n",
    "0 &  0 & \\sqrt{1-p} & -\\sqrt{p} \\\\\n",
    "\\sqrt{p} &  \\sqrt{1-p} & 0 & 0\n",
    "\\end{bmatrix}.\n",
    "\\end{align}"
   ]
  },
  {
   "cell_type": "markdown",
   "id": "ff2e6695",
   "metadata": {},
   "source": [
    "__Exercício:__ Considere o canal quântico de amortecimento de amplitude determinado pelos seguintes operadores de Kraus: $K_{0} = \\sqrt{\\gamma}|0\\rangle\\langle 1|$, $K_{1} = |0\\rangle\\langle 0| + \\sqrt{1-\\gamma}|1\\rangle\\langle 1|$, em que $0\\le\\gamma\\le1$ é a probabilidade de decaimento do estado $|0\\rangle$ para o estado $|1\\rangle$. Obtenha a isometria e transformação unitária para este canal, e suas representações matriciais. Obtenha também o canal complementar, i.e., obtenha o estado do ambiente."
   ]
  },
  {
   "cell_type": "code",
   "execution_count": null,
   "id": "46651c0b",
   "metadata": {},
   "outputs": [],
   "source": []
  }
 ],
 "metadata": {
  "kernelspec": {
   "display_name": "Python 3 (ipykernel)",
   "language": "python",
   "name": "python3"
  },
  "language_info": {
   "codemirror_mode": {
    "name": "ipython",
    "version": 3
   },
   "file_extension": ".py",
   "mimetype": "text/x-python",
   "name": "python",
   "nbconvert_exporter": "python",
   "pygments_lexer": "ipython3",
   "version": "3.8.11"
  }
 },
 "nbformat": 4,
 "nbformat_minor": 5
}
